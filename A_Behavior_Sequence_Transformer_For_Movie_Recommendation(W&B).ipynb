{
  "cells": [
    {
      "attachments": {},
      "cell_type": "markdown",
      "metadata": {
        "id": "aUG4oG3JSGCn"
      },
      "source": [
        "# A Behavior Sequence Transformer For Movie Recommendation With Weight & Baises Tracking\n",
        "\n",
        "**Author:** [Nelson Lin](https://www.linkedin.com/in/nelson-lin-842564164/)<br>\n",
        "**Date created:** 2024/07/09<br>\n",
        "**Last modified:** 2024/07/09<br>\n",
        "**Description:** Rating rate prediction using the Behavior Sequence Transformer (BST) model on the Movielens 1M."
      ]
    },
    {
      "attachments": {},
      "cell_type": "markdown",
      "metadata": {
        "id": "10UcMwj-Sjqv"
      },
      "source": [
        "## (1) Notebook Settings"
      ]
    },
    {
      "cell_type": "code",
      "execution_count": 1,
      "metadata": {
        "id": "RxoBk0OkSvPn"
      },
      "outputs": [],
      "source": [
        "import pandas as pd\n",
        "import os\n",
        "import numpy as np\n",
        "import torch\n",
        "from torch import nn\n",
        "from zipfile import ZipFile\n",
        "from urllib.request import urlretrieve\n",
        "from torch.utils.data import Dataset\n",
        "from torch.utils.data import DataLoader\n",
        "from sklearn.preprocessing import MinMaxScaler\n",
        "from tqdm import tqdm\n",
        "import random\n",
        "import json\n",
        "import wandb\n",
        "from sklearn import metrics\n",
        "from uuid import uuid4"
      ]
    },
    {
      "cell_type": "code",
      "execution_count": 2,
      "metadata": {},
      "outputs": [],
      "source": [
        "# Set random seed for reproducibility\n",
        "torch.manual_seed(0)\n",
        "np.random.seed(0)\n",
        "random.seed(0)\n",
        "if torch.cuda.is_available():\n",
        "    torch.backends.cudnn.deterministic = True\n",
        "    torch.backends.cudnn.benchmark = False\n"
      ]
    },
    {
      "cell_type": "code",
      "execution_count": 3,
      "metadata": {},
      "outputs": [],
      "source": [
        "# os.environ[\"WANDB_NOTEBOOK_NAME\"] = \"A_Behavior_Sequence_Transformer_For_Movie_Recommendation(W&B).ipynb\""
      ]
    },
    {
      "cell_type": "code",
      "execution_count": 4,
      "metadata": {},
      "outputs": [
        {
          "name": "stderr",
          "output_type": "stream",
          "text": [
            "Failed to detect the name of this notebook, you can set it manually with the WANDB_NOTEBOOK_NAME environment variable to enable code saving.\n",
            "\u001b[34m\u001b[1mwandb\u001b[0m: Currently logged in as: \u001b[33mnelsonlin0321\u001b[0m. Use \u001b[1m`wandb login --relogin`\u001b[0m to force relogin\n"
          ]
        },
        {
          "data": {
            "text/plain": [
              "True"
            ]
          },
          "execution_count": 4,
          "metadata": {},
          "output_type": "execute_result"
        }
      ],
      "source": [
        "wandb.login()"
      ]
    },
    {
      "attachments": {},
      "cell_type": "markdown",
      "metadata": {
        "id": "Z_RHfTP4S3IZ"
      },
      "source": [
        "## (2) Data preparation"
      ]
    },
    {
      "attachments": {},
      "cell_type": "markdown",
      "metadata": {
        "id": "Tm747EdZU1bZ"
      },
      "source": [
        "### Load Data"
      ]
    },
    {
      "cell_type": "code",
      "execution_count": 5,
      "metadata": {
        "id": "KrasdLSrSG1x"
      },
      "outputs": [],
      "source": [
        "# urlretrieve(\"http://files.grouplens.org/datasets/movielens/ml-1m.zip\", \"movielens.zip\")\n",
        "# ZipFile(\"movielens.zip\", \"r\").extractall()"
      ]
    },
    {
      "cell_type": "code",
      "execution_count": 6,
      "metadata": {
        "id": "c8YFIdZeSxaH"
      },
      "outputs": [],
      "source": [
        "users = pd.read_csv(\n",
        "    \"ml-1m/users.dat\",\n",
        "    sep=\"::\",\n",
        "    names=[\"user_id\", \"sex\", \"age_group\", \"occupation\", \"zip_code\"],\n",
        "    engine='python'\n",
        ")\n",
        "\n",
        "ratings = pd.read_csv(\n",
        "    \"ml-1m/ratings.dat\",\n",
        "    sep=\"::\",\n",
        "    names=[\"user_id\", \"movie_id\", \"rating\", \"unix_timestamp\"],\n",
        "    engine='python'\n",
        ")\n",
        "\n",
        "movies = pd.read_csv(\n",
        "    \"ml-1m/movies.dat\", sep=\"::\", names=[\"movie_id\", \"title\", \"genres\"],\n",
        "    engine='python',encoding='ISO-8859-1'\n",
        ")"
      ]
    },
    {
      "attachments": {},
      "cell_type": "markdown",
      "metadata": {
        "id": "MMRanAvKU9t1"
      },
      "source": [
        "### Remap ID to index"
      ]
    },
    {
      "cell_type": "code",
      "execution_count": 7,
      "metadata": {
        "id": "AxDgQLlHS17f"
      },
      "outputs": [],
      "source": [
        "# remap the id to index\n",
        "def generate_remap_id_dict(df,col):\n",
        "    ids = df[df[col].notnull()][col].unique().tolist()\n",
        "    ids = sorted(ids)\n",
        "    id_map_dict = {x: i+1 for i, x in enumerate(ids)}\n",
        "    id_map_dict[\"UNK\"]=0\n",
        "\n",
        "    df[f\"{col}_index\"] = df[col].fillna(\"UNK\").map(id_map_dict)\n",
        "\n",
        "    return id_map_dict"
      ]
    },
    {
      "cell_type": "code",
      "execution_count": 8,
      "metadata": {
        "id": "9sCplGKlTHHt"
      },
      "outputs": [],
      "source": [
        "user_id_map_dict = generate_remap_id_dict(users,col='user_id')"
      ]
    },
    {
      "cell_type": "code",
      "execution_count": 9,
      "metadata": {
        "colab": {
          "base_uri": "https://localhost:8080/",
          "height": 206
        },
        "id": "jl_-Q_yYUA-6",
        "outputId": "a37170ca-c76f-4d1c-e1e8-1cdcd42e5c0a"
      },
      "outputs": [
        {
          "data": {
            "text/html": [
              "<div>\n",
              "<style scoped>\n",
              "    .dataframe tbody tr th:only-of-type {\n",
              "        vertical-align: middle;\n",
              "    }\n",
              "\n",
              "    .dataframe tbody tr th {\n",
              "        vertical-align: top;\n",
              "    }\n",
              "\n",
              "    .dataframe thead th {\n",
              "        text-align: right;\n",
              "    }\n",
              "</style>\n",
              "<table border=\"1\" class=\"dataframe\">\n",
              "  <thead>\n",
              "    <tr style=\"text-align: right;\">\n",
              "      <th></th>\n",
              "      <th>user_id</th>\n",
              "      <th>sex</th>\n",
              "      <th>age_group</th>\n",
              "      <th>occupation</th>\n",
              "      <th>zip_code</th>\n",
              "      <th>user_id_index</th>\n",
              "    </tr>\n",
              "  </thead>\n",
              "  <tbody>\n",
              "    <tr>\n",
              "      <th>0</th>\n",
              "      <td>1</td>\n",
              "      <td>F</td>\n",
              "      <td>1</td>\n",
              "      <td>10</td>\n",
              "      <td>48067</td>\n",
              "      <td>1</td>\n",
              "    </tr>\n",
              "    <tr>\n",
              "      <th>1</th>\n",
              "      <td>2</td>\n",
              "      <td>M</td>\n",
              "      <td>56</td>\n",
              "      <td>16</td>\n",
              "      <td>70072</td>\n",
              "      <td>2</td>\n",
              "    </tr>\n",
              "    <tr>\n",
              "      <th>2</th>\n",
              "      <td>3</td>\n",
              "      <td>M</td>\n",
              "      <td>25</td>\n",
              "      <td>15</td>\n",
              "      <td>55117</td>\n",
              "      <td>3</td>\n",
              "    </tr>\n",
              "    <tr>\n",
              "      <th>3</th>\n",
              "      <td>4</td>\n",
              "      <td>M</td>\n",
              "      <td>45</td>\n",
              "      <td>7</td>\n",
              "      <td>02460</td>\n",
              "      <td>4</td>\n",
              "    </tr>\n",
              "    <tr>\n",
              "      <th>4</th>\n",
              "      <td>5</td>\n",
              "      <td>M</td>\n",
              "      <td>25</td>\n",
              "      <td>20</td>\n",
              "      <td>55455</td>\n",
              "      <td>5</td>\n",
              "    </tr>\n",
              "  </tbody>\n",
              "</table>\n",
              "</div>"
            ],
            "text/plain": [
              "   user_id sex  age_group  occupation zip_code  user_id_index\n",
              "0        1   F          1          10    48067              1\n",
              "1        2   M         56          16    70072              2\n",
              "2        3   M         25          15    55117              3\n",
              "3        4   M         45           7    02460              4\n",
              "4        5   M         25          20    55455              5"
            ]
          },
          "execution_count": 9,
          "metadata": {},
          "output_type": "execute_result"
        }
      ],
      "source": [
        "users.head()"
      ]
    },
    {
      "cell_type": "code",
      "execution_count": 10,
      "metadata": {
        "id": "hsCN2BJ0UAQC"
      },
      "outputs": [],
      "source": [
        "# remap sex to score\n",
        "sex_id_map_dict = {'M':0.0,'F':1.0,'UNK':0.5}\n",
        "users['sex']=users['sex'].map(sex_id_map_dict)"
      ]
    },
    {
      "cell_type": "code",
      "execution_count": 11,
      "metadata": {
        "id": "ssHECS9iTZ3A"
      },
      "outputs": [],
      "source": [
        "occupation_id_map_dict = generate_remap_id_dict(users,col='occupation')"
      ]
    },
    {
      "cell_type": "code",
      "execution_count": 12,
      "metadata": {
        "id": "dGTwjedfTfN1"
      },
      "outputs": [],
      "source": [
        "age_group_id_map_dict = generate_remap_id_dict(users,col='age_group')"
      ]
    },
    {
      "cell_type": "code",
      "execution_count": 13,
      "metadata": {
        "id": "NRtH_iAeTgn0"
      },
      "outputs": [],
      "source": [
        "min_max_scaler = MinMaxScaler()\n",
        "ratings[\"norm_rating\"] = min_max_scaler.fit_transform(\n",
        "    ratings[\"rating\"].values.reshape(-1, 1))[:, 0]"
      ]
    },
    {
      "cell_type": "code",
      "execution_count": 14,
      "metadata": {
        "id": "gqur_n48Trck"
      },
      "outputs": [],
      "source": [
        "movie_id_map_dict = generate_remap_id_dict(movies,col='movie_id')"
      ]
    },
    {
      "cell_type": "code",
      "execution_count": 15,
      "metadata": {
        "id": "DSu3fNkyTv6D"
      },
      "outputs": [],
      "source": [
        "genres_set = set()\n",
        "def get_genres_set(genres):\n",
        "    global genres_set\n",
        "    genres_split = genres.split(\"|\")\n",
        "    genres_set.update(genres_split)\n",
        "    return genres_split\n",
        "movies['genres'] = movies['genres'].apply(lambda x:get_genres_set(x))\n",
        "genres_map_dict ={x: i+1 for i, x in enumerate(sorted(genres_set))}\n",
        "genres_map_dict['UNK']=0"
      ]
    },
    {
      "cell_type": "code",
      "execution_count": 16,
      "metadata": {
        "id": "hD5T2WuYUUuB"
      },
      "outputs": [],
      "source": [
        "movies['genres_ids']= movies['genres'].apply(lambda x: [genres_map_dict[g] for g in x])"
      ]
    },
    {
      "cell_type": "code",
      "execution_count": 17,
      "metadata": {
        "id": "qbMexz0nUPyz"
      },
      "outputs": [],
      "source": [
        "ratings['movie_id_index'] = ratings['movie_id'].map(movie_id_map_dict)\n",
        "ratings['user_id_index'] = ratings['user_id'].map(user_id_map_dict)"
      ]
    },
    {
      "cell_type": "code",
      "execution_count": 18,
      "metadata": {
        "id": "0NW-x8FdTy40"
      },
      "outputs": [],
      "source": [
        "df_user_views = ratings[[\"movie_id_index\", \"user_id_index\", \"unix_timestamp\", \"norm_rating\"]] \\\n",
        "    .merge(movies[['movie_id_index', 'genres_ids']],\n",
        "           on=['movie_id_index'])"
      ]
    },
    {
      "cell_type": "code",
      "execution_count": 19,
      "metadata": {
        "colab": {
          "base_uri": "https://localhost:8080/",
          "height": 206
        },
        "id": "QM1VX4lVUMMa",
        "outputId": "aca32242-4f66-4be8-bdab-669ab38d1a26"
      },
      "outputs": [
        {
          "data": {
            "text/html": [
              "<div>\n",
              "<style scoped>\n",
              "    .dataframe tbody tr th:only-of-type {\n",
              "        vertical-align: middle;\n",
              "    }\n",
              "\n",
              "    .dataframe tbody tr th {\n",
              "        vertical-align: top;\n",
              "    }\n",
              "\n",
              "    .dataframe thead th {\n",
              "        text-align: right;\n",
              "    }\n",
              "</style>\n",
              "<table border=\"1\" class=\"dataframe\">\n",
              "  <thead>\n",
              "    <tr style=\"text-align: right;\">\n",
              "      <th></th>\n",
              "      <th>movie_id_index</th>\n",
              "      <th>user_id_index</th>\n",
              "      <th>unix_timestamp</th>\n",
              "      <th>norm_rating</th>\n",
              "      <th>genres_ids</th>\n",
              "    </tr>\n",
              "  </thead>\n",
              "  <tbody>\n",
              "    <tr>\n",
              "      <th>0</th>\n",
              "      <td>1177</td>\n",
              "      <td>1</td>\n",
              "      <td>978300760</td>\n",
              "      <td>1.00</td>\n",
              "      <td>[8]</td>\n",
              "    </tr>\n",
              "    <tr>\n",
              "      <th>1</th>\n",
              "      <td>1177</td>\n",
              "      <td>2</td>\n",
              "      <td>978298413</td>\n",
              "      <td>1.00</td>\n",
              "      <td>[8]</td>\n",
              "    </tr>\n",
              "    <tr>\n",
              "      <th>2</th>\n",
              "      <td>1177</td>\n",
              "      <td>12</td>\n",
              "      <td>978220179</td>\n",
              "      <td>0.75</td>\n",
              "      <td>[8]</td>\n",
              "    </tr>\n",
              "    <tr>\n",
              "      <th>3</th>\n",
              "      <td>1177</td>\n",
              "      <td>15</td>\n",
              "      <td>978199279</td>\n",
              "      <td>0.75</td>\n",
              "      <td>[8]</td>\n",
              "    </tr>\n",
              "    <tr>\n",
              "      <th>4</th>\n",
              "      <td>1177</td>\n",
              "      <td>17</td>\n",
              "      <td>978158471</td>\n",
              "      <td>1.00</td>\n",
              "      <td>[8]</td>\n",
              "    </tr>\n",
              "  </tbody>\n",
              "</table>\n",
              "</div>"
            ],
            "text/plain": [
              "   movie_id_index  user_id_index  unix_timestamp  norm_rating genres_ids\n",
              "0            1177              1       978300760         1.00        [8]\n",
              "1            1177              2       978298413         1.00        [8]\n",
              "2            1177             12       978220179         0.75        [8]\n",
              "3            1177             15       978199279         0.75        [8]\n",
              "4            1177             17       978158471         1.00        [8]"
            ]
          },
          "execution_count": 19,
          "metadata": {},
          "output_type": "execute_result"
        }
      ],
      "source": [
        "df_user_views.head()"
      ]
    },
    {
      "attachments": {},
      "cell_type": "markdown",
      "metadata": {
        "id": "o2uoGM6uUsKF"
      },
      "source": [
        "### Prepare the Sequence"
      ]
    },
    {
      "cell_type": "code",
      "execution_count": 20,
      "metadata": {
        "id": "DvQBp4moVNEf"
      },
      "outputs": [],
      "source": [
        "df_agg_ratings = df_user_views.sort_values(by=[\"unix_timestamp\"]).groupby(\"user_id_index\")"
      ]
    },
    {
      "cell_type": "code",
      "execution_count": 21,
      "metadata": {
        "id": "44_d1f5pVSqX"
      },
      "outputs": [],
      "source": [
        "ratings_data = pd.DataFrame(\n",
        "    data={\n",
        "        \"user_id_index\": list(df_agg_ratings.groups.keys()),\n",
        "        \"movie_sequence\": list(df_agg_ratings.movie_id_index.apply(list)),\n",
        "        \"rating_sequence\": list(df_agg_ratings.norm_rating.apply(list)),\n",
        "        \"timestamps\": list(df_agg_ratings.unix_timestamp.apply(list)),\n",
        "    }\n",
        ")"
      ]
    },
    {
      "cell_type": "code",
      "execution_count": 22,
      "metadata": {
        "id": "LrruVMSyUxXW"
      },
      "outputs": [],
      "source": [
        "sequence_length = 10\n",
        "step_size = 1\n",
        "\n",
        "\n",
        "def create_sequences(values, window_size, step_size):\n",
        "    sequences = []\n",
        "    start_index = 0\n",
        "    while True:\n",
        "        end_index = start_index + window_size\n",
        "        seq = values[start_index:end_index]\n",
        "        if len(seq) < window_size:\n",
        "            seq = values[-window_size:]\n",
        "            if len(seq) == window_size:\n",
        "                sequences.append(seq)\n",
        "            break\n",
        "        sequences.append(seq)\n",
        "        start_index += step_size\n",
        "    return sequences\n",
        "\n",
        "\n",
        "ratings_data.movie_sequence\t = ratings_data.movie_sequence.apply(\n",
        "    lambda ids: create_sequences(ids, sequence_length, step_size)\n",
        ")\n",
        "\n",
        "ratings_data.rating_sequence = ratings_data.rating_sequence.apply(\n",
        "    lambda ids: create_sequences(ids, sequence_length, step_size)\n",
        ")\n",
        "\n",
        "del ratings_data[\"timestamps\"]"
      ]
    },
    {
      "cell_type": "code",
      "execution_count": 23,
      "metadata": {
        "id": "eREuVC30VU03"
      },
      "outputs": [],
      "source": [
        "ratings_data_movies = ratings_data[[\"user_id_index\", \"movie_sequence\"]].explode(\n",
        "    \"movie_sequence\", ignore_index=True\n",
        ")\n",
        "ratings_data_rating = ratings_data[[\"rating_sequence\"]].explode(\"rating_sequence\", ignore_index=True)\n",
        "ratings_data_transformed = pd.concat([ratings_data_movies, ratings_data_rating], axis=1)"
      ]
    },
    {
      "cell_type": "code",
      "execution_count": 24,
      "metadata": {
        "colab": {
          "base_uri": "https://localhost:8080/",
          "height": 206
        },
        "id": "K-yTVNctVWbn",
        "outputId": "d51b685b-cc56-4caf-f201-729232ee2c2f"
      },
      "outputs": [
        {
          "data": {
            "text/html": [
              "<div>\n",
              "<style scoped>\n",
              "    .dataframe tbody tr th:only-of-type {\n",
              "        vertical-align: middle;\n",
              "    }\n",
              "\n",
              "    .dataframe tbody tr th {\n",
              "        vertical-align: top;\n",
              "    }\n",
              "\n",
              "    .dataframe thead th {\n",
              "        text-align: right;\n",
              "    }\n",
              "</style>\n",
              "<table border=\"1\" class=\"dataframe\">\n",
              "  <thead>\n",
              "    <tr style=\"text-align: right;\">\n",
              "      <th></th>\n",
              "      <th>user_id_index</th>\n",
              "      <th>movie_sequence</th>\n",
              "      <th>rating_sequence</th>\n",
              "    </tr>\n",
              "  </thead>\n",
              "  <tbody>\n",
              "    <tr>\n",
              "      <th>0</th>\n",
              "      <td>1</td>\n",
              "      <td>[3118, 1010, 1673, 1251, 2272, 1769, 3340, 119...</td>\n",
              "      <td>[0.75, 1.0, 0.75, 1.0, 0.5, 1.0, 0.75, 0.75, 1...</td>\n",
              "    </tr>\n",
              "    <tr>\n",
              "      <th>1</th>\n",
              "      <td>1</td>\n",
              "      <td>[1010, 1673, 1251, 2272, 1769, 3340, 1190, 273...</td>\n",
              "      <td>[1.0, 0.75, 1.0, 0.5, 1.0, 0.75, 0.75, 1.0, 0....</td>\n",
              "    </tr>\n",
              "    <tr>\n",
              "      <th>2</th>\n",
              "      <td>1</td>\n",
              "      <td>[1673, 1251, 2272, 1769, 3340, 1190, 2736, 258...</td>\n",
              "      <td>[0.75, 1.0, 0.5, 1.0, 0.75, 0.75, 1.0, 0.75, 1...</td>\n",
              "    </tr>\n",
              "    <tr>\n",
              "      <th>3</th>\n",
              "      <td>1</td>\n",
              "      <td>[1251, 2272, 1769, 3340, 1190, 2736, 258, 1177...</td>\n",
              "      <td>[1.0, 0.5, 1.0, 0.75, 0.75, 1.0, 0.75, 1.0, 0....</td>\n",
              "    </tr>\n",
              "    <tr>\n",
              "      <th>4</th>\n",
              "      <td>1</td>\n",
              "      <td>[2272, 1769, 3340, 1190, 2736, 258, 1177, 712,...</td>\n",
              "      <td>[0.5, 1.0, 0.75, 0.75, 1.0, 0.75, 1.0, 0.5, 0....</td>\n",
              "    </tr>\n",
              "  </tbody>\n",
              "</table>\n",
              "</div>"
            ],
            "text/plain": [
              "   user_id_index                                     movie_sequence  \\\n",
              "0              1  [3118, 1010, 1673, 1251, 2272, 1769, 3340, 119...   \n",
              "1              1  [1010, 1673, 1251, 2272, 1769, 3340, 1190, 273...   \n",
              "2              1  [1673, 1251, 2272, 1769, 3340, 1190, 2736, 258...   \n",
              "3              1  [1251, 2272, 1769, 3340, 1190, 2736, 258, 1177...   \n",
              "4              1  [2272, 1769, 3340, 1190, 2736, 258, 1177, 712,...   \n",
              "\n",
              "                                     rating_sequence  \n",
              "0  [0.75, 1.0, 0.75, 1.0, 0.5, 1.0, 0.75, 0.75, 1...  \n",
              "1  [1.0, 0.75, 1.0, 0.5, 1.0, 0.75, 0.75, 1.0, 0....  \n",
              "2  [0.75, 1.0, 0.5, 1.0, 0.75, 0.75, 1.0, 0.75, 1...  \n",
              "3  [1.0, 0.5, 1.0, 0.75, 0.75, 1.0, 0.75, 1.0, 0....  \n",
              "4  [0.5, 1.0, 0.75, 0.75, 1.0, 0.75, 1.0, 0.5, 0....  "
            ]
          },
          "execution_count": 24,
          "metadata": {},
          "output_type": "execute_result"
        }
      ],
      "source": [
        "ratings_data_transformed.head()"
      ]
    },
    {
      "cell_type": "code",
      "execution_count": 25,
      "metadata": {
        "id": "roXPTpv8VY-9"
      },
      "outputs": [],
      "source": [
        "user_columns = ['user_id_index',\n",
        "                'sex',\n",
        "                'occupation_index',\n",
        "                'age_group_index']"
      ]
    },
    {
      "cell_type": "code",
      "execution_count": 26,
      "metadata": {
        "id": "kotYicQYVaGe"
      },
      "outputs": [],
      "source": [
        "ratings_data_transformed = ratings_data_transformed.merge(\n",
        "    users[user_columns], on=\"user_id_index\"\n",
        ")"
      ]
    },
    {
      "cell_type": "code",
      "execution_count": 27,
      "metadata": {
        "id": "GUE9Aj-JVbB_"
      },
      "outputs": [],
      "source": [
        "ratings_data_transformed['sex'] = ratings_data_transformed['sex'].astype(float)"
      ]
    },
    {
      "cell_type": "code",
      "execution_count": 28,
      "metadata": {
        "id": "-f6yhP5ZVcPk"
      },
      "outputs": [],
      "source": [
        "ratings_data_transformed['target_movie'] =  ratings_data_transformed['movie_sequence'].apply(lambda x:x[-1])\n",
        "ratings_data_transformed['target_rating'] =  ratings_data_transformed['rating_sequence'].apply(lambda x:x[-1])\n",
        "# mask the last rating\n",
        "mask_score = 1.0\n",
        "ratings_data_transformed['rating_sequence'] =  ratings_data_transformed['rating_sequence'].apply(lambda x:x[:-1]+[mask_score])"
      ]
    },
    {
      "cell_type": "code",
      "execution_count": 29,
      "metadata": {
        "colab": {
          "base_uri": "https://localhost:8080/",
          "height": 206
        },
        "id": "_D1bExqMVkRd",
        "outputId": "c23bbf8a-0b53-47bc-fc80-82cb54374ba1"
      },
      "outputs": [
        {
          "data": {
            "text/html": [
              "<div>\n",
              "<style scoped>\n",
              "    .dataframe tbody tr th:only-of-type {\n",
              "        vertical-align: middle;\n",
              "    }\n",
              "\n",
              "    .dataframe tbody tr th {\n",
              "        vertical-align: top;\n",
              "    }\n",
              "\n",
              "    .dataframe thead th {\n",
              "        text-align: right;\n",
              "    }\n",
              "</style>\n",
              "<table border=\"1\" class=\"dataframe\">\n",
              "  <thead>\n",
              "    <tr style=\"text-align: right;\">\n",
              "      <th></th>\n",
              "      <th>user_id_index</th>\n",
              "      <th>movie_sequence</th>\n",
              "      <th>rating_sequence</th>\n",
              "      <th>sex</th>\n",
              "      <th>occupation_index</th>\n",
              "      <th>age_group_index</th>\n",
              "      <th>target_movie</th>\n",
              "      <th>target_rating</th>\n",
              "    </tr>\n",
              "  </thead>\n",
              "  <tbody>\n",
              "    <tr>\n",
              "      <th>0</th>\n",
              "      <td>1</td>\n",
              "      <td>[3118, 1010, 1673, 1251, 2272, 1769, 3340, 119...</td>\n",
              "      <td>[0.75, 1.0, 0.75, 1.0, 0.5, 1.0, 0.75, 0.75, 1...</td>\n",
              "      <td>1.0</td>\n",
              "      <td>11</td>\n",
              "      <td>1</td>\n",
              "      <td>258</td>\n",
              "      <td>0.75</td>\n",
              "    </tr>\n",
              "    <tr>\n",
              "      <th>1</th>\n",
              "      <td>1</td>\n",
              "      <td>[1010, 1673, 1251, 2272, 1769, 3340, 1190, 273...</td>\n",
              "      <td>[1.0, 0.75, 1.0, 0.5, 1.0, 0.75, 0.75, 1.0, 0....</td>\n",
              "      <td>1.0</td>\n",
              "      <td>11</td>\n",
              "      <td>1</td>\n",
              "      <td>1177</td>\n",
              "      <td>1.00</td>\n",
              "    </tr>\n",
              "    <tr>\n",
              "      <th>2</th>\n",
              "      <td>1</td>\n",
              "      <td>[1673, 1251, 2272, 1769, 3340, 1190, 2736, 258...</td>\n",
              "      <td>[0.75, 1.0, 0.5, 1.0, 0.75, 0.75, 1.0, 0.75, 1...</td>\n",
              "      <td>1.0</td>\n",
              "      <td>11</td>\n",
              "      <td>1</td>\n",
              "      <td>712</td>\n",
              "      <td>0.50</td>\n",
              "    </tr>\n",
              "    <tr>\n",
              "      <th>3</th>\n",
              "      <td>1</td>\n",
              "      <td>[1251, 2272, 1769, 3340, 1190, 2736, 258, 1177...</td>\n",
              "      <td>[1.0, 0.5, 1.0, 0.75, 0.75, 1.0, 0.75, 1.0, 0....</td>\n",
              "      <td>1.0</td>\n",
              "      <td>11</td>\n",
              "      <td>1</td>\n",
              "      <td>908</td>\n",
              "      <td>0.75</td>\n",
              "    </tr>\n",
              "    <tr>\n",
              "      <th>4</th>\n",
              "      <td>1</td>\n",
              "      <td>[2272, 1769, 3340, 1190, 2736, 258, 1177, 712,...</td>\n",
              "      <td>[0.5, 1.0, 0.75, 0.75, 1.0, 0.75, 1.0, 0.5, 0....</td>\n",
              "      <td>1.0</td>\n",
              "      <td>11</td>\n",
              "      <td>1</td>\n",
              "      <td>605</td>\n",
              "      <td>0.75</td>\n",
              "    </tr>\n",
              "  </tbody>\n",
              "</table>\n",
              "</div>"
            ],
            "text/plain": [
              "   user_id_index                                     movie_sequence  \\\n",
              "0              1  [3118, 1010, 1673, 1251, 2272, 1769, 3340, 119...   \n",
              "1              1  [1010, 1673, 1251, 2272, 1769, 3340, 1190, 273...   \n",
              "2              1  [1673, 1251, 2272, 1769, 3340, 1190, 2736, 258...   \n",
              "3              1  [1251, 2272, 1769, 3340, 1190, 2736, 258, 1177...   \n",
              "4              1  [2272, 1769, 3340, 1190, 2736, 258, 1177, 712,...   \n",
              "\n",
              "                                     rating_sequence  sex  occupation_index  \\\n",
              "0  [0.75, 1.0, 0.75, 1.0, 0.5, 1.0, 0.75, 0.75, 1...  1.0                11   \n",
              "1  [1.0, 0.75, 1.0, 0.5, 1.0, 0.75, 0.75, 1.0, 0....  1.0                11   \n",
              "2  [0.75, 1.0, 0.5, 1.0, 0.75, 0.75, 1.0, 0.75, 1...  1.0                11   \n",
              "3  [1.0, 0.5, 1.0, 0.75, 0.75, 1.0, 0.75, 1.0, 0....  1.0                11   \n",
              "4  [0.5, 1.0, 0.75, 0.75, 1.0, 0.75, 1.0, 0.5, 0....  1.0                11   \n",
              "\n",
              "   age_group_index  target_movie  target_rating  \n",
              "0                1           258           0.75  \n",
              "1                1          1177           1.00  \n",
              "2                1           712           0.50  \n",
              "3                1           908           0.75  \n",
              "4                1           605           0.75  "
            ]
          },
          "execution_count": 29,
          "metadata": {},
          "output_type": "execute_result"
        }
      ],
      "source": [
        "ratings_data_transformed.head()"
      ]
    },
    {
      "cell_type": "code",
      "execution_count": 30,
      "metadata": {
        "id": "bQEmshcNVlks"
      },
      "outputs": [],
      "source": [
        "random_selection = np.random.rand(len(ratings_data_transformed.index)) <= 0.85\n",
        "train_data = ratings_data_transformed[random_selection]\n",
        "test_data = ratings_data_transformed[~random_selection]"
      ]
    },
    {
      "attachments": {},
      "cell_type": "markdown",
      "metadata": {
        "id": "bXqZBv7BVv4v"
      },
      "source": [
        "## (3) Model Config"
      ]
    },
    {
      "cell_type": "code",
      "execution_count": 31,
      "metadata": {
        "id": "74j7Qs7LVxkF"
      },
      "outputs": [],
      "source": [
        "num_user = len(user_id_map_dict)\n",
        "num_movie = len(movie_id_map_dict)\n",
        "num_occupation = len(occupation_id_map_dict)\n",
        "num_age_group = len(age_group_id_map_dict)\n",
        "# num_genre = len(genres_map_dict)"
      ]
    },
    {
      "cell_type": "code",
      "execution_count": 32,
      "metadata": {
        "id": "K4MOe95uV2qg"
      },
      "outputs": [],
      "source": [
        "embed_configs = {}\n",
        "EMED_DIM=32\n",
        "embed_configs['user']={\"embed_dim\":EMED_DIM,\"num_embed\":num_user}\n",
        "embed_configs['movie']={\"embed_dim\":EMED_DIM,\"num_embed\":num_movie}\n",
        "embed_configs['occupation']={\"embed_dim\":EMED_DIM,\"num_embed\":num_occupation}\n",
        "embed_configs['age_group']={\"embed_dim\":EMED_DIM,\"num_embed\":num_age_group}\n",
        "embed_configs['position'] = {\"embed_dim\":EMED_DIM,\"num_embed\":sequence_length}"
      ]
    },
    {
      "cell_type": "code",
      "execution_count": 33,
      "metadata": {
        "id": "6p7ikk9DV_od"
      },
      "outputs": [],
      "source": [
        "config_dict={}\n",
        "config_dict['embed_configs'] = embed_configs\n",
        "config_dict['transformer_num_layer']=3\n",
        "config_dict['dropout']=0.2\n",
        "config_dict['epoches']=10\n",
        "config_dict['learning_rate']=0.001\n",
        "config_dict['batch_size']=64\n",
        "config_dict['sequence_length']=sequence_length\n",
        "config_dict['step_size']=step_size"
      ]
    },
    {
      "cell_type": "code",
      "execution_count": 34,
      "metadata": {
        "id": "3C7jQUGhXMNz"
      },
      "outputs": [],
      "source": [
        "config_dict['device'] = \"cuda\" if torch.cuda.is_available() else \"cpu\""
      ]
    },
    {
      "cell_type": "code",
      "execution_count": 35,
      "metadata": {},
      "outputs": [],
      "source": [
        "wandb_project = \"BST For Movielens 1M Recommendation\""
      ]
    },
    {
      "cell_type": "code",
      "execution_count": 36,
      "metadata": {},
      "outputs": [],
      "source": [
        "batch_size = config_dict['batch_size']"
      ]
    },
    {
      "cell_type": "code",
      "execution_count": 37,
      "metadata": {},
      "outputs": [],
      "source": [
        "display_name = f\"sequence:{sequence_length} batch_size:{batch_size}\""
      ]
    },
    {
      "cell_type": "code",
      "execution_count": 38,
      "metadata": {},
      "outputs": [
        {
          "data": {
            "text/html": [
              "Tracking run with wandb version 0.15.5"
            ],
            "text/plain": [
              "<IPython.core.display.HTML object>"
            ]
          },
          "metadata": {},
          "output_type": "display_data"
        },
        {
          "data": {
            "text/html": [
              "Run data is saved locally in <code>/Users/nelsonlin/Desktop/WorkSpace/ml-behavior-sequence-transformer-for-movie-recommendation/wandb/run-20230709_225423-sge1u0mn</code>"
            ],
            "text/plain": [
              "<IPython.core.display.HTML object>"
            ]
          },
          "metadata": {},
          "output_type": "display_data"
        },
        {
          "data": {
            "text/html": [
              "Syncing run <strong><a href='https://wandb.ai/nelsonlin0321/BST%20For%20Movielens%201M%20Recommendation/runs/sge1u0mn' target=\"_blank\">sequence:10 batch_size:64</a></strong> to <a href='https://wandb.ai/nelsonlin0321/BST%20For%20Movielens%201M%20Recommendation' target=\"_blank\">Weights & Biases</a> (<a href='https://wandb.me/run' target=\"_blank\">docs</a>)<br/>"
            ],
            "text/plain": [
              "<IPython.core.display.HTML object>"
            ]
          },
          "metadata": {},
          "output_type": "display_data"
        },
        {
          "data": {
            "text/html": [
              " View project at <a href='https://wandb.ai/nelsonlin0321/BST%20For%20Movielens%201M%20Recommendation' target=\"_blank\">https://wandb.ai/nelsonlin0321/BST%20For%20Movielens%201M%20Recommendation</a>"
            ],
            "text/plain": [
              "<IPython.core.display.HTML object>"
            ]
          },
          "metadata": {},
          "output_type": "display_data"
        },
        {
          "data": {
            "text/html": [
              " View run at <a href='https://wandb.ai/nelsonlin0321/BST%20For%20Movielens%201M%20Recommendation/runs/sge1u0mn' target=\"_blank\">https://wandb.ai/nelsonlin0321/BST%20For%20Movielens%201M%20Recommendation/runs/sge1u0mn</a>"
            ],
            "text/plain": [
              "<IPython.core.display.HTML object>"
            ]
          },
          "metadata": {},
          "output_type": "display_data"
        },
        {
          "data": {
            "text/html": [
              "<button onClick=\"this.nextSibling.style.display='block';this.style.display='none';\">Display W&B run</button><iframe src='https://wandb.ai/nelsonlin0321/BST%20For%20Movielens%201M%20Recommendation/runs/sge1u0mn?jupyter=true' style='border:none;width:100%;height:420px;display:none;'></iframe>"
            ],
            "text/plain": [
              "<wandb.sdk.wandb_run.Run at 0x289dfc990>"
            ]
          },
          "execution_count": 38,
          "metadata": {},
          "output_type": "execute_result"
        }
      ],
      "source": [
        "wandb.init(\n",
        "    project=wandb_project,\n",
        "    job_type=\"train\",\n",
        "    config=config_dict,\n",
        "    name=display_name   \n",
        ")"
      ]
    },
    {
      "cell_type": "code",
      "execution_count": 39,
      "metadata": {
        "id": "YcP1dftJWBDJ"
      },
      "outputs": [],
      "source": [
        "class Config:\n",
        "    def __init__(self, dictionary):\n",
        "        for key, value in dictionary.items():\n",
        "            setattr(self, key, value)\n",
        "config = Config(dictionary=config_dict)"
      ]
    },
    {
      "attachments": {},
      "cell_type": "markdown",
      "metadata": {
        "id": "SUxEiAYpWGye"
      },
      "source": [
        "## (4) Create Model"
      ]
    },
    {
      "cell_type": "code",
      "execution_count": 40,
      "metadata": {
        "id": "ufOTX0qPWTd7"
      },
      "outputs": [],
      "source": [
        "class TransformerBlock(nn.Module):\n",
        "    def __init__(self, input_size, output_size, num_heads, dropout_rate):\n",
        "        super(TransformerBlock, self).__init__()\n",
        "\n",
        "        self.multihead_attention = nn.MultiheadAttention(input_size, num_heads)\n",
        "        self.layer_norm1 = nn.LayerNorm(input_size)\n",
        "\n",
        "        self.feed_forward = nn.Sequential(\n",
        "            nn.Linear(input_size, 4*input_size),\n",
        "            nn.ReLU(),\n",
        "            nn.Linear(4*input_size, output_size),\n",
        "            nn.Dropout(dropout_rate)\n",
        "        )\n",
        "        self.layer_norm2 = nn.LayerNorm(output_size)\n",
        "        self.dropout = nn.Dropout(dropout_rate)\n",
        "\n",
        "    def forward(self, x):\n",
        "        # Multi-head Attention\n",
        "        attn_output, _ = self.multihead_attention(x, x, x)\n",
        "        x = self.layer_norm1(x + attn_output)\n",
        "\n",
        "        # Feed-Forward Network\n",
        "        ff_output = self.feed_forward(x)\n",
        "        x = self.layer_norm2(x + ff_output)\n",
        "        x = self.dropout(x)\n",
        "        return x\n",
        "\n",
        "class TransformerLayer(nn.Module):\n",
        "    def __init__(self, d_model, num_heads=8, dropout_rate=0.2, num_layers=3):\n",
        "        super(TransformerLayer, self).__init__()\n",
        "\n",
        "        self.transformer_blocks = nn.ModuleList([\n",
        "            TransformerBlock(d_model, d_model, num_heads, dropout_rate)\n",
        "            for _ in range(num_layers)\n",
        "        ])\n",
        "\n",
        "    def forward(self, x):\n",
        "        for transformer_block in self.transformer_blocks:\n",
        "            x = transformer_block(x)\n",
        "        return x"
      ]
    },
    {
      "cell_type": "code",
      "execution_count": 41,
      "metadata": {
        "id": "2-bs1PhSWDMz"
      },
      "outputs": [],
      "source": [
        "class MLP(nn.Module):\n",
        "    def __init__(self, dropout=0.2, hidden_units=[512, 256,128]):\n",
        "        super(MLP, self).__init__()\n",
        "        self.dropout = nn.Dropout(p=dropout)\n",
        "        self.layers = nn.ModuleList()\n",
        "        for i in range(len(hidden_units) - 1):\n",
        "            self.layers.append(nn.Linear(hidden_units[i], hidden_units[i + 1]))\n",
        "            self.layers.append(nn.LeakyReLU())\n",
        "            self.layers.append(nn.Dropout(p=dropout))\n",
        "        self.fc = nn.Linear(hidden_units[-1],1)\n",
        "        self.sigmoid = nn.Sigmoid()\n",
        "\n",
        "    def forward(self, x):\n",
        "        for layer in self.layers:\n",
        "            x = layer(x)\n",
        "        logits = self.fc(x)\n",
        "        output = self.sigmoid(logits)\n",
        "        return output"
      ]
    },
    {
      "cell_type": "code",
      "execution_count": 42,
      "metadata": {
        "id": "iV7-dBeeWa0k"
      },
      "outputs": [],
      "source": [
        "\n",
        "class BSTRecommender(nn.Module):\n",
        "    def __init__(self, config):\n",
        "        super(BSTRecommender, self).__init__()\n",
        "        self.config = config\n",
        "        self.embed_configs = config.embed_configs\n",
        "        self.drouput = config.dropout\n",
        "        self.transformer_num_layer = config.transformer_num_layer\n",
        "        self.device = config.device\n",
        "\n",
        "        \"\"\"embed_configs\n",
        "        {'user': {'embed_dim': 32, 'num_embed': 6041},\n",
        "        'movie': {'embed_dim': 32, 'num_embed': 3884},\n",
        "        'occupation': {'embed_dim': 32, 'num_embed': 22},\n",
        "        'age_group': {'embed_dim': 32, 'num_embed': 8},\n",
        "        'position': {'embed_dim': 32, 'num_embed': 4}}\n",
        "        \"\"\"\n",
        "\n",
        "        embed_configs = self.config.embed_configs\n",
        "\n",
        "        \"\"\"Create Embedding Layer\"\"\"\n",
        "        embedding_layers = []\n",
        "        for name, embed_config in embed_configs.items():\n",
        "            embed_dim = embed_config['embed_dim']\n",
        "            num_embed = embed_config['num_embed']\n",
        "            embeding_layer = nn.Embedding(\n",
        "                num_embeddings=num_embed, embedding_dim=embed_dim)\n",
        "            nn.init.xavier_uniform_(embeding_layer.weight)\n",
        "            embedding_layers.append([name, embeding_layer])\n",
        "\n",
        "        self.embedding_layers = nn.ModuleDict(embedding_layers)\n",
        "\n",
        "        transformer_dim = self.embed_configs['position']['embed_dim'] + \\\n",
        "            self.embed_configs['movie']['embed_dim']\n",
        "\n",
        "        self.transformer_layer = TransformerLayer(d_model=transformer_dim,\n",
        "                                                  num_heads=8,\n",
        "                                                  dropout_rate=self.drouput,\n",
        "                                                  num_layers=self.transformer_num_layer)\n",
        "\n",
        "        # movie_embed_dim*2 + sequence*movie_embedding*2 + user_embed_dim*2+occupation_embed_dim*2+age_embed_dim*2+1\n",
        "\n",
        "        sequence_length = self.embed_configs['position']['num_embed']\n",
        "        mlp_dim = self.embed_configs['user']['embed_dim']*2 + \\\n",
        "            self.embed_configs['occupation']['embed_dim']*2 +\\\n",
        "            self.embed_configs['age_group']['embed_dim']*2 +\\\n",
        "            self.embed_configs['movie']['embed_dim']*2 +\\\n",
        "            transformer_dim*sequence_length+1\n",
        "\n",
        "        self.mlp = MLP(dropout=self.drouput, hidden_units=[mlp_dim, 256, 64])\n",
        "\n",
        "    def forward(self, inputs):\n",
        "\n",
        "        target_movie_embedding = self.embedding_layers['movie'](\n",
        "            inputs['target_movie'])\n",
        "        batch_size = target_movie_embedding.shape[0]\n",
        "\n",
        "        \"\"\"Sequence Feature Engineering\"\"\"\n",
        "\n",
        "        # movie embedding\n",
        "        movie_sequence_embedding = self.embedding_layers['movie'](\n",
        "            inputs['movie_sequence'])\n",
        "\n",
        "        # position embedding\n",
        "        positions = torch.arange(\n",
        "            self.config.embed_configs['position']['num_embed']).to(self.device)\n",
        "        position_embedding = self.embedding_layers['position'](positions)\n",
        "        batch_position_embedding = torch.stack(\n",
        "            [position_embedding.clone() for _ in range(batch_size)])\n",
        "        # concat with position instead of adding\n",
        "        movie_pos_seq_embedding = torch.concat(\n",
        "            [movie_sequence_embedding, batch_position_embedding], dim=-1)\n",
        "        # point wise product with sequence rating\n",
        "        rating_sequence = inputs['rating_sequence']\n",
        "        movie_pos_rating_seq_embedding = torch.mul(\n",
        "            movie_pos_seq_embedding, rating_sequence.unsqueeze(-1))\n",
        "        # feed into transformer layer\n",
        "        seq_transformer_output = self.transformer_layer(\n",
        "            movie_pos_rating_seq_embedding)\n",
        "        seq_transformer_flatten_output = seq_transformer_output.view(\n",
        "            batch_size, -1)\n",
        "\n",
        "        \"\"\"concat other features\"\"\"\n",
        "        # orginal features\n",
        "        sex_feature = inputs['sex'].unsqueeze(-1)\n",
        "        user_embedding = self.embedding_layers['user'](inputs['user_id_index'])\n",
        "        occupation_embedding = self.embedding_layers['occupation'](\n",
        "            inputs['occupation_index'])\n",
        "        age_group_embedding = self.embedding_layers['age_group'](\n",
        "            inputs['age_group_index'])\n",
        "\n",
        "        # cross features with target movie embedding\n",
        "        sex_cross_feature = torch.mul(sex_feature, target_movie_embedding)\n",
        "        user_embedding_cross = torch.mul(\n",
        "            user_embedding, target_movie_embedding)\n",
        "        occupation_embedding_cross = torch.mul(\n",
        "            occupation_embedding, target_movie_embedding,)\n",
        "        age_group_embedding_cross = torch.mul(\n",
        "            age_group_embedding, target_movie_embedding)\n",
        "\n",
        "        # shape:1+user_embed_dim+occupation_embed_dim+age_embed_dim\n",
        "        user_features = torch.concat(\n",
        "            [sex_feature, user_embedding, occupation_embedding, age_group_embedding], dim=-1)\n",
        "\n",
        "        # shape:movie_embed_dim +user_embed_dim+occupation_embed_dim+age_embed_dim\n",
        "        user_cross_features = torch.concat(\n",
        "            [sex_cross_feature, user_embedding_cross, occupation_embedding_cross, age_group_embedding_cross], dim=-1)\n",
        "\n",
        "        # shape:movie_embed_dim +user_embed_dim+occupation_embed_dim+age_embed_dim + 1+user_embed_dim+occupation_embed_dim+age_embed_dim\n",
        "        user_inputs_features = torch.concat(\n",
        "            [user_features, user_cross_features, target_movie_embedding], axis=1)\n",
        "        # shape:movie_embed_dim +user_embed_dim+occupation_embed_dim+age_embed_dim + 1+user_embed_dim+occupation_embed_dim+age_embed_dim\n",
        "        # sequence*movie_embedding*2+movie_embeddding\n",
        "        mlp_input_features = torch.concat(\n",
        "            [user_inputs_features, seq_transformer_flatten_output], axis=1)\n",
        "\n",
        "        outputs = self.mlp(mlp_input_features)\n",
        "\n",
        "        return outputs"
      ]
    },
    {
      "cell_type": "code",
      "execution_count": 43,
      "metadata": {
        "id": "u2RO3K24Wdd2"
      },
      "outputs": [],
      "source": [
        "model = BSTRecommender(config=config)"
      ]
    },
    {
      "cell_type": "code",
      "execution_count": 44,
      "metadata": {
        "colab": {
          "base_uri": "https://localhost:8080/"
        },
        "id": "Dpc5cAMKXVkN",
        "outputId": "ee065bd7-1b08-492b-8e22-b4f169ebfc42"
      },
      "outputs": [
        {
          "data": {
            "text/plain": [
              "BSTRecommender(\n",
              "  (embedding_layers): ModuleDict(\n",
              "    (user): Embedding(6041, 32)\n",
              "    (movie): Embedding(3884, 32)\n",
              "    (occupation): Embedding(22, 32)\n",
              "    (age_group): Embedding(8, 32)\n",
              "    (position): Embedding(10, 32)\n",
              "  )\n",
              "  (transformer_layer): TransformerLayer(\n",
              "    (transformer_blocks): ModuleList(\n",
              "      (0-2): 3 x TransformerBlock(\n",
              "        (multihead_attention): MultiheadAttention(\n",
              "          (out_proj): NonDynamicallyQuantizableLinear(in_features=64, out_features=64, bias=True)\n",
              "        )\n",
              "        (layer_norm1): LayerNorm((64,), eps=1e-05, elementwise_affine=True)\n",
              "        (feed_forward): Sequential(\n",
              "          (0): Linear(in_features=64, out_features=256, bias=True)\n",
              "          (1): ReLU()\n",
              "          (2): Linear(in_features=256, out_features=64, bias=True)\n",
              "          (3): Dropout(p=0.2, inplace=False)\n",
              "        )\n",
              "        (layer_norm2): LayerNorm((64,), eps=1e-05, elementwise_affine=True)\n",
              "        (dropout): Dropout(p=0.2, inplace=False)\n",
              "      )\n",
              "    )\n",
              "  )\n",
              "  (mlp): MLP(\n",
              "    (dropout): Dropout(p=0.2, inplace=False)\n",
              "    (layers): ModuleList(\n",
              "      (0): Linear(in_features=897, out_features=256, bias=True)\n",
              "      (1): LeakyReLU(negative_slope=0.01)\n",
              "      (2): Dropout(p=0.2, inplace=False)\n",
              "      (3): Linear(in_features=256, out_features=64, bias=True)\n",
              "      (4): LeakyReLU(negative_slope=0.01)\n",
              "      (5): Dropout(p=0.2, inplace=False)\n",
              "    )\n",
              "    (fc): Linear(in_features=64, out_features=1, bias=True)\n",
              "    (sigmoid): Sigmoid()\n",
              "  )\n",
              ")"
            ]
          },
          "execution_count": 44,
          "metadata": {},
          "output_type": "execute_result"
        }
      ],
      "source": [
        "model = model.to(config.device)\n",
        "model.train()"
      ]
    },
    {
      "attachments": {},
      "cell_type": "markdown",
      "metadata": {
        "id": "iMu3zDCYWqwr"
      },
      "source": [
        "## (5) Load Rating Dataset"
      ]
    },
    {
      "cell_type": "code",
      "execution_count": 45,
      "metadata": {
        "id": "KyeeVf7tWty1"
      },
      "outputs": [],
      "source": [
        "class RatingDataset(Dataset):\n",
        "    def __init__(self, data):\n",
        "        self.data = data\n",
        "        self.device = \"cuda\" if torch.cuda.is_available() else \"cpu\"\n",
        "\n",
        "    def __len__(self):\n",
        "        return len(self.data)\n",
        "\n",
        "    def __getitem__(self, index):\n",
        "\n",
        "        item_dict = self.data.iloc[index].to_dict()\n",
        "\n",
        "        dtype_dict = {}\n",
        "        for k,v in item_dict.items():\n",
        "            dtype_dict[k]=torch.long\n",
        "        dtype_dict['rating_sequence']=torch.float32\n",
        "        dtype_dict['target_rating']=torch.float32\n",
        "        dtype_dict['sex']=torch.float32\n",
        "\n",
        "\n",
        "        sample = {}\n",
        "        for k,v in item_dict.items():\n",
        "            sample[k] = torch.tensor(v,dtype=dtype_dict[k]).to(self.device)\n",
        "\n",
        "        return sample\n"
      ]
    },
    {
      "cell_type": "code",
      "execution_count": 46,
      "metadata": {
        "id": "G6qbyM5pWmke"
      },
      "outputs": [],
      "source": [
        "train_dataset = RatingDataset(data=train_data)\n",
        "test_dataset = RatingDataset(data=test_data)"
      ]
    },
    {
      "cell_type": "code",
      "execution_count": 47,
      "metadata": {
        "id": "4ggs147hXj43"
      },
      "outputs": [],
      "source": [
        "train_loader = DataLoader(train_dataset,batch_size=config.batch_size,shuffle=True)\n",
        "test_loader = DataLoader(test_dataset,batch_size=config.batch_size,shuffle=True)"
      ]
    },
    {
      "attachments": {},
      "cell_type": "markdown",
      "metadata": {
        "id": "bddyOJ1OZuiM"
      },
      "source": [
        "## (6) Training"
      ]
    },
    {
      "cell_type": "code",
      "execution_count": 48,
      "metadata": {
        "id": "6AYv7XU1ZIfn"
      },
      "outputs": [],
      "source": [
        "loss_func = nn.L1Loss()"
      ]
    },
    {
      "cell_type": "code",
      "execution_count": 49,
      "metadata": {
        "id": "QjUtHjQQY9Zv"
      },
      "outputs": [],
      "source": [
        "def evaluate(model,dataset_loader,min_max_scaler,loss_func=nn.L1Loss()):\n",
        "\n",
        "    model.eval()\n",
        "\n",
        "    prob_list= []\n",
        "    rating_list = []\n",
        "    eval_loss_list = []\n",
        "\n",
        "\n",
        "    # loss_func = nn.MSELoss()\n",
        "\n",
        "    pbar = tqdm(total = len(dataset_loader),desc = \"\",position=0, leave=True)\n",
        "\n",
        "    for inputs in dataset_loader:\n",
        "        with torch.no_grad():\n",
        "            probs = model(inputs)\n",
        "            ratings = inputs['target_rating'].view(-1,1)\n",
        "\n",
        "            loss = loss_func(probs, ratings)\n",
        "            eval_loss_list.append(loss.item())\n",
        "\n",
        "            probs = probs.cpu().numpy().flatten().tolist()\n",
        "            prob_list.extend(probs)\n",
        "\n",
        "            ratings = ratings.cpu().numpy().flatten().tolist()\n",
        "            rating_list.extend(ratings)\n",
        "            \n",
        "\n",
        "\n",
        "            pbar.update(1)\n",
        "\n",
        "    pbar.close()\n",
        "\n",
        "    real_ratings =min_max_scaler.inverse_transform(np.array(rating_list).reshape(-1,1))[:,0]\n",
        "    prediction_ratings=min_max_scaler.inverse_transform(np.array(prob_list).reshape(-1,1))[:,0]\n",
        "\n",
        "    MAE = metrics.mean_absolute_error(real_ratings,prediction_ratings)\n",
        "    RMSE = metrics.mean_squared_error(real_ratings,prediction_ratings)\n",
        "    \n",
        "\n",
        "    eval_metrics = {}\n",
        "    eval_metrics['eval_loss']= sum(eval_loss_list)/len(eval_loss_list)\n",
        "    eval_metrics['eval_MAE']= MAE\n",
        "    eval_metrics['eval_RMSE']= RMSE\n",
        "\n",
        "\n",
        "    return eval_metrics"
      ]
    },
    {
      "cell_type": "code",
      "execution_count": 50,
      "metadata": {
        "colab": {
          "base_uri": "https://localhost:8080/"
        },
        "id": "quf-eGpiZWPQ",
        "outputId": "6d219858-1624-4511-8e84-f55c88c12861"
      },
      "outputs": [
        {
          "name": "stderr",
          "output_type": "stream",
          "text": [
            "100%|██████████| 2233/2233 [00:25<00:00, 87.89it/s] "
          ]
        },
        {
          "name": "stdout",
          "output_type": "stream",
          "text": [
            "{'eval_loss': 0.2655895807139285, 'eval_MAE': 1.0623681949879282, 'eval_RMSE': 1.6592574307759513}\n"
          ]
        },
        {
          "name": "stderr",
          "output_type": "stream",
          "text": [
            "\n"
          ]
        }
      ],
      "source": [
        "# loss before training\n",
        "before_training_metrics = evaluate(model,test_loader,min_max_scaler,loss_func)\n",
        "print(before_training_metrics)"
      ]
    },
    {
      "cell_type": "code",
      "execution_count": 51,
      "metadata": {
        "id": "lFHm_mNFZZyq"
      },
      "outputs": [],
      "source": [
        "optimizer = torch.optim.AdamW(model.parameters(),lr=config.learning_rate)\n",
        "total_batch = 0\n",
        "best_eval_loss =  float(\"inf\")\n",
        "best_checkpoint = 0\n",
        "model_version=str(uuid4())\n",
        "config.eval_steps = len(train_loader)//3"
      ]
    },
    {
      "cell_type": "code",
      "execution_count": 52,
      "metadata": {},
      "outputs": [],
      "source": [
        "optimizer = torch.optim.AdamW(model.parameters(),lr=config.learning_rate)\n",
        "total_batch = 0\n",
        "best_eval_loss =  float(\"inf\")\n",
        "best_checkpoint = 0\n",
        "model_version=str(uuid4())\n",
        "config.eval_steps = len(train_loader)//3"
      ]
    },
    {
      "cell_type": "code",
      "execution_count": 53,
      "metadata": {
        "id": "JTP7eC6SaJG1"
      },
      "outputs": [],
      "source": [
        "def save_model(model, model_save_dir,step,model_metrics):\n",
        "    model_save_dir = os.path.join(model_save_dir,f\"checkpoint-{step}\")\n",
        "    model_name = \"pytorch_model.pt\"\n",
        "    train_state_name = \"training_state.json\"\n",
        "    os.makedirs(model_save_dir,exist_ok=True)\n",
        "\n",
        "    model_path = os.path.join(model_save_dir,model_name)\n",
        "    train_state_path = os.path.join(model_save_dir,train_state_name)\n",
        "\n",
        "    torch.save(model.state_dict(),model_path)\n",
        "\n",
        "    if model_metrics is not None:\n",
        "        with open(train_state_path,mode = 'w',encoding = 'utf-8') as f:\n",
        "            json.dump(model_metrics,f,indent=4)\n",
        "\n",
        "    return model_path"
      ]
    },
    {
      "cell_type": "code",
      "execution_count": 54,
      "metadata": {
        "colab": {
          "base_uri": "https://localhost:8080/"
        },
        "id": "hN2ILumCaAOh",
        "outputId": "ce510b50-2e69-4568-db0b-f94a0b4cdf9b"
      },
      "outputs": [
        {
          "name": "stderr",
          "output_type": "stream",
          "text": [
            "100%|██████████| 2233/2233 [00:26<00:00, 85.71it/s], 41.10it/s]  \n",
            "100%|██████████| 2233/2233 [00:24<00:00, 90.69it/s]  39.55it/s, eval_loss=0.18, eval_MAE=0.72, eval_RMSE=0.95, best_eval_loss=0.18, train_loss=0.187, train_MAE=0.747, train_RMSE=0.957, steps=4213, best_checkpoint=4213]   \n",
            "100%|██████████| 2233/2233 [00:30<00:00, 73.89it/s]1, 35.98it/s, eval_loss=0.173, eval_MAE=0.694, eval_RMSE=0.888, best_eval_loss=0.173, train_loss=0.182, train_MAE=0.728, train_RMSE=0.933, steps=8426, best_checkpoint=8426]  \n",
            "100%|██████████| 2233/2233 [00:30<00:00, 73.51it/s]5, 31.07it/s, eval_loss=0.17, eval_MAE=0.682, eval_RMSE=0.868, best_eval_loss=0.17, train_loss=0.18, train_MAE=0.718, train_RMSE=0.924, steps=12639, best_checkpoint=12639]   \n",
            "100%|██████████| 2233/2233 [00:29<00:00, 76.63it/s]4, 34.38it/s, eval_loss=0.17, eval_MAE=0.68, eval_RMSE=0.889, best_eval_loss=0.17, train_loss=0.171, train_MAE=0.682, train_RMSE=0.886, steps=16852, best_checkpoint=16852]   \n",
            "100%|██████████| 2233/2233 [00:31<00:00, 71.90it/s]1, 33.25it/s, eval_loss=0.169, eval_MAE=0.675, eval_RMSE=0.877, best_eval_loss=0.169, train_loss=0.17, train_MAE=0.682, train_RMSE=0.887, steps=21065, best_checkpoint=21065]   \n",
            "100%|██████████| 2233/2233 [00:30<00:00, 73.04it/s]:09, 25.18it/s, eval_loss=0.168, eval_MAE=0.673, eval_RMSE=0.882, best_eval_loss=0.168, train_loss=0.17, train_MAE=0.682, train_RMSE=0.888, steps=25278, best_checkpoint=25278] \n",
            "100%|██████████| 2233/2233 [00:29<00:00, 75.66it/s]1, 34.83it/s, eval_loss=0.169, eval_MAE=0.674, eval_RMSE=0.878, best_eval_loss=0.168, train_loss=0.167, train_MAE=0.667, train_RMSE=0.871, steps=29491, best_checkpoint=25278]   \n",
            "100%|██████████| 2233/2233 [00:29<00:00, 75.89it/s]8, 32.56it/s, eval_loss=0.169, eval_MAE=0.675, eval_RMSE=0.902, best_eval_loss=0.168, train_loss=0.167, train_MAE=0.668, train_RMSE=0.87, steps=33704, best_checkpoint=25278]   \n",
            "100%|██████████| 2233/2233 [00:30<00:00, 74.26it/s]2, 34.51it/s, eval_loss=0.167, eval_MAE=0.667, eval_RMSE=0.872, best_eval_loss=0.167, train_loss=0.167, train_MAE=0.668, train_RMSE=0.87, steps=37917, best_checkpoint=37917]   \n",
            "100%|██████████| 2233/2233 [00:28<00:00, 77.37it/s]8, 32.57it/s, eval_loss=0.167, eval_MAE=0.668, eval_RMSE=0.872, best_eval_loss=0.167, train_loss=0.164, train_MAE=0.655, train_RMSE=0.853, steps=42130, best_checkpoint=37917]   \n",
            "100%|██████████| 2233/2233 [00:28<00:00, 79.22it/s]7, 37.41it/s, eval_loss=0.166, eval_MAE=0.666, eval_RMSE=0.884, best_eval_loss=0.166, train_loss=0.164, train_MAE=0.658, train_RMSE=0.86, steps=46343, best_checkpoint=46343]   \n",
            "100%|██████████| 2233/2233 [00:28<00:00, 78.02it/s]4, 34.53it/s, eval_loss=0.166, eval_MAE=0.665, eval_RMSE=0.879, best_eval_loss=0.166, train_loss=0.165, train_MAE=0.658, train_RMSE=0.859, steps=50556, best_checkpoint=50556]   \n",
            "100%|██████████| 2233/2233 [00:22<00:00, 98.33it/s] , 41.46it/s, eval_loss=0.166, eval_MAE=0.666, eval_RMSE=0.877, best_eval_loss=0.166, train_loss=0.162, train_MAE=0.646, train_RMSE=0.84, steps=54769, best_checkpoint=50556]   \n",
            "100%|██████████| 2233/2233 [00:22<00:00, 101.33it/s], 35.13it/s, eval_loss=0.167, eval_MAE=0.667, eval_RMSE=0.893, best_eval_loss=0.166, train_loss=0.162, train_MAE=0.649, train_RMSE=0.842, steps=58982, best_checkpoint=50556]   \n",
            "100%|██████████| 2233/2233 [00:23<00:00, 96.77it/s] , 41.05it/s, eval_loss=0.167, eval_MAE=0.667, eval_RMSE=0.88, best_eval_loss=0.166, train_loss=0.163, train_MAE=0.651, train_RMSE=0.843, steps=63195, best_checkpoint=50556]   \n",
            "100%|██████████| 2233/2233 [00:23<00:00, 95.52it/s] , 38.05it/s, eval_loss=0.165, eval_MAE=0.661, eval_RMSE=0.871, best_eval_loss=0.165, train_loss=0.16, train_MAE=0.641, train_RMSE=0.831, steps=67408, best_checkpoint=67408]   \n",
            "100%|██████████| 2233/2233 [00:25<00:00, 86.11it/s]6, 32.09it/s, eval_loss=0.166, eval_MAE=0.664, eval_RMSE=0.88, best_eval_loss=0.165, train_loss=0.16, train_MAE=0.642, train_RMSE=0.829, steps=71621, best_checkpoint=67408]   \n",
            "100%|██████████| 2233/2233 [00:24<00:00, 90.48it/s] , 30.80it/s, eval_loss=0.165, eval_MAE=0.659, eval_RMSE=0.872, best_eval_loss=0.165, train_loss=0.161, train_MAE=0.644, train_RMSE=0.832, steps=75834, best_checkpoint=75834]   \n",
            "100%|██████████| 2233/2233 [00:24<00:00, 90.04it/s] , 38.67it/s, eval_loss=0.165, eval_MAE=0.66, eval_RMSE=0.87, best_eval_loss=0.165, train_loss=0.157, train_MAE=0.629, train_RMSE=0.809, steps=8e+4, best_checkpoint=75834]   \n",
            "100%|██████████| 2233/2233 [00:24<00:00, 92.34it/s] , 41.97it/s, eval_loss=0.165, eval_MAE=0.662, eval_RMSE=0.876, best_eval_loss=0.165, train_loss=0.158, train_MAE=0.634, train_RMSE=0.816, steps=84260, best_checkpoint=75834]   \n",
            "100%|██████████| 2233/2233 [00:22<00:00, 97.09it/s] , 39.49it/s, eval_loss=0.164, eval_MAE=0.658, eval_RMSE=0.87, best_eval_loss=0.164, train_loss=0.159, train_MAE=0.636, train_RMSE=0.818, steps=88473, best_checkpoint=88473]   \n",
            "100%|██████████| 2233/2233 [00:22<00:00, 99.92it/s] , 40.61it/s, eval_loss=0.166, eval_MAE=0.663, eval_RMSE=0.878, best_eval_loss=0.164, train_loss=0.155, train_MAE=0.62, train_RMSE=0.795, steps=92686, best_checkpoint=88473]   \n",
            "100%|██████████| 2233/2233 [00:22<00:00, 98.98it/s] 5, 43.95it/s, eval_loss=0.165, eval_MAE=0.66, eval_RMSE=0.864, best_eval_loss=0.164, train_loss=0.156, train_MAE=0.624, train_RMSE=0.8, steps=96899, best_checkpoint=88473]  \n",
            "100%|██████████| 2233/2233 [00:25<00:00, 85.90it/s]9:20, 37.65it/s, eval_loss=0.163, eval_MAE=0.654, eval_RMSE=0.852, best_eval_loss=0.163, train_loss=0.157, train_MAE=0.627, train_RMSE=0.803, steps=101112, best_checkpoint=101112] \n",
            "100%|██████████| 2233/2233 [00:32<00:00, 67.84it/s]0:59, 25.58it/s, eval_loss=0.165, eval_MAE=0.661, eval_RMSE=0.884, best_eval_loss=0.163, train_loss=0.152, train_MAE=0.608, train_RMSE=0.772, steps=105325, best_checkpoint=101112]   \n",
            "100%|██████████| 2233/2233 [00:31<00:00, 69.83it/s]7:00, 30.08it/s, eval_loss=0.163, eval_MAE=0.653, eval_RMSE=0.85, best_eval_loss=0.163, train_loss=0.153, train_MAE=0.614, train_RMSE=0.781, steps=109538, best_checkpoint=109538]   \n",
            "100%|██████████| 2233/2233 [00:22<00:00, 99.45it/s] :52, 36.32it/s, eval_loss=0.162, eval_MAE=0.649, eval_RMSE=0.841, best_eval_loss=0.162, train_loss=0.154, train_MAE=0.617, train_RMSE=0.784, steps=113751, best_checkpoint=113751]  \n",
            "100%|██████████| 2233/2233 [00:23<00:00, 94.66it/s] :41, 41.76it/s, eval_loss=0.163, eval_MAE=0.651, eval_RMSE=0.847, best_eval_loss=0.162, train_loss=0.15, train_MAE=0.6, train_RMSE=0.759, steps=117964, best_checkpoint=113751]   \n",
            "100%|██████████| 2233/2233 [00:23<00:00, 96.87it/s] :00, 42.96it/s, eval_loss=0.163, eval_MAE=0.653, eval_RMSE=0.852, best_eval_loss=0.162, train_loss=0.151, train_MAE=0.603, train_RMSE=0.762, steps=122177, best_checkpoint=113751]  \n",
            "Training: 100%|██████████| 126410/126410 [1:13:56<00:00, 28.50it/s, eval_loss=0.162, eval_MAE=0.649, eval_RMSE=0.852, best_eval_loss=0.162, train_loss=0.152, train_MAE=0.607, train_RMSE=0.768, steps=126390, best_checkpoint=126390]\n"
          ]
        },
        {
          "data": {
            "text/html": [
              "Waiting for W&B process to finish... <strong style=\"color:green\">(success).</strong>"
            ],
            "text/plain": [
              "<IPython.core.display.HTML object>"
            ]
          },
          "metadata": {},
          "output_type": "display_data"
        },
        {
          "data": {
            "text/html": [
              "<style>\n",
              "    table.wandb td:nth-child(1) { padding: 0 10px; text-align: left ; width: auto;} td:nth-child(2) {text-align: left ; width: 100%}\n",
              "    .wandb-row { display: flex; flex-direction: row; flex-wrap: wrap; justify-content: flex-start; width: 100% }\n",
              "    .wandb-col { display: flex; flex-direction: column; flex-basis: 100%; flex: 1; padding: 10px; }\n",
              "    </style>\n",
              "<div class=\"wandb-row\"><div class=\"wandb-col\"><h3>Run history:</h3><br/><table class=\"wandb\"><tr><td>best_checkpoint</td><td>▁▁▁▂▂▂▂▂▃▃▃▄▄▄▄▅▅▅▅▅▆▆▆▇▇▇▇▇▇█</td></tr><tr><td>best_eval_loss</td><td>█▅▄▄▄▃▃▃▃▃▃▃▃▃▃▂▂▂▂▂▂▂▂▂▂▁▁▁▁▁</td></tr><tr><td>eval_MAE</td><td>█▅▄▄▄▃▄▄▃▃▃▃▃▃▃▂▃▂▂▂▂▂▂▂▂▁▁▁▁▁</td></tr><tr><td>eval_RMSE</td><td>█▄▃▄▃▄▃▅▃▃▄▃▃▄▃▃▄▃▃▃▃▃▂▂▄▂▁▁▂▂</td></tr><tr><td>eval_loss</td><td>█▅▄▄▄▃▄▄▃▃▃▃▃▃▃▂▃▂▂▂▂▂▂▂▂▁▁▁▁▁</td></tr><tr><td>steps</td><td>▁▁▁▂▂▂▂▃▃▃▃▄▄▄▄▅▅▅▅▆▆▆▆▇▇▇▇███</td></tr><tr><td>train_MAE</td><td>█▇▇▅▅▅▄▄▄▄▄▄▃▃▃▃▃▃▂▃▃▂▂▂▁▂▂▁▁▁</td></tr><tr><td>train_RMSE</td><td>█▇▇▅▆▆▅▅▅▄▅▅▄▄▄▄▃▄▃▃▃▂▂▃▁▂▂▁▁▁</td></tr><tr><td>train_loss</td><td>█▇▇▅▅▅▄▄▄▄▄▄▃▃▃▃▃▃▂▃▃▂▂▂▁▂▂▁▁▁</td></tr></table><br/></div><div class=\"wandb-col\"><h3>Run summary:</h3><br/><table class=\"wandb\"><tr><td>best_checkpoint</td><td>126390</td></tr><tr><td>best_eval_loss</td><td>0.16218</td></tr><tr><td>eval_MAE</td><td>0.64871</td></tr><tr><td>eval_RMSE</td><td>0.85165</td></tr><tr><td>eval_loss</td><td>0.16218</td></tr><tr><td>steps</td><td>126390</td></tr><tr><td>train_MAE</td><td>0.60655</td></tr><tr><td>train_RMSE</td><td>0.76794</td></tr><tr><td>train_loss</td><td>0.15164</td></tr></table><br/></div></div>"
            ],
            "text/plain": [
              "<IPython.core.display.HTML object>"
            ]
          },
          "metadata": {},
          "output_type": "display_data"
        },
        {
          "data": {
            "text/html": [
              " View run <strong style=\"color:#cdcd00\">sequence:10 batch_size:64</strong> at: <a href='https://wandb.ai/nelsonlin0321/BST%20For%20Movielens%201M%20Recommendation/runs/sge1u0mn' target=\"_blank\">https://wandb.ai/nelsonlin0321/BST%20For%20Movielens%201M%20Recommendation/runs/sge1u0mn</a><br/>Synced 6 W&B file(s), 0 media file(s), 0 artifact file(s) and 0 other file(s)"
            ],
            "text/plain": [
              "<IPython.core.display.HTML object>"
            ]
          },
          "metadata": {},
          "output_type": "display_data"
        },
        {
          "data": {
            "text/html": [
              "Find logs at: <code>./wandb/run-20230709_225423-sge1u0mn/logs</code>"
            ],
            "text/plain": [
              "<IPython.core.display.HTML object>"
            ]
          },
          "metadata": {},
          "output_type": "display_data"
        }
      ],
      "source": [
        "# Train\n",
        "total_pbar = tqdm(total=len(train_loader)*config.epoches,\n",
        "                  desc=\"Training\", position=0, leave=True)\n",
        "\n",
        "metrics_list = []\n",
        "best_model_path= None\n",
        "for epoch in range(config.epoches):\n",
        "    # print(\"*\"*50 + f\"epoch: {epoch + 1}\" + \"*\"*50)\n",
        "\n",
        "    train_loss_list = []\n",
        "    prob_list = []\n",
        "    rating_list = []\n",
        "\n",
        "    for inputs in train_loader:\n",
        "        model = model.train()\n",
        "        optimizer.zero_grad()\n",
        "        probs = model(inputs)\n",
        "\n",
        "        rating = inputs['target_rating'].view(-1, 1)\n",
        "\n",
        "        loss = loss_func(probs, rating)\n",
        "        loss.backward()\n",
        "        optimizer.step()\n",
        "        train_loss_list.append(loss.item())\n",
        "\n",
        "        probs = probs.detach().cpu().numpy().flatten().tolist()\n",
        "        prob_list.extend(probs)\n",
        "        rating = rating.detach().cpu().flatten().tolist()\n",
        "        rating_list.extend(rating)\n",
        "\n",
        "        if (total_batch+1) % config.eval_steps == 0:\n",
        "\n",
        "            improve = False\n",
        "            model_metrics = evaluate(model, test_loader,min_max_scaler,loss_func)\n",
        "            eval_loss = model_metrics['eval_loss']\n",
        "\n",
        "            if eval_loss <= best_eval_loss:\n",
        "                improve = True\n",
        "                best_checkpoint = total_batch+1\n",
        "                best_eval_loss = eval_loss\n",
        "\n",
        "            train_loss = np.mean(train_loss_list)\n",
        "            \n",
        "            real_ratings =min_max_scaler.inverse_transform(np.array(rating_list).reshape(-1,1))[:,0]\n",
        "            prediction_ratings=min_max_scaler.inverse_transform(np.array(prob_list).reshape(-1,1))[:,0]\n",
        "            MAE = metrics.mean_absolute_error(real_ratings,prediction_ratings)\n",
        "            RMSE = metrics.mean_squared_error(real_ratings,prediction_ratings)\n",
        "\n",
        "            model_metrics['best_eval_loss'] = best_eval_loss\n",
        "            model_metrics['train_loss'] = train_loss\n",
        "            model_metrics['train_MAE'] = MAE\n",
        "            model_metrics['train_RMSE'] = RMSE\n",
        "            \n",
        "            model_metrics[\"steps\"] = total_batch+1\n",
        "            model_metrics[\"best_checkpoint\"] = best_checkpoint\n",
        "            metrics_list.append(model_metrics)\n",
        "            wandb.log(model_metrics)\n",
        "\n",
        "            if improve:\n",
        "                save_dir = os.path.join(\"models\", model_version)\n",
        "                os.makedirs(save_dir, exist_ok=True)\n",
        "                model_path = save_model(model, save_dir, total_batch+1, model_metrics)\n",
        "                best_model_path = model_path\n",
        "            post_fix_message = {k:round(v,3) for k,v in model_metrics.items()}\n",
        "            total_pbar.set_postfix(post_fix_message)\n",
        "\n",
        "\n",
        "            model = model.train()\n",
        "\n",
        "        total_batch += 1\n",
        "        total_pbar.update(1)\n",
        "\n",
        "    model = model.train()\n",
        "\n",
        "total_pbar.close()\n",
        "wandb.finish()"
      ]
    },
    {
      "cell_type": "code",
      "execution_count": 55,
      "metadata": {
        "id": "AzfHrJl6aP0t"
      },
      "outputs": [
        {
          "data": {
            "text/html": [
              "<div>\n",
              "<style scoped>\n",
              "    .dataframe tbody tr th:only-of-type {\n",
              "        vertical-align: middle;\n",
              "    }\n",
              "\n",
              "    .dataframe tbody tr th {\n",
              "        vertical-align: top;\n",
              "    }\n",
              "\n",
              "    .dataframe thead th {\n",
              "        text-align: right;\n",
              "    }\n",
              "</style>\n",
              "<table border=\"1\" class=\"dataframe\">\n",
              "  <thead>\n",
              "    <tr style=\"text-align: right;\">\n",
              "      <th></th>\n",
              "      <th>eval_loss</th>\n",
              "      <th>eval_MAE</th>\n",
              "      <th>eval_RMSE</th>\n",
              "      <th>best_eval_loss</th>\n",
              "      <th>train_loss</th>\n",
              "      <th>train_MAE</th>\n",
              "      <th>train_RMSE</th>\n",
              "      <th>best_checkpoint</th>\n",
              "    </tr>\n",
              "    <tr>\n",
              "      <th>steps</th>\n",
              "      <th></th>\n",
              "      <th></th>\n",
              "      <th></th>\n",
              "      <th></th>\n",
              "      <th></th>\n",
              "      <th></th>\n",
              "      <th></th>\n",
              "      <th></th>\n",
              "    </tr>\n",
              "  </thead>\n",
              "  <tbody>\n",
              "    <tr>\n",
              "      <th>4213</th>\n",
              "      <td>0.179942</td>\n",
              "      <td>0.719765</td>\n",
              "      <td>0.950255</td>\n",
              "      <td>0.179942</td>\n",
              "      <td>0.186869</td>\n",
              "      <td>0.747475</td>\n",
              "      <td>0.957036</td>\n",
              "      <td>4213</td>\n",
              "    </tr>\n",
              "    <tr>\n",
              "      <th>8426</th>\n",
              "      <td>0.173405</td>\n",
              "      <td>0.693613</td>\n",
              "      <td>0.888312</td>\n",
              "      <td>0.173405</td>\n",
              "      <td>0.181908</td>\n",
              "      <td>0.727630</td>\n",
              "      <td>0.933488</td>\n",
              "      <td>8426</td>\n",
              "    </tr>\n",
              "    <tr>\n",
              "      <th>12639</th>\n",
              "      <td>0.170460</td>\n",
              "      <td>0.681837</td>\n",
              "      <td>0.867757</td>\n",
              "      <td>0.170460</td>\n",
              "      <td>0.179537</td>\n",
              "      <td>0.718146</td>\n",
              "      <td>0.923763</td>\n",
              "      <td>12639</td>\n",
              "    </tr>\n",
              "    <tr>\n",
              "      <th>16852</th>\n",
              "      <td>0.170114</td>\n",
              "      <td>0.680454</td>\n",
              "      <td>0.889200</td>\n",
              "      <td>0.170114</td>\n",
              "      <td>0.170561</td>\n",
              "      <td>0.682242</td>\n",
              "      <td>0.886427</td>\n",
              "      <td>16852</td>\n",
              "    </tr>\n",
              "    <tr>\n",
              "      <th>21065</th>\n",
              "      <td>0.168790</td>\n",
              "      <td>0.675164</td>\n",
              "      <td>0.876845</td>\n",
              "      <td>0.168790</td>\n",
              "      <td>0.170451</td>\n",
              "      <td>0.681804</td>\n",
              "      <td>0.886688</td>\n",
              "      <td>21065</td>\n",
              "    </tr>\n",
              "    <tr>\n",
              "      <th>25278</th>\n",
              "      <td>0.168324</td>\n",
              "      <td>0.673293</td>\n",
              "      <td>0.881568</td>\n",
              "      <td>0.168324</td>\n",
              "      <td>0.170416</td>\n",
              "      <td>0.681666</td>\n",
              "      <td>0.887757</td>\n",
              "      <td>25278</td>\n",
              "    </tr>\n",
              "    <tr>\n",
              "      <th>29491</th>\n",
              "      <td>0.168589</td>\n",
              "      <td>0.674353</td>\n",
              "      <td>0.878064</td>\n",
              "      <td>0.168324</td>\n",
              "      <td>0.166859</td>\n",
              "      <td>0.667438</td>\n",
              "      <td>0.870753</td>\n",
              "      <td>25278</td>\n",
              "    </tr>\n",
              "    <tr>\n",
              "      <th>33704</th>\n",
              "      <td>0.168654</td>\n",
              "      <td>0.674614</td>\n",
              "      <td>0.902366</td>\n",
              "      <td>0.168324</td>\n",
              "      <td>0.167026</td>\n",
              "      <td>0.668103</td>\n",
              "      <td>0.870292</td>\n",
              "      <td>25278</td>\n",
              "    </tr>\n",
              "    <tr>\n",
              "      <th>37917</th>\n",
              "      <td>0.166806</td>\n",
              "      <td>0.667225</td>\n",
              "      <td>0.872432</td>\n",
              "      <td>0.166806</td>\n",
              "      <td>0.166973</td>\n",
              "      <td>0.667893</td>\n",
              "      <td>0.870175</td>\n",
              "      <td>37917</td>\n",
              "    </tr>\n",
              "    <tr>\n",
              "      <th>42130</th>\n",
              "      <td>0.166909</td>\n",
              "      <td>0.667637</td>\n",
              "      <td>0.871763</td>\n",
              "      <td>0.166806</td>\n",
              "      <td>0.163660</td>\n",
              "      <td>0.654639</td>\n",
              "      <td>0.853268</td>\n",
              "      <td>37917</td>\n",
              "    </tr>\n",
              "    <tr>\n",
              "      <th>46343</th>\n",
              "      <td>0.166459</td>\n",
              "      <td>0.665828</td>\n",
              "      <td>0.883846</td>\n",
              "      <td>0.166459</td>\n",
              "      <td>0.164378</td>\n",
              "      <td>0.657514</td>\n",
              "      <td>0.859699</td>\n",
              "      <td>46343</td>\n",
              "    </tr>\n",
              "    <tr>\n",
              "      <th>50556</th>\n",
              "      <td>0.166156</td>\n",
              "      <td>0.664628</td>\n",
              "      <td>0.879385</td>\n",
              "      <td>0.166156</td>\n",
              "      <td>0.164501</td>\n",
              "      <td>0.658005</td>\n",
              "      <td>0.858685</td>\n",
              "      <td>50556</td>\n",
              "    </tr>\n",
              "    <tr>\n",
              "      <th>54769</th>\n",
              "      <td>0.166400</td>\n",
              "      <td>0.665605</td>\n",
              "      <td>0.877343</td>\n",
              "      <td>0.166156</td>\n",
              "      <td>0.161537</td>\n",
              "      <td>0.646150</td>\n",
              "      <td>0.839933</td>\n",
              "      <td>50556</td>\n",
              "    </tr>\n",
              "    <tr>\n",
              "      <th>58982</th>\n",
              "      <td>0.166755</td>\n",
              "      <td>0.667012</td>\n",
              "      <td>0.892540</td>\n",
              "      <td>0.166156</td>\n",
              "      <td>0.162180</td>\n",
              "      <td>0.648721</td>\n",
              "      <td>0.842435</td>\n",
              "      <td>50556</td>\n",
              "    </tr>\n",
              "    <tr>\n",
              "      <th>63195</th>\n",
              "      <td>0.166787</td>\n",
              "      <td>0.667143</td>\n",
              "      <td>0.879737</td>\n",
              "      <td>0.166156</td>\n",
              "      <td>0.162629</td>\n",
              "      <td>0.650517</td>\n",
              "      <td>0.843389</td>\n",
              "      <td>50556</td>\n",
              "    </tr>\n",
              "    <tr>\n",
              "      <th>67408</th>\n",
              "      <td>0.165232</td>\n",
              "      <td>0.660926</td>\n",
              "      <td>0.870568</td>\n",
              "      <td>0.165232</td>\n",
              "      <td>0.160249</td>\n",
              "      <td>0.640996</td>\n",
              "      <td>0.830535</td>\n",
              "      <td>67408</td>\n",
              "    </tr>\n",
              "    <tr>\n",
              "      <th>71621</th>\n",
              "      <td>0.166090</td>\n",
              "      <td>0.664360</td>\n",
              "      <td>0.880426</td>\n",
              "      <td>0.165232</td>\n",
              "      <td>0.160427</td>\n",
              "      <td>0.641707</td>\n",
              "      <td>0.829263</td>\n",
              "      <td>67408</td>\n",
              "    </tr>\n",
              "    <tr>\n",
              "      <th>75834</th>\n",
              "      <td>0.164828</td>\n",
              "      <td>0.659312</td>\n",
              "      <td>0.871594</td>\n",
              "      <td>0.164828</td>\n",
              "      <td>0.160876</td>\n",
              "      <td>0.643503</td>\n",
              "      <td>0.831538</td>\n",
              "      <td>75834</td>\n",
              "    </tr>\n",
              "    <tr>\n",
              "      <th>80047</th>\n",
              "      <td>0.165065</td>\n",
              "      <td>0.660263</td>\n",
              "      <td>0.869531</td>\n",
              "      <td>0.164828</td>\n",
              "      <td>0.157306</td>\n",
              "      <td>0.629226</td>\n",
              "      <td>0.809355</td>\n",
              "      <td>75834</td>\n",
              "    </tr>\n",
              "    <tr>\n",
              "      <th>84260</th>\n",
              "      <td>0.165443</td>\n",
              "      <td>0.661779</td>\n",
              "      <td>0.876007</td>\n",
              "      <td>0.164828</td>\n",
              "      <td>0.158472</td>\n",
              "      <td>0.633890</td>\n",
              "      <td>0.815704</td>\n",
              "      <td>75834</td>\n",
              "    </tr>\n",
              "    <tr>\n",
              "      <th>88473</th>\n",
              "      <td>0.164385</td>\n",
              "      <td>0.657541</td>\n",
              "      <td>0.870015</td>\n",
              "      <td>0.164385</td>\n",
              "      <td>0.158992</td>\n",
              "      <td>0.635968</td>\n",
              "      <td>0.818295</td>\n",
              "      <td>88473</td>\n",
              "    </tr>\n",
              "    <tr>\n",
              "      <th>92686</th>\n",
              "      <td>0.165868</td>\n",
              "      <td>0.663472</td>\n",
              "      <td>0.878452</td>\n",
              "      <td>0.164385</td>\n",
              "      <td>0.155029</td>\n",
              "      <td>0.620115</td>\n",
              "      <td>0.795074</td>\n",
              "      <td>88473</td>\n",
              "    </tr>\n",
              "    <tr>\n",
              "      <th>96899</th>\n",
              "      <td>0.164949</td>\n",
              "      <td>0.659799</td>\n",
              "      <td>0.864213</td>\n",
              "      <td>0.164385</td>\n",
              "      <td>0.156086</td>\n",
              "      <td>0.624342</td>\n",
              "      <td>0.799941</td>\n",
              "      <td>88473</td>\n",
              "    </tr>\n",
              "    <tr>\n",
              "      <th>101112</th>\n",
              "      <td>0.163451</td>\n",
              "      <td>0.653804</td>\n",
              "      <td>0.851629</td>\n",
              "      <td>0.163451</td>\n",
              "      <td>0.156762</td>\n",
              "      <td>0.627046</td>\n",
              "      <td>0.802746</td>\n",
              "      <td>101112</td>\n",
              "    </tr>\n",
              "    <tr>\n",
              "      <th>105325</th>\n",
              "      <td>0.165248</td>\n",
              "      <td>0.660985</td>\n",
              "      <td>0.884103</td>\n",
              "      <td>0.163451</td>\n",
              "      <td>0.152116</td>\n",
              "      <td>0.608466</td>\n",
              "      <td>0.772232</td>\n",
              "      <td>101112</td>\n",
              "    </tr>\n",
              "    <tr>\n",
              "      <th>109538</th>\n",
              "      <td>0.163147</td>\n",
              "      <td>0.652581</td>\n",
              "      <td>0.849599</td>\n",
              "      <td>0.163147</td>\n",
              "      <td>0.153430</td>\n",
              "      <td>0.613720</td>\n",
              "      <td>0.780818</td>\n",
              "      <td>109538</td>\n",
              "    </tr>\n",
              "    <tr>\n",
              "      <th>113751</th>\n",
              "      <td>0.162195</td>\n",
              "      <td>0.648783</td>\n",
              "      <td>0.841166</td>\n",
              "      <td>0.162195</td>\n",
              "      <td>0.154165</td>\n",
              "      <td>0.616659</td>\n",
              "      <td>0.784402</td>\n",
              "      <td>113751</td>\n",
              "    </tr>\n",
              "    <tr>\n",
              "      <th>117964</th>\n",
              "      <td>0.162631</td>\n",
              "      <td>0.650522</td>\n",
              "      <td>0.846854</td>\n",
              "      <td>0.162195</td>\n",
              "      <td>0.149940</td>\n",
              "      <td>0.599762</td>\n",
              "      <td>0.759459</td>\n",
              "      <td>113751</td>\n",
              "    </tr>\n",
              "    <tr>\n",
              "      <th>122177</th>\n",
              "      <td>0.163128</td>\n",
              "      <td>0.652509</td>\n",
              "      <td>0.852005</td>\n",
              "      <td>0.162195</td>\n",
              "      <td>0.150727</td>\n",
              "      <td>0.602907</td>\n",
              "      <td>0.762424</td>\n",
              "      <td>113751</td>\n",
              "    </tr>\n",
              "    <tr>\n",
              "      <th>126390</th>\n",
              "      <td>0.162177</td>\n",
              "      <td>0.648709</td>\n",
              "      <td>0.851655</td>\n",
              "      <td>0.162177</td>\n",
              "      <td>0.151639</td>\n",
              "      <td>0.606555</td>\n",
              "      <td>0.767939</td>\n",
              "      <td>126390</td>\n",
              "    </tr>\n",
              "  </tbody>\n",
              "</table>\n",
              "</div>"
            ],
            "text/plain": [
              "        eval_loss  eval_MAE  eval_RMSE  best_eval_loss  train_loss  train_MAE  \\\n",
              "steps                                                                           \n",
              "4213     0.179942  0.719765   0.950255        0.179942    0.186869   0.747475   \n",
              "8426     0.173405  0.693613   0.888312        0.173405    0.181908   0.727630   \n",
              "12639    0.170460  0.681837   0.867757        0.170460    0.179537   0.718146   \n",
              "16852    0.170114  0.680454   0.889200        0.170114    0.170561   0.682242   \n",
              "21065    0.168790  0.675164   0.876845        0.168790    0.170451   0.681804   \n",
              "25278    0.168324  0.673293   0.881568        0.168324    0.170416   0.681666   \n",
              "29491    0.168589  0.674353   0.878064        0.168324    0.166859   0.667438   \n",
              "33704    0.168654  0.674614   0.902366        0.168324    0.167026   0.668103   \n",
              "37917    0.166806  0.667225   0.872432        0.166806    0.166973   0.667893   \n",
              "42130    0.166909  0.667637   0.871763        0.166806    0.163660   0.654639   \n",
              "46343    0.166459  0.665828   0.883846        0.166459    0.164378   0.657514   \n",
              "50556    0.166156  0.664628   0.879385        0.166156    0.164501   0.658005   \n",
              "54769    0.166400  0.665605   0.877343        0.166156    0.161537   0.646150   \n",
              "58982    0.166755  0.667012   0.892540        0.166156    0.162180   0.648721   \n",
              "63195    0.166787  0.667143   0.879737        0.166156    0.162629   0.650517   \n",
              "67408    0.165232  0.660926   0.870568        0.165232    0.160249   0.640996   \n",
              "71621    0.166090  0.664360   0.880426        0.165232    0.160427   0.641707   \n",
              "75834    0.164828  0.659312   0.871594        0.164828    0.160876   0.643503   \n",
              "80047    0.165065  0.660263   0.869531        0.164828    0.157306   0.629226   \n",
              "84260    0.165443  0.661779   0.876007        0.164828    0.158472   0.633890   \n",
              "88473    0.164385  0.657541   0.870015        0.164385    0.158992   0.635968   \n",
              "92686    0.165868  0.663472   0.878452        0.164385    0.155029   0.620115   \n",
              "96899    0.164949  0.659799   0.864213        0.164385    0.156086   0.624342   \n",
              "101112   0.163451  0.653804   0.851629        0.163451    0.156762   0.627046   \n",
              "105325   0.165248  0.660985   0.884103        0.163451    0.152116   0.608466   \n",
              "109538   0.163147  0.652581   0.849599        0.163147    0.153430   0.613720   \n",
              "113751   0.162195  0.648783   0.841166        0.162195    0.154165   0.616659   \n",
              "117964   0.162631  0.650522   0.846854        0.162195    0.149940   0.599762   \n",
              "122177   0.163128  0.652509   0.852005        0.162195    0.150727   0.602907   \n",
              "126390   0.162177  0.648709   0.851655        0.162177    0.151639   0.606555   \n",
              "\n",
              "        train_RMSE  best_checkpoint  \n",
              "steps                                \n",
              "4213      0.957036             4213  \n",
              "8426      0.933488             8426  \n",
              "12639     0.923763            12639  \n",
              "16852     0.886427            16852  \n",
              "21065     0.886688            21065  \n",
              "25278     0.887757            25278  \n",
              "29491     0.870753            25278  \n",
              "33704     0.870292            25278  \n",
              "37917     0.870175            37917  \n",
              "42130     0.853268            37917  \n",
              "46343     0.859699            46343  \n",
              "50556     0.858685            50556  \n",
              "54769     0.839933            50556  \n",
              "58982     0.842435            50556  \n",
              "63195     0.843389            50556  \n",
              "67408     0.830535            67408  \n",
              "71621     0.829263            67408  \n",
              "75834     0.831538            75834  \n",
              "80047     0.809355            75834  \n",
              "84260     0.815704            75834  \n",
              "88473     0.818295            88473  \n",
              "92686     0.795074            88473  \n",
              "96899     0.799941            88473  \n",
              "101112    0.802746           101112  \n",
              "105325    0.772232           101112  \n",
              "109538    0.780818           109538  \n",
              "113751    0.784402           113751  \n",
              "117964    0.759459           113751  \n",
              "122177    0.762424           113751  \n",
              "126390    0.767939           126390  "
            ]
          },
          "execution_count": 55,
          "metadata": {},
          "output_type": "execute_result"
        }
      ],
      "source": [
        "df_metrics = pd.DataFrame(metrics_list)\n",
        "df_metrics = df_metrics.set_index(\"steps\")\n",
        "df_metrics"
      ]
    },
    {
      "cell_type": "code",
      "execution_count": 56,
      "metadata": {},
      "outputs": [
        {
          "data": {
            "text/plain": [
              "<Axes: xlabel='steps'>"
            ]
          },
          "execution_count": 56,
          "metadata": {},
          "output_type": "execute_result"
        },
        {
          "data": {
            "image/png": "[encoded data removed]",
            "text/plain": [
              "<Figure size 640x480 with 1 Axes>"
            ]
          },
          "metadata": {},
          "output_type": "display_data"
        }
      ],
      "source": [
        "\n",
        "df_metrics[['eval_loss','train_loss']].plot() "
      ]
    },
    {
      "cell_type": "code",
      "execution_count": 57,
      "metadata": {},
      "outputs": [
        {
          "data": {
            "text/plain": [
              "<Axes: xlabel='steps'>"
            ]
          },
          "execution_count": 57,
          "metadata": {},
          "output_type": "execute_result"
        },
        {
          "data": {
            "image/png": "[encoded data removed]",
            "text/plain": [
              "<Figure size 640x480 with 1 Axes>"
            ]
          },
          "metadata": {},
          "output_type": "display_data"
        }
      ],
      "source": [
        "df_metrics[['eval_MAE','train_MAE']].plot() "
      ]
    },
    {
      "attachments": {},
      "cell_type": "markdown",
      "metadata": {},
      "source": [
        "## (7) Validate The Best Model"
      ]
    },
    {
      "cell_type": "code",
      "execution_count": 58,
      "metadata": {},
      "outputs": [],
      "source": [
        "best_model = BSTRecommender(config=config)"
      ]
    },
    {
      "cell_type": "code",
      "execution_count": 59,
      "metadata": {},
      "outputs": [
        {
          "data": {
            "text/plain": [
              "BSTRecommender(\n",
              "  (embedding_layers): ModuleDict(\n",
              "    (user): Embedding(6041, 32)\n",
              "    (movie): Embedding(3884, 32)\n",
              "    (occupation): Embedding(22, 32)\n",
              "    (age_group): Embedding(8, 32)\n",
              "    (position): Embedding(10, 32)\n",
              "  )\n",
              "  (transformer_layer): TransformerLayer(\n",
              "    (transformer_blocks): ModuleList(\n",
              "      (0-2): 3 x TransformerBlock(\n",
              "        (multihead_attention): MultiheadAttention(\n",
              "          (out_proj): NonDynamicallyQuantizableLinear(in_features=64, out_features=64, bias=True)\n",
              "        )\n",
              "        (layer_norm1): LayerNorm((64,), eps=1e-05, elementwise_affine=True)\n",
              "        (feed_forward): Sequential(\n",
              "          (0): Linear(in_features=64, out_features=256, bias=True)\n",
              "          (1): ReLU()\n",
              "          (2): Linear(in_features=256, out_features=64, bias=True)\n",
              "          (3): Dropout(p=0.2, inplace=False)\n",
              "        )\n",
              "        (layer_norm2): LayerNorm((64,), eps=1e-05, elementwise_affine=True)\n",
              "        (dropout): Dropout(p=0.2, inplace=False)\n",
              "      )\n",
              "    )\n",
              "  )\n",
              "  (mlp): MLP(\n",
              "    (dropout): Dropout(p=0.2, inplace=False)\n",
              "    (layers): ModuleList(\n",
              "      (0): Linear(in_features=897, out_features=256, bias=True)\n",
              "      (1): LeakyReLU(negative_slope=0.01)\n",
              "      (2): Dropout(p=0.2, inplace=False)\n",
              "      (3): Linear(in_features=256, out_features=64, bias=True)\n",
              "      (4): LeakyReLU(negative_slope=0.01)\n",
              "      (5): Dropout(p=0.2, inplace=False)\n",
              "    )\n",
              "    (fc): Linear(in_features=64, out_features=1, bias=True)\n",
              "    (sigmoid): Sigmoid()\n",
              "  )\n",
              ")"
            ]
          },
          "execution_count": 59,
          "metadata": {},
          "output_type": "execute_result"
        }
      ],
      "source": [
        "best_model.load_state_dict(torch.load(best_model_path))\n",
        "best_model.eval()\n",
        "best_model.to(config.device)"
      ]
    },
    {
      "cell_type": "code",
      "execution_count": 60,
      "metadata": {},
      "outputs": [
        {
          "name": "stderr",
          "output_type": "stream",
          "text": [
            "100%|█████████▉| 2228/2233 [00:23<00:00, 98.92it/s] "
          ]
        }
      ],
      "source": [
        "best_model.eval()\n",
        "prob_list= []\n",
        "rating_list = []\n",
        "eval_loss_list = []\n",
        "pbar = tqdm(total = len(test_loader),desc = \"\",position=0, leave=True)\n",
        "for inputs in test_loader:\n",
        "    with torch.no_grad():\n",
        "        probs = best_model(inputs)\n",
        "        ratings = inputs['target_rating'].view(-1,1)\n",
        "        \n",
        "        loss = loss_func(probs, ratings)\n",
        "        eval_loss_list.append(loss.item())\n",
        "\n",
        "        probs = probs.cpu().numpy().flatten().tolist()\n",
        "        prob_list.extend(probs)\n",
        "\n",
        "        ratings = ratings.cpu().numpy().flatten().tolist()\n",
        "        rating_list.extend(ratings)\n",
        "\n",
        "        pbar.update(1)"
      ]
    },
    {
      "cell_type": "code",
      "execution_count": 61,
      "metadata": {},
      "outputs": [],
      "source": [
        "prediction = pd.DataFrame()\n",
        "prediction['real']=min_max_scaler.inverse_transform(np.array(rating_list).reshape(-1,1))[:,0]\n",
        "prediction['prediction']=min_max_scaler.inverse_transform(np.array(prob_list).reshape(-1,1))[:,0]"
      ]
    },
    {
      "cell_type": "code",
      "execution_count": 62,
      "metadata": {},
      "outputs": [],
      "source": [
        "MAE = metrics.mean_absolute_error(prediction['real'],prediction['prediction'])\n",
        "RMSE = metrics.mean_squared_error(prediction['real'],prediction['prediction'])"
      ]
    },
    {
      "cell_type": "code",
      "execution_count": 63,
      "metadata": {},
      "outputs": [
        {
          "name": "stdout",
          "output_type": "stream",
          "text": [
            "MAE:0.6485568020287014,RMSE:0.8512730479246834\n"
          ]
        }
      ],
      "source": [
        "print(f\"MAE:{MAE},RMSE:{RMSE}\")"
      ]
    },
    {
      "cell_type": "code",
      "execution_count": 65,
      "metadata": {},
      "outputs": [
        {
          "data": {
            "text/html": [
              "<div>\n",
              "<style scoped>\n",
              "    .dataframe tbody tr th:only-of-type {\n",
              "        vertical-align: middle;\n",
              "    }\n",
              "\n",
              "    .dataframe tbody tr th {\n",
              "        vertical-align: top;\n",
              "    }\n",
              "\n",
              "    .dataframe thead th {\n",
              "        text-align: right;\n",
              "    }\n",
              "</style>\n",
              "<table border=\"1\" class=\"dataframe\">\n",
              "  <thead>\n",
              "    <tr style=\"text-align: right;\">\n",
              "      <th></th>\n",
              "      <th>real</th>\n",
              "      <th>prediction</th>\n",
              "    </tr>\n",
              "  </thead>\n",
              "  <tbody>\n",
              "    <tr>\n",
              "      <th>0</th>\n",
              "      <td>5.0</td>\n",
              "      <td>3.933572</td>\n",
              "    </tr>\n",
              "    <tr>\n",
              "      <th>1</th>\n",
              "      <td>4.0</td>\n",
              "      <td>3.063019</td>\n",
              "    </tr>\n",
              "    <tr>\n",
              "      <th>2</th>\n",
              "      <td>4.0</td>\n",
              "      <td>3.928271</td>\n",
              "    </tr>\n",
              "    <tr>\n",
              "      <th>3</th>\n",
              "      <td>3.0</td>\n",
              "      <td>3.014157</td>\n",
              "    </tr>\n",
              "    <tr>\n",
              "      <th>4</th>\n",
              "      <td>2.0</td>\n",
              "      <td>2.985654</td>\n",
              "    </tr>\n",
              "    <tr>\n",
              "      <th>5</th>\n",
              "      <td>4.0</td>\n",
              "      <td>4.021828</td>\n",
              "    </tr>\n",
              "    <tr>\n",
              "      <th>6</th>\n",
              "      <td>5.0</td>\n",
              "      <td>3.836256</td>\n",
              "    </tr>\n",
              "    <tr>\n",
              "      <th>7</th>\n",
              "      <td>3.0</td>\n",
              "      <td>4.007558</td>\n",
              "    </tr>\n",
              "    <tr>\n",
              "      <th>8</th>\n",
              "      <td>3.0</td>\n",
              "      <td>3.636187</td>\n",
              "    </tr>\n",
              "    <tr>\n",
              "      <th>9</th>\n",
              "      <td>4.0</td>\n",
              "      <td>3.875335</td>\n",
              "    </tr>\n",
              "    <tr>\n",
              "      <th>10</th>\n",
              "      <td>3.0</td>\n",
              "      <td>4.027362</td>\n",
              "    </tr>\n",
              "    <tr>\n",
              "      <th>11</th>\n",
              "      <td>4.0</td>\n",
              "      <td>4.090270</td>\n",
              "    </tr>\n",
              "    <tr>\n",
              "      <th>12</th>\n",
              "      <td>5.0</td>\n",
              "      <td>3.842500</td>\n",
              "    </tr>\n",
              "    <tr>\n",
              "      <th>13</th>\n",
              "      <td>3.0</td>\n",
              "      <td>4.017671</td>\n",
              "    </tr>\n",
              "    <tr>\n",
              "      <th>14</th>\n",
              "      <td>4.0</td>\n",
              "      <td>4.039886</td>\n",
              "    </tr>\n",
              "    <tr>\n",
              "      <th>15</th>\n",
              "      <td>4.0</td>\n",
              "      <td>3.499526</td>\n",
              "    </tr>\n",
              "    <tr>\n",
              "      <th>16</th>\n",
              "      <td>3.0</td>\n",
              "      <td>2.998056</td>\n",
              "    </tr>\n",
              "    <tr>\n",
              "      <th>17</th>\n",
              "      <td>5.0</td>\n",
              "      <td>3.625434</td>\n",
              "    </tr>\n",
              "    <tr>\n",
              "      <th>18</th>\n",
              "      <td>5.0</td>\n",
              "      <td>5.000000</td>\n",
              "    </tr>\n",
              "    <tr>\n",
              "      <th>19</th>\n",
              "      <td>5.0</td>\n",
              "      <td>4.053741</td>\n",
              "    </tr>\n",
              "    <tr>\n",
              "      <th>20</th>\n",
              "      <td>4.0</td>\n",
              "      <td>4.056758</td>\n",
              "    </tr>\n",
              "    <tr>\n",
              "      <th>21</th>\n",
              "      <td>3.0</td>\n",
              "      <td>3.013017</td>\n",
              "    </tr>\n",
              "    <tr>\n",
              "      <th>22</th>\n",
              "      <td>5.0</td>\n",
              "      <td>3.425120</td>\n",
              "    </tr>\n",
              "    <tr>\n",
              "      <th>23</th>\n",
              "      <td>3.0</td>\n",
              "      <td>3.957071</td>\n",
              "    </tr>\n",
              "    <tr>\n",
              "      <th>24</th>\n",
              "      <td>2.0</td>\n",
              "      <td>2.879779</td>\n",
              "    </tr>\n",
              "    <tr>\n",
              "      <th>25</th>\n",
              "      <td>4.0</td>\n",
              "      <td>3.005870</td>\n",
              "    </tr>\n",
              "    <tr>\n",
              "      <th>26</th>\n",
              "      <td>3.0</td>\n",
              "      <td>3.005745</td>\n",
              "    </tr>\n",
              "    <tr>\n",
              "      <th>27</th>\n",
              "      <td>2.0</td>\n",
              "      <td>3.008531</td>\n",
              "    </tr>\n",
              "    <tr>\n",
              "      <th>28</th>\n",
              "      <td>4.0</td>\n",
              "      <td>4.059550</td>\n",
              "    </tr>\n",
              "    <tr>\n",
              "      <th>29</th>\n",
              "      <td>4.0</td>\n",
              "      <td>3.969251</td>\n",
              "    </tr>\n",
              "    <tr>\n",
              "      <th>30</th>\n",
              "      <td>5.0</td>\n",
              "      <td>3.872601</td>\n",
              "    </tr>\n",
              "    <tr>\n",
              "      <th>31</th>\n",
              "      <td>5.0</td>\n",
              "      <td>3.988781</td>\n",
              "    </tr>\n",
              "    <tr>\n",
              "      <th>32</th>\n",
              "      <td>3.0</td>\n",
              "      <td>2.993692</td>\n",
              "    </tr>\n",
              "    <tr>\n",
              "      <th>33</th>\n",
              "      <td>4.0</td>\n",
              "      <td>3.618000</td>\n",
              "    </tr>\n",
              "    <tr>\n",
              "      <th>34</th>\n",
              "      <td>4.0</td>\n",
              "      <td>3.970980</td>\n",
              "    </tr>\n",
              "    <tr>\n",
              "      <th>35</th>\n",
              "      <td>3.0</td>\n",
              "      <td>3.011081</td>\n",
              "    </tr>\n",
              "    <tr>\n",
              "      <th>36</th>\n",
              "      <td>4.0</td>\n",
              "      <td>4.098835</td>\n",
              "    </tr>\n",
              "    <tr>\n",
              "      <th>37</th>\n",
              "      <td>3.0</td>\n",
              "      <td>3.931478</td>\n",
              "    </tr>\n",
              "    <tr>\n",
              "      <th>38</th>\n",
              "      <td>3.0</td>\n",
              "      <td>4.067687</td>\n",
              "    </tr>\n",
              "    <tr>\n",
              "      <th>39</th>\n",
              "      <td>5.0</td>\n",
              "      <td>4.999998</td>\n",
              "    </tr>\n",
              "    <tr>\n",
              "      <th>40</th>\n",
              "      <td>5.0</td>\n",
              "      <td>4.999996</td>\n",
              "    </tr>\n",
              "    <tr>\n",
              "      <th>41</th>\n",
              "      <td>4.0</td>\n",
              "      <td>3.063730</td>\n",
              "    </tr>\n",
              "    <tr>\n",
              "      <th>42</th>\n",
              "      <td>3.0</td>\n",
              "      <td>3.001854</td>\n",
              "    </tr>\n",
              "    <tr>\n",
              "      <th>43</th>\n",
              "      <td>3.0</td>\n",
              "      <td>3.004571</td>\n",
              "    </tr>\n",
              "    <tr>\n",
              "      <th>44</th>\n",
              "      <td>4.0</td>\n",
              "      <td>4.054745</td>\n",
              "    </tr>\n",
              "    <tr>\n",
              "      <th>45</th>\n",
              "      <td>5.0</td>\n",
              "      <td>5.000000</td>\n",
              "    </tr>\n",
              "    <tr>\n",
              "      <th>46</th>\n",
              "      <td>2.0</td>\n",
              "      <td>3.004246</td>\n",
              "    </tr>\n",
              "    <tr>\n",
              "      <th>47</th>\n",
              "      <td>4.0</td>\n",
              "      <td>4.999998</td>\n",
              "    </tr>\n",
              "    <tr>\n",
              "      <th>48</th>\n",
              "      <td>4.0</td>\n",
              "      <td>3.965503</td>\n",
              "    </tr>\n",
              "    <tr>\n",
              "      <th>49</th>\n",
              "      <td>5.0</td>\n",
              "      <td>5.000000</td>\n",
              "    </tr>\n",
              "  </tbody>\n",
              "</table>\n",
              "</div>"
            ],
            "text/plain": [
              "    real  prediction\n",
              "0    5.0    3.933572\n",
              "1    4.0    3.063019\n",
              "2    4.0    3.928271\n",
              "3    3.0    3.014157\n",
              "4    2.0    2.985654\n",
              "5    4.0    4.021828\n",
              "6    5.0    3.836256\n",
              "7    3.0    4.007558\n",
              "8    3.0    3.636187\n",
              "9    4.0    3.875335\n",
              "10   3.0    4.027362\n",
              "11   4.0    4.090270\n",
              "12   5.0    3.842500\n",
              "13   3.0    4.017671\n",
              "14   4.0    4.039886\n",
              "15   4.0    3.499526\n",
              "16   3.0    2.998056\n",
              "17   5.0    3.625434\n",
              "18   5.0    5.000000\n",
              "19   5.0    4.053741\n",
              "20   4.0    4.056758\n",
              "21   3.0    3.013017\n",
              "22   5.0    3.425120\n",
              "23   3.0    3.957071\n",
              "24   2.0    2.879779\n",
              "25   4.0    3.005870\n",
              "26   3.0    3.005745\n",
              "27   2.0    3.008531\n",
              "28   4.0    4.059550\n",
              "29   4.0    3.969251\n",
              "30   5.0    3.872601\n",
              "31   5.0    3.988781\n",
              "32   3.0    2.993692\n",
              "33   4.0    3.618000\n",
              "34   4.0    3.970980\n",
              "35   3.0    3.011081\n",
              "36   4.0    4.098835\n",
              "37   3.0    3.931478\n",
              "38   3.0    4.067687\n",
              "39   5.0    4.999998\n",
              "40   5.0    4.999996\n",
              "41   4.0    3.063730\n",
              "42   3.0    3.001854\n",
              "43   3.0    3.004571\n",
              "44   4.0    4.054745\n",
              "45   5.0    5.000000\n",
              "46   2.0    3.004246\n",
              "47   4.0    4.999998\n",
              "48   4.0    3.965503\n",
              "49   5.0    5.000000"
            ]
          },
          "execution_count": 65,
          "metadata": {},
          "output_type": "execute_result"
        }
      ],
      "source": [
        "prediction.iloc[:50]"
      ]
    },
    {
      "cell_type": "code",
      "execution_count": null,
      "metadata": {},
      "outputs": [],
      "source": []
    }
  ],
  "metadata": {
    "accelerator": "GPU",
    "colab": {
      "gpuType": "T4",
      "provenance": [],
      "toc_visible": true
    },
    "kernelspec": {
      "display_name": "Python 3",
      "name": "python3"
    },
    "language_info": {
      "codemirror_mode": {
        "name": "ipython",
        "version": 3
      },
      "file_extension": ".py",
      "mimetype": "text/x-python",
      "name": "python",
      "nbconvert_exporter": "python",
      "pygments_lexer": "ipython3",
      "version": "3.11.3"
    }
  },
  "nbformat": 4,
  "nbformat_minor": 0
}
