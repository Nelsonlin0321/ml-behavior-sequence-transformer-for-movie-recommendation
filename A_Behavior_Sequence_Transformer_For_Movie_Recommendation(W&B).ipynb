{
  "cells": [
    {
      "attachments": {},
      "cell_type": "markdown",
      "metadata": {
        "id": "aUG4oG3JSGCn"
      },
      "source": [
        "# A Behavior Sequence Transformer For Movie Recommendation\n",
        "\n",
        "**Author:** [Nelson Lin](https://www.linkedin.com/in/nelson-lin-842564164/)<br>\n",
        "**Date created:** 2024/07/09<br>\n",
        "**Last modified:** 2024/07/09<br>\n",
        "**Description:** Rating rate prediction using the Behavior Sequence Transformer (BST) model on the Movielens 1M."
      ]
    },
    {
      "attachments": {},
      "cell_type": "markdown",
      "metadata": {
        "id": "10UcMwj-Sjqv"
      },
      "source": [
        "## (1) Notebook Settings"
      ]
    },
    {
      "cell_type": "code",
      "execution_count": 110,
      "metadata": {
        "id": "RxoBk0OkSvPn"
      },
      "outputs": [],
      "source": [
        "import pandas as pd\n",
        "import os\n",
        "import numpy as np\n",
        "import torch\n",
        "from torch import nn\n",
        "from zipfile import ZipFile\n",
        "from urllib.request import urlretrieve\n",
        "from torch.utils.data import Dataset\n",
        "from torch.utils.data import DataLoader\n",
        "from sklearn.preprocessing import MinMaxScaler\n",
        "import matplotlib.pyplot as plt\n",
        "from tqdm import tqdm\n",
        "import random\n",
        "import json\n",
        "import wandb\n",
        "from sklearn import metrics\n",
        "from uuid import uuid4"
      ]
    },
    {
      "cell_type": "code",
      "execution_count": 111,
      "metadata": {},
      "outputs": [],
      "source": [
        "# Set random seed for reproducibility\n",
        "torch.manual_seed(0)\n",
        "np.random.seed(0)\n",
        "random.seed(0)\n",
        "if torch.cuda.is_available():\n",
        "    torch.backends.cudnn.deterministic = True\n",
        "    torch.backends.cudnn.benchmark = False\n"
      ]
    },
    {
      "attachments": {},
      "cell_type": "markdown",
      "metadata": {
        "id": "Z_RHfTP4S3IZ"
      },
      "source": [
        "## (2) Data preparation"
      ]
    },
    {
      "attachments": {},
      "cell_type": "markdown",
      "metadata": {
        "id": "Tm747EdZU1bZ"
      },
      "source": [
        "### Load Data"
      ]
    },
    {
      "cell_type": "code",
      "execution_count": 112,
      "metadata": {
        "id": "KrasdLSrSG1x"
      },
      "outputs": [],
      "source": [
        "# urlretrieve(\"http://files.grouplens.org/datasets/movielens/ml-1m.zip\", \"movielens.zip\")\n",
        "# ZipFile(\"movielens.zip\", \"r\").extractall()"
      ]
    },
    {
      "cell_type": "code",
      "execution_count": 113,
      "metadata": {
        "id": "c8YFIdZeSxaH"
      },
      "outputs": [],
      "source": [
        "users = pd.read_csv(\n",
        "    \"ml-1m/users.dat\",\n",
        "    sep=\"::\",\n",
        "    names=[\"user_id\", \"sex\", \"age_group\", \"occupation\", \"zip_code\"],\n",
        "    engine='python'\n",
        ")\n",
        "\n",
        "ratings = pd.read_csv(\n",
        "    \"ml-1m/ratings.dat\",\n",
        "    sep=\"::\",\n",
        "    names=[\"user_id\", \"movie_id\", \"rating\", \"unix_timestamp\"],\n",
        "    engine='python'\n",
        ")\n",
        "\n",
        "movies = pd.read_csv(\n",
        "    \"ml-1m/movies.dat\", sep=\"::\", names=[\"movie_id\", \"title\", \"genres\"],\n",
        "    engine='python',encoding='ISO-8859-1'\n",
        ")"
      ]
    },
    {
      "attachments": {},
      "cell_type": "markdown",
      "metadata": {
        "id": "MMRanAvKU9t1"
      },
      "source": [
        "### Remap ID to index"
      ]
    },
    {
      "cell_type": "code",
      "execution_count": 114,
      "metadata": {
        "id": "AxDgQLlHS17f"
      },
      "outputs": [],
      "source": [
        "# remap the id to index\n",
        "def generate_remap_id_dict(df,col):\n",
        "    ids = df[df[col].notnull()][col].unique().tolist()\n",
        "    ids = sorted(ids)\n",
        "    id_map_dict = {x: i+1 for i, x in enumerate(ids)}\n",
        "    id_map_dict[\"UNK\"]=0\n",
        "\n",
        "    df[f\"{col}_index\"] = df[col].fillna(\"UNK\").map(id_map_dict)\n",
        "\n",
        "    return id_map_dict"
      ]
    },
    {
      "cell_type": "code",
      "execution_count": 115,
      "metadata": {
        "id": "9sCplGKlTHHt"
      },
      "outputs": [],
      "source": [
        "user_id_map_dict = generate_remap_id_dict(users,col='user_id')"
      ]
    },
    {
      "cell_type": "code",
      "execution_count": 116,
      "metadata": {
        "colab": {
          "base_uri": "https://localhost:8080/",
          "height": 206
        },
        "id": "jl_-Q_yYUA-6",
        "outputId": "a37170ca-c76f-4d1c-e1e8-1cdcd42e5c0a"
      },
      "outputs": [
        {
          "data": {
            "text/html": [
              "<div>\n",
              "<style scoped>\n",
              "    .dataframe tbody tr th:only-of-type {\n",
              "        vertical-align: middle;\n",
              "    }\n",
              "\n",
              "    .dataframe tbody tr th {\n",
              "        vertical-align: top;\n",
              "    }\n",
              "\n",
              "    .dataframe thead th {\n",
              "        text-align: right;\n",
              "    }\n",
              "</style>\n",
              "<table border=\"1\" class=\"dataframe\">\n",
              "  <thead>\n",
              "    <tr style=\"text-align: right;\">\n",
              "      <th></th>\n",
              "      <th>user_id</th>\n",
              "      <th>sex</th>\n",
              "      <th>age_group</th>\n",
              "      <th>occupation</th>\n",
              "      <th>zip_code</th>\n",
              "      <th>user_id_index</th>\n",
              "    </tr>\n",
              "  </thead>\n",
              "  <tbody>\n",
              "    <tr>\n",
              "      <th>0</th>\n",
              "      <td>1</td>\n",
              "      <td>F</td>\n",
              "      <td>1</td>\n",
              "      <td>10</td>\n",
              "      <td>48067</td>\n",
              "      <td>1</td>\n",
              "    </tr>\n",
              "    <tr>\n",
              "      <th>1</th>\n",
              "      <td>2</td>\n",
              "      <td>M</td>\n",
              "      <td>56</td>\n",
              "      <td>16</td>\n",
              "      <td>70072</td>\n",
              "      <td>2</td>\n",
              "    </tr>\n",
              "    <tr>\n",
              "      <th>2</th>\n",
              "      <td>3</td>\n",
              "      <td>M</td>\n",
              "      <td>25</td>\n",
              "      <td>15</td>\n",
              "      <td>55117</td>\n",
              "      <td>3</td>\n",
              "    </tr>\n",
              "    <tr>\n",
              "      <th>3</th>\n",
              "      <td>4</td>\n",
              "      <td>M</td>\n",
              "      <td>45</td>\n",
              "      <td>7</td>\n",
              "      <td>02460</td>\n",
              "      <td>4</td>\n",
              "    </tr>\n",
              "    <tr>\n",
              "      <th>4</th>\n",
              "      <td>5</td>\n",
              "      <td>M</td>\n",
              "      <td>25</td>\n",
              "      <td>20</td>\n",
              "      <td>55455</td>\n",
              "      <td>5</td>\n",
              "    </tr>\n",
              "  </tbody>\n",
              "</table>\n",
              "</div>"
            ],
            "text/plain": [
              "   user_id sex  age_group  occupation zip_code  user_id_index\n",
              "0        1   F          1          10    48067              1\n",
              "1        2   M         56          16    70072              2\n",
              "2        3   M         25          15    55117              3\n",
              "3        4   M         45           7    02460              4\n",
              "4        5   M         25          20    55455              5"
            ]
          },
          "execution_count": 116,
          "metadata": {},
          "output_type": "execute_result"
        }
      ],
      "source": [
        "users.head()"
      ]
    },
    {
      "cell_type": "code",
      "execution_count": 117,
      "metadata": {
        "id": "hsCN2BJ0UAQC"
      },
      "outputs": [],
      "source": [
        "# remap sex to score\n",
        "sex_id_map_dict = {'M':0.0,'F':1.0,'UNK':0.5}\n",
        "users['sex']=users['sex'].map(sex_id_map_dict)"
      ]
    },
    {
      "cell_type": "code",
      "execution_count": 118,
      "metadata": {
        "id": "ssHECS9iTZ3A"
      },
      "outputs": [],
      "source": [
        "occupation_id_map_dict = generate_remap_id_dict(users,col='occupation')"
      ]
    },
    {
      "cell_type": "code",
      "execution_count": 119,
      "metadata": {
        "id": "dGTwjedfTfN1"
      },
      "outputs": [],
      "source": [
        "age_group_id_map_dict = generate_remap_id_dict(users,col='age_group')"
      ]
    },
    {
      "cell_type": "code",
      "execution_count": 120,
      "metadata": {
        "id": "NRtH_iAeTgn0"
      },
      "outputs": [],
      "source": [
        "min_max_scaler = MinMaxScaler()\n",
        "ratings[\"norm_rating\"] = min_max_scaler.fit_transform(\n",
        "    ratings[\"rating\"].values.reshape(-1, 1))[:, 0]"
      ]
    },
    {
      "cell_type": "code",
      "execution_count": 121,
      "metadata": {
        "id": "gqur_n48Trck"
      },
      "outputs": [],
      "source": [
        "movie_id_map_dict = generate_remap_id_dict(movies,col='movie_id')"
      ]
    },
    {
      "cell_type": "code",
      "execution_count": 122,
      "metadata": {
        "id": "DSu3fNkyTv6D"
      },
      "outputs": [],
      "source": [
        "genres_set = set()\n",
        "def get_genres_set(genres):\n",
        "    global genres_set\n",
        "    genres_split = genres.split(\"|\")\n",
        "    genres_set.update(genres_split)\n",
        "    return genres_split\n",
        "movies['genres'] = movies['genres'].apply(lambda x:get_genres_set(x))\n",
        "genres_map_dict ={x: i+1 for i, x in enumerate(sorted(genres_set))}\n",
        "genres_map_dict['UNK']=0"
      ]
    },
    {
      "cell_type": "code",
      "execution_count": 123,
      "metadata": {
        "id": "hD5T2WuYUUuB"
      },
      "outputs": [],
      "source": [
        "movies['genres_ids']= movies['genres'].apply(lambda x: [genres_map_dict[g] for g in x])"
      ]
    },
    {
      "cell_type": "code",
      "execution_count": 124,
      "metadata": {
        "id": "qbMexz0nUPyz"
      },
      "outputs": [],
      "source": [
        "ratings['movie_id_index'] = ratings['movie_id'].map(movie_id_map_dict)\n",
        "ratings['user_id_index'] = ratings['user_id'].map(user_id_map_dict)"
      ]
    },
    {
      "cell_type": "code",
      "execution_count": 125,
      "metadata": {
        "id": "0NW-x8FdTy40"
      },
      "outputs": [],
      "source": [
        "df_user_views = ratings[[\"movie_id_index\", \"user_id_index\", \"unix_timestamp\", \"norm_rating\"]] \\\n",
        "    .merge(movies[['movie_id_index', 'genres_ids']],\n",
        "           on=['movie_id_index'])"
      ]
    },
    {
      "cell_type": "code",
      "execution_count": 126,
      "metadata": {
        "colab": {
          "base_uri": "https://localhost:8080/",
          "height": 206
        },
        "id": "QM1VX4lVUMMa",
        "outputId": "aca32242-4f66-4be8-bdab-669ab38d1a26"
      },
      "outputs": [
        {
          "data": {
            "text/html": [
              "<div>\n",
              "<style scoped>\n",
              "    .dataframe tbody tr th:only-of-type {\n",
              "        vertical-align: middle;\n",
              "    }\n",
              "\n",
              "    .dataframe tbody tr th {\n",
              "        vertical-align: top;\n",
              "    }\n",
              "\n",
              "    .dataframe thead th {\n",
              "        text-align: right;\n",
              "    }\n",
              "</style>\n",
              "<table border=\"1\" class=\"dataframe\">\n",
              "  <thead>\n",
              "    <tr style=\"text-align: right;\">\n",
              "      <th></th>\n",
              "      <th>movie_id_index</th>\n",
              "      <th>user_id_index</th>\n",
              "      <th>unix_timestamp</th>\n",
              "      <th>norm_rating</th>\n",
              "      <th>genres_ids</th>\n",
              "    </tr>\n",
              "  </thead>\n",
              "  <tbody>\n",
              "    <tr>\n",
              "      <th>0</th>\n",
              "      <td>1177</td>\n",
              "      <td>1</td>\n",
              "      <td>978300760</td>\n",
              "      <td>1.00</td>\n",
              "      <td>[8]</td>\n",
              "    </tr>\n",
              "    <tr>\n",
              "      <th>1</th>\n",
              "      <td>1177</td>\n",
              "      <td>2</td>\n",
              "      <td>978298413</td>\n",
              "      <td>1.00</td>\n",
              "      <td>[8]</td>\n",
              "    </tr>\n",
              "    <tr>\n",
              "      <th>2</th>\n",
              "      <td>1177</td>\n",
              "      <td>12</td>\n",
              "      <td>978220179</td>\n",
              "      <td>0.75</td>\n",
              "      <td>[8]</td>\n",
              "    </tr>\n",
              "    <tr>\n",
              "      <th>3</th>\n",
              "      <td>1177</td>\n",
              "      <td>15</td>\n",
              "      <td>978199279</td>\n",
              "      <td>0.75</td>\n",
              "      <td>[8]</td>\n",
              "    </tr>\n",
              "    <tr>\n",
              "      <th>4</th>\n",
              "      <td>1177</td>\n",
              "      <td>17</td>\n",
              "      <td>978158471</td>\n",
              "      <td>1.00</td>\n",
              "      <td>[8]</td>\n",
              "    </tr>\n",
              "  </tbody>\n",
              "</table>\n",
              "</div>"
            ],
            "text/plain": [
              "   movie_id_index  user_id_index  unix_timestamp  norm_rating genres_ids\n",
              "0            1177              1       978300760         1.00        [8]\n",
              "1            1177              2       978298413         1.00        [8]\n",
              "2            1177             12       978220179         0.75        [8]\n",
              "3            1177             15       978199279         0.75        [8]\n",
              "4            1177             17       978158471         1.00        [8]"
            ]
          },
          "execution_count": 126,
          "metadata": {},
          "output_type": "execute_result"
        }
      ],
      "source": [
        "df_user_views.head()"
      ]
    },
    {
      "cell_type": "code",
      "execution_count": 127,
      "metadata": {},
      "outputs": [
        {
          "data": {
            "image/png": "[encoded data removed]",
            "text/plain": [
              "<Figure size 640x480 with 1 Axes>"
            ]
          },
          "metadata": {},
          "output_type": "display_data"
        }
      ],
      "source": [
        "genres_length = [len(genres)for genres in df_user_views['genres_ids']]\n",
        "_ = plt.hist(genres_length)"
      ]
    },
    {
      "cell_type": "code",
      "execution_count": 128,
      "metadata": {},
      "outputs": [],
      "source": [
        "max_genres_length = 4"
      ]
    },
    {
      "attachments": {},
      "cell_type": "markdown",
      "metadata": {
        "id": "o2uoGM6uUsKF"
      },
      "source": [
        "### Prepare the Sequence"
      ]
    },
    {
      "cell_type": "code",
      "execution_count": 129,
      "metadata": {},
      "outputs": [],
      "source": [
        "df_user_views['genres_ids'] = df_user_views['genres_ids'].apply(\n",
        "    lambda x: (x+[genres_map_dict['UNK']]*max_genres_length)[:max_genres_length]\n",
        "    )"
      ]
    },
    {
      "cell_type": "code",
      "execution_count": 130,
      "metadata": {
        "id": "DvQBp4moVNEf"
      },
      "outputs": [],
      "source": [
        "df_agg_ratings = df_user_views.sort_values(by=[\"unix_timestamp\"]).groupby(\"user_id_index\")"
      ]
    },
    {
      "cell_type": "code",
      "execution_count": 131,
      "metadata": {
        "id": "44_d1f5pVSqX"
      },
      "outputs": [],
      "source": [
        "ratings_data = pd.DataFrame(\n",
        "    data={\n",
        "        \"user_id_index\": list(df_agg_ratings.groups.keys()),\n",
        "        \"movie_sequence\": list(df_agg_ratings.movie_id_index.apply(list)),\n",
        "        \"genres_ids_sequence\": list(df_agg_ratings.genres_ids.apply(list)),\n",
        "        \"rating_sequence\": list(df_agg_ratings.norm_rating.apply(list)),\n",
        "        \"timestamps\": list(df_agg_ratings.unix_timestamp.apply(list)),\n",
        "    }\n",
        ")"
      ]
    },
    {
      "cell_type": "code",
      "execution_count": 132,
      "metadata": {},
      "outputs": [
        {
          "data": {
            "text/html": [
              "<div>\n",
              "<style scoped>\n",
              "    .dataframe tbody tr th:only-of-type {\n",
              "        vertical-align: middle;\n",
              "    }\n",
              "\n",
              "    .dataframe tbody tr th {\n",
              "        vertical-align: top;\n",
              "    }\n",
              "\n",
              "    .dataframe thead th {\n",
              "        text-align: right;\n",
              "    }\n",
              "</style>\n",
              "<table border=\"1\" class=\"dataframe\">\n",
              "  <thead>\n",
              "    <tr style=\"text-align: right;\">\n",
              "      <th></th>\n",
              "      <th>user_id_index</th>\n",
              "      <th>movie_sequence</th>\n",
              "      <th>genres_ids_sequence</th>\n",
              "      <th>rating_sequence</th>\n",
              "      <th>timestamps</th>\n",
              "    </tr>\n",
              "  </thead>\n",
              "  <tbody>\n",
              "    <tr>\n",
              "      <th>0</th>\n",
              "      <td>1</td>\n",
              "      <td>[3118, 1010, 1673, 1251, 2272, 1769, 3340, 119...</td>\n",
              "      <td>[[8, 0, 0, 0], [3, 4, 12, 0], [8, 14, 0, 0], [...</td>\n",
              "      <td>[0.75, 1.0, 0.75, 1.0, 0.5, 1.0, 0.75, 0.75, 1...</td>\n",
              "      <td>[978300019, 978300055, 978300055, 978300055, 9...</td>\n",
              "    </tr>\n",
              "    <tr>\n",
              "      <th>1</th>\n",
              "      <td>2</td>\n",
              "      <td>[1181, 1200, 1193, 2649, 1274, 2875, 1208, 117...</td>\n",
              "      <td>[[1, 2, 0, 0], [8, 17, 0, 0], [1, 2, 14, 15], ...</td>\n",
              "      <td>[0.75, 0.5, 0.75, 0.5, 1.0, 0.75, 1.0, 1.0, 1....</td>\n",
              "      <td>[978298124, 978298151, 978298151, 978298196, 9...</td>\n",
              "    </tr>\n",
              "    <tr>\n",
              "      <th>2</th>\n",
              "      <td>3</td>\n",
              "      <td>[590, 2790, 3466, 1900, 1893, 1408, 1247, 3603...</td>\n",
              "      <td>[[8, 16, 0, 0], [5, 8, 0, 0], [5, 0, 0, 0], [5...</td>\n",
              "      <td>[0.5, 0.75, 0.5, 0.75, 0.75, 0.5, 1.0, 1.0, 1....</td>\n",
              "      <td>[978297018, 978297039, 978297068, 978297068, 9...</td>\n",
              "    </tr>\n",
              "    <tr>\n",
              "      <th>3</th>\n",
              "      <td>4</td>\n",
              "      <td>[1193, 1082, 477, 3459, 3400, 1179, 258, 1181,...</td>\n",
              "      <td>[[1, 2, 14, 15], [4, 8, 9, 15], [1, 2, 15, 0],...</td>\n",
              "      <td>[0.5, 0.75, 0.75, 0.0, 1.0, 0.25, 1.0, 1.0, 1....</td>\n",
              "      <td>[978293924, 978293964, 978294008, 978294008, 9...</td>\n",
              "    </tr>\n",
              "    <tr>\n",
              "      <th>4</th>\n",
              "      <td>5</td>\n",
              "      <td>[897, 2649, 908, 353, 1231, 1112, 2790, 2120, ...</td>\n",
              "      <td>[[8, 16, 0, 0], [5, 11, 0, 0], [2, 4, 8, 12], ...</td>\n",
              "      <td>[0.75, 0.0, 0.75, 0.0, 1.0, 0.0, 0.75, 0.0, 0....</td>\n",
              "      <td>[978241072, 978241072, 978241072, 978241112, 9...</td>\n",
              "    </tr>\n",
              "  </tbody>\n",
              "</table>\n",
              "</div>"
            ],
            "text/plain": [
              "   user_id_index                                     movie_sequence  \\\n",
              "0              1  [3118, 1010, 1673, 1251, 2272, 1769, 3340, 119...   \n",
              "1              2  [1181, 1200, 1193, 2649, 1274, 2875, 1208, 117...   \n",
              "2              3  [590, 2790, 3466, 1900, 1893, 1408, 1247, 3603...   \n",
              "3              4  [1193, 1082, 477, 3459, 3400, 1179, 258, 1181,...   \n",
              "4              5  [897, 2649, 908, 353, 1231, 1112, 2790, 2120, ...   \n",
              "\n",
              "                                 genres_ids_sequence  \\\n",
              "0  [[8, 0, 0, 0], [3, 4, 12, 0], [8, 14, 0, 0], [...   \n",
              "1  [[1, 2, 0, 0], [8, 17, 0, 0], [1, 2, 14, 15], ...   \n",
              "2  [[8, 16, 0, 0], [5, 8, 0, 0], [5, 0, 0, 0], [5...   \n",
              "3  [[1, 2, 14, 15], [4, 8, 9, 15], [1, 2, 15, 0],...   \n",
              "4  [[8, 16, 0, 0], [5, 11, 0, 0], [2, 4, 8, 12], ...   \n",
              "\n",
              "                                     rating_sequence  \\\n",
              "0  [0.75, 1.0, 0.75, 1.0, 0.5, 1.0, 0.75, 0.75, 1...   \n",
              "1  [0.75, 0.5, 0.75, 0.5, 1.0, 0.75, 1.0, 1.0, 1....   \n",
              "2  [0.5, 0.75, 0.5, 0.75, 0.75, 0.5, 1.0, 1.0, 1....   \n",
              "3  [0.5, 0.75, 0.75, 0.0, 1.0, 0.25, 1.0, 1.0, 1....   \n",
              "4  [0.75, 0.0, 0.75, 0.0, 1.0, 0.0, 0.75, 0.0, 0....   \n",
              "\n",
              "                                          timestamps  \n",
              "0  [978300019, 978300055, 978300055, 978300055, 9...  \n",
              "1  [978298124, 978298151, 978298151, 978298196, 9...  \n",
              "2  [978297018, 978297039, 978297068, 978297068, 9...  \n",
              "3  [978293924, 978293964, 978294008, 978294008, 9...  \n",
              "4  [978241072, 978241072, 978241072, 978241112, 9...  "
            ]
          },
          "execution_count": 132,
          "metadata": {},
          "output_type": "execute_result"
        }
      ],
      "source": [
        "ratings_data.head()"
      ]
    },
    {
      "cell_type": "code",
      "execution_count": 133,
      "metadata": {
        "id": "LrruVMSyUxXW"
      },
      "outputs": [],
      "source": [
        "sequence_length = 15\n",
        "step_size = 1\n",
        "\n",
        "\n",
        "def create_sequences(values, window_size, step_size):\n",
        "    sequences = []\n",
        "    start_index = 0\n",
        "    while True:\n",
        "        end_index = start_index + window_size\n",
        "        seq = values[start_index:end_index]\n",
        "        if len(seq) < window_size:\n",
        "            seq = values[-window_size:]\n",
        "            if len(seq) == window_size:\n",
        "                sequences.append(seq)\n",
        "            break\n",
        "        sequences.append(seq)\n",
        "        start_index += step_size\n",
        "    return sequences\n",
        "\n",
        "\n",
        "ratings_data.movie_sequence\t = ratings_data.movie_sequence.apply(\n",
        "    lambda ids: create_sequences(ids, sequence_length, step_size)\n",
        ")\n",
        "\n",
        "ratings_data.rating_sequence = ratings_data.rating_sequence.apply(\n",
        "    lambda ids: create_sequences(ids, sequence_length, step_size)\n",
        ")\n",
        "\n",
        "ratings_data.genres_ids_sequence = ratings_data.genres_ids_sequence.apply(\n",
        "    lambda ids: create_sequences(ids, sequence_length, step_size)\n",
        ")\n",
        "\n",
        "del ratings_data[\"timestamps\"]"
      ]
    },
    {
      "cell_type": "code",
      "execution_count": 134,
      "metadata": {},
      "outputs": [
        {
          "data": {
            "text/html": [
              "<div>\n",
              "<style scoped>\n",
              "    .dataframe tbody tr th:only-of-type {\n",
              "        vertical-align: middle;\n",
              "    }\n",
              "\n",
              "    .dataframe tbody tr th {\n",
              "        vertical-align: top;\n",
              "    }\n",
              "\n",
              "    .dataframe thead th {\n",
              "        text-align: right;\n",
              "    }\n",
              "</style>\n",
              "<table border=\"1\" class=\"dataframe\">\n",
              "  <thead>\n",
              "    <tr style=\"text-align: right;\">\n",
              "      <th></th>\n",
              "      <th>user_id_index</th>\n",
              "      <th>movie_sequence</th>\n",
              "      <th>genres_ids_sequence</th>\n",
              "      <th>rating_sequence</th>\n",
              "    </tr>\n",
              "  </thead>\n",
              "  <tbody>\n",
              "    <tr>\n",
              "      <th>0</th>\n",
              "      <td>1</td>\n",
              "      <td>[[3118, 1010, 1673, 1251, 2272, 1769, 3340, 11...</td>\n",
              "      <td>[[[8, 0, 0, 0], [3, 4, 12, 0], [8, 14, 0, 0], ...</td>\n",
              "      <td>[[0.75, 1.0, 0.75, 1.0, 0.5, 1.0, 0.75, 0.75, ...</td>\n",
              "    </tr>\n",
              "    <tr>\n",
              "      <th>1</th>\n",
              "      <td>2</td>\n",
              "      <td>[[1181, 1200, 1193, 2649, 1274, 2875, 1208, 11...</td>\n",
              "      <td>[[[1, 2, 0, 0], [8, 17, 0, 0], [1, 2, 14, 15],...</td>\n",
              "      <td>[[0.75, 0.5, 0.75, 0.5, 1.0, 0.75, 1.0, 1.0, 1...</td>\n",
              "    </tr>\n",
              "    <tr>\n",
              "      <th>2</th>\n",
              "      <td>3</td>\n",
              "      <td>[[590, 2790, 3466, 1900, 1893, 1408, 1247, 360...</td>\n",
              "      <td>[[[8, 16, 0, 0], [5, 8, 0, 0], [5, 0, 0, 0], [...</td>\n",
              "      <td>[[0.5, 0.75, 0.5, 0.75, 0.75, 0.5, 1.0, 1.0, 1...</td>\n",
              "    </tr>\n",
              "    <tr>\n",
              "      <th>3</th>\n",
              "      <td>4</td>\n",
              "      <td>[[1193, 1082, 477, 3459, 3400, 1179, 258, 1181...</td>\n",
              "      <td>[[[1, 2, 14, 15], [4, 8, 9, 15], [1, 2, 15, 0]...</td>\n",
              "      <td>[[0.5, 0.75, 0.75, 0.0, 1.0, 0.25, 1.0, 1.0, 1...</td>\n",
              "    </tr>\n",
              "    <tr>\n",
              "      <th>4</th>\n",
              "      <td>5</td>\n",
              "      <td>[[897, 2649, 908, 353, 1231, 1112, 2790, 2120,...</td>\n",
              "      <td>[[[8, 16, 0, 0], [5, 11, 0, 0], [2, 4, 8, 12],...</td>\n",
              "      <td>[[0.75, 0.0, 0.75, 0.0, 1.0, 0.0, 0.75, 0.0, 0...</td>\n",
              "    </tr>\n",
              "  </tbody>\n",
              "</table>\n",
              "</div>"
            ],
            "text/plain": [
              "   user_id_index                                     movie_sequence  \\\n",
              "0              1  [[3118, 1010, 1673, 1251, 2272, 1769, 3340, 11...   \n",
              "1              2  [[1181, 1200, 1193, 2649, 1274, 2875, 1208, 11...   \n",
              "2              3  [[590, 2790, 3466, 1900, 1893, 1408, 1247, 360...   \n",
              "3              4  [[1193, 1082, 477, 3459, 3400, 1179, 258, 1181...   \n",
              "4              5  [[897, 2649, 908, 353, 1231, 1112, 2790, 2120,...   \n",
              "\n",
              "                                 genres_ids_sequence  \\\n",
              "0  [[[8, 0, 0, 0], [3, 4, 12, 0], [8, 14, 0, 0], ...   \n",
              "1  [[[1, 2, 0, 0], [8, 17, 0, 0], [1, 2, 14, 15],...   \n",
              "2  [[[8, 16, 0, 0], [5, 8, 0, 0], [5, 0, 0, 0], [...   \n",
              "3  [[[1, 2, 14, 15], [4, 8, 9, 15], [1, 2, 15, 0]...   \n",
              "4  [[[8, 16, 0, 0], [5, 11, 0, 0], [2, 4, 8, 12],...   \n",
              "\n",
              "                                     rating_sequence  \n",
              "0  [[0.75, 1.0, 0.75, 1.0, 0.5, 1.0, 0.75, 0.75, ...  \n",
              "1  [[0.75, 0.5, 0.75, 0.5, 1.0, 0.75, 1.0, 1.0, 1...  \n",
              "2  [[0.5, 0.75, 0.5, 0.75, 0.75, 0.5, 1.0, 1.0, 1...  \n",
              "3  [[0.5, 0.75, 0.75, 0.0, 1.0, 0.25, 1.0, 1.0, 1...  \n",
              "4  [[0.75, 0.0, 0.75, 0.0, 1.0, 0.0, 0.75, 0.0, 0...  "
            ]
          },
          "execution_count": 134,
          "metadata": {},
          "output_type": "execute_result"
        }
      ],
      "source": [
        "ratings_data.head()"
      ]
    },
    {
      "cell_type": "code",
      "execution_count": 135,
      "metadata": {
        "id": "eREuVC30VU03"
      },
      "outputs": [],
      "source": [
        "ratings_data_movies = ratings_data[[\"user_id_index\", \"movie_sequence\"]].explode(\n",
        "    \"movie_sequence\", ignore_index=True\n",
        ")\n",
        "ratings_data_rating = ratings_data[[\"rating_sequence\"]].explode(\"rating_sequence\", ignore_index=True)\n",
        "\n",
        "ratings_data_genres = ratings_data[[\"genres_ids_sequence\"]].explode(\"genres_ids_sequence\", ignore_index=True)\n",
        "\n",
        "ratings_data_transformed = pd.concat([ratings_data_movies, ratings_data_rating,ratings_data_genres], axis=1)"
      ]
    },
    {
      "cell_type": "code",
      "execution_count": 136,
      "metadata": {
        "colab": {
          "base_uri": "https://localhost:8080/",
          "height": 206
        },
        "id": "K-yTVNctVWbn",
        "outputId": "d51b685b-cc56-4caf-f201-729232ee2c2f"
      },
      "outputs": [
        {
          "data": {
            "text/html": [
              "<div>\n",
              "<style scoped>\n",
              "    .dataframe tbody tr th:only-of-type {\n",
              "        vertical-align: middle;\n",
              "    }\n",
              "\n",
              "    .dataframe tbody tr th {\n",
              "        vertical-align: top;\n",
              "    }\n",
              "\n",
              "    .dataframe thead th {\n",
              "        text-align: right;\n",
              "    }\n",
              "</style>\n",
              "<table border=\"1\" class=\"dataframe\">\n",
              "  <thead>\n",
              "    <tr style=\"text-align: right;\">\n",
              "      <th></th>\n",
              "      <th>user_id_index</th>\n",
              "      <th>movie_sequence</th>\n",
              "      <th>rating_sequence</th>\n",
              "      <th>genres_ids_sequence</th>\n",
              "    </tr>\n",
              "  </thead>\n",
              "  <tbody>\n",
              "    <tr>\n",
              "      <th>0</th>\n",
              "      <td>1</td>\n",
              "      <td>[3118, 1010, 1673, 1251, 2272, 1769, 3340, 119...</td>\n",
              "      <td>[0.75, 1.0, 0.75, 1.0, 0.5, 1.0, 0.75, 0.75, 1...</td>\n",
              "      <td>[[8, 0, 0, 0], [3, 4, 12, 0], [8, 14, 0, 0], [...</td>\n",
              "    </tr>\n",
              "    <tr>\n",
              "      <th>1</th>\n",
              "      <td>1</td>\n",
              "      <td>[1010, 1673, 1251, 2272, 1769, 3340, 1190, 273...</td>\n",
              "      <td>[1.0, 0.75, 1.0, 0.5, 1.0, 0.75, 0.75, 1.0, 0....</td>\n",
              "      <td>[[3, 4, 12, 0], [8, 14, 0, 0], [5, 15, 0, 0], ...</td>\n",
              "    </tr>\n",
              "    <tr>\n",
              "      <th>2</th>\n",
              "      <td>1</td>\n",
              "      <td>[1673, 1251, 2272, 1769, 3340, 1190, 2736, 258...</td>\n",
              "      <td>[0.75, 1.0, 0.5, 1.0, 0.75, 0.75, 1.0, 0.75, 1...</td>\n",
              "      <td>[[8, 14, 0, 0], [5, 15, 0, 0], [14, 0, 0, 0], ...</td>\n",
              "    </tr>\n",
              "    <tr>\n",
              "      <th>3</th>\n",
              "      <td>1</td>\n",
              "      <td>[1251, 2272, 1769, 3340, 1190, 2736, 258, 1177...</td>\n",
              "      <td>[1.0, 0.5, 1.0, 0.75, 0.75, 1.0, 0.75, 1.0, 0....</td>\n",
              "      <td>[[5, 15, 0, 0], [14, 0, 0, 0], [8, 0, 0, 0], [...</td>\n",
              "    </tr>\n",
              "    <tr>\n",
              "      <th>4</th>\n",
              "      <td>1</td>\n",
              "      <td>[2272, 1769, 3340, 1190, 2736, 258, 1177, 712,...</td>\n",
              "      <td>[0.5, 1.0, 0.75, 0.75, 1.0, 0.75, 1.0, 0.5, 0....</td>\n",
              "      <td>[[14, 0, 0, 0], [8, 0, 0, 0], [8, 0, 0, 0], [8...</td>\n",
              "    </tr>\n",
              "  </tbody>\n",
              "</table>\n",
              "</div>"
            ],
            "text/plain": [
              "   user_id_index                                     movie_sequence  \\\n",
              "0              1  [3118, 1010, 1673, 1251, 2272, 1769, 3340, 119...   \n",
              "1              1  [1010, 1673, 1251, 2272, 1769, 3340, 1190, 273...   \n",
              "2              1  [1673, 1251, 2272, 1769, 3340, 1190, 2736, 258...   \n",
              "3              1  [1251, 2272, 1769, 3340, 1190, 2736, 258, 1177...   \n",
              "4              1  [2272, 1769, 3340, 1190, 2736, 258, 1177, 712,...   \n",
              "\n",
              "                                     rating_sequence  \\\n",
              "0  [0.75, 1.0, 0.75, 1.0, 0.5, 1.0, 0.75, 0.75, 1...   \n",
              "1  [1.0, 0.75, 1.0, 0.5, 1.0, 0.75, 0.75, 1.0, 0....   \n",
              "2  [0.75, 1.0, 0.5, 1.0, 0.75, 0.75, 1.0, 0.75, 1...   \n",
              "3  [1.0, 0.5, 1.0, 0.75, 0.75, 1.0, 0.75, 1.0, 0....   \n",
              "4  [0.5, 1.0, 0.75, 0.75, 1.0, 0.75, 1.0, 0.5, 0....   \n",
              "\n",
              "                                 genres_ids_sequence  \n",
              "0  [[8, 0, 0, 0], [3, 4, 12, 0], [8, 14, 0, 0], [...  \n",
              "1  [[3, 4, 12, 0], [8, 14, 0, 0], [5, 15, 0, 0], ...  \n",
              "2  [[8, 14, 0, 0], [5, 15, 0, 0], [14, 0, 0, 0], ...  \n",
              "3  [[5, 15, 0, 0], [14, 0, 0, 0], [8, 0, 0, 0], [...  \n",
              "4  [[14, 0, 0, 0], [8, 0, 0, 0], [8, 0, 0, 0], [8...  "
            ]
          },
          "execution_count": 136,
          "metadata": {},
          "output_type": "execute_result"
        }
      ],
      "source": [
        "ratings_data_transformed.head()"
      ]
    },
    {
      "cell_type": "code",
      "execution_count": 137,
      "metadata": {
        "id": "roXPTpv8VY-9"
      },
      "outputs": [],
      "source": [
        "user_columns = ['user_id_index',\n",
        "                'sex',\n",
        "                'occupation_index',\n",
        "                'age_group_index']"
      ]
    },
    {
      "cell_type": "code",
      "execution_count": 138,
      "metadata": {
        "id": "kotYicQYVaGe"
      },
      "outputs": [],
      "source": [
        "ratings_data_transformed = ratings_data_transformed.merge(\n",
        "    users[user_columns], on=\"user_id_index\"\n",
        ")"
      ]
    },
    {
      "cell_type": "code",
      "execution_count": 139,
      "metadata": {
        "id": "GUE9Aj-JVbB_"
      },
      "outputs": [],
      "source": [
        "ratings_data_transformed['sex'] = ratings_data_transformed['sex'].astype(float)"
      ]
    },
    {
      "cell_type": "code",
      "execution_count": 140,
      "metadata": {
        "id": "-f6yhP5ZVcPk"
      },
      "outputs": [],
      "source": [
        "ratings_data_transformed['target_movie'] =  ratings_data_transformed['movie_sequence'].apply(lambda x:x[-1])\n",
        "ratings_data_transformed['target_rating'] =  ratings_data_transformed['rating_sequence'].apply(lambda x:x[-1])\n",
        "# mask the last rating\n",
        "mask_score = 1.0\n",
        "ratings_data_transformed['rating_sequence'] =  ratings_data_transformed['rating_sequence'].apply(lambda x:x[:-1]+[mask_score])"
      ]
    },
    {
      "cell_type": "code",
      "execution_count": 141,
      "metadata": {
        "colab": {
          "base_uri": "https://localhost:8080/",
          "height": 206
        },
        "id": "_D1bExqMVkRd",
        "outputId": "c23bbf8a-0b53-47bc-fc80-82cb54374ba1"
      },
      "outputs": [
        {
          "data": {
            "text/html": [
              "<div>\n",
              "<style scoped>\n",
              "    .dataframe tbody tr th:only-of-type {\n",
              "        vertical-align: middle;\n",
              "    }\n",
              "\n",
              "    .dataframe tbody tr th {\n",
              "        vertical-align: top;\n",
              "    }\n",
              "\n",
              "    .dataframe thead th {\n",
              "        text-align: right;\n",
              "    }\n",
              "</style>\n",
              "<table border=\"1\" class=\"dataframe\">\n",
              "  <thead>\n",
              "    <tr style=\"text-align: right;\">\n",
              "      <th></th>\n",
              "      <th>user_id_index</th>\n",
              "      <th>movie_sequence</th>\n",
              "      <th>rating_sequence</th>\n",
              "      <th>genres_ids_sequence</th>\n",
              "      <th>sex</th>\n",
              "      <th>occupation_index</th>\n",
              "      <th>age_group_index</th>\n",
              "      <th>target_movie</th>\n",
              "      <th>target_rating</th>\n",
              "    </tr>\n",
              "  </thead>\n",
              "  <tbody>\n",
              "    <tr>\n",
              "      <th>0</th>\n",
              "      <td>1</td>\n",
              "      <td>[3118, 1010, 1673, 1251, 2272, 1769, 3340, 119...</td>\n",
              "      <td>[0.75, 1.0, 0.75, 1.0, 0.5, 1.0, 0.75, 0.75, 1...</td>\n",
              "      <td>[[8, 0, 0, 0], [3, 4, 12, 0], [8, 14, 0, 0], [...</td>\n",
              "      <td>1.0</td>\n",
              "      <td>11</td>\n",
              "      <td>1</td>\n",
              "      <td>2624</td>\n",
              "      <td>0.75</td>\n",
              "    </tr>\n",
              "    <tr>\n",
              "      <th>1</th>\n",
              "      <td>1</td>\n",
              "      <td>[1010, 1673, 1251, 2272, 1769, 3340, 1190, 273...</td>\n",
              "      <td>[1.0, 0.75, 1.0, 0.5, 1.0, 0.75, 0.75, 1.0, 0....</td>\n",
              "      <td>[[3, 4, 12, 0], [8, 14, 0, 0], [5, 15, 0, 0], ...</td>\n",
              "      <td>1.0</td>\n",
              "      <td>11</td>\n",
              "      <td>1</td>\n",
              "      <td>1893</td>\n",
              "      <td>1.00</td>\n",
              "    </tr>\n",
              "    <tr>\n",
              "      <th>2</th>\n",
              "      <td>1</td>\n",
              "      <td>[1673, 1251, 2272, 1769, 3340, 1190, 2736, 258...</td>\n",
              "      <td>[0.75, 1.0, 0.5, 1.0, 0.75, 0.75, 1.0, 0.75, 1...</td>\n",
              "      <td>[[8, 14, 0, 0], [5, 15, 0, 0], [14, 0, 0, 0], ...</td>\n",
              "      <td>1.0</td>\n",
              "      <td>11</td>\n",
              "      <td>1</td>\n",
              "      <td>1960</td>\n",
              "      <td>1.00</td>\n",
              "    </tr>\n",
              "    <tr>\n",
              "      <th>3</th>\n",
              "      <td>1</td>\n",
              "      <td>[1251, 2272, 1769, 3340, 1190, 2736, 258, 1177...</td>\n",
              "      <td>[1.0, 0.5, 1.0, 0.75, 0.75, 1.0, 0.75, 1.0, 0....</td>\n",
              "      <td>[[5, 15, 0, 0], [14, 0, 0, 0], [8, 0, 0, 0], [...</td>\n",
              "      <td>1.0</td>\n",
              "      <td>11</td>\n",
              "      <td>1</td>\n",
              "      <td>3037</td>\n",
              "      <td>1.00</td>\n",
              "    </tr>\n",
              "    <tr>\n",
              "      <th>4</th>\n",
              "      <td>1</td>\n",
              "      <td>[2272, 1769, 3340, 1190, 2736, 258, 1177, 712,...</td>\n",
              "      <td>[0.5, 1.0, 0.75, 0.75, 1.0, 0.75, 1.0, 0.5, 0....</td>\n",
              "      <td>[[14, 0, 0, 0], [8, 0, 0, 0], [8, 0, 0, 0], [8...</td>\n",
              "      <td>1.0</td>\n",
              "      <td>11</td>\n",
              "      <td>1</td>\n",
              "      <td>927</td>\n",
              "      <td>0.75</td>\n",
              "    </tr>\n",
              "  </tbody>\n",
              "</table>\n",
              "</div>"
            ],
            "text/plain": [
              "   user_id_index                                     movie_sequence  \\\n",
              "0              1  [3118, 1010, 1673, 1251, 2272, 1769, 3340, 119...   \n",
              "1              1  [1010, 1673, 1251, 2272, 1769, 3340, 1190, 273...   \n",
              "2              1  [1673, 1251, 2272, 1769, 3340, 1190, 2736, 258...   \n",
              "3              1  [1251, 2272, 1769, 3340, 1190, 2736, 258, 1177...   \n",
              "4              1  [2272, 1769, 3340, 1190, 2736, 258, 1177, 712,...   \n",
              "\n",
              "                                     rating_sequence  \\\n",
              "0  [0.75, 1.0, 0.75, 1.0, 0.5, 1.0, 0.75, 0.75, 1...   \n",
              "1  [1.0, 0.75, 1.0, 0.5, 1.0, 0.75, 0.75, 1.0, 0....   \n",
              "2  [0.75, 1.0, 0.5, 1.0, 0.75, 0.75, 1.0, 0.75, 1...   \n",
              "3  [1.0, 0.5, 1.0, 0.75, 0.75, 1.0, 0.75, 1.0, 0....   \n",
              "4  [0.5, 1.0, 0.75, 0.75, 1.0, 0.75, 1.0, 0.5, 0....   \n",
              "\n",
              "                                 genres_ids_sequence  sex  occupation_index  \\\n",
              "0  [[8, 0, 0, 0], [3, 4, 12, 0], [8, 14, 0, 0], [...  1.0                11   \n",
              "1  [[3, 4, 12, 0], [8, 14, 0, 0], [5, 15, 0, 0], ...  1.0                11   \n",
              "2  [[8, 14, 0, 0], [5, 15, 0, 0], [14, 0, 0, 0], ...  1.0                11   \n",
              "3  [[5, 15, 0, 0], [14, 0, 0, 0], [8, 0, 0, 0], [...  1.0                11   \n",
              "4  [[14, 0, 0, 0], [8, 0, 0, 0], [8, 0, 0, 0], [8...  1.0                11   \n",
              "\n",
              "   age_group_index  target_movie  target_rating  \n",
              "0                1          2624           0.75  \n",
              "1                1          1893           1.00  \n",
              "2                1          1960           1.00  \n",
              "3                1          3037           1.00  \n",
              "4                1           927           0.75  "
            ]
          },
          "execution_count": 141,
          "metadata": {},
          "output_type": "execute_result"
        }
      ],
      "source": [
        "ratings_data_transformed.head()"
      ]
    },
    {
      "cell_type": "code",
      "execution_count": 142,
      "metadata": {
        "id": "bQEmshcNVlks"
      },
      "outputs": [],
      "source": [
        "random_selection = np.random.rand(len(ratings_data_transformed.index)) <= 0.85\n",
        "train_data = ratings_data_transformed[random_selection]\n",
        "test_data = ratings_data_transformed[~random_selection]"
      ]
    },
    {
      "attachments": {},
      "cell_type": "markdown",
      "metadata": {
        "id": "bXqZBv7BVv4v"
      },
      "source": [
        "## (3) Model Config"
      ]
    },
    {
      "cell_type": "code",
      "execution_count": 143,
      "metadata": {
        "id": "74j7Qs7LVxkF"
      },
      "outputs": [],
      "source": [
        "num_user = len(user_id_map_dict)\n",
        "num_movie = len(movie_id_map_dict)\n",
        "num_occupation = len(occupation_id_map_dict)\n",
        "num_age_group = len(age_group_id_map_dict)\n",
        "num_genre = len(genres_map_dict)"
      ]
    },
    {
      "cell_type": "code",
      "execution_count": 144,
      "metadata": {
        "id": "K4MOe95uV2qg"
      },
      "outputs": [],
      "source": [
        "embed_configs = {}\n",
        "EMED_DIM=32\n",
        "embed_configs['user']={\"embed_dim\":EMED_DIM,\"num_embed\":num_user}\n",
        "embed_configs['movie']={\"embed_dim\":EMED_DIM,\"num_embed\":num_movie}\n",
        "embed_configs['genre']={\"embed_dim\":EMED_DIM,\"num_embed\":num_genre}\n",
        "embed_configs['occupation']={\"embed_dim\":EMED_DIM,\"num_embed\":num_occupation}\n",
        "embed_configs['age_group']={\"embed_dim\":EMED_DIM,\"num_embed\":num_age_group}\n",
        "embed_configs['position'] = {\"embed_dim\":EMED_DIM,\"num_embed\":sequence_length}"
      ]
    },
    {
      "cell_type": "code",
      "execution_count": 145,
      "metadata": {
        "id": "6p7ikk9DV_od"
      },
      "outputs": [],
      "source": [
        "config_dict={}\n",
        "config_dict['embed_configs'] = embed_configs\n",
        "config_dict['transformer_num_layer']=3\n",
        "config_dict['dropout']=0.2\n",
        "config_dict['epoches']=10\n",
        "config_dict['learning_rate']=0.001\n",
        "config_dict['batch_size']=128\n",
        "config_dict['sequence_length']=sequence_length\n",
        "config_dict['step_size']=step_size"
      ]
    },
    {
      "cell_type": "code",
      "execution_count": 146,
      "metadata": {
        "id": "3C7jQUGhXMNz"
      },
      "outputs": [],
      "source": [
        "config_dict['device'] = \"cuda\" if torch.cuda.is_available() else \"cpu\""
      ]
    },
    {
      "cell_type": "code",
      "execution_count": 147,
      "metadata": {
        "id": "YcP1dftJWBDJ"
      },
      "outputs": [],
      "source": [
        "class Config:\n",
        "    def __init__(self, dictionary):\n",
        "        for key, value in dictionary.items():\n",
        "            setattr(self, key, value)\n",
        "config = Config(dictionary=config_dict)"
      ]
    },
    {
      "attachments": {},
      "cell_type": "markdown",
      "metadata": {
        "id": "SUxEiAYpWGye"
      },
      "source": [
        "## (4) Create Model"
      ]
    },
    {
      "cell_type": "code",
      "execution_count": 148,
      "metadata": {
        "id": "ufOTX0qPWTd7"
      },
      "outputs": [],
      "source": [
        "class TransformerBlock(nn.Module):\n",
        "    def __init__(self, input_size, output_size, num_heads, dropout_rate):\n",
        "        super(TransformerBlock, self).__init__()\n",
        "\n",
        "        self.multihead_attention = nn.MultiheadAttention(input_size, num_heads)\n",
        "        self.layer_norm1 = nn.LayerNorm(input_size)\n",
        "\n",
        "        self.feed_forward = nn.Sequential(\n",
        "            nn.Linear(input_size, 4*input_size),\n",
        "            nn.ReLU(),\n",
        "            nn.Linear(4*input_size, output_size),\n",
        "            nn.Dropout(dropout_rate)\n",
        "        )\n",
        "        self.layer_norm2 = nn.LayerNorm(output_size)\n",
        "        self.dropout = nn.Dropout(dropout_rate)\n",
        "\n",
        "    def forward(self, x):\n",
        "        # Multi-head Attention\n",
        "        attn_output, _ = self.multihead_attention(x, x, x)\n",
        "        x = self.layer_norm1(x + attn_output)\n",
        "\n",
        "        # Feed-Forward Network\n",
        "        ff_output = self.feed_forward(x)\n",
        "        x = self.layer_norm2(x + ff_output)\n",
        "        x = self.dropout(x)\n",
        "        return x\n",
        "\n",
        "class TransformerLayer(nn.Module):\n",
        "    def __init__(self, d_model, num_heads=8, dropout_rate=0.2, num_layers=3):\n",
        "        super(TransformerLayer, self).__init__()\n",
        "\n",
        "        self.transformer_blocks = nn.ModuleList([\n",
        "            TransformerBlock(d_model, d_model, num_heads, dropout_rate)\n",
        "            for _ in range(num_layers)\n",
        "        ])\n",
        "\n",
        "    def forward(self, x):\n",
        "        for transformer_block in self.transformer_blocks:\n",
        "            x = transformer_block(x)\n",
        "        return x"
      ]
    },
    {
      "cell_type": "code",
      "execution_count": 149,
      "metadata": {
        "id": "2-bs1PhSWDMz"
      },
      "outputs": [],
      "source": [
        "class MLP(nn.Module):\n",
        "    def __init__(self, dropout=0.2, hidden_units=[512, 256,128]):\n",
        "        super(MLP, self).__init__()\n",
        "        self.dropout = nn.Dropout(p=dropout)\n",
        "        self.layers = nn.ModuleList()\n",
        "        for i in range(len(hidden_units) - 1):\n",
        "            self.layers.append(nn.Linear(hidden_units[i], hidden_units[i + 1]))\n",
        "            self.layers.append(nn.LeakyReLU())\n",
        "            self.layers.append(nn.Dropout(p=dropout))\n",
        "        self.fc = nn.Linear(hidden_units[-1],1)\n",
        "        self.sigmoid = nn.Sigmoid()\n",
        "\n",
        "    def forward(self, x):\n",
        "        for layer in self.layers:\n",
        "            x = layer(x)\n",
        "        logits = self.fc(x)\n",
        "        output = self.sigmoid(logits)\n",
        "        return output"
      ]
    },
    {
      "cell_type": "code",
      "execution_count": 150,
      "metadata": {
        "id": "iV7-dBeeWa0k"
      },
      "outputs": [],
      "source": [
        "class BSTRecommender(nn.Module):\n",
        "    def __init__(self, config):\n",
        "        super(BSTRecommender, self).__init__()\n",
        "        self.config = config\n",
        "        self.embed_configs = config.embed_configs\n",
        "        self.drouput = config.dropout\n",
        "        self.transformer_num_layer = config.transformer_num_layer\n",
        "        self.device = config.device\n",
        "\n",
        "        \"\"\"embed_configs\n",
        "        {'user': {'embed_dim': 32, 'num_embed': 6041},\n",
        "        'movie': {'embed_dim': 32, 'num_embed': 3884},\n",
        "        'occupation': {'embed_dim': 32, 'num_embed': 22},\n",
        "        'age_group': {'embed_dim': 32, 'num_embed': 8},\n",
        "        'position': {'embed_dim': 32, 'num_embed': 4}}\n",
        "        \"\"\"\n",
        "\n",
        "        embed_configs = self.config.embed_configs\n",
        "\n",
        "        \"\"\"Create Embedding Layer\"\"\"\n",
        "        embedding_layers = []\n",
        "        for name, embed_config in embed_configs.items():\n",
        "            embed_dim = embed_config['embed_dim']\n",
        "            num_embed = embed_config['num_embed']\n",
        "            embeding_layer = nn.Embedding(\n",
        "                num_embeddings=num_embed, embedding_dim=embed_dim)\n",
        "            nn.init.xavier_uniform_(embeding_layer.weight)\n",
        "            embedding_layers.append([name, embeding_layer])\n",
        "\n",
        "        self.embedding_layers = nn.ModuleDict(embedding_layers)\n",
        "\n",
        "        transformer_dim = self.embed_configs['position']['embed_dim'] + \\\n",
        "            self.embed_configs['movie']['embed_dim']+ \\\n",
        "            self.embed_configs['genre']['embed_dim']\n",
        "\n",
        "        self.transformer_layer = TransformerLayer(d_model=transformer_dim,\n",
        "                                                  num_heads=8,\n",
        "                                                  dropout_rate=self.drouput,\n",
        "                                                  num_layers=self.transformer_num_layer)\n",
        "\n",
        "        # movie_embed_dim*2 + sequence*movie_embedding*2 + user_embed_dim*2+occupation_embed_dim*2+age_embed_dim*2+1\n",
        "\n",
        "        sequence_length = self.embed_configs['position']['num_embed']\n",
        "        mlp_dim = self.embed_configs['user']['embed_dim']*2 + \\\n",
        "            self.embed_configs['occupation']['embed_dim']*2 +\\\n",
        "            self.embed_configs['age_group']['embed_dim']*2 +\\\n",
        "            self.embed_configs['movie']['embed_dim']*2 +\\\n",
        "            transformer_dim*sequence_length+1\n",
        "\n",
        "        self.mlp = MLP(dropout=self.drouput, hidden_units=[mlp_dim, 256, 64])\n",
        "\n",
        "    def forward(self, inputs):\n",
        "\n",
        "        target_movie_embedding = self.embedding_layers['movie'](\n",
        "            inputs['target_movie'])\n",
        "        batch_size = target_movie_embedding.shape[0]\n",
        "\n",
        "        \"\"\"Sequence Feature Engineering\"\"\"\n",
        "\n",
        "        # movie embedding\n",
        "        movie_sequence_embedding = self.embedding_layers['movie'](\n",
        "            inputs['movie_sequence'])\n",
        "        \n",
        "        # genres\n",
        "        genres_sequence_emebdding = self.embedding_layers['genre'](\n",
        "            inputs['genres_ids_sequence'])\n",
        "        # genres max pooling\n",
        "        genres_sequence_emebdding  = torch.mean(genres_sequence_emebdding,dim=-2)\n",
        "\n",
        "        # position embedding\n",
        "        positions = torch.arange(\n",
        "            self.config.embed_configs['position']['num_embed']).to(self.device)\n",
        "        position_embedding = self.embedding_layers['position'](positions)\n",
        "        batch_position_embedding = torch.stack(\n",
        "            [position_embedding.clone() for _ in range(batch_size)])\n",
        "        # concat with position instead of adding\n",
        "        movie_pos_genres_seq_embedding = torch.concat(\n",
        "            [movie_sequence_embedding,genres_sequence_emebdding,batch_position_embedding], dim=-1)\n",
        "        # point wise product with sequence rating\n",
        "        rating_sequence = inputs['rating_sequence']\n",
        "        movie_pos_rating_seq_embedding = torch.mul(\n",
        "            movie_pos_genres_seq_embedding, rating_sequence.unsqueeze(-1))\n",
        "        # feed into transformer layer\n",
        "        seq_transformer_output = self.transformer_layer(\n",
        "            movie_pos_rating_seq_embedding)\n",
        "        seq_transformer_flatten_output = seq_transformer_output.view(\n",
        "            batch_size, -1)\n",
        "\n",
        "        \"\"\"concat other features\"\"\"\n",
        "        # orginal features\n",
        "        sex_feature = inputs['sex'].unsqueeze(-1)\n",
        "        user_embedding = self.embedding_layers['user'](inputs['user_id_index'])\n",
        "        occupation_embedding = self.embedding_layers['occupation'](\n",
        "            inputs['occupation_index'])\n",
        "        age_group_embedding = self.embedding_layers['age_group'](\n",
        "            inputs['age_group_index'])\n",
        "\n",
        "        # cross features with target movie embedding\n",
        "        sex_cross_feature = torch.mul(sex_feature, target_movie_embedding)\n",
        "        user_embedding_cross = torch.mul(\n",
        "            user_embedding, target_movie_embedding)\n",
        "        occupation_embedding_cross = torch.mul(\n",
        "            occupation_embedding, target_movie_embedding,)\n",
        "        age_group_embedding_cross = torch.mul(\n",
        "            age_group_embedding, target_movie_embedding)\n",
        "\n",
        "        # shape:1+user_embed_dim+occupation_embed_dim+age_embed_dim\n",
        "        user_features = torch.concat(\n",
        "            [sex_feature, user_embedding, occupation_embedding, age_group_embedding], dim=-1)\n",
        "\n",
        "        # shape:movie_embed_dim +user_embed_dim+occupation_embed_dim+age_embed_dim\n",
        "        user_cross_features = torch.concat(\n",
        "            [sex_cross_feature, user_embedding_cross, occupation_embedding_cross, age_group_embedding_cross], dim=-1)\n",
        "\n",
        "        # shape:movie_embed_dim +user_embed_dim+occupation_embed_dim+age_embed_dim + 1+user_embed_dim+occupation_embed_dim+age_embed_dim\n",
        "        user_inputs_features = torch.concat(\n",
        "            [user_features, user_cross_features, target_movie_embedding], axis=1)\n",
        "        # shape:movie_embed_dim +user_embed_dim+occupation_embed_dim+age_embed_dim + 1+user_embed_dim+occupation_embed_dim+age_embed_dim\n",
        "        # sequence*movie_embedding*2+movie_embeddding\n",
        "        mlp_input_features = torch.concat(\n",
        "            [user_inputs_features, seq_transformer_flatten_output], axis=1)\n",
        "\n",
        "        outputs = self.mlp(mlp_input_features)\n",
        "\n",
        "        return outputs"
      ]
    },
    {
      "cell_type": "code",
      "execution_count": 151,
      "metadata": {
        "id": "u2RO3K24Wdd2"
      },
      "outputs": [],
      "source": [
        "model = BSTRecommender(config=config)"
      ]
    },
    {
      "cell_type": "code",
      "execution_count": 152,
      "metadata": {
        "colab": {
          "base_uri": "https://localhost:8080/"
        },
        "id": "Dpc5cAMKXVkN",
        "outputId": "ee065bd7-1b08-492b-8e22-b4f169ebfc42"
      },
      "outputs": [
        {
          "data": {
            "text/plain": [
              "BSTRecommender(\n",
              "  (embedding_layers): ModuleDict(\n",
              "    (user): Embedding(6041, 32)\n",
              "    (movie): Embedding(3884, 32)\n",
              "    (genre): Embedding(19, 32)\n",
              "    (occupation): Embedding(22, 32)\n",
              "    (age_group): Embedding(8, 32)\n",
              "    (position): Embedding(15, 32)\n",
              "  )\n",
              "  (transformer_layer): TransformerLayer(\n",
              "    (transformer_blocks): ModuleList(\n",
              "      (0-2): 3 x TransformerBlock(\n",
              "        (multihead_attention): MultiheadAttention(\n",
              "          (out_proj): NonDynamicallyQuantizableLinear(in_features=96, out_features=96, bias=True)\n",
              "        )\n",
              "        (layer_norm1): LayerNorm((96,), eps=1e-05, elementwise_affine=True)\n",
              "        (feed_forward): Sequential(\n",
              "          (0): Linear(in_features=96, out_features=384, bias=True)\n",
              "          (1): ReLU()\n",
              "          (2): Linear(in_features=384, out_features=96, bias=True)\n",
              "          (3): Dropout(p=0.2, inplace=False)\n",
              "        )\n",
              "        (layer_norm2): LayerNorm((96,), eps=1e-05, elementwise_affine=True)\n",
              "        (dropout): Dropout(p=0.2, inplace=False)\n",
              "      )\n",
              "    )\n",
              "  )\n",
              "  (mlp): MLP(\n",
              "    (dropout): Dropout(p=0.2, inplace=False)\n",
              "    (layers): ModuleList(\n",
              "      (0): Linear(in_features=1697, out_features=256, bias=True)\n",
              "      (1): LeakyReLU(negative_slope=0.01)\n",
              "      (2): Dropout(p=0.2, inplace=False)\n",
              "      (3): Linear(in_features=256, out_features=64, bias=True)\n",
              "      (4): LeakyReLU(negative_slope=0.01)\n",
              "      (5): Dropout(p=0.2, inplace=False)\n",
              "    )\n",
              "    (fc): Linear(in_features=64, out_features=1, bias=True)\n",
              "    (sigmoid): Sigmoid()\n",
              "  )\n",
              ")"
            ]
          },
          "execution_count": 152,
          "metadata": {},
          "output_type": "execute_result"
        }
      ],
      "source": [
        "model = model.to(config.device)\n",
        "model.train()"
      ]
    },
    {
      "attachments": {},
      "cell_type": "markdown",
      "metadata": {
        "id": "iMu3zDCYWqwr"
      },
      "source": [
        "## (5) Load Rating Dataset"
      ]
    },
    {
      "cell_type": "code",
      "execution_count": 153,
      "metadata": {
        "id": "KyeeVf7tWty1"
      },
      "outputs": [],
      "source": [
        "class RatingDataset(Dataset):\n",
        "    def __init__(self, data):\n",
        "        self.data = data\n",
        "        self.device = \"cuda\" if torch.cuda.is_available() else \"cpu\"\n",
        "\n",
        "    def __len__(self):\n",
        "        return len(self.data)\n",
        "\n",
        "    def __getitem__(self, index):\n",
        "\n",
        "        item_dict = self.data.iloc[index].to_dict()\n",
        "\n",
        "        dtype_dict = {}\n",
        "        for k,v in item_dict.items():\n",
        "            dtype_dict[k]=torch.long\n",
        "        dtype_dict['rating_sequence']=torch.float32\n",
        "        dtype_dict['target_rating']=torch.float32\n",
        "        dtype_dict['sex']=torch.float32\n",
        "\n",
        "\n",
        "        sample = {}\n",
        "        for k,v in item_dict.items():\n",
        "            sample[k] = torch.tensor(v,dtype=dtype_dict[k]).to(self.device)\n",
        "\n",
        "        return sample\n"
      ]
    },
    {
      "cell_type": "code",
      "execution_count": 154,
      "metadata": {
        "id": "G6qbyM5pWmke"
      },
      "outputs": [],
      "source": [
        "train_dataset = RatingDataset(data=train_data)\n",
        "test_dataset = RatingDataset(data=test_data)"
      ]
    },
    {
      "cell_type": "code",
      "execution_count": 155,
      "metadata": {
        "id": "4ggs147hXj43"
      },
      "outputs": [],
      "source": [
        "train_loader = DataLoader(train_dataset,batch_size=config.batch_size,shuffle=True)\n",
        "test_loader = DataLoader(test_dataset,batch_size=config.batch_size,shuffle=True)"
      ]
    },
    {
      "attachments": {},
      "cell_type": "markdown",
      "metadata": {
        "id": "bddyOJ1OZuiM"
      },
      "source": [
        "## (6) Training"
      ]
    },
    {
      "cell_type": "code",
      "execution_count": 156,
      "metadata": {
        "id": "6AYv7XU1ZIfn"
      },
      "outputs": [],
      "source": [
        "loss_func = nn.L1Loss()"
      ]
    },
    {
      "cell_type": "code",
      "execution_count": 157,
      "metadata": {
        "id": "QjUtHjQQY9Zv"
      },
      "outputs": [],
      "source": [
        "def evaluate(model,dataset_loader,min_max_scaler,loss_func=nn.L1Loss()):\n",
        "\n",
        "    model.eval()\n",
        "\n",
        "    prob_list= []\n",
        "    rating_list = []\n",
        "    eval_loss_list = []\n",
        "\n",
        "\n",
        "    # loss_func = nn.MSELoss()\n",
        "\n",
        "    pbar = tqdm(total = len(dataset_loader),desc = \"\",position=0, leave=True)\n",
        "\n",
        "    for inputs in dataset_loader:\n",
        "        with torch.no_grad():\n",
        "            probs = model(inputs)\n",
        "            ratings = inputs['target_rating'].view(-1,1)\n",
        "\n",
        "            loss = loss_func(probs, ratings)\n",
        "            eval_loss_list.append(loss.item())\n",
        "\n",
        "            probs = probs.cpu().numpy().flatten().tolist()\n",
        "            prob_list.extend(probs)\n",
        "\n",
        "            ratings = ratings.cpu().numpy().flatten().tolist()\n",
        "            rating_list.extend(ratings)\n",
        "            \n",
        "\n",
        "\n",
        "            pbar.update(1)\n",
        "\n",
        "    pbar.close()\n",
        "\n",
        "    real_ratings =min_max_scaler.inverse_transform(np.array(rating_list).reshape(-1,1))[:,0]\n",
        "    prediction_ratings=min_max_scaler.inverse_transform(np.array(prob_list).reshape(-1,1))[:,0]\n",
        "\n",
        "    MAE = metrics.mean_absolute_error(real_ratings,prediction_ratings)\n",
        "    RMSE = metrics.mean_squared_error(real_ratings,prediction_ratings)\n",
        "    \n",
        "\n",
        "    eval_metrics = {}\n",
        "    eval_metrics['eval_loss']= sum(eval_loss_list)/len(eval_loss_list)\n",
        "    eval_metrics['eval_MAE']= MAE\n",
        "    eval_metrics['eval_RMSE']= RMSE\n",
        "\n",
        "\n",
        "    return eval_metrics"
      ]
    },
    {
      "cell_type": "code",
      "execution_count": 158,
      "metadata": {
        "colab": {
          "base_uri": "https://localhost:8080/"
        },
        "id": "quf-eGpiZWPQ",
        "outputId": "6d219858-1624-4511-8e84-f55c88c12861"
      },
      "outputs": [
        {
          "name": "stderr",
          "output_type": "stream",
          "text": [
            "100%|██████████| 1082/1082 [00:47<00:00, 22.93it/s]"
          ]
        },
        {
          "name": "stdout",
          "output_type": "stream",
          "text": [
            "{'eval_loss': 0.26203935580971943, 'eval_MAE': 1.0476776563820573, 'eval_RMSE': 1.6268341234591461}\n"
          ]
        },
        {
          "name": "stderr",
          "output_type": "stream",
          "text": [
            "\n"
          ]
        }
      ],
      "source": [
        "# loss before training\n",
        "before_training_metrics = evaluate(model,test_loader,min_max_scaler,loss_func)\n",
        "print(before_training_metrics)"
      ]
    },
    {
      "cell_type": "code",
      "execution_count": 159,
      "metadata": {},
      "outputs": [
        {
          "data": {
            "text/html": [
              "Tracking run with wandb version 0.15.5"
            ],
            "text/plain": [
              "<IPython.core.display.HTML object>"
            ]
          },
          "metadata": {},
          "output_type": "display_data"
        },
        {
          "data": {
            "text/html": [
              "Run data is saved locally in <code>/Users/nelsonlin/Desktop/WorkSpace/ml-behavior-sequence-transformer-for-movie-recommendation/wandb/run-20230721_082122-v15ryynq</code>"
            ],
            "text/plain": [
              "<IPython.core.display.HTML object>"
            ]
          },
          "metadata": {},
          "output_type": "display_data"
        },
        {
          "data": {
            "text/html": [
              "Syncing run <strong><a href='https://wandb.ai/nelsonlin0321/BST%20For%20Movielens%201M%20Recommendation/runs/v15ryynq' target=\"_blank\">sequence:15 batch_size:128 genre feature:mean</a></strong> to <a href='https://wandb.ai/nelsonlin0321/BST%20For%20Movielens%201M%20Recommendation' target=\"_blank\">Weights & Biases</a> (<a href='https://wandb.me/run' target=\"_blank\">docs</a>)<br/>"
            ],
            "text/plain": [
              "<IPython.core.display.HTML object>"
            ]
          },
          "metadata": {},
          "output_type": "display_data"
        },
        {
          "data": {
            "text/html": [
              " View project at <a href='https://wandb.ai/nelsonlin0321/BST%20For%20Movielens%201M%20Recommendation' target=\"_blank\">https://wandb.ai/nelsonlin0321/BST%20For%20Movielens%201M%20Recommendation</a>"
            ],
            "text/plain": [
              "<IPython.core.display.HTML object>"
            ]
          },
          "metadata": {},
          "output_type": "display_data"
        },
        {
          "data": {
            "text/html": [
              " View run at <a href='https://wandb.ai/nelsonlin0321/BST%20For%20Movielens%201M%20Recommendation/runs/v15ryynq' target=\"_blank\">https://wandb.ai/nelsonlin0321/BST%20For%20Movielens%201M%20Recommendation/runs/v15ryynq</a>"
            ],
            "text/plain": [
              "<IPython.core.display.HTML object>"
            ]
          },
          "metadata": {},
          "output_type": "display_data"
        },
        {
          "data": {
            "text/html": [
              "<button onClick=\"this.nextSibling.style.display='block';this.style.display='none';\">Display W&B run</button><iframe src='https://wandb.ai/nelsonlin0321/BST%20For%20Movielens%201M%20Recommendation/runs/v15ryynq?jupyter=true' style='border:none;width:100%;height:420px;display:none;'></iframe>"
            ],
            "text/plain": [
              "<wandb.sdk.wandb_run.Run at 0x1598c6290>"
            ]
          },
          "execution_count": 159,
          "metadata": {},
          "output_type": "execute_result"
        }
      ],
      "source": [
        "wandb.login()\n",
        "wandb_project = \"BST For Movielens 1M Recommendation\"\n",
        "batch_size = config_dict['batch_size']\n",
        "display_name = f\"sequence:{sequence_length} batch_size:{batch_size} genre feature:mean\"\n",
        "wandb.init(\n",
        "    project=wandb_project,\n",
        "    job_type=\"train\",\n",
        "    config=config_dict,\n",
        "    name=display_name   \n",
        ")"
      ]
    },
    {
      "cell_type": "code",
      "execution_count": 160,
      "metadata": {
        "id": "lFHm_mNFZZyq"
      },
      "outputs": [],
      "source": [
        "optimizer = torch.optim.AdamW(model.parameters(),lr=config.learning_rate)\n",
        "total_batch = 0\n",
        "best_eval_loss =  float(\"inf\")\n",
        "best_checkpoint = 0\n",
        "model_version=str(uuid4())\n",
        "config.eval_steps = len(train_loader)//3"
      ]
    },
    {
      "cell_type": "code",
      "execution_count": 161,
      "metadata": {
        "id": "JTP7eC6SaJG1"
      },
      "outputs": [],
      "source": [
        "def save_model(model, model_save_dir,step,model_metrics):\n",
        "    model_save_dir = os.path.join(model_save_dir,f\"checkpoint-{step}\")\n",
        "    model_name = \"pytorch_model.pt\"\n",
        "    train_state_name = \"training_state.json\"\n",
        "    os.makedirs(model_save_dir,exist_ok=True)\n",
        "\n",
        "    model_path = os.path.join(model_save_dir,model_name)\n",
        "    train_state_path = os.path.join(model_save_dir,train_state_name)\n",
        "\n",
        "    torch.save(model.state_dict(),model_path)\n",
        "\n",
        "    if model_metrics is not None:\n",
        "        with open(train_state_path,mode = 'w',encoding = 'utf-8') as f:\n",
        "            json.dump(model_metrics,f,indent=4)\n",
        "\n",
        "    return model_path"
      ]
    },
    {
      "cell_type": "code",
      "execution_count": 162,
      "metadata": {
        "colab": {
          "base_uri": "https://localhost:8080/"
        },
        "id": "hN2ILumCaAOh",
        "outputId": "ce510b50-2e69-4568-db0b-f94a0b4cdf9b"
      },
      "outputs": [
        {
          "name": "stderr",
          "output_type": "stream",
          "text": [
            "100%|██████████| 1082/1082 [00:46<00:00, 23.44it/s]1, 10.85it/s]\n",
            "100%|██████████| 1082/1082 [00:44<00:00, 24.23it/s]3,  7.85it/s, eval_loss=0.178, eval_MAE=0.712, eval_RMSE=0.897, best_eval_loss=0.178, train_loss=0.186, train_MAE=0.745, train_RMSE=0.942, steps=2040, best_checkpoint=2040]  \n",
            "100%|██████████| 1082/1082 [00:43<00:00, 24.98it/s]6, 11.30it/s, eval_loss=0.173, eval_MAE=0.69, eval_RMSE=0.911, best_eval_loss=0.173, train_loss=0.182, train_MAE=0.728, train_RMSE=0.926, steps=4080, best_checkpoint=4080]  \n",
            "100%|██████████| 1082/1082 [00:44<00:00, 24.53it/s]7, 10.90it/s, eval_loss=0.17, eval_MAE=0.681, eval_RMSE=0.882, best_eval_loss=0.17, train_loss=0.179, train_MAE=0.717, train_RMSE=0.914, steps=6120, best_checkpoint=6120]  \n",
            "100%|██████████| 1082/1082 [00:41<00:00, 25.95it/s]12, 11.61it/s, eval_loss=0.168, eval_MAE=0.673, eval_RMSE=0.867, best_eval_loss=0.168, train_loss=0.17, train_MAE=0.682, train_RMSE=0.877, steps=8160, best_checkpoint=8160] \n",
            "100%|██████████| 1082/1082 [00:44<00:00, 24.53it/s]59, 11.49it/s, eval_loss=0.168, eval_MAE=0.673, eval_RMSE=0.879, best_eval_loss=0.168, train_loss=0.17, train_MAE=0.681, train_RMSE=0.878, steps=10200, best_checkpoint=10200] \n",
            "100%|██████████| 1082/1082 [00:39<00:00, 27.22it/s]03, 11.49it/s, eval_loss=0.167, eval_MAE=0.67, eval_RMSE=0.861, best_eval_loss=0.167, train_loss=0.17, train_MAE=0.681, train_RMSE=0.88, steps=12240, best_checkpoint=12240]  \n",
            "100%|██████████| 1082/1082 [00:35<00:00, 30.67it/s], 14.37it/s, eval_loss=0.167, eval_MAE=0.669, eval_RMSE=0.877, best_eval_loss=0.167, train_loss=0.167, train_MAE=0.669, train_RMSE=0.869, steps=14280, best_checkpoint=14280]   \n",
            "100%|██████████| 1082/1082 [00:35<00:00, 30.78it/s], 14.20it/s, eval_loss=0.168, eval_MAE=0.671, eval_RMSE=0.856, best_eval_loss=0.167, train_loss=0.167, train_MAE=0.668, train_RMSE=0.867, steps=16320, best_checkpoint=14280]   \n",
            "100%|██████████| 1082/1082 [00:34<00:00, 30.93it/s], 12.45it/s, eval_loss=0.166, eval_MAE=0.665, eval_RMSE=0.858, best_eval_loss=0.166, train_loss=0.167, train_MAE=0.669, train_RMSE=0.867, steps=18360, best_checkpoint=18360]   \n",
            "100%|██████████| 1082/1082 [00:36<00:00, 29.78it/s], 13.97it/s, eval_loss=0.168, eval_MAE=0.673, eval_RMSE=0.881, best_eval_loss=0.166, train_loss=0.165, train_MAE=0.659, train_RMSE=0.855, steps=20400, best_checkpoint=18360]   \n",
            "100%|██████████| 1082/1082 [00:38<00:00, 28.33it/s], 13.98it/s, eval_loss=0.167, eval_MAE=0.666, eval_RMSE=0.872, best_eval_loss=0.166, train_loss=0.165, train_MAE=0.661, train_RMSE=0.857, steps=22440, best_checkpoint=18360]   \n",
            "100%|██████████| 1082/1082 [00:36<00:00, 29.87it/s], 12.18it/s, eval_loss=0.167, eval_MAE=0.668, eval_RMSE=0.893, best_eval_loss=0.166, train_loss=0.165, train_MAE=0.661, train_RMSE=0.857, steps=24480, best_checkpoint=18360]   \n",
            "100%|██████████| 1082/1082 [00:35<00:00, 30.27it/s], 13.75it/s, eval_loss=0.167, eval_MAE=0.667, eval_RMSE=0.891, best_eval_loss=0.166, train_loss=0.163, train_MAE=0.653, train_RMSE=0.848, steps=26520, best_checkpoint=18360]   \n",
            "100%|██████████| 1082/1082 [00:34<00:00, 31.72it/s], 14.53it/s, eval_loss=0.165, eval_MAE=0.662, eval_RMSE=0.872, best_eval_loss=0.165, train_loss=0.163, train_MAE=0.654, train_RMSE=0.849, steps=28560, best_checkpoint=28560]   \n",
            "100%|██████████| 1082/1082 [00:34<00:00, 31.58it/s], 13.91it/s, eval_loss=0.165, eval_MAE=0.659, eval_RMSE=0.859, best_eval_loss=0.165, train_loss=0.164, train_MAE=0.654, train_RMSE=0.849, steps=30600, best_checkpoint=30600]   \n",
            "100%|██████████| 1082/1082 [00:34<00:00, 31.30it/s], 14.71it/s, eval_loss=0.165, eval_MAE=0.66, eval_RMSE=0.878, best_eval_loss=0.165, train_loss=0.161, train_MAE=0.643, train_RMSE=0.833, steps=32640, best_checkpoint=30600]   \n",
            "100%|██████████| 1082/1082 [00:34<00:00, 31.18it/s]56, 14.60it/s, eval_loss=0.164, eval_MAE=0.658, eval_RMSE=0.872, best_eval_loss=0.164, train_loss=0.161, train_MAE=0.646, train_RMSE=0.837, steps=34680, best_checkpoint=34680] \n",
            "100%|██████████| 1082/1082 [00:35<00:00, 30.83it/s]16, 14.24it/s, eval_loss=0.165, eval_MAE=0.659, eval_RMSE=0.861, best_eval_loss=0.164, train_loss=0.162, train_MAE=0.648, train_RMSE=0.84, steps=36720, best_checkpoint=34680]   \n",
            "100%|██████████| 1082/1082 [00:34<00:00, 31.38it/s]56, 14.83it/s, eval_loss=0.164, eval_MAE=0.657, eval_RMSE=0.854, best_eval_loss=0.164, train_loss=0.159, train_MAE=0.636, train_RMSE=0.819, steps=38760, best_checkpoint=38760]   \n",
            "100%|██████████| 1082/1082 [00:34<00:00, 31.57it/s]06, 14.49it/s, eval_loss=0.164, eval_MAE=0.656, eval_RMSE=0.859, best_eval_loss=0.164, train_loss=0.16, train_MAE=0.64, train_RMSE=0.827, steps=40800, best_checkpoint=40800]   \n",
            "100%|██████████| 1082/1082 [00:34<00:00, 31.16it/s]13, 14.14it/s, eval_loss=0.164, eval_MAE=0.657, eval_RMSE=0.856, best_eval_loss=0.164, train_loss=0.16, train_MAE=0.641, train_RMSE=0.83, steps=42840, best_checkpoint=40800]   \n",
            "100%|██████████| 1082/1082 [00:34<00:00, 31.52it/s]09, 13.87it/s, eval_loss=0.164, eval_MAE=0.656, eval_RMSE=0.862, best_eval_loss=0.164, train_loss=0.158, train_MAE=0.632, train_RMSE=0.817, steps=44880, best_checkpoint=40800]   \n",
            "100%|██████████| 1082/1082 [00:34<00:00, 31.26it/s]04, 14.50it/s, eval_loss=0.167, eval_MAE=0.667, eval_RMSE=0.905, best_eval_loss=0.164, train_loss=0.158, train_MAE=0.634, train_RMSE=0.819, steps=46920, best_checkpoint=40800]   \n",
            "100%|██████████| 1082/1082 [00:35<00:00, 30.76it/s]51, 12.28it/s, eval_loss=0.165, eval_MAE=0.658, eval_RMSE=0.876, best_eval_loss=0.164, train_loss=0.159, train_MAE=0.636, train_RMSE=0.822, steps=48960, best_checkpoint=40800]   \n",
            "100%|██████████| 1082/1082 [00:34<00:00, 31.09it/s]13, 13.30it/s, eval_loss=0.165, eval_MAE=0.658, eval_RMSE=0.877, best_eval_loss=0.164, train_loss=0.157, train_MAE=0.627, train_RMSE=0.808, steps=51000, best_checkpoint=40800]   \n",
            "100%|██████████| 1082/1082 [00:27<00:00, 38.79it/s]58, 17.09it/s, eval_loss=0.164, eval_MAE=0.657, eval_RMSE=0.877, best_eval_loss=0.164, train_loss=0.157, train_MAE=0.629, train_RMSE=0.812, steps=53040, best_checkpoint=40800]   \n",
            "100%|██████████| 1082/1082 [00:27<00:00, 39.79it/s]47, 17.93it/s, eval_loss=0.164, eval_MAE=0.658, eval_RMSE=0.87, best_eval_loss=0.164, train_loss=0.158, train_MAE=0.631, train_RMSE=0.815, steps=55080, best_checkpoint=40800]  \n",
            "100%|██████████| 1082/1082 [00:27<00:00, 39.18it/s]56, 17.46it/s, eval_loss=0.164, eval_MAE=0.658, eval_RMSE=0.858, best_eval_loss=0.164, train_loss=0.154, train_MAE=0.618, train_RMSE=0.795, steps=57120, best_checkpoint=40800]  \n",
            "100%|██████████| 1082/1082 [00:28<00:00, 38.18it/s]00, 17.01it/s, eval_loss=0.164, eval_MAE=0.656, eval_RMSE=0.866, best_eval_loss=0.164, train_loss=0.155, train_MAE=0.622, train_RMSE=0.801, steps=59160, best_checkpoint=40800]  \n",
            "Training: 100%|██████████| 61200/61200 [1:35:23<00:00, 10.69it/s, eval_loss=0.163, eval_MAE=0.654, eval_RMSE=0.861, best_eval_loss=0.163, train_loss=0.156, train_MAE=0.625, train_RMSE=0.806, steps=61200, best_checkpoint=61200]\n"
          ]
        },
        {
          "data": {
            "text/html": [
              "Waiting for W&B process to finish... <strong style=\"color:green\">(success).</strong>"
            ],
            "text/plain": [
              "<IPython.core.display.HTML object>"
            ]
          },
          "metadata": {},
          "output_type": "display_data"
        },
        {
          "data": {
            "text/html": [
              "<style>\n",
              "    table.wandb td:nth-child(1) { padding: 0 10px; text-align: left ; width: auto;} td:nth-child(2) {text-align: left ; width: 100%}\n",
              "    .wandb-row { display: flex; flex-direction: row; flex-wrap: wrap; justify-content: flex-start; width: 100% }\n",
              "    .wandb-col { display: flex; flex-direction: column; flex-basis: 100%; flex: 1; padding: 10px; }\n",
              "    </style>\n",
              "<div class=\"wandb-row\"><div class=\"wandb-col\"><h3>Run history:</h3><br/><table class=\"wandb\"><tr><td>best_checkpoint</td><td>▁▁▁▂▂▂▂▂▃▃▃▃▃▄▄▄▅▅▅▆▆▆▆▆▆▆▆▆▆█</td></tr><tr><td>best_eval_loss</td><td>█▅▄▃▃▃▃▃▂▂▂▂▂▂▂▂▂▂▁▁▁▁▁▁▁▁▁▁▁▁</td></tr><tr><td>eval_MAE</td><td>█▅▄▃▃▃▃▃▂▃▃▃▃▂▂▂▁▂▁▁▁▁▃▂▂▁▁▁▁▁</td></tr><tr><td>eval_RMSE</td><td>▆█▄▃▄▂▄▁▁▄▃▆▆▃▂▄▃▂▁▂▁▂▇▄▄▄▃▁▂▂</td></tr><tr><td>eval_loss</td><td>█▅▄▃▃▃▃▃▂▃▃▃▃▂▂▂▂▂▁▁▁▁▃▂▂▁▁▁▁▁</td></tr><tr><td>steps</td><td>▁▁▁▂▂▂▂▃▃▃▃▄▄▄▄▅▅▅▅▆▆▆▆▇▇▇▇███</td></tr><tr><td>train_MAE</td><td>█▇▆▅▄▄▄▄▄▃▃▃▃▃▃▂▃▃▂▂▂▂▂▂▁▂▂▁▁▁</td></tr><tr><td>train_RMSE</td><td>█▇▇▅▅▅▅▄▄▄▄▄▄▄▄▃▃▃▂▃▃▂▂▂▂▂▂▁▁▂</td></tr><tr><td>train_loss</td><td>█▇▆▅▄▄▄▄▄▃▃▃▃▃▃▂▃▃▂▂▂▂▂▂▁▂▂▁▁▁</td></tr></table><br/></div><div class=\"wandb-col\"><h3>Run summary:</h3><br/><table class=\"wandb\"><tr><td>best_checkpoint</td><td>61200</td></tr><tr><td>best_eval_loss</td><td>0.16342</td></tr><tr><td>eval_MAE</td><td>0.65385</td></tr><tr><td>eval_RMSE</td><td>0.86107</td></tr><tr><td>eval_loss</td><td>0.16342</td></tr><tr><td>steps</td><td>61200</td></tr><tr><td>train_MAE</td><td>0.62464</td></tr><tr><td>train_RMSE</td><td>0.80556</td></tr><tr><td>train_loss</td><td>0.15616</td></tr></table><br/></div></div>"
            ],
            "text/plain": [
              "<IPython.core.display.HTML object>"
            ]
          },
          "metadata": {},
          "output_type": "display_data"
        },
        {
          "data": {
            "text/html": [
              " View run <strong style=\"color:#cdcd00\">sequence:15 batch_size:128 genre feature:mean</strong> at: <a href='https://wandb.ai/nelsonlin0321/BST%20For%20Movielens%201M%20Recommendation/runs/v15ryynq' target=\"_blank\">https://wandb.ai/nelsonlin0321/BST%20For%20Movielens%201M%20Recommendation/runs/v15ryynq</a><br/>Synced 6 W&B file(s), 0 media file(s), 0 artifact file(s) and 0 other file(s)"
            ],
            "text/plain": [
              "<IPython.core.display.HTML object>"
            ]
          },
          "metadata": {},
          "output_type": "display_data"
        },
        {
          "data": {
            "text/html": [
              "Find logs at: <code>./wandb/run-20230721_082122-v15ryynq/logs</code>"
            ],
            "text/plain": [
              "<IPython.core.display.HTML object>"
            ]
          },
          "metadata": {},
          "output_type": "display_data"
        }
      ],
      "source": [
        "# Train\n",
        "total_pbar = tqdm(total=len(train_loader)*config.epoches,\n",
        "                  desc=\"Training\", position=0, leave=True)\n",
        "\n",
        "metrics_list = []\n",
        "best_model_path= None\n",
        "for epoch in range(config.epoches):\n",
        "    # print(\"*\"*50 + f\"epoch: {epoch + 1}\" + \"*\"*50)\n",
        "\n",
        "    train_loss_list = []\n",
        "    prob_list = []\n",
        "    rating_list = []\n",
        "\n",
        "    for inputs in train_loader:\n",
        "        model = model.train()\n",
        "        optimizer.zero_grad()\n",
        "        probs = model(inputs)\n",
        "\n",
        "        rating = inputs['target_rating'].view(-1, 1)\n",
        "\n",
        "        loss = loss_func(probs, rating)\n",
        "        loss.backward()\n",
        "        optimizer.step()\n",
        "        train_loss_list.append(loss.item())\n",
        "\n",
        "        probs = probs.detach().cpu().numpy().flatten().tolist()\n",
        "        prob_list.extend(probs)\n",
        "        rating = rating.detach().cpu().flatten().tolist()\n",
        "        rating_list.extend(rating)\n",
        "\n",
        "        if (total_batch+1) % config.eval_steps == 0:\n",
        "\n",
        "            improve = False\n",
        "            model_metrics = evaluate(model, test_loader,min_max_scaler,loss_func)\n",
        "            eval_loss = model_metrics['eval_loss']\n",
        "\n",
        "            if eval_loss <= best_eval_loss:\n",
        "                improve = True\n",
        "                best_checkpoint = total_batch+1\n",
        "                best_eval_loss = eval_loss\n",
        "\n",
        "            train_loss = np.mean(train_loss_list)\n",
        "            \n",
        "            real_ratings =min_max_scaler.inverse_transform(np.array(rating_list).reshape(-1,1))[:,0]\n",
        "            prediction_ratings=min_max_scaler.inverse_transform(np.array(prob_list).reshape(-1,1))[:,0]\n",
        "            MAE = metrics.mean_absolute_error(real_ratings,prediction_ratings)\n",
        "            RMSE = metrics.mean_squared_error(real_ratings,prediction_ratings)\n",
        "\n",
        "            model_metrics['best_eval_loss'] = best_eval_loss\n",
        "            model_metrics['train_loss'] = train_loss\n",
        "            model_metrics['train_MAE'] = MAE\n",
        "            model_metrics['train_RMSE'] = RMSE\n",
        "            \n",
        "            model_metrics[\"steps\"] = total_batch+1\n",
        "            model_metrics[\"best_checkpoint\"] = best_checkpoint\n",
        "            metrics_list.append(model_metrics)\n",
        "            wandb.log(model_metrics)\n",
        "\n",
        "            if improve:\n",
        "                save_dir = os.path.join(\"models\", model_version)\n",
        "                os.makedirs(save_dir, exist_ok=True)\n",
        "                model_path = save_model(model, save_dir, total_batch+1, model_metrics)\n",
        "                best_model_path = model_path\n",
        "            post_fix_message = {k:round(v,3) for k,v in model_metrics.items()}\n",
        "            total_pbar.set_postfix(post_fix_message)\n",
        "\n",
        "\n",
        "            model = model.train()\n",
        "\n",
        "        total_batch += 1\n",
        "        total_pbar.update(1)\n",
        "\n",
        "    model = model.train()\n",
        "\n",
        "total_pbar.close()\n",
        "wandb.finish()"
      ]
    },
    {
      "cell_type": "code",
      "execution_count": 163,
      "metadata": {
        "id": "AzfHrJl6aP0t"
      },
      "outputs": [
        {
          "data": {
            "text/html": [
              "<div>\n",
              "<style scoped>\n",
              "    .dataframe tbody tr th:only-of-type {\n",
              "        vertical-align: middle;\n",
              "    }\n",
              "\n",
              "    .dataframe tbody tr th {\n",
              "        vertical-align: top;\n",
              "    }\n",
              "\n",
              "    .dataframe thead th {\n",
              "        text-align: right;\n",
              "    }\n",
              "</style>\n",
              "<table border=\"1\" class=\"dataframe\">\n",
              "  <thead>\n",
              "    <tr style=\"text-align: right;\">\n",
              "      <th></th>\n",
              "      <th>eval_loss</th>\n",
              "      <th>eval_MAE</th>\n",
              "      <th>eval_RMSE</th>\n",
              "      <th>best_eval_loss</th>\n",
              "      <th>train_loss</th>\n",
              "      <th>train_MAE</th>\n",
              "      <th>train_RMSE</th>\n",
              "      <th>steps</th>\n",
              "      <th>best_checkpoint</th>\n",
              "    </tr>\n",
              "  </thead>\n",
              "  <tbody>\n",
              "    <tr>\n",
              "      <th>0</th>\n",
              "      <td>0.177940</td>\n",
              "      <td>0.711546</td>\n",
              "      <td>0.897096</td>\n",
              "      <td>0.177940</td>\n",
              "      <td>0.186168</td>\n",
              "      <td>0.744670</td>\n",
              "      <td>0.942312</td>\n",
              "      <td>2040</td>\n",
              "      <td>2040</td>\n",
              "    </tr>\n",
              "    <tr>\n",
              "      <th>1</th>\n",
              "      <td>0.172518</td>\n",
              "      <td>0.690192</td>\n",
              "      <td>0.911174</td>\n",
              "      <td>0.172518</td>\n",
              "      <td>0.181926</td>\n",
              "      <td>0.727703</td>\n",
              "      <td>0.925990</td>\n",
              "      <td>4080</td>\n",
              "      <td>4080</td>\n",
              "    </tr>\n",
              "    <tr>\n",
              "      <th>2</th>\n",
              "      <td>0.170251</td>\n",
              "      <td>0.680958</td>\n",
              "      <td>0.881633</td>\n",
              "      <td>0.170251</td>\n",
              "      <td>0.179202</td>\n",
              "      <td>0.716809</td>\n",
              "      <td>0.914413</td>\n",
              "      <td>6120</td>\n",
              "      <td>6120</td>\n",
              "    </tr>\n",
              "    <tr>\n",
              "      <th>3</th>\n",
              "      <td>0.168272</td>\n",
              "      <td>0.673244</td>\n",
              "      <td>0.866753</td>\n",
              "      <td>0.168272</td>\n",
              "      <td>0.170464</td>\n",
              "      <td>0.681855</td>\n",
              "      <td>0.877094</td>\n",
              "      <td>8160</td>\n",
              "      <td>8160</td>\n",
              "    </tr>\n",
              "    <tr>\n",
              "      <th>4</th>\n",
              "      <td>0.168249</td>\n",
              "      <td>0.673136</td>\n",
              "      <td>0.878539</td>\n",
              "      <td>0.168249</td>\n",
              "      <td>0.170174</td>\n",
              "      <td>0.680697</td>\n",
              "      <td>0.877661</td>\n",
              "      <td>10200</td>\n",
              "      <td>10200</td>\n",
              "    </tr>\n",
              "    <tr>\n",
              "      <th>5</th>\n",
              "      <td>0.167422</td>\n",
              "      <td>0.669828</td>\n",
              "      <td>0.861407</td>\n",
              "      <td>0.167422</td>\n",
              "      <td>0.170223</td>\n",
              "      <td>0.680890</td>\n",
              "      <td>0.879571</td>\n",
              "      <td>12240</td>\n",
              "      <td>12240</td>\n",
              "    </tr>\n",
              "    <tr>\n",
              "      <th>6</th>\n",
              "      <td>0.167301</td>\n",
              "      <td>0.669377</td>\n",
              "      <td>0.877259</td>\n",
              "      <td>0.167301</td>\n",
              "      <td>0.167215</td>\n",
              "      <td>0.668861</td>\n",
              "      <td>0.868804</td>\n",
              "      <td>14280</td>\n",
              "      <td>14280</td>\n",
              "    </tr>\n",
              "    <tr>\n",
              "      <th>7</th>\n",
              "      <td>0.167703</td>\n",
              "      <td>0.670526</td>\n",
              "      <td>0.855689</td>\n",
              "      <td>0.167301</td>\n",
              "      <td>0.167081</td>\n",
              "      <td>0.668325</td>\n",
              "      <td>0.867252</td>\n",
              "      <td>16320</td>\n",
              "      <td>14280</td>\n",
              "    </tr>\n",
              "    <tr>\n",
              "      <th>8</th>\n",
              "      <td>0.166334</td>\n",
              "      <td>0.665467</td>\n",
              "      <td>0.858029</td>\n",
              "      <td>0.166334</td>\n",
              "      <td>0.167165</td>\n",
              "      <td>0.668657</td>\n",
              "      <td>0.866583</td>\n",
              "      <td>18360</td>\n",
              "      <td>18360</td>\n",
              "    </tr>\n",
              "    <tr>\n",
              "      <th>9</th>\n",
              "      <td>0.168021</td>\n",
              "      <td>0.672625</td>\n",
              "      <td>0.881349</td>\n",
              "      <td>0.166334</td>\n",
              "      <td>0.164670</td>\n",
              "      <td>0.658681</td>\n",
              "      <td>0.855419</td>\n",
              "      <td>20400</td>\n",
              "      <td>18360</td>\n",
              "    </tr>\n",
              "    <tr>\n",
              "      <th>10</th>\n",
              "      <td>0.166924</td>\n",
              "      <td>0.666495</td>\n",
              "      <td>0.872196</td>\n",
              "      <td>0.166334</td>\n",
              "      <td>0.165274</td>\n",
              "      <td>0.661096</td>\n",
              "      <td>0.857439</td>\n",
              "      <td>22440</td>\n",
              "      <td>18360</td>\n",
              "    </tr>\n",
              "    <tr>\n",
              "      <th>11</th>\n",
              "      <td>0.166922</td>\n",
              "      <td>0.667835</td>\n",
              "      <td>0.893240</td>\n",
              "      <td>0.166334</td>\n",
              "      <td>0.165311</td>\n",
              "      <td>0.661248</td>\n",
              "      <td>0.857368</td>\n",
              "      <td>24480</td>\n",
              "      <td>18360</td>\n",
              "    </tr>\n",
              "    <tr>\n",
              "      <th>12</th>\n",
              "      <td>0.166538</td>\n",
              "      <td>0.666730</td>\n",
              "      <td>0.890973</td>\n",
              "      <td>0.166334</td>\n",
              "      <td>0.163332</td>\n",
              "      <td>0.653326</td>\n",
              "      <td>0.848371</td>\n",
              "      <td>26520</td>\n",
              "      <td>18360</td>\n",
              "    </tr>\n",
              "    <tr>\n",
              "      <th>13</th>\n",
              "      <td>0.165435</td>\n",
              "      <td>0.661877</td>\n",
              "      <td>0.871642</td>\n",
              "      <td>0.165435</td>\n",
              "      <td>0.163462</td>\n",
              "      <td>0.653848</td>\n",
              "      <td>0.848778</td>\n",
              "      <td>28560</td>\n",
              "      <td>28560</td>\n",
              "    </tr>\n",
              "    <tr>\n",
              "      <th>14</th>\n",
              "      <td>0.164605</td>\n",
              "      <td>0.659006</td>\n",
              "      <td>0.859186</td>\n",
              "      <td>0.164605</td>\n",
              "      <td>0.163566</td>\n",
              "      <td>0.654266</td>\n",
              "      <td>0.849315</td>\n",
              "      <td>30600</td>\n",
              "      <td>30600</td>\n",
              "    </tr>\n",
              "    <tr>\n",
              "      <th>15</th>\n",
              "      <td>0.165274</td>\n",
              "      <td>0.660384</td>\n",
              "      <td>0.877896</td>\n",
              "      <td>0.164605</td>\n",
              "      <td>0.160632</td>\n",
              "      <td>0.642526</td>\n",
              "      <td>0.833383</td>\n",
              "      <td>32640</td>\n",
              "      <td>30600</td>\n",
              "    </tr>\n",
              "    <tr>\n",
              "      <th>16</th>\n",
              "      <td>0.164486</td>\n",
              "      <td>0.657670</td>\n",
              "      <td>0.872381</td>\n",
              "      <td>0.164486</td>\n",
              "      <td>0.161410</td>\n",
              "      <td>0.645639</td>\n",
              "      <td>0.837273</td>\n",
              "      <td>34680</td>\n",
              "      <td>34680</td>\n",
              "    </tr>\n",
              "    <tr>\n",
              "      <th>17</th>\n",
              "      <td>0.164673</td>\n",
              "      <td>0.659262</td>\n",
              "      <td>0.861284</td>\n",
              "      <td>0.164486</td>\n",
              "      <td>0.161895</td>\n",
              "      <td>0.647582</td>\n",
              "      <td>0.840208</td>\n",
              "      <td>36720</td>\n",
              "      <td>34680</td>\n",
              "    </tr>\n",
              "    <tr>\n",
              "      <th>18</th>\n",
              "      <td>0.164225</td>\n",
              "      <td>0.656583</td>\n",
              "      <td>0.854129</td>\n",
              "      <td>0.164225</td>\n",
              "      <td>0.158883</td>\n",
              "      <td>0.635532</td>\n",
              "      <td>0.818908</td>\n",
              "      <td>38760</td>\n",
              "      <td>38760</td>\n",
              "    </tr>\n",
              "    <tr>\n",
              "      <th>19</th>\n",
              "      <td>0.163929</td>\n",
              "      <td>0.656253</td>\n",
              "      <td>0.859146</td>\n",
              "      <td>0.163929</td>\n",
              "      <td>0.159902</td>\n",
              "      <td>0.639607</td>\n",
              "      <td>0.826833</td>\n",
              "      <td>40800</td>\n",
              "      <td>40800</td>\n",
              "    </tr>\n",
              "    <tr>\n",
              "      <th>20</th>\n",
              "      <td>0.164427</td>\n",
              "      <td>0.657404</td>\n",
              "      <td>0.856399</td>\n",
              "      <td>0.163929</td>\n",
              "      <td>0.160340</td>\n",
              "      <td>0.641365</td>\n",
              "      <td>0.829671</td>\n",
              "      <td>42840</td>\n",
              "      <td>40800</td>\n",
              "    </tr>\n",
              "    <tr>\n",
              "      <th>21</th>\n",
              "      <td>0.163953</td>\n",
              "      <td>0.655921</td>\n",
              "      <td>0.861779</td>\n",
              "      <td>0.163929</td>\n",
              "      <td>0.157936</td>\n",
              "      <td>0.631746</td>\n",
              "      <td>0.817037</td>\n",
              "      <td>44880</td>\n",
              "      <td>40800</td>\n",
              "    </tr>\n",
              "    <tr>\n",
              "      <th>22</th>\n",
              "      <td>0.166794</td>\n",
              "      <td>0.666875</td>\n",
              "      <td>0.904629</td>\n",
              "      <td>0.163929</td>\n",
              "      <td>0.158445</td>\n",
              "      <td>0.633779</td>\n",
              "      <td>0.819198</td>\n",
              "      <td>46920</td>\n",
              "      <td>40800</td>\n",
              "    </tr>\n",
              "    <tr>\n",
              "      <th>23</th>\n",
              "      <td>0.164742</td>\n",
              "      <td>0.658211</td>\n",
              "      <td>0.876026</td>\n",
              "      <td>0.163929</td>\n",
              "      <td>0.158943</td>\n",
              "      <td>0.635776</td>\n",
              "      <td>0.822214</td>\n",
              "      <td>48960</td>\n",
              "      <td>40800</td>\n",
              "    </tr>\n",
              "    <tr>\n",
              "      <th>24</th>\n",
              "      <td>0.164723</td>\n",
              "      <td>0.658209</td>\n",
              "      <td>0.876552</td>\n",
              "      <td>0.163929</td>\n",
              "      <td>0.156719</td>\n",
              "      <td>0.626876</td>\n",
              "      <td>0.808386</td>\n",
              "      <td>51000</td>\n",
              "      <td>40800</td>\n",
              "    </tr>\n",
              "    <tr>\n",
              "      <th>25</th>\n",
              "      <td>0.164328</td>\n",
              "      <td>0.657492</td>\n",
              "      <td>0.876533</td>\n",
              "      <td>0.163929</td>\n",
              "      <td>0.157231</td>\n",
              "      <td>0.628923</td>\n",
              "      <td>0.811667</td>\n",
              "      <td>53040</td>\n",
              "      <td>40800</td>\n",
              "    </tr>\n",
              "    <tr>\n",
              "      <th>26</th>\n",
              "      <td>0.164288</td>\n",
              "      <td>0.657745</td>\n",
              "      <td>0.870180</td>\n",
              "      <td>0.163929</td>\n",
              "      <td>0.157700</td>\n",
              "      <td>0.630802</td>\n",
              "      <td>0.815382</td>\n",
              "      <td>55080</td>\n",
              "      <td>40800</td>\n",
              "    </tr>\n",
              "    <tr>\n",
              "      <th>27</th>\n",
              "      <td>0.164346</td>\n",
              "      <td>0.657949</td>\n",
              "      <td>0.857676</td>\n",
              "      <td>0.163929</td>\n",
              "      <td>0.154462</td>\n",
              "      <td>0.617846</td>\n",
              "      <td>0.794602</td>\n",
              "      <td>57120</td>\n",
              "      <td>40800</td>\n",
              "    </tr>\n",
              "    <tr>\n",
              "      <th>28</th>\n",
              "      <td>0.164355</td>\n",
              "      <td>0.656223</td>\n",
              "      <td>0.866184</td>\n",
              "      <td>0.163929</td>\n",
              "      <td>0.155426</td>\n",
              "      <td>0.621703</td>\n",
              "      <td>0.801288</td>\n",
              "      <td>59160</td>\n",
              "      <td>40800</td>\n",
              "    </tr>\n",
              "    <tr>\n",
              "      <th>29</th>\n",
              "      <td>0.163423</td>\n",
              "      <td>0.653845</td>\n",
              "      <td>0.861069</td>\n",
              "      <td>0.163423</td>\n",
              "      <td>0.156160</td>\n",
              "      <td>0.624637</td>\n",
              "      <td>0.805564</td>\n",
              "      <td>61200</td>\n",
              "      <td>61200</td>\n",
              "    </tr>\n",
              "  </tbody>\n",
              "</table>\n",
              "</div>"
            ],
            "text/plain": [
              "    eval_loss  eval_MAE  eval_RMSE  best_eval_loss  train_loss  train_MAE  \\\n",
              "0    0.177940  0.711546   0.897096        0.177940    0.186168   0.744670   \n",
              "1    0.172518  0.690192   0.911174        0.172518    0.181926   0.727703   \n",
              "2    0.170251  0.680958   0.881633        0.170251    0.179202   0.716809   \n",
              "3    0.168272  0.673244   0.866753        0.168272    0.170464   0.681855   \n",
              "4    0.168249  0.673136   0.878539        0.168249    0.170174   0.680697   \n",
              "5    0.167422  0.669828   0.861407        0.167422    0.170223   0.680890   \n",
              "6    0.167301  0.669377   0.877259        0.167301    0.167215   0.668861   \n",
              "7    0.167703  0.670526   0.855689        0.167301    0.167081   0.668325   \n",
              "8    0.166334  0.665467   0.858029        0.166334    0.167165   0.668657   \n",
              "9    0.168021  0.672625   0.881349        0.166334    0.164670   0.658681   \n",
              "10   0.166924  0.666495   0.872196        0.166334    0.165274   0.661096   \n",
              "11   0.166922  0.667835   0.893240        0.166334    0.165311   0.661248   \n",
              "12   0.166538  0.666730   0.890973        0.166334    0.163332   0.653326   \n",
              "13   0.165435  0.661877   0.871642        0.165435    0.163462   0.653848   \n",
              "14   0.164605  0.659006   0.859186        0.164605    0.163566   0.654266   \n",
              "15   0.165274  0.660384   0.877896        0.164605    0.160632   0.642526   \n",
              "16   0.164486  0.657670   0.872381        0.164486    0.161410   0.645639   \n",
              "17   0.164673  0.659262   0.861284        0.164486    0.161895   0.647582   \n",
              "18   0.164225  0.656583   0.854129        0.164225    0.158883   0.635532   \n",
              "19   0.163929  0.656253   0.859146        0.163929    0.159902   0.639607   \n",
              "20   0.164427  0.657404   0.856399        0.163929    0.160340   0.641365   \n",
              "21   0.163953  0.655921   0.861779        0.163929    0.157936   0.631746   \n",
              "22   0.166794  0.666875   0.904629        0.163929    0.158445   0.633779   \n",
              "23   0.164742  0.658211   0.876026        0.163929    0.158943   0.635776   \n",
              "24   0.164723  0.658209   0.876552        0.163929    0.156719   0.626876   \n",
              "25   0.164328  0.657492   0.876533        0.163929    0.157231   0.628923   \n",
              "26   0.164288  0.657745   0.870180        0.163929    0.157700   0.630802   \n",
              "27   0.164346  0.657949   0.857676        0.163929    0.154462   0.617846   \n",
              "28   0.164355  0.656223   0.866184        0.163929    0.155426   0.621703   \n",
              "29   0.163423  0.653845   0.861069        0.163423    0.156160   0.624637   \n",
              "\n",
              "    train_RMSE  steps  best_checkpoint  \n",
              "0     0.942312   2040             2040  \n",
              "1     0.925990   4080             4080  \n",
              "2     0.914413   6120             6120  \n",
              "3     0.877094   8160             8160  \n",
              "4     0.877661  10200            10200  \n",
              "5     0.879571  12240            12240  \n",
              "6     0.868804  14280            14280  \n",
              "7     0.867252  16320            14280  \n",
              "8     0.866583  18360            18360  \n",
              "9     0.855419  20400            18360  \n",
              "10    0.857439  22440            18360  \n",
              "11    0.857368  24480            18360  \n",
              "12    0.848371  26520            18360  \n",
              "13    0.848778  28560            28560  \n",
              "14    0.849315  30600            30600  \n",
              "15    0.833383  32640            30600  \n",
              "16    0.837273  34680            34680  \n",
              "17    0.840208  36720            34680  \n",
              "18    0.818908  38760            38760  \n",
              "19    0.826833  40800            40800  \n",
              "20    0.829671  42840            40800  \n",
              "21    0.817037  44880            40800  \n",
              "22    0.819198  46920            40800  \n",
              "23    0.822214  48960            40800  \n",
              "24    0.808386  51000            40800  \n",
              "25    0.811667  53040            40800  \n",
              "26    0.815382  55080            40800  \n",
              "27    0.794602  57120            40800  \n",
              "28    0.801288  59160            40800  \n",
              "29    0.805564  61200            61200  "
            ]
          },
          "execution_count": 163,
          "metadata": {},
          "output_type": "execute_result"
        }
      ],
      "source": [
        "df_metrics = pd.DataFrame(metrics_list)\n",
        "df_metrics"
      ]
    },
    {
      "cell_type": "code",
      "execution_count": 164,
      "metadata": {},
      "outputs": [
        {
          "data": {
            "text/plain": [
              "<Axes: xlabel='steps'>"
            ]
          },
          "execution_count": 164,
          "metadata": {},
          "output_type": "execute_result"
        },
        {
          "data": {
            "image/png": "[encoded data removed]",
            "text/plain": [
              "<Figure size 640x480 with 1 Axes>"
            ]
          },
          "metadata": {},
          "output_type": "display_data"
        }
      ],
      "source": [
        "df_metrics = df_metrics.set_index(\"steps\")\n",
        "df_metrics[['eval_loss','train_loss']].plot() "
      ]
    },
    {
      "attachments": {},
      "cell_type": "markdown",
      "metadata": {},
      "source": [
        "## (7) Validate Best Model"
      ]
    },
    {
      "cell_type": "code",
      "execution_count": 165,
      "metadata": {},
      "outputs": [],
      "source": [
        "best_model = BSTRecommender(config=config)"
      ]
    },
    {
      "cell_type": "code",
      "execution_count": 166,
      "metadata": {},
      "outputs": [
        {
          "data": {
            "text/plain": [
              "BSTRecommender(\n",
              "  (embedding_layers): ModuleDict(\n",
              "    (user): Embedding(6041, 32)\n",
              "    (movie): Embedding(3884, 32)\n",
              "    (genre): Embedding(19, 32)\n",
              "    (occupation): Embedding(22, 32)\n",
              "    (age_group): Embedding(8, 32)\n",
              "    (position): Embedding(15, 32)\n",
              "  )\n",
              "  (transformer_layer): TransformerLayer(\n",
              "    (transformer_blocks): ModuleList(\n",
              "      (0-2): 3 x TransformerBlock(\n",
              "        (multihead_attention): MultiheadAttention(\n",
              "          (out_proj): NonDynamicallyQuantizableLinear(in_features=96, out_features=96, bias=True)\n",
              "        )\n",
              "        (layer_norm1): LayerNorm((96,), eps=1e-05, elementwise_affine=True)\n",
              "        (feed_forward): Sequential(\n",
              "          (0): Linear(in_features=96, out_features=384, bias=True)\n",
              "          (1): ReLU()\n",
              "          (2): Linear(in_features=384, out_features=96, bias=True)\n",
              "          (3): Dropout(p=0.2, inplace=False)\n",
              "        )\n",
              "        (layer_norm2): LayerNorm((96,), eps=1e-05, elementwise_affine=True)\n",
              "        (dropout): Dropout(p=0.2, inplace=False)\n",
              "      )\n",
              "    )\n",
              "  )\n",
              "  (mlp): MLP(\n",
              "    (dropout): Dropout(p=0.2, inplace=False)\n",
              "    (layers): ModuleList(\n",
              "      (0): Linear(in_features=1697, out_features=256, bias=True)\n",
              "      (1): LeakyReLU(negative_slope=0.01)\n",
              "      (2): Dropout(p=0.2, inplace=False)\n",
              "      (3): Linear(in_features=256, out_features=64, bias=True)\n",
              "      (4): LeakyReLU(negative_slope=0.01)\n",
              "      (5): Dropout(p=0.2, inplace=False)\n",
              "    )\n",
              "    (fc): Linear(in_features=64, out_features=1, bias=True)\n",
              "    (sigmoid): Sigmoid()\n",
              "  )\n",
              ")"
            ]
          },
          "execution_count": 166,
          "metadata": {},
          "output_type": "execute_result"
        }
      ],
      "source": [
        "best_model.load_state_dict(torch.load(best_model_path))\n",
        "best_model.eval()\n",
        "best_model.to(config.device)"
      ]
    },
    {
      "cell_type": "code",
      "execution_count": 167,
      "metadata": {},
      "outputs": [
        {
          "name": "stderr",
          "output_type": "stream",
          "text": [
            "100%|██████████| 1082/1082 [9:23:48<00:00, 31.26s/it]\n",
            "100%|█████████▉| 1077/1082 [00:26<00:00, 41.89it/s]"
          ]
        }
      ],
      "source": [
        "best_model.eval()\n",
        "prob_list= []\n",
        "rating_list = []\n",
        "eval_loss_list = []\n",
        "pbar = tqdm(total = len(test_loader),desc = \"\",position=0, leave=True)\n",
        "for inputs in test_loader:\n",
        "    with torch.no_grad():\n",
        "        probs = best_model(inputs)\n",
        "        ratings = inputs['target_rating'].view(-1,1)\n",
        "        \n",
        "        loss = loss_func(probs, ratings)\n",
        "        eval_loss_list.append(loss.item())\n",
        "\n",
        "        probs = probs.cpu().numpy().flatten().tolist()\n",
        "        prob_list.extend(probs)\n",
        "\n",
        "        ratings = ratings.cpu().numpy().flatten().tolist()\n",
        "        rating_list.extend(ratings)\n",
        "\n",
        "        pbar.update(1)"
      ]
    },
    {
      "cell_type": "code",
      "execution_count": 168,
      "metadata": {},
      "outputs": [],
      "source": [
        "prediction = pd.DataFrame()\n",
        "prediction['real']=min_max_scaler.inverse_transform(np.array(rating_list).reshape(-1,1))[:,0]\n",
        "prediction['prediction']=min_max_scaler.inverse_transform(np.array(prob_list).reshape(-1,1))[:,0]"
      ]
    },
    {
      "cell_type": "code",
      "execution_count": 169,
      "metadata": {},
      "outputs": [],
      "source": [
        "MAE = metrics.mean_absolute_error(prediction['real'],prediction['prediction'])\n",
        "RMSE = metrics.mean_squared_error(prediction['real'],prediction['prediction'])"
      ]
    },
    {
      "cell_type": "code",
      "execution_count": 170,
      "metadata": {},
      "outputs": [
        {
          "name": "stdout",
          "output_type": "stream",
          "text": [
            "MAE:0.6536779692510833,RMSE:0.8608922252643757\n"
          ]
        }
      ],
      "source": [
        "print(f\"MAE:{MAE},RMSE:{RMSE}\")"
      ]
    },
    {
      "cell_type": "code",
      "execution_count": 171,
      "metadata": {},
      "outputs": [],
      "source": [
        "from sklearn.utils import shuffle"
      ]
    },
    {
      "cell_type": "code",
      "execution_count": 172,
      "metadata": {},
      "outputs": [
        {
          "data": {
            "text/html": [
              "<div>\n",
              "<style scoped>\n",
              "    .dataframe tbody tr th:only-of-type {\n",
              "        vertical-align: middle;\n",
              "    }\n",
              "\n",
              "    .dataframe tbody tr th {\n",
              "        vertical-align: top;\n",
              "    }\n",
              "\n",
              "    .dataframe thead th {\n",
              "        text-align: right;\n",
              "    }\n",
              "</style>\n",
              "<table border=\"1\" class=\"dataframe\">\n",
              "  <thead>\n",
              "    <tr style=\"text-align: right;\">\n",
              "      <th></th>\n",
              "      <th>real</th>\n",
              "      <th>prediction</th>\n",
              "    </tr>\n",
              "  </thead>\n",
              "  <tbody>\n",
              "    <tr>\n",
              "      <th>130660</th>\n",
              "      <td>3.0</td>\n",
              "      <td>2.982224</td>\n",
              "    </tr>\n",
              "    <tr>\n",
              "      <th>93466</th>\n",
              "      <td>3.0</td>\n",
              "      <td>3.997287</td>\n",
              "    </tr>\n",
              "    <tr>\n",
              "      <th>49780</th>\n",
              "      <td>4.0</td>\n",
              "      <td>3.993527</td>\n",
              "    </tr>\n",
              "    <tr>\n",
              "      <th>88723</th>\n",
              "      <td>4.0</td>\n",
              "      <td>2.973104</td>\n",
              "    </tr>\n",
              "    <tr>\n",
              "      <th>124357</th>\n",
              "      <td>3.0</td>\n",
              "      <td>4.471444</td>\n",
              "    </tr>\n",
              "    <tr>\n",
              "      <th>102855</th>\n",
              "      <td>3.0</td>\n",
              "      <td>2.992553</td>\n",
              "    </tr>\n",
              "    <tr>\n",
              "      <th>126400</th>\n",
              "      <td>1.0</td>\n",
              "      <td>3.989036</td>\n",
              "    </tr>\n",
              "    <tr>\n",
              "      <th>93819</th>\n",
              "      <td>2.0</td>\n",
              "      <td>2.982345</td>\n",
              "    </tr>\n",
              "    <tr>\n",
              "      <th>7490</th>\n",
              "      <td>3.0</td>\n",
              "      <td>3.945629</td>\n",
              "    </tr>\n",
              "    <tr>\n",
              "      <th>137062</th>\n",
              "      <td>2.0</td>\n",
              "      <td>3.987647</td>\n",
              "    </tr>\n",
              "    <tr>\n",
              "      <th>131207</th>\n",
              "      <td>3.0</td>\n",
              "      <td>2.981299</td>\n",
              "    </tr>\n",
              "    <tr>\n",
              "      <th>75828</th>\n",
              "      <td>4.0</td>\n",
              "      <td>3.013258</td>\n",
              "    </tr>\n",
              "    <tr>\n",
              "      <th>75814</th>\n",
              "      <td>5.0</td>\n",
              "      <td>4.887178</td>\n",
              "    </tr>\n",
              "    <tr>\n",
              "      <th>64408</th>\n",
              "      <td>4.0</td>\n",
              "      <td>3.974693</td>\n",
              "    </tr>\n",
              "    <tr>\n",
              "      <th>93511</th>\n",
              "      <td>4.0</td>\n",
              "      <td>3.967021</td>\n",
              "    </tr>\n",
              "    <tr>\n",
              "      <th>111518</th>\n",
              "      <td>4.0</td>\n",
              "      <td>4.012592</td>\n",
              "    </tr>\n",
              "    <tr>\n",
              "      <th>135522</th>\n",
              "      <td>4.0</td>\n",
              "      <td>2.989148</td>\n",
              "    </tr>\n",
              "    <tr>\n",
              "      <th>74181</th>\n",
              "      <td>3.0</td>\n",
              "      <td>3.915195</td>\n",
              "    </tr>\n",
              "    <tr>\n",
              "      <th>31082</th>\n",
              "      <td>5.0</td>\n",
              "      <td>5.000000</td>\n",
              "    </tr>\n",
              "    <tr>\n",
              "      <th>108917</th>\n",
              "      <td>2.0</td>\n",
              "      <td>1.625668</td>\n",
              "    </tr>\n",
              "    <tr>\n",
              "      <th>22473</th>\n",
              "      <td>2.0</td>\n",
              "      <td>2.998267</td>\n",
              "    </tr>\n",
              "    <tr>\n",
              "      <th>85692</th>\n",
              "      <td>4.0</td>\n",
              "      <td>4.013710</td>\n",
              "    </tr>\n",
              "    <tr>\n",
              "      <th>127472</th>\n",
              "      <td>4.0</td>\n",
              "      <td>2.996374</td>\n",
              "    </tr>\n",
              "    <tr>\n",
              "      <th>88003</th>\n",
              "      <td>5.0</td>\n",
              "      <td>3.966777</td>\n",
              "    </tr>\n",
              "    <tr>\n",
              "      <th>54969</th>\n",
              "      <td>4.0</td>\n",
              "      <td>3.997706</td>\n",
              "    </tr>\n",
              "    <tr>\n",
              "      <th>42541</th>\n",
              "      <td>4.0</td>\n",
              "      <td>3.995900</td>\n",
              "    </tr>\n",
              "    <tr>\n",
              "      <th>4726</th>\n",
              "      <td>3.0</td>\n",
              "      <td>2.987465</td>\n",
              "    </tr>\n",
              "    <tr>\n",
              "      <th>131216</th>\n",
              "      <td>4.0</td>\n",
              "      <td>3.965334</td>\n",
              "    </tr>\n",
              "    <tr>\n",
              "      <th>39903</th>\n",
              "      <td>5.0</td>\n",
              "      <td>5.000000</td>\n",
              "    </tr>\n",
              "    <tr>\n",
              "      <th>82680</th>\n",
              "      <td>5.0</td>\n",
              "      <td>3.957910</td>\n",
              "    </tr>\n",
              "    <tr>\n",
              "      <th>110511</th>\n",
              "      <td>4.0</td>\n",
              "      <td>3.935723</td>\n",
              "    </tr>\n",
              "    <tr>\n",
              "      <th>53329</th>\n",
              "      <td>5.0</td>\n",
              "      <td>4.999967</td>\n",
              "    </tr>\n",
              "    <tr>\n",
              "      <th>83600</th>\n",
              "      <td>5.0</td>\n",
              "      <td>3.887638</td>\n",
              "    </tr>\n",
              "    <tr>\n",
              "      <th>9637</th>\n",
              "      <td>3.0</td>\n",
              "      <td>2.988244</td>\n",
              "    </tr>\n",
              "    <tr>\n",
              "      <th>63495</th>\n",
              "      <td>4.0</td>\n",
              "      <td>3.888839</td>\n",
              "    </tr>\n",
              "    <tr>\n",
              "      <th>57149</th>\n",
              "      <td>2.0</td>\n",
              "      <td>3.000439</td>\n",
              "    </tr>\n",
              "    <tr>\n",
              "      <th>23209</th>\n",
              "      <td>2.0</td>\n",
              "      <td>2.311418</td>\n",
              "    </tr>\n",
              "    <tr>\n",
              "      <th>132914</th>\n",
              "      <td>2.0</td>\n",
              "      <td>4.015882</td>\n",
              "    </tr>\n",
              "    <tr>\n",
              "      <th>133397</th>\n",
              "      <td>3.0</td>\n",
              "      <td>3.928114</td>\n",
              "    </tr>\n",
              "    <tr>\n",
              "      <th>35512</th>\n",
              "      <td>5.0</td>\n",
              "      <td>4.092342</td>\n",
              "    </tr>\n",
              "    <tr>\n",
              "      <th>96820</th>\n",
              "      <td>5.0</td>\n",
              "      <td>3.972375</td>\n",
              "    </tr>\n",
              "    <tr>\n",
              "      <th>82858</th>\n",
              "      <td>2.0</td>\n",
              "      <td>3.960395</td>\n",
              "    </tr>\n",
              "    <tr>\n",
              "      <th>4322</th>\n",
              "      <td>5.0</td>\n",
              "      <td>3.979971</td>\n",
              "    </tr>\n",
              "    <tr>\n",
              "      <th>13094</th>\n",
              "      <td>5.0</td>\n",
              "      <td>3.998739</td>\n",
              "    </tr>\n",
              "    <tr>\n",
              "      <th>61372</th>\n",
              "      <td>3.0</td>\n",
              "      <td>3.986540</td>\n",
              "    </tr>\n",
              "    <tr>\n",
              "      <th>68047</th>\n",
              "      <td>3.0</td>\n",
              "      <td>3.986180</td>\n",
              "    </tr>\n",
              "    <tr>\n",
              "      <th>100780</th>\n",
              "      <td>4.0</td>\n",
              "      <td>4.140824</td>\n",
              "    </tr>\n",
              "    <tr>\n",
              "      <th>58430</th>\n",
              "      <td>3.0</td>\n",
              "      <td>3.991569</td>\n",
              "    </tr>\n",
              "    <tr>\n",
              "      <th>68909</th>\n",
              "      <td>1.0</td>\n",
              "      <td>1.005789</td>\n",
              "    </tr>\n",
              "    <tr>\n",
              "      <th>43286</th>\n",
              "      <td>4.0</td>\n",
              "      <td>3.990733</td>\n",
              "    </tr>\n",
              "  </tbody>\n",
              "</table>\n",
              "</div>"
            ],
            "text/plain": [
              "        real  prediction\n",
              "130660   3.0    2.982224\n",
              "93466    3.0    3.997287\n",
              "49780    4.0    3.993527\n",
              "88723    4.0    2.973104\n",
              "124357   3.0    4.471444\n",
              "102855   3.0    2.992553\n",
              "126400   1.0    3.989036\n",
              "93819    2.0    2.982345\n",
              "7490     3.0    3.945629\n",
              "137062   2.0    3.987647\n",
              "131207   3.0    2.981299\n",
              "75828    4.0    3.013258\n",
              "75814    5.0    4.887178\n",
              "64408    4.0    3.974693\n",
              "93511    4.0    3.967021\n",
              "111518   4.0    4.012592\n",
              "135522   4.0    2.989148\n",
              "74181    3.0    3.915195\n",
              "31082    5.0    5.000000\n",
              "108917   2.0    1.625668\n",
              "22473    2.0    2.998267\n",
              "85692    4.0    4.013710\n",
              "127472   4.0    2.996374\n",
              "88003    5.0    3.966777\n",
              "54969    4.0    3.997706\n",
              "42541    4.0    3.995900\n",
              "4726     3.0    2.987465\n",
              "131216   4.0    3.965334\n",
              "39903    5.0    5.000000\n",
              "82680    5.0    3.957910\n",
              "110511   4.0    3.935723\n",
              "53329    5.0    4.999967\n",
              "83600    5.0    3.887638\n",
              "9637     3.0    2.988244\n",
              "63495    4.0    3.888839\n",
              "57149    2.0    3.000439\n",
              "23209    2.0    2.311418\n",
              "132914   2.0    4.015882\n",
              "133397   3.0    3.928114\n",
              "35512    5.0    4.092342\n",
              "96820    5.0    3.972375\n",
              "82858    2.0    3.960395\n",
              "4322     5.0    3.979971\n",
              "13094    5.0    3.998739\n",
              "61372    3.0    3.986540\n",
              "68047    3.0    3.986180\n",
              "100780   4.0    4.140824\n",
              "58430    3.0    3.991569\n",
              "68909    1.0    1.005789\n",
              "43286    4.0    3.990733"
            ]
          },
          "execution_count": 172,
          "metadata": {},
          "output_type": "execute_result"
        },
        {
          "name": "stderr",
          "output_type": "stream",
          "text": [
            "100%|██████████| 1082/1082 [00:43<00:00, 41.89it/s]"
          ]
        }
      ],
      "source": [
        "shuffle(prediction).iloc[:50]"
      ]
    },
    {
      "cell_type": "code",
      "execution_count": null,
      "metadata": {},
      "outputs": [],
      "source": []
    }
  ],
  "metadata": {
    "accelerator": "GPU",
    "colab": {
      "gpuType": "T4",
      "provenance": [],
      "toc_visible": true
    },
    "kernelspec": {
      "display_name": "Python 3",
      "name": "python3"
    },
    "language_info": {
      "codemirror_mode": {
        "name": "ipython",
        "version": 3
      },
      "file_extension": ".py",
      "mimetype": "text/x-python",
      "name": "python",
      "nbconvert_exporter": "python",
      "pygments_lexer": "ipython3",
      "version": "3.11.3"
    }
  },
  "nbformat": 4,
  "nbformat_minor": 0
}
