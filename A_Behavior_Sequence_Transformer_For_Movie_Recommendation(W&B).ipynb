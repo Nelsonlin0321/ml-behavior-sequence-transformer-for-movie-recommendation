{
  "cells": [
    {
      "attachments": {},
      "cell_type": "markdown",
      "metadata": {
        "id": "aUG4oG3JSGCn"
      },
      "source": [
        "# A Behavior Sequence Transformer For Movie Recommendation With Weight & Baises Tracking\n",
        "\n",
        "**Author:** [Nelson Lin](https://www.linkedin.com/in/nelson-lin-842564164/)<br>\n",
        "**Date created:** 2024/07/09<br>\n",
        "**Last modified:** 2024/07/09<br>\n",
        "**Description:** Rating rate prediction using the Behavior Sequence Transformer (BST) model on the Movielens 1M."
      ]
    },
    {
      "attachments": {},
      "cell_type": "markdown",
      "metadata": {
        "id": "10UcMwj-Sjqv"
      },
      "source": [
        "## (1) Notebook Settings"
      ]
    },
    {
      "cell_type": "code",
      "execution_count": 1,
      "metadata": {
        "id": "RxoBk0OkSvPn"
      },
      "outputs": [],
      "source": [
        "import pandas as pd\n",
        "import os\n",
        "import numpy as np\n",
        "import torch\n",
        "from torch import nn\n",
        "from zipfile import ZipFile\n",
        "from urllib.request import urlretrieve\n",
        "from torch.utils.data import Dataset\n",
        "from torch.utils.data import DataLoader\n",
        "from sklearn.preprocessing import MinMaxScaler\n",
        "from tqdm import tqdm\n",
        "import random\n",
        "import json\n",
        "import wandb\n",
        "from sklearn import metrics"
      ]
    },
    {
      "cell_type": "code",
      "execution_count": 2,
      "metadata": {},
      "outputs": [],
      "source": [
        "# Set random seed for reproducibility\n",
        "torch.manual_seed(0)\n",
        "np.random.seed(0)\n",
        "random.seed(0)\n",
        "if torch.cuda.is_available():\n",
        "    torch.backends.cudnn.deterministic = True\n",
        "    torch.backends.cudnn.benchmark = False\n"
      ]
    },
    {
      "cell_type": "code",
      "execution_count": 3,
      "metadata": {},
      "outputs": [],
      "source": [
        "os.environ[\"WANDB_NOTEBOOK_NAME\"] = \"A_Behavior_Sequence_Transformer_For_Movie_Recommendation(W&B).ipynb\""
      ]
    },
    {
      "cell_type": "code",
      "execution_count": 4,
      "metadata": {},
      "outputs": [
        {
          "name": "stderr",
          "output_type": "stream",
          "text": [
            "\u001b[34m\u001b[1mwandb\u001b[0m: Currently logged in as: \u001b[33mnelsonlin0321\u001b[0m. Use \u001b[1m`wandb login --relogin`\u001b[0m to force relogin\n"
          ]
        },
        {
          "data": {
            "text/plain": [
              "True"
            ]
          },
          "execution_count": 4,
          "metadata": {},
          "output_type": "execute_result"
        }
      ],
      "source": [
        "wandb.login()"
      ]
    },
    {
      "attachments": {},
      "cell_type": "markdown",
      "metadata": {
        "id": "Z_RHfTP4S3IZ"
      },
      "source": [
        "## (2) Data preparation"
      ]
    },
    {
      "attachments": {},
      "cell_type": "markdown",
      "metadata": {
        "id": "Tm747EdZU1bZ"
      },
      "source": [
        "### Load Data"
      ]
    },
    {
      "cell_type": "code",
      "execution_count": 5,
      "metadata": {
        "id": "KrasdLSrSG1x"
      },
      "outputs": [],
      "source": [
        "urlretrieve(\"http://files.grouplens.org/datasets/movielens/ml-1m.zip\", \"movielens.zip\")\n",
        "ZipFile(\"movielens.zip\", \"r\").extractall()"
      ]
    },
    {
      "cell_type": "code",
      "execution_count": 6,
      "metadata": {
        "id": "c8YFIdZeSxaH"
      },
      "outputs": [],
      "source": [
        "users = pd.read_csv(\n",
        "    \"ml-1m/users.dat\",\n",
        "    sep=\"::\",\n",
        "    names=[\"user_id\", \"sex\", \"age_group\", \"occupation\", \"zip_code\"],\n",
        "    engine='python'\n",
        ")\n",
        "\n",
        "ratings = pd.read_csv(\n",
        "    \"ml-1m/ratings.dat\",\n",
        "    sep=\"::\",\n",
        "    names=[\"user_id\", \"movie_id\", \"rating\", \"unix_timestamp\"],\n",
        "    engine='python'\n",
        ")\n",
        "\n",
        "movies = pd.read_csv(\n",
        "    \"ml-1m/movies.dat\", sep=\"::\", names=[\"movie_id\", \"title\", \"genres\"],\n",
        "    engine='python',encoding='ISO-8859-1'\n",
        ")"
      ]
    },
    {
      "attachments": {},
      "cell_type": "markdown",
      "metadata": {
        "id": "MMRanAvKU9t1"
      },
      "source": [
        "### Remap ID to index"
      ]
    },
    {
      "cell_type": "code",
      "execution_count": 7,
      "metadata": {
        "id": "AxDgQLlHS17f"
      },
      "outputs": [],
      "source": [
        "# remap the id to index\n",
        "def generate_remap_id_dict(df,col):\n",
        "    ids = df[df[col].notnull()][col].unique().tolist()\n",
        "    ids = sorted(ids)\n",
        "    id_map_dict = {x: i+1 for i, x in enumerate(ids)}\n",
        "    id_map_dict[\"UNK\"]=0\n",
        "\n",
        "    df[f\"{col}_index\"] = df[col].fillna(\"UNK\").map(id_map_dict)\n",
        "\n",
        "    return id_map_dict"
      ]
    },
    {
      "cell_type": "code",
      "execution_count": 8,
      "metadata": {
        "id": "9sCplGKlTHHt"
      },
      "outputs": [],
      "source": [
        "user_id_map_dict = generate_remap_id_dict(users,col='user_id')"
      ]
    },
    {
      "cell_type": "code",
      "execution_count": 9,
      "metadata": {
        "colab": {
          "base_uri": "https://localhost:8080/",
          "height": 206
        },
        "id": "jl_-Q_yYUA-6",
        "outputId": "a37170ca-c76f-4d1c-e1e8-1cdcd42e5c0a"
      },
      "outputs": [
        {
          "data": {
            "text/html": [
              "<div>\n",
              "<style scoped>\n",
              "    .dataframe tbody tr th:only-of-type {\n",
              "        vertical-align: middle;\n",
              "    }\n",
              "\n",
              "    .dataframe tbody tr th {\n",
              "        vertical-align: top;\n",
              "    }\n",
              "\n",
              "    .dataframe thead th {\n",
              "        text-align: right;\n",
              "    }\n",
              "</style>\n",
              "<table border=\"1\" class=\"dataframe\">\n",
              "  <thead>\n",
              "    <tr style=\"text-align: right;\">\n",
              "      <th></th>\n",
              "      <th>user_id</th>\n",
              "      <th>sex</th>\n",
              "      <th>age_group</th>\n",
              "      <th>occupation</th>\n",
              "      <th>zip_code</th>\n",
              "      <th>user_id_index</th>\n",
              "    </tr>\n",
              "  </thead>\n",
              "  <tbody>\n",
              "    <tr>\n",
              "      <th>0</th>\n",
              "      <td>1</td>\n",
              "      <td>F</td>\n",
              "      <td>1</td>\n",
              "      <td>10</td>\n",
              "      <td>48067</td>\n",
              "      <td>1</td>\n",
              "    </tr>\n",
              "    <tr>\n",
              "      <th>1</th>\n",
              "      <td>2</td>\n",
              "      <td>M</td>\n",
              "      <td>56</td>\n",
              "      <td>16</td>\n",
              "      <td>70072</td>\n",
              "      <td>2</td>\n",
              "    </tr>\n",
              "    <tr>\n",
              "      <th>2</th>\n",
              "      <td>3</td>\n",
              "      <td>M</td>\n",
              "      <td>25</td>\n",
              "      <td>15</td>\n",
              "      <td>55117</td>\n",
              "      <td>3</td>\n",
              "    </tr>\n",
              "    <tr>\n",
              "      <th>3</th>\n",
              "      <td>4</td>\n",
              "      <td>M</td>\n",
              "      <td>45</td>\n",
              "      <td>7</td>\n",
              "      <td>02460</td>\n",
              "      <td>4</td>\n",
              "    </tr>\n",
              "    <tr>\n",
              "      <th>4</th>\n",
              "      <td>5</td>\n",
              "      <td>M</td>\n",
              "      <td>25</td>\n",
              "      <td>20</td>\n",
              "      <td>55455</td>\n",
              "      <td>5</td>\n",
              "    </tr>\n",
              "  </tbody>\n",
              "</table>\n",
              "</div>"
            ],
            "text/plain": [
              "   user_id sex  age_group  occupation zip_code  user_id_index\n",
              "0        1   F          1          10    48067              1\n",
              "1        2   M         56          16    70072              2\n",
              "2        3   M         25          15    55117              3\n",
              "3        4   M         45           7    02460              4\n",
              "4        5   M         25          20    55455              5"
            ]
          },
          "execution_count": 9,
          "metadata": {},
          "output_type": "execute_result"
        }
      ],
      "source": [
        "users.head()"
      ]
    },
    {
      "cell_type": "code",
      "execution_count": 10,
      "metadata": {
        "id": "hsCN2BJ0UAQC"
      },
      "outputs": [],
      "source": [
        "# remap sex to score\n",
        "sex_id_map_dict = {'M':0.0,'F':1.0,'UNK':0.5}\n",
        "users['sex']=users['sex'].map(sex_id_map_dict)"
      ]
    },
    {
      "cell_type": "code",
      "execution_count": 11,
      "metadata": {
        "id": "ssHECS9iTZ3A"
      },
      "outputs": [],
      "source": [
        "occupation_id_map_dict = generate_remap_id_dict(users,col='occupation')"
      ]
    },
    {
      "cell_type": "code",
      "execution_count": 12,
      "metadata": {
        "id": "dGTwjedfTfN1"
      },
      "outputs": [],
      "source": [
        "age_group_id_map_dict = generate_remap_id_dict(users,col='age_group')"
      ]
    },
    {
      "cell_type": "code",
      "execution_count": 13,
      "metadata": {
        "id": "NRtH_iAeTgn0"
      },
      "outputs": [],
      "source": [
        "min_max_scaler = MinMaxScaler()\n",
        "ratings[\"norm_rating\"] = min_max_scaler.fit_transform(\n",
        "    ratings[\"rating\"].values.reshape(-1, 1))[:, 0]"
      ]
    },
    {
      "cell_type": "code",
      "execution_count": 14,
      "metadata": {
        "id": "gqur_n48Trck"
      },
      "outputs": [],
      "source": [
        "movie_id_map_dict = generate_remap_id_dict(movies,col='movie_id')"
      ]
    },
    {
      "cell_type": "code",
      "execution_count": 15,
      "metadata": {
        "id": "DSu3fNkyTv6D"
      },
      "outputs": [],
      "source": [
        "genres_set = set()\n",
        "def get_genres_set(genres):\n",
        "    global genres_set\n",
        "    genres_split = genres.split(\"|\")\n",
        "    genres_set.update(genres_split)\n",
        "    return genres_split\n",
        "movies['genres'] = movies['genres'].apply(lambda x:get_genres_set(x))\n",
        "genres_map_dict ={x: i+1 for i, x in enumerate(sorted(genres_set))}\n",
        "genres_map_dict['UNK']=0"
      ]
    },
    {
      "cell_type": "code",
      "execution_count": 16,
      "metadata": {
        "id": "hD5T2WuYUUuB"
      },
      "outputs": [],
      "source": [
        "movies['genres_ids']= movies['genres'].apply(lambda x: [genres_map_dict[g] for g in x])"
      ]
    },
    {
      "cell_type": "code",
      "execution_count": 17,
      "metadata": {
        "id": "qbMexz0nUPyz"
      },
      "outputs": [],
      "source": [
        "ratings['movie_id_index'] = ratings['movie_id'].map(movie_id_map_dict)\n",
        "ratings['user_id_index'] = ratings['user_id'].map(user_id_map_dict)"
      ]
    },
    {
      "cell_type": "code",
      "execution_count": 18,
      "metadata": {
        "id": "0NW-x8FdTy40"
      },
      "outputs": [],
      "source": [
        "df_user_views = ratings[[\"movie_id_index\", \"user_id_index\", \"unix_timestamp\", \"norm_rating\"]] \\\n",
        "    .merge(movies[['movie_id_index', 'genres_ids']],\n",
        "           on=['movie_id_index'])"
      ]
    },
    {
      "cell_type": "code",
      "execution_count": 19,
      "metadata": {
        "colab": {
          "base_uri": "https://localhost:8080/",
          "height": 206
        },
        "id": "QM1VX4lVUMMa",
        "outputId": "aca32242-4f66-4be8-bdab-669ab38d1a26"
      },
      "outputs": [
        {
          "data": {
            "text/html": [
              "<div>\n",
              "<style scoped>\n",
              "    .dataframe tbody tr th:only-of-type {\n",
              "        vertical-align: middle;\n",
              "    }\n",
              "\n",
              "    .dataframe tbody tr th {\n",
              "        vertical-align: top;\n",
              "    }\n",
              "\n",
              "    .dataframe thead th {\n",
              "        text-align: right;\n",
              "    }\n",
              "</style>\n",
              "<table border=\"1\" class=\"dataframe\">\n",
              "  <thead>\n",
              "    <tr style=\"text-align: right;\">\n",
              "      <th></th>\n",
              "      <th>movie_id_index</th>\n",
              "      <th>user_id_index</th>\n",
              "      <th>unix_timestamp</th>\n",
              "      <th>norm_rating</th>\n",
              "      <th>genres_ids</th>\n",
              "    </tr>\n",
              "  </thead>\n",
              "  <tbody>\n",
              "    <tr>\n",
              "      <th>0</th>\n",
              "      <td>1177</td>\n",
              "      <td>1</td>\n",
              "      <td>978300760</td>\n",
              "      <td>1.00</td>\n",
              "      <td>[8]</td>\n",
              "    </tr>\n",
              "    <tr>\n",
              "      <th>1</th>\n",
              "      <td>1177</td>\n",
              "      <td>2</td>\n",
              "      <td>978298413</td>\n",
              "      <td>1.00</td>\n",
              "      <td>[8]</td>\n",
              "    </tr>\n",
              "    <tr>\n",
              "      <th>2</th>\n",
              "      <td>1177</td>\n",
              "      <td>12</td>\n",
              "      <td>978220179</td>\n",
              "      <td>0.75</td>\n",
              "      <td>[8]</td>\n",
              "    </tr>\n",
              "    <tr>\n",
              "      <th>3</th>\n",
              "      <td>1177</td>\n",
              "      <td>15</td>\n",
              "      <td>978199279</td>\n",
              "      <td>0.75</td>\n",
              "      <td>[8]</td>\n",
              "    </tr>\n",
              "    <tr>\n",
              "      <th>4</th>\n",
              "      <td>1177</td>\n",
              "      <td>17</td>\n",
              "      <td>978158471</td>\n",
              "      <td>1.00</td>\n",
              "      <td>[8]</td>\n",
              "    </tr>\n",
              "  </tbody>\n",
              "</table>\n",
              "</div>"
            ],
            "text/plain": [
              "   movie_id_index  user_id_index  unix_timestamp  norm_rating genres_ids\n",
              "0            1177              1       978300760         1.00        [8]\n",
              "1            1177              2       978298413         1.00        [8]\n",
              "2            1177             12       978220179         0.75        [8]\n",
              "3            1177             15       978199279         0.75        [8]\n",
              "4            1177             17       978158471         1.00        [8]"
            ]
          },
          "execution_count": 19,
          "metadata": {},
          "output_type": "execute_result"
        }
      ],
      "source": [
        "df_user_views.head()"
      ]
    },
    {
      "attachments": {},
      "cell_type": "markdown",
      "metadata": {
        "id": "o2uoGM6uUsKF"
      },
      "source": [
        "### Prepare the Sequence"
      ]
    },
    {
      "cell_type": "code",
      "execution_count": 20,
      "metadata": {
        "id": "DvQBp4moVNEf"
      },
      "outputs": [],
      "source": [
        "df_agg_ratings = df_user_views.sort_values(by=[\"unix_timestamp\"]).groupby(\"user_id_index\")"
      ]
    },
    {
      "cell_type": "code",
      "execution_count": 21,
      "metadata": {
        "id": "44_d1f5pVSqX"
      },
      "outputs": [],
      "source": [
        "ratings_data = pd.DataFrame(\n",
        "    data={\n",
        "        \"user_id_index\": list(df_agg_ratings.groups.keys()),\n",
        "        \"movie_sequence\": list(df_agg_ratings.movie_id_index.apply(list)),\n",
        "        \"rating_sequence\": list(df_agg_ratings.norm_rating.apply(list)),\n",
        "        \"timestamps\": list(df_agg_ratings.unix_timestamp.apply(list)),\n",
        "    }\n",
        ")"
      ]
    },
    {
      "cell_type": "code",
      "execution_count": 22,
      "metadata": {
        "id": "LrruVMSyUxXW"
      },
      "outputs": [],
      "source": [
        "sequence_length = 4\n",
        "step_size = 2\n",
        "\n",
        "\n",
        "def create_sequences(values, window_size, step_size):\n",
        "    sequences = []\n",
        "    start_index = 0\n",
        "    while True:\n",
        "        end_index = start_index + window_size\n",
        "        seq = values[start_index:end_index]\n",
        "        if len(seq) < window_size:\n",
        "            seq = values[-window_size:]\n",
        "            if len(seq) == window_size:\n",
        "                sequences.append(seq)\n",
        "            break\n",
        "        sequences.append(seq)\n",
        "        start_index += step_size\n",
        "    return sequences\n",
        "\n",
        "\n",
        "ratings_data.movie_sequence\t = ratings_data.movie_sequence.apply(\n",
        "    lambda ids: create_sequences(ids, sequence_length, step_size)\n",
        ")\n",
        "\n",
        "ratings_data.rating_sequence = ratings_data.rating_sequence.apply(\n",
        "    lambda ids: create_sequences(ids, sequence_length, step_size)\n",
        ")\n",
        "\n",
        "del ratings_data[\"timestamps\"]"
      ]
    },
    {
      "cell_type": "code",
      "execution_count": 23,
      "metadata": {
        "id": "eREuVC30VU03"
      },
      "outputs": [],
      "source": [
        "ratings_data_movies = ratings_data[[\"user_id_index\", \"movie_sequence\"]].explode(\n",
        "    \"movie_sequence\", ignore_index=True\n",
        ")\n",
        "ratings_data_rating = ratings_data[[\"rating_sequence\"]].explode(\"rating_sequence\", ignore_index=True)\n",
        "ratings_data_transformed = pd.concat([ratings_data_movies, ratings_data_rating], axis=1)"
      ]
    },
    {
      "cell_type": "code",
      "execution_count": 24,
      "metadata": {
        "colab": {
          "base_uri": "https://localhost:8080/",
          "height": 206
        },
        "id": "K-yTVNctVWbn",
        "outputId": "d51b685b-cc56-4caf-f201-729232ee2c2f"
      },
      "outputs": [
        {
          "data": {
            "text/html": [
              "<div>\n",
              "<style scoped>\n",
              "    .dataframe tbody tr th:only-of-type {\n",
              "        vertical-align: middle;\n",
              "    }\n",
              "\n",
              "    .dataframe tbody tr th {\n",
              "        vertical-align: top;\n",
              "    }\n",
              "\n",
              "    .dataframe thead th {\n",
              "        text-align: right;\n",
              "    }\n",
              "</style>\n",
              "<table border=\"1\" class=\"dataframe\">\n",
              "  <thead>\n",
              "    <tr style=\"text-align: right;\">\n",
              "      <th></th>\n",
              "      <th>user_id_index</th>\n",
              "      <th>movie_sequence</th>\n",
              "      <th>rating_sequence</th>\n",
              "    </tr>\n",
              "  </thead>\n",
              "  <tbody>\n",
              "    <tr>\n",
              "      <th>0</th>\n",
              "      <td>1</td>\n",
              "      <td>[3118, 1010, 1673, 1251]</td>\n",
              "      <td>[0.75, 1.0, 0.75, 1.0]</td>\n",
              "    </tr>\n",
              "    <tr>\n",
              "      <th>1</th>\n",
              "      <td>1</td>\n",
              "      <td>[1673, 1251, 2272, 1769]</td>\n",
              "      <td>[0.75, 1.0, 0.5, 1.0]</td>\n",
              "    </tr>\n",
              "    <tr>\n",
              "      <th>2</th>\n",
              "      <td>1</td>\n",
              "      <td>[2272, 1769, 3340, 1190]</td>\n",
              "      <td>[0.5, 1.0, 0.75, 0.75]</td>\n",
              "    </tr>\n",
              "    <tr>\n",
              "      <th>3</th>\n",
              "      <td>1</td>\n",
              "      <td>[3340, 1190, 2736, 258]</td>\n",
              "      <td>[0.75, 0.75, 1.0, 0.75]</td>\n",
              "    </tr>\n",
              "    <tr>\n",
              "      <th>4</th>\n",
              "      <td>1</td>\n",
              "      <td>[2736, 258, 1177, 712]</td>\n",
              "      <td>[1.0, 0.75, 1.0, 0.5]</td>\n",
              "    </tr>\n",
              "  </tbody>\n",
              "</table>\n",
              "</div>"
            ],
            "text/plain": [
              "   user_id_index            movie_sequence          rating_sequence\n",
              "0              1  [3118, 1010, 1673, 1251]   [0.75, 1.0, 0.75, 1.0]\n",
              "1              1  [1673, 1251, 2272, 1769]    [0.75, 1.0, 0.5, 1.0]\n",
              "2              1  [2272, 1769, 3340, 1190]   [0.5, 1.0, 0.75, 0.75]\n",
              "3              1   [3340, 1190, 2736, 258]  [0.75, 0.75, 1.0, 0.75]\n",
              "4              1    [2736, 258, 1177, 712]    [1.0, 0.75, 1.0, 0.5]"
            ]
          },
          "execution_count": 24,
          "metadata": {},
          "output_type": "execute_result"
        }
      ],
      "source": [
        "ratings_data_transformed.head()"
      ]
    },
    {
      "cell_type": "code",
      "execution_count": 25,
      "metadata": {
        "id": "roXPTpv8VY-9"
      },
      "outputs": [],
      "source": [
        "user_columns = ['user_id_index',\n",
        "                'sex',\n",
        "                'occupation_index',\n",
        "                'age_group_index']"
      ]
    },
    {
      "cell_type": "code",
      "execution_count": 26,
      "metadata": {
        "id": "kotYicQYVaGe"
      },
      "outputs": [],
      "source": [
        "ratings_data_transformed = ratings_data_transformed.merge(\n",
        "    users[user_columns], on=\"user_id_index\"\n",
        ")"
      ]
    },
    {
      "cell_type": "code",
      "execution_count": 27,
      "metadata": {
        "id": "GUE9Aj-JVbB_"
      },
      "outputs": [],
      "source": [
        "ratings_data_transformed['sex'] = ratings_data_transformed['sex'].astype(float)"
      ]
    },
    {
      "cell_type": "code",
      "execution_count": 28,
      "metadata": {
        "id": "-f6yhP5ZVcPk"
      },
      "outputs": [],
      "source": [
        "ratings_data_transformed['target_movie'] =  ratings_data_transformed['movie_sequence'].apply(lambda x:x[-1])\n",
        "ratings_data_transformed['target_rating'] =  ratings_data_transformed['rating_sequence'].apply(lambda x:x[-1])\n",
        "# mask the last rating\n",
        "mask_score = 1.0\n",
        "ratings_data_transformed['rating_sequence'] =  ratings_data_transformed['rating_sequence'].apply(lambda x:x[:-1]+[mask_score])"
      ]
    },
    {
      "cell_type": "code",
      "execution_count": 29,
      "metadata": {
        "colab": {
          "base_uri": "https://localhost:8080/",
          "height": 206
        },
        "id": "_D1bExqMVkRd",
        "outputId": "c23bbf8a-0b53-47bc-fc80-82cb54374ba1"
      },
      "outputs": [
        {
          "data": {
            "text/html": [
              "<div>\n",
              "<style scoped>\n",
              "    .dataframe tbody tr th:only-of-type {\n",
              "        vertical-align: middle;\n",
              "    }\n",
              "\n",
              "    .dataframe tbody tr th {\n",
              "        vertical-align: top;\n",
              "    }\n",
              "\n",
              "    .dataframe thead th {\n",
              "        text-align: right;\n",
              "    }\n",
              "</style>\n",
              "<table border=\"1\" class=\"dataframe\">\n",
              "  <thead>\n",
              "    <tr style=\"text-align: right;\">\n",
              "      <th></th>\n",
              "      <th>user_id_index</th>\n",
              "      <th>movie_sequence</th>\n",
              "      <th>rating_sequence</th>\n",
              "      <th>sex</th>\n",
              "      <th>occupation_index</th>\n",
              "      <th>age_group_index</th>\n",
              "      <th>target_movie</th>\n",
              "      <th>target_rating</th>\n",
              "    </tr>\n",
              "  </thead>\n",
              "  <tbody>\n",
              "    <tr>\n",
              "      <th>0</th>\n",
              "      <td>1</td>\n",
              "      <td>[3118, 1010, 1673, 1251]</td>\n",
              "      <td>[0.75, 1.0, 0.75, 1.0]</td>\n",
              "      <td>1.0</td>\n",
              "      <td>11</td>\n",
              "      <td>1</td>\n",
              "      <td>1251</td>\n",
              "      <td>1.00</td>\n",
              "    </tr>\n",
              "    <tr>\n",
              "      <th>1</th>\n",
              "      <td>1</td>\n",
              "      <td>[1673, 1251, 2272, 1769]</td>\n",
              "      <td>[0.75, 1.0, 0.5, 1.0]</td>\n",
              "      <td>1.0</td>\n",
              "      <td>11</td>\n",
              "      <td>1</td>\n",
              "      <td>1769</td>\n",
              "      <td>1.00</td>\n",
              "    </tr>\n",
              "    <tr>\n",
              "      <th>2</th>\n",
              "      <td>1</td>\n",
              "      <td>[2272, 1769, 3340, 1190]</td>\n",
              "      <td>[0.5, 1.0, 0.75, 1.0]</td>\n",
              "      <td>1.0</td>\n",
              "      <td>11</td>\n",
              "      <td>1</td>\n",
              "      <td>1190</td>\n",
              "      <td>0.75</td>\n",
              "    </tr>\n",
              "    <tr>\n",
              "      <th>3</th>\n",
              "      <td>1</td>\n",
              "      <td>[3340, 1190, 2736, 258]</td>\n",
              "      <td>[0.75, 0.75, 1.0, 1.0]</td>\n",
              "      <td>1.0</td>\n",
              "      <td>11</td>\n",
              "      <td>1</td>\n",
              "      <td>258</td>\n",
              "      <td>0.75</td>\n",
              "    </tr>\n",
              "    <tr>\n",
              "      <th>4</th>\n",
              "      <td>1</td>\n",
              "      <td>[2736, 258, 1177, 712]</td>\n",
              "      <td>[1.0, 0.75, 1.0, 1.0]</td>\n",
              "      <td>1.0</td>\n",
              "      <td>11</td>\n",
              "      <td>1</td>\n",
              "      <td>712</td>\n",
              "      <td>0.50</td>\n",
              "    </tr>\n",
              "  </tbody>\n",
              "</table>\n",
              "</div>"
            ],
            "text/plain": [
              "   user_id_index            movie_sequence         rating_sequence  sex  \\\n",
              "0              1  [3118, 1010, 1673, 1251]  [0.75, 1.0, 0.75, 1.0]  1.0   \n",
              "1              1  [1673, 1251, 2272, 1769]   [0.75, 1.0, 0.5, 1.0]  1.0   \n",
              "2              1  [2272, 1769, 3340, 1190]   [0.5, 1.0, 0.75, 1.0]  1.0   \n",
              "3              1   [3340, 1190, 2736, 258]  [0.75, 0.75, 1.0, 1.0]  1.0   \n",
              "4              1    [2736, 258, 1177, 712]   [1.0, 0.75, 1.0, 1.0]  1.0   \n",
              "\n",
              "   occupation_index  age_group_index  target_movie  target_rating  \n",
              "0                11                1          1251           1.00  \n",
              "1                11                1          1769           1.00  \n",
              "2                11                1          1190           0.75  \n",
              "3                11                1           258           0.75  \n",
              "4                11                1           712           0.50  "
            ]
          },
          "execution_count": 29,
          "metadata": {},
          "output_type": "execute_result"
        }
      ],
      "source": [
        "ratings_data_transformed.head()"
      ]
    },
    {
      "cell_type": "code",
      "execution_count": 30,
      "metadata": {
        "id": "bQEmshcNVlks"
      },
      "outputs": [],
      "source": [
        "random_selection = np.random.rand(len(ratings_data_transformed.index)) <= 0.85\n",
        "train_data = ratings_data_transformed[random_selection]\n",
        "test_data = ratings_data_transformed[~random_selection]"
      ]
    },
    {
      "attachments": {},
      "cell_type": "markdown",
      "metadata": {
        "id": "bXqZBv7BVv4v"
      },
      "source": [
        "## (3) Model Config"
      ]
    },
    {
      "cell_type": "code",
      "execution_count": 31,
      "metadata": {
        "id": "74j7Qs7LVxkF"
      },
      "outputs": [],
      "source": [
        "num_user = len(user_id_map_dict)\n",
        "num_movie = len(movie_id_map_dict)\n",
        "num_occupation = len(occupation_id_map_dict)\n",
        "num_age_group = len(age_group_id_map_dict)\n",
        "# num_genre = len(genres_map_dict)"
      ]
    },
    {
      "cell_type": "code",
      "execution_count": 32,
      "metadata": {
        "id": "K4MOe95uV2qg"
      },
      "outputs": [],
      "source": [
        "embed_configs = {}\n",
        "EMED_DIM=32\n",
        "embed_configs['user']={\"embed_dim\":EMED_DIM,\"num_embed\":num_user}\n",
        "embed_configs['movie']={\"embed_dim\":EMED_DIM,\"num_embed\":num_movie}\n",
        "embed_configs['occupation']={\"embed_dim\":EMED_DIM,\"num_embed\":num_occupation}\n",
        "embed_configs['age_group']={\"embed_dim\":EMED_DIM,\"num_embed\":num_age_group}\n",
        "embed_configs['position'] = {\"embed_dim\":EMED_DIM,\"num_embed\":sequence_length}"
      ]
    },
    {
      "cell_type": "code",
      "execution_count": 33,
      "metadata": {
        "id": "6p7ikk9DV_od"
      },
      "outputs": [],
      "source": [
        "config_dict={}\n",
        "config_dict['embed_configs'] = embed_configs\n",
        "config_dict['transformer_num_layer']=3\n",
        "config_dict['dropout']=0.2\n",
        "config_dict['epoches']=10\n",
        "config_dict['learning_rate']=0.001\n",
        "config_dict['batch_size']=32\n",
        "config_dict['sequence_length']=sequence_length\n",
        "config_dict['step_size']=step_size"
      ]
    },
    {
      "cell_type": "code",
      "execution_count": 34,
      "metadata": {
        "id": "3C7jQUGhXMNz"
      },
      "outputs": [],
      "source": [
        "config_dict['device'] = \"cuda\" if torch.cuda.is_available() else \"cpu\""
      ]
    },
    {
      "cell_type": "code",
      "execution_count": 35,
      "metadata": {},
      "outputs": [],
      "source": [
        "wandb_project = \"BST For Movielens 1M Recommendation\""
      ]
    },
    {
      "cell_type": "code",
      "execution_count": 36,
      "metadata": {},
      "outputs": [
        {
          "data": {
            "text/html": [
              "Tracking run with wandb version 0.15.5"
            ],
            "text/plain": [
              "<IPython.core.display.HTML object>"
            ]
          },
          "metadata": {},
          "output_type": "display_data"
        },
        {
          "data": {
            "text/html": [
              "Run data is saved locally in <code>/Users/nelsonlin/Desktop/WorkSpace/ml-machine-learning-cook-book/behavior-sequence-transformer-recommender-with-pytorch-by-movie-rating-prediction copy/wandb/run-20230709_114057-azwl5xwm</code>"
            ],
            "text/plain": [
              "<IPython.core.display.HTML object>"
            ]
          },
          "metadata": {},
          "output_type": "display_data"
        },
        {
          "data": {
            "text/html": [
              "Syncing run <strong><a href='https://wandb.ai/nelsonlin0321/BST%20For%20Movielens%201M%20Recommendation/runs/azwl5xwm' target=\"_blank\">smooth-gorge-2</a></strong> to <a href='https://wandb.ai/nelsonlin0321/BST%20For%20Movielens%201M%20Recommendation' target=\"_blank\">Weights & Biases</a> (<a href='https://wandb.me/run' target=\"_blank\">docs</a>)<br/>"
            ],
            "text/plain": [
              "<IPython.core.display.HTML object>"
            ]
          },
          "metadata": {},
          "output_type": "display_data"
        },
        {
          "data": {
            "text/html": [
              " View project at <a href='https://wandb.ai/nelsonlin0321/BST%20For%20Movielens%201M%20Recommendation' target=\"_blank\">https://wandb.ai/nelsonlin0321/BST%20For%20Movielens%201M%20Recommendation</a>"
            ],
            "text/plain": [
              "<IPython.core.display.HTML object>"
            ]
          },
          "metadata": {},
          "output_type": "display_data"
        },
        {
          "data": {
            "text/html": [
              " View run at <a href='https://wandb.ai/nelsonlin0321/BST%20For%20Movielens%201M%20Recommendation/runs/azwl5xwm' target=\"_blank\">https://wandb.ai/nelsonlin0321/BST%20For%20Movielens%201M%20Recommendation/runs/azwl5xwm</a>"
            ],
            "text/plain": [
              "<IPython.core.display.HTML object>"
            ]
          },
          "metadata": {},
          "output_type": "display_data"
        },
        {
          "data": {
            "text/html": [
              "<button onClick=\"this.nextSibling.style.display='block';this.style.display='none';\">Display W&B run</button><iframe src='https://wandb.ai/nelsonlin0321/BST%20For%20Movielens%201M%20Recommendation/runs/azwl5xwm?jupyter=true' style='border:none;width:100%;height:420px;display:none;'></iframe>"
            ],
            "text/plain": [
              "<wandb.sdk.wandb_run.Run at 0x288c28fd0>"
            ]
          },
          "execution_count": 36,
          "metadata": {},
          "output_type": "execute_result"
        }
      ],
      "source": [
        "wandb.init(\n",
        "    project=wandb_project,\n",
        "    job_type=\"train\",\n",
        "    config=config_dict\n",
        ")"
      ]
    },
    {
      "cell_type": "code",
      "execution_count": 37,
      "metadata": {
        "id": "YcP1dftJWBDJ"
      },
      "outputs": [],
      "source": [
        "class Config:\n",
        "    def __init__(self, dictionary):\n",
        "        for key, value in dictionary.items():\n",
        "            setattr(self, key, value)\n",
        "config = Config(dictionary=config_dict)"
      ]
    },
    {
      "attachments": {},
      "cell_type": "markdown",
      "metadata": {
        "id": "SUxEiAYpWGye"
      },
      "source": [
        "## (4) Create Model"
      ]
    },
    {
      "cell_type": "code",
      "execution_count": 38,
      "metadata": {
        "id": "ufOTX0qPWTd7"
      },
      "outputs": [],
      "source": [
        "class TransformerBlock(nn.Module):\n",
        "    def __init__(self, input_size, output_size, num_heads, dropout_rate):\n",
        "        super(TransformerBlock, self).__init__()\n",
        "\n",
        "        self.multihead_attention = nn.MultiheadAttention(input_size, num_heads)\n",
        "        self.layer_norm1 = nn.LayerNorm(input_size)\n",
        "\n",
        "        self.feed_forward = nn.Sequential(\n",
        "            nn.Linear(input_size, 4*input_size),\n",
        "            nn.ReLU(),\n",
        "            nn.Linear(4*input_size, output_size),\n",
        "            nn.Dropout(dropout_rate)\n",
        "        )\n",
        "        self.layer_norm2 = nn.LayerNorm(output_size)\n",
        "        self.dropout = nn.Dropout(dropout_rate)\n",
        "\n",
        "    def forward(self, x):\n",
        "        # Multi-head Attention\n",
        "        attn_output, _ = self.multihead_attention(x, x, x)\n",
        "        x = self.layer_norm1(x + attn_output)\n",
        "\n",
        "        # Feed-Forward Network\n",
        "        ff_output = self.feed_forward(x)\n",
        "        x = self.layer_norm2(x + ff_output)\n",
        "        x = self.dropout(x)\n",
        "        return x\n",
        "\n",
        "class TransformerLayer(nn.Module):\n",
        "    def __init__(self, d_model, num_heads=8, dropout_rate=0.2, num_layers=3):\n",
        "        super(TransformerLayer, self).__init__()\n",
        "\n",
        "        self.transformer_blocks = nn.ModuleList([\n",
        "            TransformerBlock(d_model, d_model, num_heads, dropout_rate)\n",
        "            for _ in range(num_layers)\n",
        "        ])\n",
        "\n",
        "    def forward(self, x):\n",
        "        for transformer_block in self.transformer_blocks:\n",
        "            x = transformer_block(x)\n",
        "        return x"
      ]
    },
    {
      "cell_type": "code",
      "execution_count": 39,
      "metadata": {
        "id": "2-bs1PhSWDMz"
      },
      "outputs": [],
      "source": [
        "class MLP(nn.Module):\n",
        "    def __init__(self, dropout=0.2, hidden_units=[512, 256,128]):\n",
        "        super(MLP, self).__init__()\n",
        "        self.dropout = nn.Dropout(p=dropout)\n",
        "        self.layers = nn.ModuleList()\n",
        "        for i in range(len(hidden_units) - 1):\n",
        "            self.layers.append(nn.Linear(hidden_units[i], hidden_units[i + 1]))\n",
        "            self.layers.append(nn.LeakyReLU())\n",
        "            self.layers.append(nn.Dropout(p=dropout))\n",
        "        self.fc = nn.Linear(hidden_units[-1],1)\n",
        "        self.sigmoid = nn.Sigmoid()\n",
        "\n",
        "    def forward(self, x):\n",
        "        for layer in self.layers:\n",
        "            x = layer(x)\n",
        "        logits = self.fc(x)\n",
        "        output = self.sigmoid(logits)\n",
        "        return output"
      ]
    },
    {
      "cell_type": "code",
      "execution_count": 40,
      "metadata": {
        "id": "iV7-dBeeWa0k"
      },
      "outputs": [],
      "source": [
        "\n",
        "class BSTRecommender(nn.Module):\n",
        "    def __init__(self, config):\n",
        "        super(BSTRecommender, self).__init__()\n",
        "        self.config = config\n",
        "        self.embed_configs = config.embed_configs\n",
        "        self.drouput = config.dropout\n",
        "        self.transformer_num_layer = config.transformer_num_layer\n",
        "        self.device = config.device\n",
        "\n",
        "        \"\"\"embed_configs\n",
        "        {'user': {'embed_dim': 32, 'num_embed': 6041},\n",
        "        'movie': {'embed_dim': 32, 'num_embed': 3884},\n",
        "        'occupation': {'embed_dim': 32, 'num_embed': 22},\n",
        "        'age_group': {'embed_dim': 32, 'num_embed': 8},\n",
        "        'position': {'embed_dim': 32, 'num_embed': 4}}\n",
        "        \"\"\"\n",
        "\n",
        "        embed_configs = self.config.embed_configs\n",
        "\n",
        "        \"\"\"Create Embedding Layer\"\"\"\n",
        "        embedding_layers = []\n",
        "        for name, embed_config in embed_configs.items():\n",
        "            embed_dim = embed_config['embed_dim']\n",
        "            num_embed = embed_config['num_embed']\n",
        "            embeding_layer = nn.Embedding(\n",
        "                num_embeddings=num_embed, embedding_dim=embed_dim)\n",
        "            nn.init.xavier_uniform_(embeding_layer.weight)\n",
        "            embedding_layers.append([name, embeding_layer])\n",
        "\n",
        "        self.embedding_layers = nn.ModuleDict(embedding_layers)\n",
        "\n",
        "        transformer_dim = self.embed_configs['position']['embed_dim'] + \\\n",
        "            self.embed_configs['movie']['embed_dim']\n",
        "\n",
        "        self.transformer_layer = TransformerLayer(d_model=transformer_dim,\n",
        "                                                  num_heads=8,\n",
        "                                                  dropout_rate=self.drouput,\n",
        "                                                  num_layers=self.transformer_num_layer)\n",
        "\n",
        "        # movie_embed_dim*2 + sequence*movie_embedding*2 + user_embed_dim*2+occupation_embed_dim*2+age_embed_dim*2+1\n",
        "\n",
        "        sequence_length = self.embed_configs['position']['num_embed']\n",
        "        mlp_dim = self.embed_configs['user']['embed_dim']*2 + \\\n",
        "            self.embed_configs['occupation']['embed_dim']*2 +\\\n",
        "            self.embed_configs['age_group']['embed_dim']*2 +\\\n",
        "            self.embed_configs['movie']['embed_dim']*2 +\\\n",
        "            transformer_dim*sequence_length+1\n",
        "\n",
        "        self.mlp = MLP(dropout=self.drouput, hidden_units=[mlp_dim, 256, 64])\n",
        "\n",
        "    def forward(self, inputs):\n",
        "\n",
        "        target_movie_embedding = self.embedding_layers['movie'](\n",
        "            inputs['target_movie'])\n",
        "        batch_size = target_movie_embedding.shape[0]\n",
        "\n",
        "        \"\"\"Sequence Feature Engineering\"\"\"\n",
        "\n",
        "        # movie embedding\n",
        "        movie_sequence_embedding = self.embedding_layers['movie'](\n",
        "            inputs['movie_sequence'])\n",
        "\n",
        "        # position embedding\n",
        "        positions = torch.arange(\n",
        "            self.config.embed_configs['position']['num_embed']).to(self.device)\n",
        "        position_embedding = self.embedding_layers['position'](positions)\n",
        "        batch_position_embedding = torch.stack(\n",
        "            [position_embedding.clone() for _ in range(batch_size)])\n",
        "        # concat with position instead of adding\n",
        "        movie_pos_seq_embedding = torch.concat(\n",
        "            [movie_sequence_embedding, batch_position_embedding], dim=-1)\n",
        "        # point wise product with sequence rating\n",
        "        rating_sequence = inputs['rating_sequence']\n",
        "        movie_pos_rating_seq_embedding = torch.mul(\n",
        "            movie_pos_seq_embedding, rating_sequence.unsqueeze(-1))\n",
        "        # feed into transformer layer\n",
        "        seq_transformer_output = self.transformer_layer(\n",
        "            movie_pos_rating_seq_embedding)\n",
        "        seq_transformer_flatten_output = seq_transformer_output.view(\n",
        "            batch_size, -1)\n",
        "\n",
        "        \"\"\"concat other features\"\"\"\n",
        "        # orginal features\n",
        "        sex_feature = inputs['sex'].unsqueeze(-1)\n",
        "        user_embedding = self.embedding_layers['user'](inputs['user_id_index'])\n",
        "        occupation_embedding = self.embedding_layers['occupation'](\n",
        "            inputs['occupation_index'])\n",
        "        age_group_embedding = self.embedding_layers['age_group'](\n",
        "            inputs['age_group_index'])\n",
        "\n",
        "        # cross features with target movie embedding\n",
        "        sex_cross_feature = torch.mul(sex_feature, target_movie_embedding)\n",
        "        user_embedding_cross = torch.mul(\n",
        "            user_embedding, target_movie_embedding)\n",
        "        occupation_embedding_cross = torch.mul(\n",
        "            occupation_embedding, target_movie_embedding,)\n",
        "        age_group_embedding_cross = torch.mul(\n",
        "            age_group_embedding, target_movie_embedding)\n",
        "\n",
        "        # shape:1+user_embed_dim+occupation_embed_dim+age_embed_dim\n",
        "        user_features = torch.concat(\n",
        "            [sex_feature, user_embedding, occupation_embedding, age_group_embedding], dim=-1)\n",
        "\n",
        "        # shape:movie_embed_dim +user_embed_dim+occupation_embed_dim+age_embed_dim\n",
        "        user_cross_features = torch.concat(\n",
        "            [sex_cross_feature, user_embedding_cross, occupation_embedding_cross, age_group_embedding_cross], dim=-1)\n",
        "\n",
        "        # shape:movie_embed_dim +user_embed_dim+occupation_embed_dim+age_embed_dim + 1+user_embed_dim+occupation_embed_dim+age_embed_dim\n",
        "        user_inputs_features = torch.concat(\n",
        "            [user_features, user_cross_features, target_movie_embedding], axis=1)\n",
        "        # shape:movie_embed_dim +user_embed_dim+occupation_embed_dim+age_embed_dim + 1+user_embed_dim+occupation_embed_dim+age_embed_dim\n",
        "        # sequence*movie_embedding*2+movie_embeddding\n",
        "        mlp_input_features = torch.concat(\n",
        "            [user_inputs_features, seq_transformer_flatten_output], axis=1)\n",
        "\n",
        "        outputs = self.mlp(mlp_input_features)\n",
        "\n",
        "        return outputs"
      ]
    },
    {
      "cell_type": "code",
      "execution_count": 41,
      "metadata": {
        "id": "u2RO3K24Wdd2"
      },
      "outputs": [],
      "source": [
        "model = BSTRecommender(config=config)"
      ]
    },
    {
      "cell_type": "code",
      "execution_count": 42,
      "metadata": {
        "colab": {
          "base_uri": "https://localhost:8080/"
        },
        "id": "Dpc5cAMKXVkN",
        "outputId": "ee065bd7-1b08-492b-8e22-b4f169ebfc42"
      },
      "outputs": [
        {
          "data": {
            "text/plain": [
              "BSTRecommender(\n",
              "  (embedding_layers): ModuleDict(\n",
              "    (user): Embedding(6041, 32)\n",
              "    (movie): Embedding(3884, 32)\n",
              "    (occupation): Embedding(22, 32)\n",
              "    (age_group): Embedding(8, 32)\n",
              "    (position): Embedding(4, 32)\n",
              "  )\n",
              "  (transformer_layer): TransformerLayer(\n",
              "    (transformer_blocks): ModuleList(\n",
              "      (0-2): 3 x TransformerBlock(\n",
              "        (multihead_attention): MultiheadAttention(\n",
              "          (out_proj): NonDynamicallyQuantizableLinear(in_features=64, out_features=64, bias=True)\n",
              "        )\n",
              "        (layer_norm1): LayerNorm((64,), eps=1e-05, elementwise_affine=True)\n",
              "        (feed_forward): Sequential(\n",
              "          (0): Linear(in_features=64, out_features=256, bias=True)\n",
              "          (1): ReLU()\n",
              "          (2): Linear(in_features=256, out_features=64, bias=True)\n",
              "          (3): Dropout(p=0.2, inplace=False)\n",
              "        )\n",
              "        (layer_norm2): LayerNorm((64,), eps=1e-05, elementwise_affine=True)\n",
              "        (dropout): Dropout(p=0.2, inplace=False)\n",
              "      )\n",
              "    )\n",
              "  )\n",
              "  (mlp): MLP(\n",
              "    (dropout): Dropout(p=0.2, inplace=False)\n",
              "    (layers): ModuleList(\n",
              "      (0): Linear(in_features=513, out_features=256, bias=True)\n",
              "      (1): LeakyReLU(negative_slope=0.01)\n",
              "      (2): Dropout(p=0.2, inplace=False)\n",
              "      (3): Linear(in_features=256, out_features=64, bias=True)\n",
              "      (4): LeakyReLU(negative_slope=0.01)\n",
              "      (5): Dropout(p=0.2, inplace=False)\n",
              "    )\n",
              "    (fc): Linear(in_features=64, out_features=1, bias=True)\n",
              "    (sigmoid): Sigmoid()\n",
              "  )\n",
              ")"
            ]
          },
          "execution_count": 42,
          "metadata": {},
          "output_type": "execute_result"
        }
      ],
      "source": [
        "model = model.to(config.device)\n",
        "model.train()"
      ]
    },
    {
      "attachments": {},
      "cell_type": "markdown",
      "metadata": {
        "id": "iMu3zDCYWqwr"
      },
      "source": [
        "## (5) Load Rating Dataset"
      ]
    },
    {
      "cell_type": "code",
      "execution_count": 43,
      "metadata": {
        "id": "KyeeVf7tWty1"
      },
      "outputs": [],
      "source": [
        "class RatingDataset(Dataset):\n",
        "    def __init__(self, data):\n",
        "        self.data = data\n",
        "        self.device = \"cuda\" if torch.cuda.is_available() else \"cpu\"\n",
        "\n",
        "    def __len__(self):\n",
        "        return len(self.data)\n",
        "\n",
        "    def __getitem__(self, index):\n",
        "\n",
        "        item_dict = self.data.iloc[index].to_dict()\n",
        "\n",
        "        dtype_dict = {}\n",
        "        for k,v in item_dict.items():\n",
        "            dtype_dict[k]=torch.long\n",
        "        dtype_dict['rating_sequence']=torch.float32\n",
        "        dtype_dict['target_rating']=torch.float32\n",
        "        dtype_dict['sex']=torch.float32\n",
        "\n",
        "\n",
        "        sample = {}\n",
        "        for k,v in item_dict.items():\n",
        "            sample[k] = torch.tensor(v,dtype=dtype_dict[k]).to(self.device)\n",
        "\n",
        "        return sample\n"
      ]
    },
    {
      "cell_type": "code",
      "execution_count": 44,
      "metadata": {
        "id": "G6qbyM5pWmke"
      },
      "outputs": [],
      "source": [
        "train_dataset = RatingDataset(data=train_data)\n",
        "test_dataset = RatingDataset(data=test_data)"
      ]
    },
    {
      "cell_type": "code",
      "execution_count": 45,
      "metadata": {
        "id": "4ggs147hXj43"
      },
      "outputs": [],
      "source": [
        "train_loader = DataLoader(train_dataset,batch_size=config.batch_size,shuffle=True)\n",
        "test_loader = DataLoader(test_dataset,batch_size=config.batch_size,shuffle=True)"
      ]
    },
    {
      "attachments": {},
      "cell_type": "markdown",
      "metadata": {
        "id": "bddyOJ1OZuiM"
      },
      "source": [
        "## (6) Training"
      ]
    },
    {
      "cell_type": "code",
      "execution_count": 46,
      "metadata": {
        "id": "6AYv7XU1ZIfn"
      },
      "outputs": [],
      "source": [
        "loss_func = nn.L1Loss()"
      ]
    },
    {
      "cell_type": "code",
      "execution_count": 47,
      "metadata": {
        "id": "QjUtHjQQY9Zv"
      },
      "outputs": [],
      "source": [
        "def evaluate(model,dataset_loader,min_max_scaler,loss_func=nn.L1Loss()):\n",
        "\n",
        "    model.eval()\n",
        "\n",
        "    prob_list= []\n",
        "    rating_list = []\n",
        "    eval_loss_list = []\n",
        "\n",
        "\n",
        "    # loss_func = nn.MSELoss()\n",
        "\n",
        "    pbar = tqdm(total = len(dataset_loader),desc = \"\",position=0, leave=True)\n",
        "\n",
        "    for inputs in dataset_loader:\n",
        "        with torch.no_grad():\n",
        "            probs = model(inputs)\n",
        "            ratings = inputs['target_rating'].view(-1,1)\n",
        "\n",
        "            loss = loss_func(probs, ratings)\n",
        "            eval_loss_list.append(loss.item())\n",
        "\n",
        "            probs = probs.cpu().numpy().flatten().tolist()\n",
        "            prob_list.extend(probs)\n",
        "\n",
        "            ratings = ratings.cpu().numpy().flatten().tolist()\n",
        "            rating_list.extend(ratings)\n",
        "            \n",
        "\n",
        "\n",
        "            pbar.update(1)\n",
        "\n",
        "    pbar.close()\n",
        "\n",
        "    real_ratings =min_max_scaler.inverse_transform(np.array(rating_list).reshape(-1,1))[:,0]\n",
        "    prediction_ratings=min_max_scaler.inverse_transform(np.array(prob_list).reshape(-1,1))[:,0]\n",
        "\n",
        "    MAE = metrics.mean_absolute_error(real_ratings,prediction_ratings)\n",
        "    RMSE = metrics.mean_squared_error(real_ratings,prediction_ratings)\n",
        "    \n",
        "\n",
        "    eval_metrics = {}\n",
        "    eval_metrics['eval_loss']= sum(eval_loss_list)/len(eval_loss_list)\n",
        "    eval_metrics['eval_MAE']= MAE\n",
        "    eval_metrics['eval_RMSE']= RMSE\n",
        "\n",
        "\n",
        "    return eval_metrics"
      ]
    },
    {
      "cell_type": "code",
      "execution_count": 48,
      "metadata": {
        "colab": {
          "base_uri": "https://localhost:8080/"
        },
        "id": "quf-eGpiZWPQ",
        "outputId": "6d219858-1624-4511-8e84-f55c88c12861"
      },
      "outputs": [
        {
          "name": "stderr",
          "output_type": "stream",
          "text": [
            "100%|██████████| 2328/2328 [00:08<00:00, 289.81it/s]"
          ]
        },
        {
          "name": "stdout",
          "output_type": "stream",
          "text": [
            "{'eval_loss': 0.2516390984218657, 'eval_MAE': 1.0066174468581264, 'eval_RMSE': 1.4426233850812142}\n"
          ]
        },
        {
          "name": "stderr",
          "output_type": "stream",
          "text": [
            "\n"
          ]
        }
      ],
      "source": [
        "# loss before training\n",
        "before_training_metrics = evaluate(model,test_loader,min_max_scaler,loss_func)\n",
        "print(before_training_metrics)"
      ]
    },
    {
      "cell_type": "code",
      "execution_count": 49,
      "metadata": {
        "id": "lFHm_mNFZZyq"
      },
      "outputs": [],
      "source": [
        "optimizer = torch.optim.AdamW(model.parameters(),lr=config.learning_rate)\n",
        "total_batch = 0\n",
        "best_eval_loss =  float(\"inf\")\n",
        "best_checkpoint = 0\n",
        "model_version='v1'\n",
        "config.eval_steps = len(train_loader)//3"
      ]
    },
    {
      "cell_type": "code",
      "execution_count": 50,
      "metadata": {
        "id": "JTP7eC6SaJG1"
      },
      "outputs": [],
      "source": [
        "def save_model(model, model_save_dir,step,model_metrics):\n",
        "    model_save_dir = os.path.join(model_save_dir,f\"checkpoint-{step}\")\n",
        "    model_name = \"pytorch_model.pt\"\n",
        "    train_state_name = \"training_state.json\"\n",
        "    os.makedirs(model_save_dir,exist_ok=True)\n",
        "\n",
        "    model_path = os.path.join(model_save_dir,model_name)\n",
        "    train_state_path = os.path.join(model_save_dir,train_state_name)\n",
        "\n",
        "    torch.save(model.state_dict(),model_path)\n",
        "\n",
        "    if model_metrics is not None:\n",
        "        with open(train_state_path,mode = 'w',encoding = 'utf-8') as f:\n",
        "            json.dump(model_metrics,f,indent=4)\n",
        "\n",
        "    return model_path"
      ]
    },
    {
      "cell_type": "code",
      "execution_count": 51,
      "metadata": {
        "colab": {
          "base_uri": "https://localhost:8080/"
        },
        "id": "hN2ILumCaAOh",
        "outputId": "ce510b50-2e69-4568-db0b-f94a0b4cdf9b"
      },
      "outputs": [
        {
          "name": "stderr",
          "output_type": "stream",
          "text": [
            "100%|██████████| 2328/2328 [00:07<00:00, 311.80it/s] 120.46it/s]\n",
            "100%|██████████| 2328/2328 [00:07<00:00, 315.41it/s] 114.50it/s, eval_loss=0.187, eval_MAE=0.747, eval_RMSE=0.972, best_eval_loss=0.187, train_loss=0.192, train_MAE=0.769, train_RMSE=0.98, steps=4418, best_checkpoint=4418] \n",
            "100%|██████████| 2328/2328 [00:07<00:00, 314.61it/s], 111.87it/s, eval_loss=0.178, eval_MAE=0.713, eval_RMSE=0.918, best_eval_loss=0.178, train_loss=0.186, train_MAE=0.746, train_RMSE=0.957, steps=8836, best_checkpoint=8836]\n",
            "100%|██████████| 2328/2328 [00:07<00:00, 325.80it/s], 119.41it/s, eval_loss=0.177, eval_MAE=0.708, eval_RMSE=0.933, best_eval_loss=0.177, train_loss=0.184, train_MAE=0.734, train_RMSE=0.947, steps=13254, best_checkpoint=13254] \n",
            "  4%|▍         | 101/2328 [00:00<00:06, 327.15it/s]2, 117.27it/s, eval_loss=0.176, eval_MAE=0.703, eval_RMSE=0.937, best_eval_loss=0.176, train_loss=0.173, train_MAE=0.692, train_RMSE=0.909, steps=17672, best_checkpoint=17672] "
          ]
        }
      ],
      "source": [
        "# Train\n",
        "total_pbar = tqdm(total=len(train_loader)*config.epoches,\n",
        "                  desc=\"Training\", position=0, leave=True)\n",
        "\n",
        "metrics_list = []\n",
        "best_model_path= None\n",
        "for epoch in range(config.epoches):\n",
        "    # print(\"*\"*50 + f\"epoch: {epoch + 1}\" + \"*\"*50)\n",
        "\n",
        "    train_loss_list = []\n",
        "    prob_list = []\n",
        "    rating_list = []\n",
        "\n",
        "    for inputs in train_loader:\n",
        "        model = model.train()\n",
        "        optimizer.zero_grad()\n",
        "        probs = model(inputs)\n",
        "\n",
        "        rating = inputs['target_rating'].view(-1, 1)\n",
        "\n",
        "        loss = loss_func(probs, rating)\n",
        "        loss.backward()\n",
        "        optimizer.step()\n",
        "        train_loss_list.append(loss.item())\n",
        "\n",
        "        probs = probs.detach().cpu().numpy().flatten().tolist()\n",
        "        prob_list.extend(probs)\n",
        "        rating = rating.detach().cpu().flatten().tolist()\n",
        "        rating_list.extend(rating)\n",
        "\n",
        "        if (total_batch+1) % config.eval_steps == 0:\n",
        "\n",
        "            improve = False\n",
        "            model_metrics = evaluate(model, test_loader,min_max_scaler,loss_func)\n",
        "            eval_loss = model_metrics['eval_loss']\n",
        "\n",
        "            if eval_loss <= best_eval_loss:\n",
        "                improve = True\n",
        "                best_checkpoint = total_batch+1\n",
        "                best_eval_loss = eval_loss\n",
        "\n",
        "            train_loss = np.mean(train_loss_list)\n",
        "            \n",
        "            real_ratings =min_max_scaler.inverse_transform(np.array(rating_list).reshape(-1,1))[:,0]\n",
        "            prediction_ratings=min_max_scaler.inverse_transform(np.array(prob_list).reshape(-1,1))[:,0]\n",
        "            MAE = metrics.mean_absolute_error(real_ratings,prediction_ratings)\n",
        "            RMSE = metrics.mean_squared_error(real_ratings,prediction_ratings)\n",
        "\n",
        "            model_metrics['best_eval_loss'] = best_eval_loss\n",
        "            model_metrics['train_loss'] = train_loss\n",
        "            model_metrics['train_MAE'] = MAE\n",
        "            model_metrics['train_RMSE'] = RMSE\n",
        "            \n",
        "            model_metrics[\"steps\"] = total_batch+1\n",
        "            model_metrics[\"best_checkpoint\"] = best_checkpoint\n",
        "            metrics_list.append(model_metrics)\n",
        "            wandb.log(model_metrics)\n",
        "\n",
        "            if improve:\n",
        "                save_dir = os.path.join(\"model\", model_version)\n",
        "                os.makedirs(save_dir, exist_ok=True)\n",
        "                model_path = save_model(model, save_dir, total_batch+1, model_metrics)\n",
        "                best_model_path = model_path\n",
        "            post_fix_message = {k:round(v,3) for k,v in model_metrics.items()}\n",
        "            total_pbar.set_postfix(post_fix_message)\n",
        "\n",
        "\n",
        "            model = model.train()\n",
        "\n",
        "        total_batch += 1\n",
        "        total_pbar.update(1)\n",
        "\n",
        "    model = model.train()\n",
        "\n",
        "total_pbar.close()\n",
        "wandb.finish()"
      ]
    },
    {
      "cell_type": "code",
      "execution_count": null,
      "metadata": {
        "id": "AzfHrJl6aP0t"
      },
      "outputs": [
        {
          "data": {
            "text/html": [
              "<div>\n",
              "<style scoped>\n",
              "    .dataframe tbody tr th:only-of-type {\n",
              "        vertical-align: middle;\n",
              "    }\n",
              "\n",
              "    .dataframe tbody tr th {\n",
              "        vertical-align: top;\n",
              "    }\n",
              "\n",
              "    .dataframe thead th {\n",
              "        text-align: right;\n",
              "    }\n",
              "</style>\n",
              "<table border=\"1\" class=\"dataframe\">\n",
              "  <thead>\n",
              "    <tr style=\"text-align: right;\">\n",
              "      <th></th>\n",
              "      <th>eval_loss</th>\n",
              "      <th>eval_MAE</th>\n",
              "      <th>eval_RMSE</th>\n",
              "      <th>best_eval_loss</th>\n",
              "      <th>train_loss</th>\n",
              "      <th>train_MAE</th>\n",
              "      <th>train_RMSE</th>\n",
              "      <th>steps</th>\n",
              "      <th>best_checkpoint</th>\n",
              "    </tr>\n",
              "  </thead>\n",
              "  <tbody>\n",
              "    <tr>\n",
              "      <th>0</th>\n",
              "      <td>0.186876</td>\n",
              "      <td>0.747491</td>\n",
              "      <td>0.972100</td>\n",
              "      <td>0.186876</td>\n",
              "      <td>0.192211</td>\n",
              "      <td>0.768845</td>\n",
              "      <td>0.979908</td>\n",
              "      <td>4418</td>\n",
              "      <td>4418</td>\n",
              "    </tr>\n",
              "    <tr>\n",
              "      <th>1</th>\n",
              "      <td>0.178257</td>\n",
              "      <td>0.713061</td>\n",
              "      <td>0.918415</td>\n",
              "      <td>0.178257</td>\n",
              "      <td>0.186482</td>\n",
              "      <td>0.745930</td>\n",
              "      <td>0.957250</td>\n",
              "      <td>8836</td>\n",
              "      <td>8836</td>\n",
              "    </tr>\n",
              "    <tr>\n",
              "      <th>2</th>\n",
              "      <td>0.176881</td>\n",
              "      <td>0.707565</td>\n",
              "      <td>0.932980</td>\n",
              "      <td>0.176881</td>\n",
              "      <td>0.183517</td>\n",
              "      <td>0.734069</td>\n",
              "      <td>0.947457</td>\n",
              "      <td>13254</td>\n",
              "      <td>13254</td>\n",
              "    </tr>\n",
              "  </tbody>\n",
              "</table>\n",
              "</div>"
            ],
            "text/plain": [
              "   eval_loss  eval_MAE  eval_RMSE  best_eval_loss  train_loss  train_MAE  \\\n",
              "0   0.186876  0.747491   0.972100        0.186876    0.192211   0.768845   \n",
              "1   0.178257  0.713061   0.918415        0.178257    0.186482   0.745930   \n",
              "2   0.176881  0.707565   0.932980        0.176881    0.183517   0.734069   \n",
              "\n",
              "   train_RMSE  steps  best_checkpoint  \n",
              "0    0.979908   4418             4418  \n",
              "1    0.957250   8836             8836  \n",
              "2    0.947457  13254            13254  "
            ]
          },
          "execution_count": 52,
          "metadata": {},
          "output_type": "execute_result"
        }
      ],
      "source": [
        "df_metrics = pd.DataFrame(metrics_list)\n",
        "df_metrics"
      ]
    },
    {
      "cell_type": "code",
      "execution_count": null,
      "metadata": {},
      "outputs": [
        {
          "data": {
            "text/plain": [
              "<Axes: xlabel='steps'>"
            ]
          },
          "execution_count": 53,
          "metadata": {},
          "output_type": "execute_result"
        },
        {
          "data": {
            "image/png": "[encoded data removed]",
            "text/plain": [
              "<Figure size 640x480 with 1 Axes>"
            ]
          },
          "metadata": {},
          "output_type": "display_data"
        }
      ],
      "source": [
        "df_metrics = df_metrics.set_index(\"steps\")\n",
        "df_metrics[['eval_loss','train_loss']].plot() "
      ]
    },
    {
      "cell_type": "code",
      "execution_count": null,
      "metadata": {},
      "outputs": [],
      "source": [
        "best_model = BSTRecommender(config=config)"
      ]
    },
    {
      "cell_type": "code",
      "execution_count": null,
      "metadata": {},
      "outputs": [
        {
          "data": {
            "text/plain": [
              "BSTRecommender(\n",
              "  (embedding_layers): ModuleDict(\n",
              "    (user): Embedding(6041, 32)\n",
              "    (movie): Embedding(3884, 32)\n",
              "    (occupation): Embedding(22, 32)\n",
              "    (age_group): Embedding(8, 32)\n",
              "    (position): Embedding(4, 32)\n",
              "  )\n",
              "  (transformer_layer): TransformerLayer(\n",
              "    (transformer_blocks): ModuleList(\n",
              "      (0-2): 3 x TransformerBlock(\n",
              "        (multihead_attention): MultiheadAttention(\n",
              "          (out_proj): NonDynamicallyQuantizableLinear(in_features=64, out_features=64, bias=True)\n",
              "        )\n",
              "        (layer_norm1): LayerNorm((64,), eps=1e-05, elementwise_affine=True)\n",
              "        (feed_forward): Sequential(\n",
              "          (0): Linear(in_features=64, out_features=256, bias=True)\n",
              "          (1): ReLU()\n",
              "          (2): Linear(in_features=256, out_features=64, bias=True)\n",
              "          (3): Dropout(p=0.2, inplace=False)\n",
              "        )\n",
              "        (layer_norm2): LayerNorm((64,), eps=1e-05, elementwise_affine=True)\n",
              "        (dropout): Dropout(p=0.2, inplace=False)\n",
              "      )\n",
              "    )\n",
              "  )\n",
              "  (mlp): MLP(\n",
              "    (dropout): Dropout(p=0.2, inplace=False)\n",
              "    (layers): ModuleList(\n",
              "      (0): Linear(in_features=513, out_features=256, bias=True)\n",
              "      (1): LeakyReLU(negative_slope=0.01)\n",
              "      (2): Dropout(p=0.2, inplace=False)\n",
              "      (3): Linear(in_features=256, out_features=64, bias=True)\n",
              "      (4): LeakyReLU(negative_slope=0.01)\n",
              "      (5): Dropout(p=0.2, inplace=False)\n",
              "    )\n",
              "    (fc): Linear(in_features=64, out_features=1, bias=True)\n",
              "    (sigmoid): Sigmoid()\n",
              "  )\n",
              ")"
            ]
          },
          "execution_count": 55,
          "metadata": {},
          "output_type": "execute_result"
        }
      ],
      "source": [
        "best_model.load_state_dict(torch.load(best_model_path))\n",
        "best_model.eval()\n",
        "best_model.to(config.device)"
      ]
    },
    {
      "cell_type": "code",
      "execution_count": null,
      "metadata": {},
      "outputs": [
        {
          "name": "stderr",
          "output_type": "stream",
          "text": [
            " 99%|█████████▉| 2312/2328 [00:07<00:00, 331.18it/s]"
          ]
        }
      ],
      "source": [
        "best_model.eval()\n",
        "prob_list= []\n",
        "rating_list = []\n",
        "eval_loss_list = []\n",
        "pbar = tqdm(total = len(test_loader),desc = \"\",position=0, leave=True)\n",
        "for inputs in test_loader:\n",
        "    with torch.no_grad():\n",
        "        probs = best_model(inputs)\n",
        "        ratings = inputs['target_rating'].view(-1,1)\n",
        "        \n",
        "        loss = loss_func(probs, ratings)\n",
        "        eval_loss_list.append(loss.item())\n",
        "\n",
        "        probs = probs.cpu().numpy().flatten().tolist()\n",
        "        prob_list.extend(probs)\n",
        "\n",
        "        ratings = ratings.cpu().numpy().flatten().tolist()\n",
        "        rating_list.extend(ratings)\n",
        "\n",
        "        pbar.update(1)"
      ]
    },
    {
      "cell_type": "code",
      "execution_count": null,
      "metadata": {},
      "outputs": [],
      "source": [
        "prediction = pd.DataFrame()\n",
        "prediction['real']=min_max_scaler.inverse_transform(np.array(rating_list).reshape(-1,1))[:,0]\n",
        "prediction['prediction']=min_max_scaler.inverse_transform(np.array(prob_list).reshape(-1,1))[:,0]"
      ]
    },
    {
      "cell_type": "code",
      "execution_count": null,
      "metadata": {},
      "outputs": [],
      "source": [
        "MAE = metrics.mean_absolute_error(prediction['real'],prediction['prediction'])\n",
        "RMSE = metrics.mean_squared_error(prediction['real'],prediction['prediction'])"
      ]
    },
    {
      "cell_type": "code",
      "execution_count": null,
      "metadata": {},
      "outputs": [
        {
          "name": "stdout",
          "output_type": "stream",
          "text": [
            "MAE:0.7071567539377096,RMSE:0.9326274156905306\n"
          ]
        }
      ],
      "source": [
        "print(f\"MAE:{MAE},RMSE:{RMSE}\")"
      ]
    },
    {
      "cell_type": "code",
      "execution_count": null,
      "metadata": {},
      "outputs": [
        {
          "data": {
            "text/html": [
              "<div>\n",
              "<style scoped>\n",
              "    .dataframe tbody tr th:only-of-type {\n",
              "        vertical-align: middle;\n",
              "    }\n",
              "\n",
              "    .dataframe tbody tr th {\n",
              "        vertical-align: top;\n",
              "    }\n",
              "\n",
              "    .dataframe thead th {\n",
              "        text-align: right;\n",
              "    }\n",
              "</style>\n",
              "<table border=\"1\" class=\"dataframe\">\n",
              "  <thead>\n",
              "    <tr style=\"text-align: right;\">\n",
              "      <th></th>\n",
              "      <th>real</th>\n",
              "      <th>prediction</th>\n",
              "    </tr>\n",
              "  </thead>\n",
              "  <tbody>\n",
              "    <tr>\n",
              "      <th>0</th>\n",
              "      <td>3.0</td>\n",
              "      <td>4.093569</td>\n",
              "    </tr>\n",
              "    <tr>\n",
              "      <th>1</th>\n",
              "      <td>3.0</td>\n",
              "      <td>2.986322</td>\n",
              "    </tr>\n",
              "    <tr>\n",
              "      <th>2</th>\n",
              "      <td>3.0</td>\n",
              "      <td>3.981323</td>\n",
              "    </tr>\n",
              "    <tr>\n",
              "      <th>3</th>\n",
              "      <td>3.0</td>\n",
              "      <td>3.813461</td>\n",
              "    </tr>\n",
              "    <tr>\n",
              "      <th>4</th>\n",
              "      <td>4.0</td>\n",
              "      <td>2.916972</td>\n",
              "    </tr>\n",
              "    <tr>\n",
              "      <th>5</th>\n",
              "      <td>3.0</td>\n",
              "      <td>4.075948</td>\n",
              "    </tr>\n",
              "    <tr>\n",
              "      <th>6</th>\n",
              "      <td>4.0</td>\n",
              "      <td>4.118924</td>\n",
              "    </tr>\n",
              "    <tr>\n",
              "      <th>7</th>\n",
              "      <td>4.0</td>\n",
              "      <td>5.000000</td>\n",
              "    </tr>\n",
              "    <tr>\n",
              "      <th>8</th>\n",
              "      <td>2.0</td>\n",
              "      <td>2.987072</td>\n",
              "    </tr>\n",
              "    <tr>\n",
              "      <th>9</th>\n",
              "      <td>5.0</td>\n",
              "      <td>3.966794</td>\n",
              "    </tr>\n",
              "    <tr>\n",
              "      <th>10</th>\n",
              "      <td>3.0</td>\n",
              "      <td>2.988026</td>\n",
              "    </tr>\n",
              "    <tr>\n",
              "      <th>11</th>\n",
              "      <td>3.0</td>\n",
              "      <td>2.940743</td>\n",
              "    </tr>\n",
              "    <tr>\n",
              "      <th>12</th>\n",
              "      <td>1.0</td>\n",
              "      <td>1.183382</td>\n",
              "    </tr>\n",
              "    <tr>\n",
              "      <th>13</th>\n",
              "      <td>4.0</td>\n",
              "      <td>4.290266</td>\n",
              "    </tr>\n",
              "    <tr>\n",
              "      <th>14</th>\n",
              "      <td>2.0</td>\n",
              "      <td>3.919563</td>\n",
              "    </tr>\n",
              "    <tr>\n",
              "      <th>15</th>\n",
              "      <td>3.0</td>\n",
              "      <td>2.972677</td>\n",
              "    </tr>\n",
              "    <tr>\n",
              "      <th>16</th>\n",
              "      <td>5.0</td>\n",
              "      <td>4.014582</td>\n",
              "    </tr>\n",
              "    <tr>\n",
              "      <th>17</th>\n",
              "      <td>2.0</td>\n",
              "      <td>2.922999</td>\n",
              "    </tr>\n",
              "    <tr>\n",
              "      <th>18</th>\n",
              "      <td>3.0</td>\n",
              "      <td>2.836717</td>\n",
              "    </tr>\n",
              "    <tr>\n",
              "      <th>19</th>\n",
              "      <td>4.0</td>\n",
              "      <td>3.442368</td>\n",
              "    </tr>\n",
              "    <tr>\n",
              "      <th>20</th>\n",
              "      <td>4.0</td>\n",
              "      <td>4.582464</td>\n",
              "    </tr>\n",
              "    <tr>\n",
              "      <th>21</th>\n",
              "      <td>1.0</td>\n",
              "      <td>2.021317</td>\n",
              "    </tr>\n",
              "    <tr>\n",
              "      <th>22</th>\n",
              "      <td>3.0</td>\n",
              "      <td>2.789448</td>\n",
              "    </tr>\n",
              "    <tr>\n",
              "      <th>23</th>\n",
              "      <td>4.0</td>\n",
              "      <td>5.000000</td>\n",
              "    </tr>\n",
              "    <tr>\n",
              "      <th>24</th>\n",
              "      <td>2.0</td>\n",
              "      <td>4.024106</td>\n",
              "    </tr>\n",
              "    <tr>\n",
              "      <th>25</th>\n",
              "      <td>4.0</td>\n",
              "      <td>3.931270</td>\n",
              "    </tr>\n",
              "    <tr>\n",
              "      <th>26</th>\n",
              "      <td>5.0</td>\n",
              "      <td>4.069372</td>\n",
              "    </tr>\n",
              "    <tr>\n",
              "      <th>27</th>\n",
              "      <td>4.0</td>\n",
              "      <td>4.956441</td>\n",
              "    </tr>\n",
              "    <tr>\n",
              "      <th>28</th>\n",
              "      <td>3.0</td>\n",
              "      <td>2.960766</td>\n",
              "    </tr>\n",
              "    <tr>\n",
              "      <th>29</th>\n",
              "      <td>4.0</td>\n",
              "      <td>4.917697</td>\n",
              "    </tr>\n",
              "    <tr>\n",
              "      <th>30</th>\n",
              "      <td>3.0</td>\n",
              "      <td>2.959796</td>\n",
              "    </tr>\n",
              "    <tr>\n",
              "      <th>31</th>\n",
              "      <td>4.0</td>\n",
              "      <td>3.536410</td>\n",
              "    </tr>\n",
              "    <tr>\n",
              "      <th>32</th>\n",
              "      <td>5.0</td>\n",
              "      <td>4.373938</td>\n",
              "    </tr>\n",
              "    <tr>\n",
              "      <th>33</th>\n",
              "      <td>2.0</td>\n",
              "      <td>2.992952</td>\n",
              "    </tr>\n",
              "    <tr>\n",
              "      <th>34</th>\n",
              "      <td>5.0</td>\n",
              "      <td>4.720529</td>\n",
              "    </tr>\n",
              "    <tr>\n",
              "      <th>35</th>\n",
              "      <td>3.0</td>\n",
              "      <td>3.016346</td>\n",
              "    </tr>\n",
              "    <tr>\n",
              "      <th>36</th>\n",
              "      <td>5.0</td>\n",
              "      <td>3.970206</td>\n",
              "    </tr>\n",
              "    <tr>\n",
              "      <th>37</th>\n",
              "      <td>2.0</td>\n",
              "      <td>4.015374</td>\n",
              "    </tr>\n",
              "    <tr>\n",
              "      <th>38</th>\n",
              "      <td>1.0</td>\n",
              "      <td>2.874439</td>\n",
              "    </tr>\n",
              "    <tr>\n",
              "      <th>39</th>\n",
              "      <td>3.0</td>\n",
              "      <td>3.966485</td>\n",
              "    </tr>\n",
              "    <tr>\n",
              "      <th>40</th>\n",
              "      <td>4.0</td>\n",
              "      <td>4.012705</td>\n",
              "    </tr>\n",
              "    <tr>\n",
              "      <th>41</th>\n",
              "      <td>5.0</td>\n",
              "      <td>3.939771</td>\n",
              "    </tr>\n",
              "    <tr>\n",
              "      <th>42</th>\n",
              "      <td>4.0</td>\n",
              "      <td>4.049029</td>\n",
              "    </tr>\n",
              "    <tr>\n",
              "      <th>43</th>\n",
              "      <td>4.0</td>\n",
              "      <td>4.017715</td>\n",
              "    </tr>\n",
              "    <tr>\n",
              "      <th>44</th>\n",
              "      <td>5.0</td>\n",
              "      <td>3.517218</td>\n",
              "    </tr>\n",
              "    <tr>\n",
              "      <th>45</th>\n",
              "      <td>5.0</td>\n",
              "      <td>4.082083</td>\n",
              "    </tr>\n",
              "    <tr>\n",
              "      <th>46</th>\n",
              "      <td>3.0</td>\n",
              "      <td>3.915764</td>\n",
              "    </tr>\n",
              "    <tr>\n",
              "      <th>47</th>\n",
              "      <td>2.0</td>\n",
              "      <td>3.971024</td>\n",
              "    </tr>\n",
              "    <tr>\n",
              "      <th>48</th>\n",
              "      <td>3.0</td>\n",
              "      <td>3.995683</td>\n",
              "    </tr>\n",
              "    <tr>\n",
              "      <th>49</th>\n",
              "      <td>3.0</td>\n",
              "      <td>3.953826</td>\n",
              "    </tr>\n",
              "  </tbody>\n",
              "</table>\n",
              "</div>"
            ],
            "text/plain": [
              "    real  prediction\n",
              "0    3.0    4.093569\n",
              "1    3.0    2.986322\n",
              "2    3.0    3.981323\n",
              "3    3.0    3.813461\n",
              "4    4.0    2.916972\n",
              "5    3.0    4.075948\n",
              "6    4.0    4.118924\n",
              "7    4.0    5.000000\n",
              "8    2.0    2.987072\n",
              "9    5.0    3.966794\n",
              "10   3.0    2.988026\n",
              "11   3.0    2.940743\n",
              "12   1.0    1.183382\n",
              "13   4.0    4.290266\n",
              "14   2.0    3.919563\n",
              "15   3.0    2.972677\n",
              "16   5.0    4.014582\n",
              "17   2.0    2.922999\n",
              "18   3.0    2.836717\n",
              "19   4.0    3.442368\n",
              "20   4.0    4.582464\n",
              "21   1.0    2.021317\n",
              "22   3.0    2.789448\n",
              "23   4.0    5.000000\n",
              "24   2.0    4.024106\n",
              "25   4.0    3.931270\n",
              "26   5.0    4.069372\n",
              "27   4.0    4.956441\n",
              "28   3.0    2.960766\n",
              "29   4.0    4.917697\n",
              "30   3.0    2.959796\n",
              "31   4.0    3.536410\n",
              "32   5.0    4.373938\n",
              "33   2.0    2.992952\n",
              "34   5.0    4.720529\n",
              "35   3.0    3.016346\n",
              "36   5.0    3.970206\n",
              "37   2.0    4.015374\n",
              "38   1.0    2.874439\n",
              "39   3.0    3.966485\n",
              "40   4.0    4.012705\n",
              "41   5.0    3.939771\n",
              "42   4.0    4.049029\n",
              "43   4.0    4.017715\n",
              "44   5.0    3.517218\n",
              "45   5.0    4.082083\n",
              "46   3.0    3.915764\n",
              "47   2.0    3.971024\n",
              "48   3.0    3.995683\n",
              "49   3.0    3.953826"
            ]
          },
          "execution_count": 60,
          "metadata": {},
          "output_type": "execute_result"
        },
        {
          "name": "stderr",
          "output_type": "stream",
          "text": [
            "100%|██████████| 2328/2328 [00:20<00:00, 331.18it/s]"
          ]
        }
      ],
      "source": [
        "\"\"\"show result: the model seems very good\"\"\"\n",
        "prediction.iloc[:50]"
      ]
    },
    {
      "cell_type": "code",
      "execution_count": null,
      "metadata": {},
      "outputs": [],
      "source": []
    }
  ],
  "metadata": {
    "accelerator": "GPU",
    "colab": {
      "gpuType": "T4",
      "provenance": [],
      "toc_visible": true
    },
    "kernelspec": {
      "display_name": "Python 3",
      "name": "python3"
    },
    "language_info": {
      "codemirror_mode": {
        "name": "ipython",
        "version": 3
      },
      "file_extension": ".py",
      "mimetype": "text/x-python",
      "name": "python",
      "nbconvert_exporter": "python",
      "pygments_lexer": "ipython3",
      "version": "3.11.3"
    }
  },
  "nbformat": 4,
  "nbformat_minor": 0
}
