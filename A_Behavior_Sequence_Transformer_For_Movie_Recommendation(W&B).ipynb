{
  "cells": [
    {
      "attachments": {},
      "cell_type": "markdown",
      "metadata": {
        "id": "aUG4oG3JSGCn"
      },
      "source": [
        "# A Behavior Sequence Transformer For Movie Recommendation With Weight & Baises Tracking\n",
        "\n",
        "**Author:** [Nelson Lin](https://www.linkedin.com/in/nelson-lin-842564164/)<br>\n",
        "**Date created:** 2024/07/09<br>\n",
        "**Last modified:** 2024/07/09<br>\n",
        "**Description:** Rating rate prediction using the Behavior Sequence Transformer (BST) model on the Movielens 1M."
      ]
    },
    {
      "attachments": {},
      "cell_type": "markdown",
      "metadata": {
        "id": "10UcMwj-Sjqv"
      },
      "source": [
        "## (1) Notebook Settings"
      ]
    },
    {
      "cell_type": "code",
      "execution_count": 1,
      "metadata": {
        "id": "RxoBk0OkSvPn"
      },
      "outputs": [],
      "source": [
        "import pandas as pd\n",
        "import os\n",
        "import numpy as np\n",
        "import torch\n",
        "from torch import nn\n",
        "from zipfile import ZipFile\n",
        "from urllib.request import urlretrieve\n",
        "from torch.utils.data import Dataset\n",
        "from torch.utils.data import DataLoader\n",
        "from sklearn.preprocessing import MinMaxScaler\n",
        "from tqdm import tqdm\n",
        "import random\n",
        "import json\n",
        "import wandb\n",
        "from sklearn import metrics\n",
        "from uuid import uuid4"
      ]
    },
    {
      "cell_type": "code",
      "execution_count": 2,
      "metadata": {},
      "outputs": [],
      "source": [
        "# Set random seed for reproducibility\n",
        "torch.manual_seed(0)\n",
        "np.random.seed(0)\n",
        "random.seed(0)\n",
        "if torch.cuda.is_available():\n",
        "    torch.backends.cudnn.deterministic = True\n",
        "    torch.backends.cudnn.benchmark = False\n"
      ]
    },
    {
      "cell_type": "code",
      "execution_count": 3,
      "metadata": {},
      "outputs": [],
      "source": [
        "# os.environ[\"WANDB_NOTEBOOK_NAME\"] = \"A_Behavior_Sequence_Transformer_For_Movie_Recommendation(W&B).ipynb\""
      ]
    },
    {
      "cell_type": "code",
      "execution_count": 4,
      "metadata": {},
      "outputs": [
        {
          "name": "stderr",
          "output_type": "stream",
          "text": [
            "Failed to detect the name of this notebook, you can set it manually with the WANDB_NOTEBOOK_NAME environment variable to enable code saving.\n",
            "\u001b[34m\u001b[1mwandb\u001b[0m: Currently logged in as: \u001b[33mnelsonlin0321\u001b[0m. Use \u001b[1m`wandb login --relogin`\u001b[0m to force relogin\n"
          ]
        },
        {
          "data": {
            "text/plain": [
              "True"
            ]
          },
          "execution_count": 4,
          "metadata": {},
          "output_type": "execute_result"
        }
      ],
      "source": [
        "wandb.login()"
      ]
    },
    {
      "attachments": {},
      "cell_type": "markdown",
      "metadata": {
        "id": "Z_RHfTP4S3IZ"
      },
      "source": [
        "## (2) Data preparation"
      ]
    },
    {
      "attachments": {},
      "cell_type": "markdown",
      "metadata": {
        "id": "Tm747EdZU1bZ"
      },
      "source": [
        "### Load Data"
      ]
    },
    {
      "cell_type": "code",
      "execution_count": 5,
      "metadata": {
        "id": "KrasdLSrSG1x"
      },
      "outputs": [],
      "source": [
        "# urlretrieve(\"http://files.grouplens.org/datasets/movielens/ml-1m.zip\", \"movielens.zip\")\n",
        "# ZipFile(\"movielens.zip\", \"r\").extractall()"
      ]
    },
    {
      "cell_type": "code",
      "execution_count": 6,
      "metadata": {
        "id": "c8YFIdZeSxaH"
      },
      "outputs": [],
      "source": [
        "users = pd.read_csv(\n",
        "    \"ml-1m/users.dat\",\n",
        "    sep=\"::\",\n",
        "    names=[\"user_id\", \"sex\", \"age_group\", \"occupation\", \"zip_code\"],\n",
        "    engine='python'\n",
        ")\n",
        "\n",
        "ratings = pd.read_csv(\n",
        "    \"ml-1m/ratings.dat\",\n",
        "    sep=\"::\",\n",
        "    names=[\"user_id\", \"movie_id\", \"rating\", \"unix_timestamp\"],\n",
        "    engine='python'\n",
        ")\n",
        "\n",
        "movies = pd.read_csv(\n",
        "    \"ml-1m/movies.dat\", sep=\"::\", names=[\"movie_id\", \"title\", \"genres\"],\n",
        "    engine='python',encoding='ISO-8859-1'\n",
        ")"
      ]
    },
    {
      "attachments": {},
      "cell_type": "markdown",
      "metadata": {
        "id": "MMRanAvKU9t1"
      },
      "source": [
        "### Remap ID to index"
      ]
    },
    {
      "cell_type": "code",
      "execution_count": 7,
      "metadata": {
        "id": "AxDgQLlHS17f"
      },
      "outputs": [],
      "source": [
        "# remap the id to index\n",
        "def generate_remap_id_dict(df,col):\n",
        "    ids = df[df[col].notnull()][col].unique().tolist()\n",
        "    ids = sorted(ids)\n",
        "    id_map_dict = {x: i+1 for i, x in enumerate(ids)}\n",
        "    id_map_dict[\"UNK\"]=0\n",
        "\n",
        "    df[f\"{col}_index\"] = df[col].fillna(\"UNK\").map(id_map_dict)\n",
        "\n",
        "    return id_map_dict"
      ]
    },
    {
      "cell_type": "code",
      "execution_count": 8,
      "metadata": {
        "id": "9sCplGKlTHHt"
      },
      "outputs": [],
      "source": [
        "user_id_map_dict = generate_remap_id_dict(users,col='user_id')"
      ]
    },
    {
      "cell_type": "code",
      "execution_count": 9,
      "metadata": {
        "colab": {
          "base_uri": "https://localhost:8080/",
          "height": 206
        },
        "id": "jl_-Q_yYUA-6",
        "outputId": "a37170ca-c76f-4d1c-e1e8-1cdcd42e5c0a"
      },
      "outputs": [
        {
          "data": {
            "text/html": [
              "<div>\n",
              "<style scoped>\n",
              "    .dataframe tbody tr th:only-of-type {\n",
              "        vertical-align: middle;\n",
              "    }\n",
              "\n",
              "    .dataframe tbody tr th {\n",
              "        vertical-align: top;\n",
              "    }\n",
              "\n",
              "    .dataframe thead th {\n",
              "        text-align: right;\n",
              "    }\n",
              "</style>\n",
              "<table border=\"1\" class=\"dataframe\">\n",
              "  <thead>\n",
              "    <tr style=\"text-align: right;\">\n",
              "      <th></th>\n",
              "      <th>user_id</th>\n",
              "      <th>sex</th>\n",
              "      <th>age_group</th>\n",
              "      <th>occupation</th>\n",
              "      <th>zip_code</th>\n",
              "      <th>user_id_index</th>\n",
              "    </tr>\n",
              "  </thead>\n",
              "  <tbody>\n",
              "    <tr>\n",
              "      <th>0</th>\n",
              "      <td>1</td>\n",
              "      <td>F</td>\n",
              "      <td>1</td>\n",
              "      <td>10</td>\n",
              "      <td>48067</td>\n",
              "      <td>1</td>\n",
              "    </tr>\n",
              "    <tr>\n",
              "      <th>1</th>\n",
              "      <td>2</td>\n",
              "      <td>M</td>\n",
              "      <td>56</td>\n",
              "      <td>16</td>\n",
              "      <td>70072</td>\n",
              "      <td>2</td>\n",
              "    </tr>\n",
              "    <tr>\n",
              "      <th>2</th>\n",
              "      <td>3</td>\n",
              "      <td>M</td>\n",
              "      <td>25</td>\n",
              "      <td>15</td>\n",
              "      <td>55117</td>\n",
              "      <td>3</td>\n",
              "    </tr>\n",
              "    <tr>\n",
              "      <th>3</th>\n",
              "      <td>4</td>\n",
              "      <td>M</td>\n",
              "      <td>45</td>\n",
              "      <td>7</td>\n",
              "      <td>02460</td>\n",
              "      <td>4</td>\n",
              "    </tr>\n",
              "    <tr>\n",
              "      <th>4</th>\n",
              "      <td>5</td>\n",
              "      <td>M</td>\n",
              "      <td>25</td>\n",
              "      <td>20</td>\n",
              "      <td>55455</td>\n",
              "      <td>5</td>\n",
              "    </tr>\n",
              "  </tbody>\n",
              "</table>\n",
              "</div>"
            ],
            "text/plain": [
              "   user_id sex  age_group  occupation zip_code  user_id_index\n",
              "0        1   F          1          10    48067              1\n",
              "1        2   M         56          16    70072              2\n",
              "2        3   M         25          15    55117              3\n",
              "3        4   M         45           7    02460              4\n",
              "4        5   M         25          20    55455              5"
            ]
          },
          "execution_count": 9,
          "metadata": {},
          "output_type": "execute_result"
        }
      ],
      "source": [
        "users.head()"
      ]
    },
    {
      "cell_type": "code",
      "execution_count": 10,
      "metadata": {
        "id": "hsCN2BJ0UAQC"
      },
      "outputs": [],
      "source": [
        "# remap sex to score\n",
        "sex_id_map_dict = {'M':0.0,'F':1.0,'UNK':0.5}\n",
        "users['sex']=users['sex'].map(sex_id_map_dict)"
      ]
    },
    {
      "cell_type": "code",
      "execution_count": 11,
      "metadata": {
        "id": "ssHECS9iTZ3A"
      },
      "outputs": [],
      "source": [
        "occupation_id_map_dict = generate_remap_id_dict(users,col='occupation')"
      ]
    },
    {
      "cell_type": "code",
      "execution_count": 12,
      "metadata": {
        "id": "dGTwjedfTfN1"
      },
      "outputs": [],
      "source": [
        "age_group_id_map_dict = generate_remap_id_dict(users,col='age_group')"
      ]
    },
    {
      "cell_type": "code",
      "execution_count": 13,
      "metadata": {
        "id": "NRtH_iAeTgn0"
      },
      "outputs": [],
      "source": [
        "min_max_scaler = MinMaxScaler()\n",
        "ratings[\"norm_rating\"] = min_max_scaler.fit_transform(\n",
        "    ratings[\"rating\"].values.reshape(-1, 1))[:, 0]"
      ]
    },
    {
      "cell_type": "code",
      "execution_count": 14,
      "metadata": {
        "id": "gqur_n48Trck"
      },
      "outputs": [],
      "source": [
        "movie_id_map_dict = generate_remap_id_dict(movies,col='movie_id')"
      ]
    },
    {
      "cell_type": "code",
      "execution_count": 15,
      "metadata": {
        "id": "DSu3fNkyTv6D"
      },
      "outputs": [],
      "source": [
        "genres_set = set()\n",
        "def get_genres_set(genres):\n",
        "    global genres_set\n",
        "    genres_split = genres.split(\"|\")\n",
        "    genres_set.update(genres_split)\n",
        "    return genres_split\n",
        "movies['genres'] = movies['genres'].apply(lambda x:get_genres_set(x))\n",
        "genres_map_dict ={x: i+1 for i, x in enumerate(sorted(genres_set))}\n",
        "genres_map_dict['UNK']=0"
      ]
    },
    {
      "cell_type": "code",
      "execution_count": 16,
      "metadata": {
        "id": "hD5T2WuYUUuB"
      },
      "outputs": [],
      "source": [
        "movies['genres_ids']= movies['genres'].apply(lambda x: [genres_map_dict[g] for g in x])"
      ]
    },
    {
      "cell_type": "code",
      "execution_count": 17,
      "metadata": {
        "id": "qbMexz0nUPyz"
      },
      "outputs": [],
      "source": [
        "ratings['movie_id_index'] = ratings['movie_id'].map(movie_id_map_dict)\n",
        "ratings['user_id_index'] = ratings['user_id'].map(user_id_map_dict)"
      ]
    },
    {
      "cell_type": "code",
      "execution_count": 18,
      "metadata": {
        "id": "0NW-x8FdTy40"
      },
      "outputs": [],
      "source": [
        "df_user_views = ratings[[\"movie_id_index\", \"user_id_index\", \"unix_timestamp\", \"norm_rating\"]] \\\n",
        "    .merge(movies[['movie_id_index', 'genres_ids']],\n",
        "           on=['movie_id_index'])"
      ]
    },
    {
      "cell_type": "code",
      "execution_count": 19,
      "metadata": {
        "colab": {
          "base_uri": "https://localhost:8080/",
          "height": 206
        },
        "id": "QM1VX4lVUMMa",
        "outputId": "aca32242-4f66-4be8-bdab-669ab38d1a26"
      },
      "outputs": [
        {
          "data": {
            "text/html": [
              "<div>\n",
              "<style scoped>\n",
              "    .dataframe tbody tr th:only-of-type {\n",
              "        vertical-align: middle;\n",
              "    }\n",
              "\n",
              "    .dataframe tbody tr th {\n",
              "        vertical-align: top;\n",
              "    }\n",
              "\n",
              "    .dataframe thead th {\n",
              "        text-align: right;\n",
              "    }\n",
              "</style>\n",
              "<table border=\"1\" class=\"dataframe\">\n",
              "  <thead>\n",
              "    <tr style=\"text-align: right;\">\n",
              "      <th></th>\n",
              "      <th>movie_id_index</th>\n",
              "      <th>user_id_index</th>\n",
              "      <th>unix_timestamp</th>\n",
              "      <th>norm_rating</th>\n",
              "      <th>genres_ids</th>\n",
              "    </tr>\n",
              "  </thead>\n",
              "  <tbody>\n",
              "    <tr>\n",
              "      <th>0</th>\n",
              "      <td>1177</td>\n",
              "      <td>1</td>\n",
              "      <td>978300760</td>\n",
              "      <td>1.00</td>\n",
              "      <td>[8]</td>\n",
              "    </tr>\n",
              "    <tr>\n",
              "      <th>1</th>\n",
              "      <td>1177</td>\n",
              "      <td>2</td>\n",
              "      <td>978298413</td>\n",
              "      <td>1.00</td>\n",
              "      <td>[8]</td>\n",
              "    </tr>\n",
              "    <tr>\n",
              "      <th>2</th>\n",
              "      <td>1177</td>\n",
              "      <td>12</td>\n",
              "      <td>978220179</td>\n",
              "      <td>0.75</td>\n",
              "      <td>[8]</td>\n",
              "    </tr>\n",
              "    <tr>\n",
              "      <th>3</th>\n",
              "      <td>1177</td>\n",
              "      <td>15</td>\n",
              "      <td>978199279</td>\n",
              "      <td>0.75</td>\n",
              "      <td>[8]</td>\n",
              "    </tr>\n",
              "    <tr>\n",
              "      <th>4</th>\n",
              "      <td>1177</td>\n",
              "      <td>17</td>\n",
              "      <td>978158471</td>\n",
              "      <td>1.00</td>\n",
              "      <td>[8]</td>\n",
              "    </tr>\n",
              "  </tbody>\n",
              "</table>\n",
              "</div>"
            ],
            "text/plain": [
              "   movie_id_index  user_id_index  unix_timestamp  norm_rating genres_ids\n",
              "0            1177              1       978300760         1.00        [8]\n",
              "1            1177              2       978298413         1.00        [8]\n",
              "2            1177             12       978220179         0.75        [8]\n",
              "3            1177             15       978199279         0.75        [8]\n",
              "4            1177             17       978158471         1.00        [8]"
            ]
          },
          "execution_count": 19,
          "metadata": {},
          "output_type": "execute_result"
        }
      ],
      "source": [
        "df_user_views.head()"
      ]
    },
    {
      "attachments": {},
      "cell_type": "markdown",
      "metadata": {
        "id": "o2uoGM6uUsKF"
      },
      "source": [
        "### Prepare the Sequence"
      ]
    },
    {
      "cell_type": "code",
      "execution_count": 20,
      "metadata": {
        "id": "DvQBp4moVNEf"
      },
      "outputs": [],
      "source": [
        "df_agg_ratings = df_user_views.sort_values(by=[\"unix_timestamp\"]).groupby(\"user_id_index\")"
      ]
    },
    {
      "cell_type": "code",
      "execution_count": 21,
      "metadata": {
        "id": "44_d1f5pVSqX"
      },
      "outputs": [],
      "source": [
        "ratings_data = pd.DataFrame(\n",
        "    data={\n",
        "        \"user_id_index\": list(df_agg_ratings.groups.keys()),\n",
        "        \"movie_sequence\": list(df_agg_ratings.movie_id_index.apply(list)),\n",
        "        \"rating_sequence\": list(df_agg_ratings.norm_rating.apply(list)),\n",
        "        \"timestamps\": list(df_agg_ratings.unix_timestamp.apply(list)),\n",
        "    }\n",
        ")"
      ]
    },
    {
      "cell_type": "code",
      "execution_count": 22,
      "metadata": {
        "id": "LrruVMSyUxXW"
      },
      "outputs": [],
      "source": [
        "sequence_length = 15\n",
        "step_size = 2\n",
        "\n",
        "\n",
        "def create_sequences(values, window_size, step_size):\n",
        "    sequences = []\n",
        "    start_index = 0\n",
        "    while True:\n",
        "        end_index = start_index + window_size\n",
        "        seq = values[start_index:end_index]\n",
        "        if len(seq) < window_size:\n",
        "            seq = values[-window_size:]\n",
        "            if len(seq) == window_size:\n",
        "                sequences.append(seq)\n",
        "            break\n",
        "        sequences.append(seq)\n",
        "        start_index += step_size\n",
        "    return sequences\n",
        "\n",
        "\n",
        "ratings_data.movie_sequence\t = ratings_data.movie_sequence.apply(\n",
        "    lambda ids: create_sequences(ids, sequence_length, step_size)\n",
        ")\n",
        "\n",
        "ratings_data.rating_sequence = ratings_data.rating_sequence.apply(\n",
        "    lambda ids: create_sequences(ids, sequence_length, step_size)\n",
        ")\n",
        "\n",
        "del ratings_data[\"timestamps\"]"
      ]
    },
    {
      "cell_type": "code",
      "execution_count": 23,
      "metadata": {
        "id": "eREuVC30VU03"
      },
      "outputs": [],
      "source": [
        "ratings_data_movies = ratings_data[[\"user_id_index\", \"movie_sequence\"]].explode(\n",
        "    \"movie_sequence\", ignore_index=True\n",
        ")\n",
        "ratings_data_rating = ratings_data[[\"rating_sequence\"]].explode(\"rating_sequence\", ignore_index=True)\n",
        "ratings_data_transformed = pd.concat([ratings_data_movies, ratings_data_rating], axis=1)"
      ]
    },
    {
      "cell_type": "code",
      "execution_count": 24,
      "metadata": {
        "colab": {
          "base_uri": "https://localhost:8080/",
          "height": 206
        },
        "id": "K-yTVNctVWbn",
        "outputId": "d51b685b-cc56-4caf-f201-729232ee2c2f"
      },
      "outputs": [
        {
          "data": {
            "text/html": [
              "<div>\n",
              "<style scoped>\n",
              "    .dataframe tbody tr th:only-of-type {\n",
              "        vertical-align: middle;\n",
              "    }\n",
              "\n",
              "    .dataframe tbody tr th {\n",
              "        vertical-align: top;\n",
              "    }\n",
              "\n",
              "    .dataframe thead th {\n",
              "        text-align: right;\n",
              "    }\n",
              "</style>\n",
              "<table border=\"1\" class=\"dataframe\">\n",
              "  <thead>\n",
              "    <tr style=\"text-align: right;\">\n",
              "      <th></th>\n",
              "      <th>user_id_index</th>\n",
              "      <th>movie_sequence</th>\n",
              "      <th>rating_sequence</th>\n",
              "    </tr>\n",
              "  </thead>\n",
              "  <tbody>\n",
              "    <tr>\n",
              "      <th>0</th>\n",
              "      <td>1</td>\n",
              "      <td>[3118, 1010, 1673, 1251, 2272, 1769, 3340, 119...</td>\n",
              "      <td>[0.75, 1.0, 0.75, 1.0, 0.5, 1.0, 0.75, 0.75, 1...</td>\n",
              "    </tr>\n",
              "    <tr>\n",
              "      <th>1</th>\n",
              "      <td>1</td>\n",
              "      <td>[1673, 1251, 2272, 1769, 3340, 1190, 2736, 258...</td>\n",
              "      <td>[0.75, 1.0, 0.5, 1.0, 0.75, 0.75, 1.0, 0.75, 1...</td>\n",
              "    </tr>\n",
              "    <tr>\n",
              "      <th>2</th>\n",
              "      <td>1</td>\n",
              "      <td>[2272, 1769, 3340, 1190, 2736, 258, 1177, 712,...</td>\n",
              "      <td>[0.5, 1.0, 0.75, 0.75, 1.0, 0.75, 1.0, 0.5, 0....</td>\n",
              "    </tr>\n",
              "    <tr>\n",
              "      <th>3</th>\n",
              "      <td>1</td>\n",
              "      <td>[3340, 1190, 2736, 258, 1177, 712, 908, 605, 2...</td>\n",
              "      <td>[0.75, 0.75, 1.0, 0.75, 1.0, 0.5, 0.75, 0.75, ...</td>\n",
              "    </tr>\n",
              "    <tr>\n",
              "      <th>4</th>\n",
              "      <td>1</td>\n",
              "      <td>[2736, 258, 1177, 712, 908, 605, 2624, 1893, 1...</td>\n",
              "      <td>[1.0, 0.75, 1.0, 0.5, 0.75, 0.75, 0.75, 1.0, 1...</td>\n",
              "    </tr>\n",
              "  </tbody>\n",
              "</table>\n",
              "</div>"
            ],
            "text/plain": [
              "   user_id_index                                     movie_sequence  \\\n",
              "0              1  [3118, 1010, 1673, 1251, 2272, 1769, 3340, 119...   \n",
              "1              1  [1673, 1251, 2272, 1769, 3340, 1190, 2736, 258...   \n",
              "2              1  [2272, 1769, 3340, 1190, 2736, 258, 1177, 712,...   \n",
              "3              1  [3340, 1190, 2736, 258, 1177, 712, 908, 605, 2...   \n",
              "4              1  [2736, 258, 1177, 712, 908, 605, 2624, 1893, 1...   \n",
              "\n",
              "                                     rating_sequence  \n",
              "0  [0.75, 1.0, 0.75, 1.0, 0.5, 1.0, 0.75, 0.75, 1...  \n",
              "1  [0.75, 1.0, 0.5, 1.0, 0.75, 0.75, 1.0, 0.75, 1...  \n",
              "2  [0.5, 1.0, 0.75, 0.75, 1.0, 0.75, 1.0, 0.5, 0....  \n",
              "3  [0.75, 0.75, 1.0, 0.75, 1.0, 0.5, 0.75, 0.75, ...  \n",
              "4  [1.0, 0.75, 1.0, 0.5, 0.75, 0.75, 0.75, 1.0, 1...  "
            ]
          },
          "execution_count": 24,
          "metadata": {},
          "output_type": "execute_result"
        }
      ],
      "source": [
        "ratings_data_transformed.head()"
      ]
    },
    {
      "cell_type": "code",
      "execution_count": 25,
      "metadata": {
        "id": "roXPTpv8VY-9"
      },
      "outputs": [],
      "source": [
        "user_columns = ['user_id_index',\n",
        "                'sex',\n",
        "                'occupation_index',\n",
        "                'age_group_index']"
      ]
    },
    {
      "cell_type": "code",
      "execution_count": 26,
      "metadata": {
        "id": "kotYicQYVaGe"
      },
      "outputs": [],
      "source": [
        "ratings_data_transformed = ratings_data_transformed.merge(\n",
        "    users[user_columns], on=\"user_id_index\"\n",
        ")"
      ]
    },
    {
      "cell_type": "code",
      "execution_count": 27,
      "metadata": {
        "id": "GUE9Aj-JVbB_"
      },
      "outputs": [],
      "source": [
        "ratings_data_transformed['sex'] = ratings_data_transformed['sex'].astype(float)"
      ]
    },
    {
      "cell_type": "code",
      "execution_count": 28,
      "metadata": {
        "id": "-f6yhP5ZVcPk"
      },
      "outputs": [],
      "source": [
        "ratings_data_transformed['target_movie'] =  ratings_data_transformed['movie_sequence'].apply(lambda x:x[-1])\n",
        "ratings_data_transformed['target_rating'] =  ratings_data_transformed['rating_sequence'].apply(lambda x:x[-1])\n",
        "# mask the last rating\n",
        "mask_score = 1.0\n",
        "ratings_data_transformed['rating_sequence'] =  ratings_data_transformed['rating_sequence'].apply(lambda x:x[:-1]+[mask_score])"
      ]
    },
    {
      "cell_type": "code",
      "execution_count": 29,
      "metadata": {
        "colab": {
          "base_uri": "https://localhost:8080/",
          "height": 206
        },
        "id": "_D1bExqMVkRd",
        "outputId": "c23bbf8a-0b53-47bc-fc80-82cb54374ba1"
      },
      "outputs": [
        {
          "data": {
            "text/html": [
              "<div>\n",
              "<style scoped>\n",
              "    .dataframe tbody tr th:only-of-type {\n",
              "        vertical-align: middle;\n",
              "    }\n",
              "\n",
              "    .dataframe tbody tr th {\n",
              "        vertical-align: top;\n",
              "    }\n",
              "\n",
              "    .dataframe thead th {\n",
              "        text-align: right;\n",
              "    }\n",
              "</style>\n",
              "<table border=\"1\" class=\"dataframe\">\n",
              "  <thead>\n",
              "    <tr style=\"text-align: right;\">\n",
              "      <th></th>\n",
              "      <th>user_id_index</th>\n",
              "      <th>movie_sequence</th>\n",
              "      <th>rating_sequence</th>\n",
              "      <th>sex</th>\n",
              "      <th>occupation_index</th>\n",
              "      <th>age_group_index</th>\n",
              "      <th>target_movie</th>\n",
              "      <th>target_rating</th>\n",
              "    </tr>\n",
              "  </thead>\n",
              "  <tbody>\n",
              "    <tr>\n",
              "      <th>0</th>\n",
              "      <td>1</td>\n",
              "      <td>[3118, 1010, 1673, 1251, 2272, 1769, 3340, 119...</td>\n",
              "      <td>[0.75, 1.0, 0.75, 1.0, 0.5, 1.0, 0.75, 0.75, 1...</td>\n",
              "      <td>1.0</td>\n",
              "      <td>11</td>\n",
              "      <td>1</td>\n",
              "      <td>2624</td>\n",
              "      <td>0.75</td>\n",
              "    </tr>\n",
              "    <tr>\n",
              "      <th>1</th>\n",
              "      <td>1</td>\n",
              "      <td>[1673, 1251, 2272, 1769, 3340, 1190, 2736, 258...</td>\n",
              "      <td>[0.75, 1.0, 0.5, 1.0, 0.75, 0.75, 1.0, 0.75, 1...</td>\n",
              "      <td>1.0</td>\n",
              "      <td>11</td>\n",
              "      <td>1</td>\n",
              "      <td>1960</td>\n",
              "      <td>1.00</td>\n",
              "    </tr>\n",
              "    <tr>\n",
              "      <th>2</th>\n",
              "      <td>1</td>\n",
              "      <td>[2272, 1769, 3340, 1190, 2736, 258, 1177, 712,...</td>\n",
              "      <td>[0.5, 1.0, 0.75, 0.75, 1.0, 0.75, 1.0, 0.5, 0....</td>\n",
              "      <td>1.0</td>\n",
              "      <td>11</td>\n",
              "      <td>1</td>\n",
              "      <td>927</td>\n",
              "      <td>0.75</td>\n",
              "    </tr>\n",
              "    <tr>\n",
              "      <th>3</th>\n",
              "      <td>1</td>\n",
              "      <td>[3340, 1190, 2736, 258, 1177, 712, 908, 605, 2...</td>\n",
              "      <td>[0.75, 0.75, 1.0, 0.75, 1.0, 0.5, 0.75, 0.75, ...</td>\n",
              "      <td>1.0</td>\n",
              "      <td>11</td>\n",
              "      <td>1</td>\n",
              "      <td>1023</td>\n",
              "      <td>1.00</td>\n",
              "    </tr>\n",
              "    <tr>\n",
              "      <th>4</th>\n",
              "      <td>1</td>\n",
              "      <td>[2736, 258, 1177, 712, 908, 605, 2624, 1893, 1...</td>\n",
              "      <td>[1.0, 0.75, 1.0, 0.5, 0.75, 0.75, 0.75, 1.0, 1...</td>\n",
              "      <td>1.0</td>\n",
              "      <td>11</td>\n",
              "      <td>1</td>\n",
              "      <td>1950</td>\n",
              "      <td>0.75</td>\n",
              "    </tr>\n",
              "  </tbody>\n",
              "</table>\n",
              "</div>"
            ],
            "text/plain": [
              "   user_id_index                                     movie_sequence  \\\n",
              "0              1  [3118, 1010, 1673, 1251, 2272, 1769, 3340, 119...   \n",
              "1              1  [1673, 1251, 2272, 1769, 3340, 1190, 2736, 258...   \n",
              "2              1  [2272, 1769, 3340, 1190, 2736, 258, 1177, 712,...   \n",
              "3              1  [3340, 1190, 2736, 258, 1177, 712, 908, 605, 2...   \n",
              "4              1  [2736, 258, 1177, 712, 908, 605, 2624, 1893, 1...   \n",
              "\n",
              "                                     rating_sequence  sex  occupation_index  \\\n",
              "0  [0.75, 1.0, 0.75, 1.0, 0.5, 1.0, 0.75, 0.75, 1...  1.0                11   \n",
              "1  [0.75, 1.0, 0.5, 1.0, 0.75, 0.75, 1.0, 0.75, 1...  1.0                11   \n",
              "2  [0.5, 1.0, 0.75, 0.75, 1.0, 0.75, 1.0, 0.5, 0....  1.0                11   \n",
              "3  [0.75, 0.75, 1.0, 0.75, 1.0, 0.5, 0.75, 0.75, ...  1.0                11   \n",
              "4  [1.0, 0.75, 1.0, 0.5, 0.75, 0.75, 0.75, 1.0, 1...  1.0                11   \n",
              "\n",
              "   age_group_index  target_movie  target_rating  \n",
              "0                1          2624           0.75  \n",
              "1                1          1960           1.00  \n",
              "2                1           927           0.75  \n",
              "3                1          1023           1.00  \n",
              "4                1          1950           0.75  "
            ]
          },
          "execution_count": 29,
          "metadata": {},
          "output_type": "execute_result"
        }
      ],
      "source": [
        "ratings_data_transformed.head()"
      ]
    },
    {
      "cell_type": "code",
      "execution_count": 30,
      "metadata": {
        "id": "bQEmshcNVlks"
      },
      "outputs": [],
      "source": [
        "random_selection = np.random.rand(len(ratings_data_transformed.index)) <= 0.85\n",
        "train_data = ratings_data_transformed[random_selection]\n",
        "test_data = ratings_data_transformed[~random_selection]"
      ]
    },
    {
      "attachments": {},
      "cell_type": "markdown",
      "metadata": {
        "id": "bXqZBv7BVv4v"
      },
      "source": [
        "## (3) Model Config"
      ]
    },
    {
      "cell_type": "code",
      "execution_count": 31,
      "metadata": {
        "id": "74j7Qs7LVxkF"
      },
      "outputs": [],
      "source": [
        "num_user = len(user_id_map_dict)\n",
        "num_movie = len(movie_id_map_dict)\n",
        "num_occupation = len(occupation_id_map_dict)\n",
        "num_age_group = len(age_group_id_map_dict)\n",
        "# num_genre = len(genres_map_dict)"
      ]
    },
    {
      "cell_type": "code",
      "execution_count": 32,
      "metadata": {
        "id": "K4MOe95uV2qg"
      },
      "outputs": [],
      "source": [
        "embed_configs = {}\n",
        "EMED_DIM=32\n",
        "embed_configs['user']={\"embed_dim\":EMED_DIM,\"num_embed\":num_user}\n",
        "embed_configs['movie']={\"embed_dim\":EMED_DIM,\"num_embed\":num_movie}\n",
        "embed_configs['occupation']={\"embed_dim\":EMED_DIM,\"num_embed\":num_occupation}\n",
        "embed_configs['age_group']={\"embed_dim\":EMED_DIM,\"num_embed\":num_age_group}\n",
        "embed_configs['position'] = {\"embed_dim\":EMED_DIM,\"num_embed\":sequence_length}"
      ]
    },
    {
      "cell_type": "code",
      "execution_count": 33,
      "metadata": {
        "id": "6p7ikk9DV_od"
      },
      "outputs": [],
      "source": [
        "config_dict={}\n",
        "config_dict['embed_configs'] = embed_configs\n",
        "config_dict['transformer_num_layer']=3\n",
        "config_dict['dropout']=0.2\n",
        "config_dict['epoches']=10\n",
        "config_dict['learning_rate']=0.001\n",
        "config_dict['batch_size']=64\n",
        "config_dict['sequence_length']=sequence_length\n",
        "config_dict['step_size']=step_size"
      ]
    },
    {
      "cell_type": "code",
      "execution_count": 34,
      "metadata": {
        "id": "3C7jQUGhXMNz"
      },
      "outputs": [],
      "source": [
        "config_dict['device'] = \"cuda\" if torch.cuda.is_available() else \"cpu\""
      ]
    },
    {
      "cell_type": "code",
      "execution_count": 35,
      "metadata": {},
      "outputs": [],
      "source": [
        "wandb_project = \"BST For Movielens 1M Recommendation\""
      ]
    },
    {
      "cell_type": "code",
      "execution_count": 36,
      "metadata": {},
      "outputs": [],
      "source": [
        "batch_size = config_dict['batch_size']"
      ]
    },
    {
      "cell_type": "code",
      "execution_count": 37,
      "metadata": {},
      "outputs": [],
      "source": [
        "display_name = f\"sequence:{sequence_length} batch_size:{batch_size}\""
      ]
    },
    {
      "cell_type": "code",
      "execution_count": 38,
      "metadata": {},
      "outputs": [
        {
          "data": {
            "text/html": [
              "Tracking run with wandb version 0.15.5"
            ],
            "text/plain": [
              "<IPython.core.display.HTML object>"
            ]
          },
          "metadata": {},
          "output_type": "display_data"
        },
        {
          "data": {
            "text/html": [
              "Run data is saved locally in <code>/Users/nelsonlin/Desktop/WorkSpace/ml-behavior-sequence-transformer-for-movie-recommendation/wandb/run-20230709_183037-iozgdcj1</code>"
            ],
            "text/plain": [
              "<IPython.core.display.HTML object>"
            ]
          },
          "metadata": {},
          "output_type": "display_data"
        },
        {
          "data": {
            "text/html": [
              "Syncing run <strong><a href='https://wandb.ai/nelsonlin0321/BST%20For%20Movielens%201M%20Recommendation/runs/iozgdcj1' target=\"_blank\">sequence:15 batch_size:64</a></strong> to <a href='https://wandb.ai/nelsonlin0321/BST%20For%20Movielens%201M%20Recommendation' target=\"_blank\">Weights & Biases</a> (<a href='https://wandb.me/run' target=\"_blank\">docs</a>)<br/>"
            ],
            "text/plain": [
              "<IPython.core.display.HTML object>"
            ]
          },
          "metadata": {},
          "output_type": "display_data"
        },
        {
          "data": {
            "text/html": [
              " View project at <a href='https://wandb.ai/nelsonlin0321/BST%20For%20Movielens%201M%20Recommendation' target=\"_blank\">https://wandb.ai/nelsonlin0321/BST%20For%20Movielens%201M%20Recommendation</a>"
            ],
            "text/plain": [
              "<IPython.core.display.HTML object>"
            ]
          },
          "metadata": {},
          "output_type": "display_data"
        },
        {
          "data": {
            "text/html": [
              " View run at <a href='https://wandb.ai/nelsonlin0321/BST%20For%20Movielens%201M%20Recommendation/runs/iozgdcj1' target=\"_blank\">https://wandb.ai/nelsonlin0321/BST%20For%20Movielens%201M%20Recommendation/runs/iozgdcj1</a>"
            ],
            "text/plain": [
              "<IPython.core.display.HTML object>"
            ]
          },
          "metadata": {},
          "output_type": "display_data"
        },
        {
          "data": {
            "text/html": [
              "<button onClick=\"this.nextSibling.style.display='block';this.style.display='none';\">Display W&B run</button><iframe src='https://wandb.ai/nelsonlin0321/BST%20For%20Movielens%201M%20Recommendation/runs/iozgdcj1?jupyter=true' style='border:none;width:100%;height:420px;display:none;'></iframe>"
            ],
            "text/plain": [
              "<wandb.sdk.wandb_run.Run at 0x28680b7d0>"
            ]
          },
          "execution_count": 38,
          "metadata": {},
          "output_type": "execute_result"
        }
      ],
      "source": [
        "wandb.init(\n",
        "    project=wandb_project,\n",
        "    job_type=\"train\",\n",
        "    config=config_dict,\n",
        "    name=display_name   \n",
        ")"
      ]
    },
    {
      "cell_type": "code",
      "execution_count": 39,
      "metadata": {
        "id": "YcP1dftJWBDJ"
      },
      "outputs": [],
      "source": [
        "class Config:\n",
        "    def __init__(self, dictionary):\n",
        "        for key, value in dictionary.items():\n",
        "            setattr(self, key, value)\n",
        "config = Config(dictionary=config_dict)"
      ]
    },
    {
      "attachments": {},
      "cell_type": "markdown",
      "metadata": {
        "id": "SUxEiAYpWGye"
      },
      "source": [
        "## (4) Create Model"
      ]
    },
    {
      "cell_type": "code",
      "execution_count": 40,
      "metadata": {
        "id": "ufOTX0qPWTd7"
      },
      "outputs": [],
      "source": [
        "class TransformerBlock(nn.Module):\n",
        "    def __init__(self, input_size, output_size, num_heads, dropout_rate):\n",
        "        super(TransformerBlock, self).__init__()\n",
        "\n",
        "        self.multihead_attention = nn.MultiheadAttention(input_size, num_heads)\n",
        "        self.layer_norm1 = nn.LayerNorm(input_size)\n",
        "\n",
        "        self.feed_forward = nn.Sequential(\n",
        "            nn.Linear(input_size, 4*input_size),\n",
        "            nn.ReLU(),\n",
        "            nn.Linear(4*input_size, output_size),\n",
        "            nn.Dropout(dropout_rate)\n",
        "        )\n",
        "        self.layer_norm2 = nn.LayerNorm(output_size)\n",
        "        self.dropout = nn.Dropout(dropout_rate)\n",
        "\n",
        "    def forward(self, x):\n",
        "        # Multi-head Attention\n",
        "        attn_output, _ = self.multihead_attention(x, x, x)\n",
        "        x = self.layer_norm1(x + attn_output)\n",
        "\n",
        "        # Feed-Forward Network\n",
        "        ff_output = self.feed_forward(x)\n",
        "        x = self.layer_norm2(x + ff_output)\n",
        "        x = self.dropout(x)\n",
        "        return x\n",
        "\n",
        "class TransformerLayer(nn.Module):\n",
        "    def __init__(self, d_model, num_heads=8, dropout_rate=0.2, num_layers=3):\n",
        "        super(TransformerLayer, self).__init__()\n",
        "\n",
        "        self.transformer_blocks = nn.ModuleList([\n",
        "            TransformerBlock(d_model, d_model, num_heads, dropout_rate)\n",
        "            for _ in range(num_layers)\n",
        "        ])\n",
        "\n",
        "    def forward(self, x):\n",
        "        for transformer_block in self.transformer_blocks:\n",
        "            x = transformer_block(x)\n",
        "        return x"
      ]
    },
    {
      "cell_type": "code",
      "execution_count": 41,
      "metadata": {
        "id": "2-bs1PhSWDMz"
      },
      "outputs": [],
      "source": [
        "class MLP(nn.Module):\n",
        "    def __init__(self, dropout=0.2, hidden_units=[512, 256,128]):\n",
        "        super(MLP, self).__init__()\n",
        "        self.dropout = nn.Dropout(p=dropout)\n",
        "        self.layers = nn.ModuleList()\n",
        "        for i in range(len(hidden_units) - 1):\n",
        "            self.layers.append(nn.Linear(hidden_units[i], hidden_units[i + 1]))\n",
        "            self.layers.append(nn.LeakyReLU())\n",
        "            self.layers.append(nn.Dropout(p=dropout))\n",
        "        self.fc = nn.Linear(hidden_units[-1],1)\n",
        "        self.sigmoid = nn.Sigmoid()\n",
        "\n",
        "    def forward(self, x):\n",
        "        for layer in self.layers:\n",
        "            x = layer(x)\n",
        "        logits = self.fc(x)\n",
        "        output = self.sigmoid(logits)\n",
        "        return output"
      ]
    },
    {
      "cell_type": "code",
      "execution_count": 42,
      "metadata": {
        "id": "iV7-dBeeWa0k"
      },
      "outputs": [],
      "source": [
        "\n",
        "class BSTRecommender(nn.Module):\n",
        "    def __init__(self, config):\n",
        "        super(BSTRecommender, self).__init__()\n",
        "        self.config = config\n",
        "        self.embed_configs = config.embed_configs\n",
        "        self.drouput = config.dropout\n",
        "        self.transformer_num_layer = config.transformer_num_layer\n",
        "        self.device = config.device\n",
        "\n",
        "        \"\"\"embed_configs\n",
        "        {'user': {'embed_dim': 32, 'num_embed': 6041},\n",
        "        'movie': {'embed_dim': 32, 'num_embed': 3884},\n",
        "        'occupation': {'embed_dim': 32, 'num_embed': 22},\n",
        "        'age_group': {'embed_dim': 32, 'num_embed': 8},\n",
        "        'position': {'embed_dim': 32, 'num_embed': 4}}\n",
        "        \"\"\"\n",
        "\n",
        "        embed_configs = self.config.embed_configs\n",
        "\n",
        "        \"\"\"Create Embedding Layer\"\"\"\n",
        "        embedding_layers = []\n",
        "        for name, embed_config in embed_configs.items():\n",
        "            embed_dim = embed_config['embed_dim']\n",
        "            num_embed = embed_config['num_embed']\n",
        "            embeding_layer = nn.Embedding(\n",
        "                num_embeddings=num_embed, embedding_dim=embed_dim)\n",
        "            nn.init.xavier_uniform_(embeding_layer.weight)\n",
        "            embedding_layers.append([name, embeding_layer])\n",
        "\n",
        "        self.embedding_layers = nn.ModuleDict(embedding_layers)\n",
        "\n",
        "        transformer_dim = self.embed_configs['position']['embed_dim'] + \\\n",
        "            self.embed_configs['movie']['embed_dim']\n",
        "\n",
        "        self.transformer_layer = TransformerLayer(d_model=transformer_dim,\n",
        "                                                  num_heads=8,\n",
        "                                                  dropout_rate=self.drouput,\n",
        "                                                  num_layers=self.transformer_num_layer)\n",
        "\n",
        "        # movie_embed_dim*2 + sequence*movie_embedding*2 + user_embed_dim*2+occupation_embed_dim*2+age_embed_dim*2+1\n",
        "\n",
        "        sequence_length = self.embed_configs['position']['num_embed']\n",
        "        mlp_dim = self.embed_configs['user']['embed_dim']*2 + \\\n",
        "            self.embed_configs['occupation']['embed_dim']*2 +\\\n",
        "            self.embed_configs['age_group']['embed_dim']*2 +\\\n",
        "            self.embed_configs['movie']['embed_dim']*2 +\\\n",
        "            transformer_dim*sequence_length+1\n",
        "\n",
        "        self.mlp = MLP(dropout=self.drouput, hidden_units=[mlp_dim, 256, 64])\n",
        "\n",
        "    def forward(self, inputs):\n",
        "\n",
        "        target_movie_embedding = self.embedding_layers['movie'](\n",
        "            inputs['target_movie'])\n",
        "        batch_size = target_movie_embedding.shape[0]\n",
        "\n",
        "        \"\"\"Sequence Feature Engineering\"\"\"\n",
        "\n",
        "        # movie embedding\n",
        "        movie_sequence_embedding = self.embedding_layers['movie'](\n",
        "            inputs['movie_sequence'])\n",
        "\n",
        "        # position embedding\n",
        "        positions = torch.arange(\n",
        "            self.config.embed_configs['position']['num_embed']).to(self.device)\n",
        "        position_embedding = self.embedding_layers['position'](positions)\n",
        "        batch_position_embedding = torch.stack(\n",
        "            [position_embedding.clone() for _ in range(batch_size)])\n",
        "        # concat with position instead of adding\n",
        "        movie_pos_seq_embedding = torch.concat(\n",
        "            [movie_sequence_embedding, batch_position_embedding], dim=-1)\n",
        "        # point wise product with sequence rating\n",
        "        rating_sequence = inputs['rating_sequence']\n",
        "        movie_pos_rating_seq_embedding = torch.mul(\n",
        "            movie_pos_seq_embedding, rating_sequence.unsqueeze(-1))\n",
        "        # feed into transformer layer\n",
        "        seq_transformer_output = self.transformer_layer(\n",
        "            movie_pos_rating_seq_embedding)\n",
        "        seq_transformer_flatten_output = seq_transformer_output.view(\n",
        "            batch_size, -1)\n",
        "\n",
        "        \"\"\"concat other features\"\"\"\n",
        "        # orginal features\n",
        "        sex_feature = inputs['sex'].unsqueeze(-1)\n",
        "        user_embedding = self.embedding_layers['user'](inputs['user_id_index'])\n",
        "        occupation_embedding = self.embedding_layers['occupation'](\n",
        "            inputs['occupation_index'])\n",
        "        age_group_embedding = self.embedding_layers['age_group'](\n",
        "            inputs['age_group_index'])\n",
        "\n",
        "        # cross features with target movie embedding\n",
        "        sex_cross_feature = torch.mul(sex_feature, target_movie_embedding)\n",
        "        user_embedding_cross = torch.mul(\n",
        "            user_embedding, target_movie_embedding)\n",
        "        occupation_embedding_cross = torch.mul(\n",
        "            occupation_embedding, target_movie_embedding,)\n",
        "        age_group_embedding_cross = torch.mul(\n",
        "            age_group_embedding, target_movie_embedding)\n",
        "\n",
        "        # shape:1+user_embed_dim+occupation_embed_dim+age_embed_dim\n",
        "        user_features = torch.concat(\n",
        "            [sex_feature, user_embedding, occupation_embedding, age_group_embedding], dim=-1)\n",
        "\n",
        "        # shape:movie_embed_dim +user_embed_dim+occupation_embed_dim+age_embed_dim\n",
        "        user_cross_features = torch.concat(\n",
        "            [sex_cross_feature, user_embedding_cross, occupation_embedding_cross, age_group_embedding_cross], dim=-1)\n",
        "\n",
        "        # shape:movie_embed_dim +user_embed_dim+occupation_embed_dim+age_embed_dim + 1+user_embed_dim+occupation_embed_dim+age_embed_dim\n",
        "        user_inputs_features = torch.concat(\n",
        "            [user_features, user_cross_features, target_movie_embedding], axis=1)\n",
        "        # shape:movie_embed_dim +user_embed_dim+occupation_embed_dim+age_embed_dim + 1+user_embed_dim+occupation_embed_dim+age_embed_dim\n",
        "        # sequence*movie_embedding*2+movie_embeddding\n",
        "        mlp_input_features = torch.concat(\n",
        "            [user_inputs_features, seq_transformer_flatten_output], axis=1)\n",
        "\n",
        "        outputs = self.mlp(mlp_input_features)\n",
        "\n",
        "        return outputs"
      ]
    },
    {
      "cell_type": "code",
      "execution_count": 43,
      "metadata": {
        "id": "u2RO3K24Wdd2"
      },
      "outputs": [],
      "source": [
        "model = BSTRecommender(config=config)"
      ]
    },
    {
      "cell_type": "code",
      "execution_count": 44,
      "metadata": {
        "colab": {
          "base_uri": "https://localhost:8080/"
        },
        "id": "Dpc5cAMKXVkN",
        "outputId": "ee065bd7-1b08-492b-8e22-b4f169ebfc42"
      },
      "outputs": [
        {
          "data": {
            "text/plain": [
              "BSTRecommender(\n",
              "  (embedding_layers): ModuleDict(\n",
              "    (user): Embedding(6041, 32)\n",
              "    (movie): Embedding(3884, 32)\n",
              "    (occupation): Embedding(22, 32)\n",
              "    (age_group): Embedding(8, 32)\n",
              "    (position): Embedding(15, 32)\n",
              "  )\n",
              "  (transformer_layer): TransformerLayer(\n",
              "    (transformer_blocks): ModuleList(\n",
              "      (0-2): 3 x TransformerBlock(\n",
              "        (multihead_attention): MultiheadAttention(\n",
              "          (out_proj): NonDynamicallyQuantizableLinear(in_features=64, out_features=64, bias=True)\n",
              "        )\n",
              "        (layer_norm1): LayerNorm((64,), eps=1e-05, elementwise_affine=True)\n",
              "        (feed_forward): Sequential(\n",
              "          (0): Linear(in_features=64, out_features=256, bias=True)\n",
              "          (1): ReLU()\n",
              "          (2): Linear(in_features=256, out_features=64, bias=True)\n",
              "          (3): Dropout(p=0.2, inplace=False)\n",
              "        )\n",
              "        (layer_norm2): LayerNorm((64,), eps=1e-05, elementwise_affine=True)\n",
              "        (dropout): Dropout(p=0.2, inplace=False)\n",
              "      )\n",
              "    )\n",
              "  )\n",
              "  (mlp): MLP(\n",
              "    (dropout): Dropout(p=0.2, inplace=False)\n",
              "    (layers): ModuleList(\n",
              "      (0): Linear(in_features=1217, out_features=256, bias=True)\n",
              "      (1): LeakyReLU(negative_slope=0.01)\n",
              "      (2): Dropout(p=0.2, inplace=False)\n",
              "      (3): Linear(in_features=256, out_features=64, bias=True)\n",
              "      (4): LeakyReLU(negative_slope=0.01)\n",
              "      (5): Dropout(p=0.2, inplace=False)\n",
              "    )\n",
              "    (fc): Linear(in_features=64, out_features=1, bias=True)\n",
              "    (sigmoid): Sigmoid()\n",
              "  )\n",
              ")"
            ]
          },
          "execution_count": 44,
          "metadata": {},
          "output_type": "execute_result"
        }
      ],
      "source": [
        "model = model.to(config.device)\n",
        "model.train()"
      ]
    },
    {
      "attachments": {},
      "cell_type": "markdown",
      "metadata": {
        "id": "iMu3zDCYWqwr"
      },
      "source": [
        "## (5) Load Rating Dataset"
      ]
    },
    {
      "cell_type": "code",
      "execution_count": 45,
      "metadata": {
        "id": "KyeeVf7tWty1"
      },
      "outputs": [],
      "source": [
        "class RatingDataset(Dataset):\n",
        "    def __init__(self, data):\n",
        "        self.data = data\n",
        "        self.device = \"cuda\" if torch.cuda.is_available() else \"cpu\"\n",
        "\n",
        "    def __len__(self):\n",
        "        return len(self.data)\n",
        "\n",
        "    def __getitem__(self, index):\n",
        "\n",
        "        item_dict = self.data.iloc[index].to_dict()\n",
        "\n",
        "        dtype_dict = {}\n",
        "        for k,v in item_dict.items():\n",
        "            dtype_dict[k]=torch.long\n",
        "        dtype_dict['rating_sequence']=torch.float32\n",
        "        dtype_dict['target_rating']=torch.float32\n",
        "        dtype_dict['sex']=torch.float32\n",
        "\n",
        "\n",
        "        sample = {}\n",
        "        for k,v in item_dict.items():\n",
        "            sample[k] = torch.tensor(v,dtype=dtype_dict[k]).to(self.device)\n",
        "\n",
        "        return sample\n"
      ]
    },
    {
      "cell_type": "code",
      "execution_count": 46,
      "metadata": {
        "id": "G6qbyM5pWmke"
      },
      "outputs": [],
      "source": [
        "train_dataset = RatingDataset(data=train_data)\n",
        "test_dataset = RatingDataset(data=test_data)"
      ]
    },
    {
      "cell_type": "code",
      "execution_count": 47,
      "metadata": {
        "id": "4ggs147hXj43"
      },
      "outputs": [],
      "source": [
        "train_loader = DataLoader(train_dataset,batch_size=config.batch_size,shuffle=False)\n",
        "test_loader = DataLoader(test_dataset,batch_size=config.batch_size,shuffle=False)"
      ]
    },
    {
      "attachments": {},
      "cell_type": "markdown",
      "metadata": {
        "id": "bddyOJ1OZuiM"
      },
      "source": [
        "## (6) Training"
      ]
    },
    {
      "cell_type": "code",
      "execution_count": 48,
      "metadata": {
        "id": "6AYv7XU1ZIfn"
      },
      "outputs": [],
      "source": [
        "loss_func = nn.L1Loss()"
      ]
    },
    {
      "cell_type": "code",
      "execution_count": 49,
      "metadata": {
        "id": "QjUtHjQQY9Zv"
      },
      "outputs": [],
      "source": [
        "def evaluate(model,dataset_loader,min_max_scaler,loss_func=nn.L1Loss()):\n",
        "\n",
        "    model.eval()\n",
        "\n",
        "    prob_list= []\n",
        "    rating_list = []\n",
        "    eval_loss_list = []\n",
        "\n",
        "\n",
        "    # loss_func = nn.MSELoss()\n",
        "\n",
        "    pbar = tqdm(total = len(dataset_loader),desc = \"\",position=0, leave=True)\n",
        "\n",
        "    for inputs in dataset_loader:\n",
        "        with torch.no_grad():\n",
        "            probs = model(inputs)\n",
        "            ratings = inputs['target_rating'].view(-1,1)\n",
        "\n",
        "            loss = loss_func(probs, ratings)\n",
        "            eval_loss_list.append(loss.item())\n",
        "\n",
        "            probs = probs.cpu().numpy().flatten().tolist()\n",
        "            prob_list.extend(probs)\n",
        "\n",
        "            ratings = ratings.cpu().numpy().flatten().tolist()\n",
        "            rating_list.extend(ratings)\n",
        "            \n",
        "\n",
        "\n",
        "            pbar.update(1)\n",
        "\n",
        "    pbar.close()\n",
        "\n",
        "    real_ratings =min_max_scaler.inverse_transform(np.array(rating_list).reshape(-1,1))[:,0]\n",
        "    prediction_ratings=min_max_scaler.inverse_transform(np.array(prob_list).reshape(-1,1))[:,0]\n",
        "\n",
        "    MAE = metrics.mean_absolute_error(real_ratings,prediction_ratings)\n",
        "    RMSE = metrics.mean_squared_error(real_ratings,prediction_ratings)\n",
        "    \n",
        "\n",
        "    eval_metrics = {}\n",
        "    eval_metrics['eval_loss']= sum(eval_loss_list)/len(eval_loss_list)\n",
        "    eval_metrics['eval_MAE']= MAE\n",
        "    eval_metrics['eval_RMSE']= RMSE\n",
        "\n",
        "\n",
        "    return eval_metrics"
      ]
    },
    {
      "cell_type": "code",
      "execution_count": 50,
      "metadata": {
        "colab": {
          "base_uri": "https://localhost:8080/"
        },
        "id": "quf-eGpiZWPQ",
        "outputId": "6d219858-1624-4511-8e84-f55c88c12861"
      },
      "outputs": [
        {
          "name": "stderr",
          "output_type": "stream",
          "text": [
            "  0%|          | 3/1086 [00:00<00:44, 24.61it/s]"
          ]
        },
        {
          "name": "stderr",
          "output_type": "stream",
          "text": [
            "100%|██████████| 1086/1086 [00:19<00:00, 56.84it/s]\n"
          ]
        },
        {
          "name": "stdout",
          "output_type": "stream",
          "text": [
            "{'eval_loss': 0.29148231297182553, 'eval_MAE': 1.1659292533074403, 'eval_RMSE': 1.8776763222643384}\n"
          ]
        }
      ],
      "source": [
        "# loss before training\n",
        "before_training_metrics = evaluate(model,test_loader,min_max_scaler,loss_func)\n",
        "print(before_training_metrics)"
      ]
    },
    {
      "cell_type": "code",
      "execution_count": 51,
      "metadata": {
        "id": "lFHm_mNFZZyq"
      },
      "outputs": [],
      "source": [
        "optimizer = torch.optim.AdamW(model.parameters(),lr=config.learning_rate)\n",
        "total_batch = 0\n",
        "best_eval_loss =  float(\"inf\")\n",
        "best_checkpoint = 0\n",
        "model_version=str(uuid4())\n",
        "config.eval_steps = len(train_loader)//3"
      ]
    },
    {
      "cell_type": "code",
      "execution_count": 52,
      "metadata": {},
      "outputs": [],
      "source": [
        "optimizer = torch.optim.AdamW(model.parameters(),lr=config.learning_rate)\n",
        "total_batch = 0\n",
        "best_eval_loss =  float(\"inf\")\n",
        "best_checkpoint = 0\n",
        "model_version=str(uuid4())\n",
        "config.eval_steps = len(train_loader)//3"
      ]
    },
    {
      "cell_type": "code",
      "execution_count": 53,
      "metadata": {
        "id": "JTP7eC6SaJG1"
      },
      "outputs": [],
      "source": [
        "def save_model(model, model_save_dir,step,model_metrics):\n",
        "    model_save_dir = os.path.join(model_save_dir,f\"checkpoint-{step}\")\n",
        "    model_name = \"pytorch_model.pt\"\n",
        "    train_state_name = \"training_state.json\"\n",
        "    os.makedirs(model_save_dir,exist_ok=True)\n",
        "\n",
        "    model_path = os.path.join(model_save_dir,model_name)\n",
        "    train_state_path = os.path.join(model_save_dir,train_state_name)\n",
        "\n",
        "    torch.save(model.state_dict(),model_path)\n",
        "\n",
        "    if model_metrics is not None:\n",
        "        with open(train_state_path,mode = 'w',encoding = 'utf-8') as f:\n",
        "            json.dump(model_metrics,f,indent=4)\n",
        "\n",
        "    return model_path"
      ]
    },
    {
      "cell_type": "code",
      "execution_count": 54,
      "metadata": {
        "colab": {
          "base_uri": "https://localhost:8080/"
        },
        "id": "hN2ILumCaAOh",
        "outputId": "ce510b50-2e69-4568-db0b-f94a0b4cdf9b"
      },
      "outputs": [
        {
          "name": "stderr",
          "output_type": "stream",
          "text": [
            "100%|██████████| 1086/1086 [00:20<00:00, 53.07it/s] 25.62it/s]  \n",
            "100%|██████████| 1086/1086 [00:19<00:00, 55.85it/s] 25.44it/s, eval_loss=0.186, eval_MAE=0.742, eval_RMSE=0.928, best_eval_loss=0.186, train_loss=0.205, train_MAE=0.822, train_RMSE=1.1, steps=4123, best_checkpoint=2062]   \n",
            "100%|██████████| 1086/1086 [00:19<00:00, 56.15it/s] 23.52it/s, eval_loss=0.179, eval_MAE=0.715, eval_RMSE=0.881, best_eval_loss=0.179, train_loss=0.194, train_MAE=0.776, train_RMSE=0.999, steps=8247, best_checkpoint=4124]   \n",
            "100%|██████████| 1086/1086 [00:14<00:00, 73.24it/s] 30.25it/s, eval_loss=0.189, eval_MAE=0.755, eval_RMSE=0.929, best_eval_loss=0.179, train_loss=0.189, train_MAE=0.756, train_RMSE=0.967, steps=12371, best_checkpoint=4124]   \n",
            "100%|██████████| 1086/1086 [00:13<00:00, 78.91it/s], 32.12it/s, eval_loss=0.174, eval_MAE=0.698, eval_RMSE=0.898, best_eval_loss=0.174, train_loss=0.176, train_MAE=0.704, train_RMSE=0.891, steps=16495, best_checkpoint=8248]  \n",
            "100%|██████████| 1086/1086 [00:15<00:00, 70.55it/s], 28.15it/s, eval_loss=0.177, eval_MAE=0.707, eval_RMSE=0.884, best_eval_loss=0.174, train_loss=0.175, train_MAE=0.698, train_RMSE=0.884, steps=20619, best_checkpoint=8248]   \n",
            "100%|██████████| 1086/1086 [00:14<00:00, 73.36it/s], 31.65it/s, eval_loss=0.173, eval_MAE=0.694, eval_RMSE=0.895, best_eval_loss=0.173, train_loss=0.174, train_MAE=0.696, train_RMSE=0.884, steps=24743, best_checkpoint=12372]   \n",
            "100%|██████████| 1086/1086 [00:15<00:00, 71.16it/s], 35.63it/s, eval_loss=0.175, eval_MAE=0.699, eval_RMSE=0.904, best_eval_loss=0.173, train_loss=0.172, train_MAE=0.688, train_RMSE=0.882, steps=28867, best_checkpoint=12372]   \n",
            "100%|██████████| 1086/1086 [00:14<00:00, 76.42it/s], 33.04it/s, eval_loss=0.175, eval_MAE=0.699, eval_RMSE=0.889, best_eval_loss=0.173, train_loss=0.171, train_MAE=0.685, train_RMSE=0.877, steps=32991, best_checkpoint=12372]   \n",
            "100%|██████████| 1086/1086 [00:15<00:00, 70.62it/s], 29.89it/s, eval_loss=0.172, eval_MAE=0.69, eval_RMSE=0.907, best_eval_loss=0.172, train_loss=0.171, train_MAE=0.684, train_RMSE=0.878, steps=37115, best_checkpoint=18558]   \n",
            "100%|██████████| 1086/1086 [00:13<00:00, 80.69it/s], 33.61it/s, eval_loss=0.174, eval_MAE=0.697, eval_RMSE=0.938, best_eval_loss=0.172, train_loss=0.169, train_MAE=0.676, train_RMSE=0.874, steps=41239, best_checkpoint=18558]   \n",
            "100%|██████████| 1086/1086 [00:13<00:00, 82.40it/s], 36.00it/s, eval_loss=0.175, eval_MAE=0.701, eval_RMSE=0.898, best_eval_loss=0.172, train_loss=0.168, train_MAE=0.674, train_RMSE=0.87, steps=45363, best_checkpoint=18558]   \n",
            "100%|██████████| 1086/1086 [00:14<00:00, 77.51it/s], 35.29it/s, eval_loss=0.172, eval_MAE=0.689, eval_RMSE=0.905, best_eval_loss=0.172, train_loss=0.168, train_MAE=0.673, train_RMSE=0.87, steps=49487, best_checkpoint=24744]   \n",
            "100%|██████████| 1086/1086 [00:16<00:00, 67.26it/s], 32.55it/s, eval_loss=0.172, eval_MAE=0.689, eval_RMSE=0.898, best_eval_loss=0.172, train_loss=0.168, train_MAE=0.67, train_RMSE=0.866, steps=53611, best_checkpoint=26806]   \n",
            "100%|██████████| 1086/1086 [00:13<00:00, 78.64it/s], 36.93it/s, eval_loss=0.174, eval_MAE=0.697, eval_RMSE=0.902, best_eval_loss=0.172, train_loss=0.167, train_MAE=0.667, train_RMSE=0.86, steps=57735, best_checkpoint=26806]   \n",
            "100%|██████████| 1086/1086 [00:15<00:00, 71.58it/s], 33.06it/s, eval_loss=0.173, eval_MAE=0.693, eval_RMSE=0.925, best_eval_loss=0.172, train_loss=0.166, train_MAE=0.666, train_RMSE=0.861, steps=61859, best_checkpoint=26806]  \n",
            "100%|██████████| 1086/1086 [00:11<00:00, 95.36it/s]  42.37it/s, eval_loss=0.173, eval_MAE=0.693, eval_RMSE=0.889, best_eval_loss=0.172, train_loss=0.165, train_MAE=0.66, train_RMSE=0.856, steps=65983, best_checkpoint=26806]  \n",
            "100%|██████████| 1086/1086 [00:11<00:00, 97.68it/s]  40.43it/s, eval_loss=0.176, eval_MAE=0.702, eval_RMSE=0.916, best_eval_loss=0.172, train_loss=0.165, train_MAE=0.658, train_RMSE=0.852, steps=70107, best_checkpoint=26806]  \n",
            "100%|██████████| 1086/1086 [00:11<00:00, 95.17it/s]  39.84it/s, eval_loss=0.173, eval_MAE=0.691, eval_RMSE=0.945, best_eval_loss=0.172, train_loss=0.164, train_MAE=0.658, train_RMSE=0.853, steps=74231, best_checkpoint=26806]  \n",
            "Training:  66%|██████▋   | 41082/61860 [27:45<13:27, 25.72it/s, eval_loss=0.173, eval_MAE=0.691, eval_RMSE=0.893, best_eval_loss=0.172, train_loss=0.163, train_MAE=0.653, train_RMSE=0.848, steps=78355, best_checkpoint=26806]  "
          ]
        },
        {
          "ename": "KeyboardInterrupt",
          "evalue": "",
          "output_type": "error",
          "traceback": [
            "\u001b[0;31m---------------------------------------------------------------------------\u001b[0m",
            "\u001b[0;31mKeyboardInterrupt\u001b[0m                         Traceback (most recent call last)",
            "Cell \u001b[0;32mIn[54], line 17\u001b[0m\n\u001b[1;32m     15\u001b[0m model \u001b[39m=\u001b[39m model\u001b[39m.\u001b[39mtrain()\n\u001b[1;32m     16\u001b[0m optimizer\u001b[39m.\u001b[39mzero_grad()\n\u001b[0;32m---> 17\u001b[0m probs \u001b[39m=\u001b[39m model(inputs)\n\u001b[1;32m     19\u001b[0m rating \u001b[39m=\u001b[39m inputs[\u001b[39m'\u001b[39m\u001b[39mtarget_rating\u001b[39m\u001b[39m'\u001b[39m]\u001b[39m.\u001b[39mview(\u001b[39m-\u001b[39m\u001b[39m1\u001b[39m, \u001b[39m1\u001b[39m)\n\u001b[1;32m     21\u001b[0m loss \u001b[39m=\u001b[39m loss_func(probs, rating)\n",
            "File \u001b[0;32m/opt/homebrew/Caskroom/miniforge/base/envs/torch/lib/python3.11/site-packages/torch/nn/modules/module.py:1501\u001b[0m, in \u001b[0;36mModule._call_impl\u001b[0;34m(self, *args, **kwargs)\u001b[0m\n\u001b[1;32m   1496\u001b[0m \u001b[39m# If we don't have any hooks, we want to skip the rest of the logic in\u001b[39;00m\n\u001b[1;32m   1497\u001b[0m \u001b[39m# this function, and just call forward.\u001b[39;00m\n\u001b[1;32m   1498\u001b[0m \u001b[39mif\u001b[39;00m \u001b[39mnot\u001b[39;00m (\u001b[39mself\u001b[39m\u001b[39m.\u001b[39m_backward_hooks \u001b[39mor\u001b[39;00m \u001b[39mself\u001b[39m\u001b[39m.\u001b[39m_backward_pre_hooks \u001b[39mor\u001b[39;00m \u001b[39mself\u001b[39m\u001b[39m.\u001b[39m_forward_hooks \u001b[39mor\u001b[39;00m \u001b[39mself\u001b[39m\u001b[39m.\u001b[39m_forward_pre_hooks\n\u001b[1;32m   1499\u001b[0m         \u001b[39mor\u001b[39;00m _global_backward_pre_hooks \u001b[39mor\u001b[39;00m _global_backward_hooks\n\u001b[1;32m   1500\u001b[0m         \u001b[39mor\u001b[39;00m _global_forward_hooks \u001b[39mor\u001b[39;00m _global_forward_pre_hooks):\n\u001b[0;32m-> 1501\u001b[0m     \u001b[39mreturn\u001b[39;00m forward_call(\u001b[39m*\u001b[39;49margs, \u001b[39m*\u001b[39;49m\u001b[39m*\u001b[39;49mkwargs)\n\u001b[1;32m   1502\u001b[0m \u001b[39m# Do not call functions when jit is used\u001b[39;00m\n\u001b[1;32m   1503\u001b[0m full_backward_hooks, non_full_backward_hooks \u001b[39m=\u001b[39m [], []\n",
            "Cell \u001b[0;32mIn[42], line 77\u001b[0m, in \u001b[0;36mBSTRecommender.forward\u001b[0;34m(self, inputs)\u001b[0m\n\u001b[1;32m     74\u001b[0m movie_pos_rating_seq_embedding \u001b[39m=\u001b[39m torch\u001b[39m.\u001b[39mmul(\n\u001b[1;32m     75\u001b[0m     movie_pos_seq_embedding, rating_sequence\u001b[39m.\u001b[39munsqueeze(\u001b[39m-\u001b[39m\u001b[39m1\u001b[39m))\n\u001b[1;32m     76\u001b[0m \u001b[39m# feed into transformer layer\u001b[39;00m\n\u001b[0;32m---> 77\u001b[0m seq_transformer_output \u001b[39m=\u001b[39m \u001b[39mself\u001b[39;49m\u001b[39m.\u001b[39;49mtransformer_layer(\n\u001b[1;32m     78\u001b[0m     movie_pos_rating_seq_embedding)\n\u001b[1;32m     79\u001b[0m seq_transformer_flatten_output \u001b[39m=\u001b[39m seq_transformer_output\u001b[39m.\u001b[39mview(\n\u001b[1;32m     80\u001b[0m     batch_size, \u001b[39m-\u001b[39m\u001b[39m1\u001b[39m)\n\u001b[1;32m     82\u001b[0m \u001b[39m\u001b[39m\u001b[39m\"\"\"concat other features\"\"\"\u001b[39;00m\n",
            "File \u001b[0;32m/opt/homebrew/Caskroom/miniforge/base/envs/torch/lib/python3.11/site-packages/torch/nn/modules/module.py:1501\u001b[0m, in \u001b[0;36mModule._call_impl\u001b[0;34m(self, *args, **kwargs)\u001b[0m\n\u001b[1;32m   1496\u001b[0m \u001b[39m# If we don't have any hooks, we want to skip the rest of the logic in\u001b[39;00m\n\u001b[1;32m   1497\u001b[0m \u001b[39m# this function, and just call forward.\u001b[39;00m\n\u001b[1;32m   1498\u001b[0m \u001b[39mif\u001b[39;00m \u001b[39mnot\u001b[39;00m (\u001b[39mself\u001b[39m\u001b[39m.\u001b[39m_backward_hooks \u001b[39mor\u001b[39;00m \u001b[39mself\u001b[39m\u001b[39m.\u001b[39m_backward_pre_hooks \u001b[39mor\u001b[39;00m \u001b[39mself\u001b[39m\u001b[39m.\u001b[39m_forward_hooks \u001b[39mor\u001b[39;00m \u001b[39mself\u001b[39m\u001b[39m.\u001b[39m_forward_pre_hooks\n\u001b[1;32m   1499\u001b[0m         \u001b[39mor\u001b[39;00m _global_backward_pre_hooks \u001b[39mor\u001b[39;00m _global_backward_hooks\n\u001b[1;32m   1500\u001b[0m         \u001b[39mor\u001b[39;00m _global_forward_hooks \u001b[39mor\u001b[39;00m _global_forward_pre_hooks):\n\u001b[0;32m-> 1501\u001b[0m     \u001b[39mreturn\u001b[39;00m forward_call(\u001b[39m*\u001b[39;49margs, \u001b[39m*\u001b[39;49m\u001b[39m*\u001b[39;49mkwargs)\n\u001b[1;32m   1502\u001b[0m \u001b[39m# Do not call functions when jit is used\u001b[39;00m\n\u001b[1;32m   1503\u001b[0m full_backward_hooks, non_full_backward_hooks \u001b[39m=\u001b[39m [], []\n",
            "Cell \u001b[0;32mIn[40], line 39\u001b[0m, in \u001b[0;36mTransformerLayer.forward\u001b[0;34m(self, x)\u001b[0m\n\u001b[1;32m     37\u001b[0m \u001b[39mdef\u001b[39;00m \u001b[39mforward\u001b[39m(\u001b[39mself\u001b[39m, x):\n\u001b[1;32m     38\u001b[0m     \u001b[39mfor\u001b[39;00m transformer_block \u001b[39min\u001b[39;00m \u001b[39mself\u001b[39m\u001b[39m.\u001b[39mtransformer_blocks:\n\u001b[0;32m---> 39\u001b[0m         x \u001b[39m=\u001b[39m transformer_block(x)\n\u001b[1;32m     40\u001b[0m     \u001b[39mreturn\u001b[39;00m x\n",
            "File \u001b[0;32m/opt/homebrew/Caskroom/miniforge/base/envs/torch/lib/python3.11/site-packages/torch/nn/modules/module.py:1501\u001b[0m, in \u001b[0;36mModule._call_impl\u001b[0;34m(self, *args, **kwargs)\u001b[0m\n\u001b[1;32m   1496\u001b[0m \u001b[39m# If we don't have any hooks, we want to skip the rest of the logic in\u001b[39;00m\n\u001b[1;32m   1497\u001b[0m \u001b[39m# this function, and just call forward.\u001b[39;00m\n\u001b[1;32m   1498\u001b[0m \u001b[39mif\u001b[39;00m \u001b[39mnot\u001b[39;00m (\u001b[39mself\u001b[39m\u001b[39m.\u001b[39m_backward_hooks \u001b[39mor\u001b[39;00m \u001b[39mself\u001b[39m\u001b[39m.\u001b[39m_backward_pre_hooks \u001b[39mor\u001b[39;00m \u001b[39mself\u001b[39m\u001b[39m.\u001b[39m_forward_hooks \u001b[39mor\u001b[39;00m \u001b[39mself\u001b[39m\u001b[39m.\u001b[39m_forward_pre_hooks\n\u001b[1;32m   1499\u001b[0m         \u001b[39mor\u001b[39;00m _global_backward_pre_hooks \u001b[39mor\u001b[39;00m _global_backward_hooks\n\u001b[1;32m   1500\u001b[0m         \u001b[39mor\u001b[39;00m _global_forward_hooks \u001b[39mor\u001b[39;00m _global_forward_pre_hooks):\n\u001b[0;32m-> 1501\u001b[0m     \u001b[39mreturn\u001b[39;00m forward_call(\u001b[39m*\u001b[39;49margs, \u001b[39m*\u001b[39;49m\u001b[39m*\u001b[39;49mkwargs)\n\u001b[1;32m   1502\u001b[0m \u001b[39m# Do not call functions when jit is used\u001b[39;00m\n\u001b[1;32m   1503\u001b[0m full_backward_hooks, non_full_backward_hooks \u001b[39m=\u001b[39m [], []\n",
            "Cell \u001b[0;32mIn[40], line 19\u001b[0m, in \u001b[0;36mTransformerBlock.forward\u001b[0;34m(self, x)\u001b[0m\n\u001b[1;32m     17\u001b[0m \u001b[39mdef\u001b[39;00m \u001b[39mforward\u001b[39m(\u001b[39mself\u001b[39m, x):\n\u001b[1;32m     18\u001b[0m     \u001b[39m# Multi-head Attention\u001b[39;00m\n\u001b[0;32m---> 19\u001b[0m     attn_output, _ \u001b[39m=\u001b[39m \u001b[39mself\u001b[39;49m\u001b[39m.\u001b[39;49mmultihead_attention(x, x, x)\n\u001b[1;32m     20\u001b[0m     x \u001b[39m=\u001b[39m \u001b[39mself\u001b[39m\u001b[39m.\u001b[39mlayer_norm1(x \u001b[39m+\u001b[39m attn_output)\n\u001b[1;32m     22\u001b[0m     \u001b[39m# Feed-Forward Network\u001b[39;00m\n",
            "File \u001b[0;32m/opt/homebrew/Caskroom/miniforge/base/envs/torch/lib/python3.11/site-packages/torch/nn/modules/module.py:1501\u001b[0m, in \u001b[0;36mModule._call_impl\u001b[0;34m(self, *args, **kwargs)\u001b[0m\n\u001b[1;32m   1496\u001b[0m \u001b[39m# If we don't have any hooks, we want to skip the rest of the logic in\u001b[39;00m\n\u001b[1;32m   1497\u001b[0m \u001b[39m# this function, and just call forward.\u001b[39;00m\n\u001b[1;32m   1498\u001b[0m \u001b[39mif\u001b[39;00m \u001b[39mnot\u001b[39;00m (\u001b[39mself\u001b[39m\u001b[39m.\u001b[39m_backward_hooks \u001b[39mor\u001b[39;00m \u001b[39mself\u001b[39m\u001b[39m.\u001b[39m_backward_pre_hooks \u001b[39mor\u001b[39;00m \u001b[39mself\u001b[39m\u001b[39m.\u001b[39m_forward_hooks \u001b[39mor\u001b[39;00m \u001b[39mself\u001b[39m\u001b[39m.\u001b[39m_forward_pre_hooks\n\u001b[1;32m   1499\u001b[0m         \u001b[39mor\u001b[39;00m _global_backward_pre_hooks \u001b[39mor\u001b[39;00m _global_backward_hooks\n\u001b[1;32m   1500\u001b[0m         \u001b[39mor\u001b[39;00m _global_forward_hooks \u001b[39mor\u001b[39;00m _global_forward_pre_hooks):\n\u001b[0;32m-> 1501\u001b[0m     \u001b[39mreturn\u001b[39;00m forward_call(\u001b[39m*\u001b[39;49margs, \u001b[39m*\u001b[39;49m\u001b[39m*\u001b[39;49mkwargs)\n\u001b[1;32m   1502\u001b[0m \u001b[39m# Do not call functions when jit is used\u001b[39;00m\n\u001b[1;32m   1503\u001b[0m full_backward_hooks, non_full_backward_hooks \u001b[39m=\u001b[39m [], []\n",
            "File \u001b[0;32m/opt/homebrew/Caskroom/miniforge/base/envs/torch/lib/python3.11/site-packages/torch/nn/modules/activation.py:1205\u001b[0m, in \u001b[0;36mMultiheadAttention.forward\u001b[0;34m(self, query, key, value, key_padding_mask, need_weights, attn_mask, average_attn_weights, is_causal)\u001b[0m\n\u001b[1;32m   1191\u001b[0m     attn_output, attn_output_weights \u001b[39m=\u001b[39m F\u001b[39m.\u001b[39mmulti_head_attention_forward(\n\u001b[1;32m   1192\u001b[0m         query, key, value, \u001b[39mself\u001b[39m\u001b[39m.\u001b[39membed_dim, \u001b[39mself\u001b[39m\u001b[39m.\u001b[39mnum_heads,\n\u001b[1;32m   1193\u001b[0m         \u001b[39mself\u001b[39m\u001b[39m.\u001b[39min_proj_weight, \u001b[39mself\u001b[39m\u001b[39m.\u001b[39min_proj_bias,\n\u001b[0;32m   (...)\u001b[0m\n\u001b[1;32m   1202\u001b[0m         average_attn_weights\u001b[39m=\u001b[39maverage_attn_weights,\n\u001b[1;32m   1203\u001b[0m         is_causal\u001b[39m=\u001b[39mis_causal)\n\u001b[1;32m   1204\u001b[0m \u001b[39melse\u001b[39;00m:\n\u001b[0;32m-> 1205\u001b[0m     attn_output, attn_output_weights \u001b[39m=\u001b[39m F\u001b[39m.\u001b[39;49mmulti_head_attention_forward(\n\u001b[1;32m   1206\u001b[0m         query, key, value, \u001b[39mself\u001b[39;49m\u001b[39m.\u001b[39;49membed_dim, \u001b[39mself\u001b[39;49m\u001b[39m.\u001b[39;49mnum_heads,\n\u001b[1;32m   1207\u001b[0m         \u001b[39mself\u001b[39;49m\u001b[39m.\u001b[39;49min_proj_weight, \u001b[39mself\u001b[39;49m\u001b[39m.\u001b[39;49min_proj_bias,\n\u001b[1;32m   1208\u001b[0m         \u001b[39mself\u001b[39;49m\u001b[39m.\u001b[39;49mbias_k, \u001b[39mself\u001b[39;49m\u001b[39m.\u001b[39;49mbias_v, \u001b[39mself\u001b[39;49m\u001b[39m.\u001b[39;49madd_zero_attn,\n\u001b[1;32m   1209\u001b[0m         \u001b[39mself\u001b[39;49m\u001b[39m.\u001b[39;49mdropout, \u001b[39mself\u001b[39;49m\u001b[39m.\u001b[39;49mout_proj\u001b[39m.\u001b[39;49mweight, \u001b[39mself\u001b[39;49m\u001b[39m.\u001b[39;49mout_proj\u001b[39m.\u001b[39;49mbias,\n\u001b[1;32m   1210\u001b[0m         training\u001b[39m=\u001b[39;49m\u001b[39mself\u001b[39;49m\u001b[39m.\u001b[39;49mtraining,\n\u001b[1;32m   1211\u001b[0m         key_padding_mask\u001b[39m=\u001b[39;49mkey_padding_mask,\n\u001b[1;32m   1212\u001b[0m         need_weights\u001b[39m=\u001b[39;49mneed_weights,\n\u001b[1;32m   1213\u001b[0m         attn_mask\u001b[39m=\u001b[39;49mattn_mask,\n\u001b[1;32m   1214\u001b[0m         average_attn_weights\u001b[39m=\u001b[39;49maverage_attn_weights,\n\u001b[1;32m   1215\u001b[0m         is_causal\u001b[39m=\u001b[39;49mis_causal)\n\u001b[1;32m   1216\u001b[0m \u001b[39mif\u001b[39;00m \u001b[39mself\u001b[39m\u001b[39m.\u001b[39mbatch_first \u001b[39mand\u001b[39;00m is_batched:\n\u001b[1;32m   1217\u001b[0m     \u001b[39mreturn\u001b[39;00m attn_output\u001b[39m.\u001b[39mtranspose(\u001b[39m1\u001b[39m, \u001b[39m0\u001b[39m), attn_output_weights\n",
            "File \u001b[0;32m/opt/homebrew/Caskroom/miniforge/base/envs/torch/lib/python3.11/site-packages/torch/nn/functional.py:5343\u001b[0m, in \u001b[0;36mmulti_head_attention_forward\u001b[0;34m(query, key, value, embed_dim_to_check, num_heads, in_proj_weight, in_proj_bias, bias_k, bias_v, add_zero_attn, dropout_p, out_proj_weight, out_proj_bias, training, key_padding_mask, need_weights, attn_mask, use_separate_proj_weight, q_proj_weight, k_proj_weight, v_proj_weight, static_k, static_v, average_attn_weights, is_causal)\u001b[0m\n\u001b[1;32m   5340\u001b[0m \u001b[39mif\u001b[39;00m dropout_p \u001b[39m>\u001b[39m \u001b[39m0.0\u001b[39m:\n\u001b[1;32m   5341\u001b[0m     attn_output_weights \u001b[39m=\u001b[39m dropout(attn_output_weights, p\u001b[39m=\u001b[39mdropout_p)\n\u001b[0;32m-> 5343\u001b[0m attn_output \u001b[39m=\u001b[39m torch\u001b[39m.\u001b[39;49mbmm(attn_output_weights, v)\n\u001b[1;32m   5345\u001b[0m attn_output \u001b[39m=\u001b[39m attn_output\u001b[39m.\u001b[39mtranspose(\u001b[39m0\u001b[39m, \u001b[39m1\u001b[39m)\u001b[39m.\u001b[39mcontiguous()\u001b[39m.\u001b[39mview(tgt_len \u001b[39m*\u001b[39m bsz, embed_dim)\n\u001b[1;32m   5346\u001b[0m attn_output \u001b[39m=\u001b[39m linear(attn_output, out_proj_weight, out_proj_bias)\n",
            "\u001b[0;31mKeyboardInterrupt\u001b[0m: "
          ]
        },
        {
          "name": "stderr",
          "output_type": "stream",
          "text": [
            "Training:  66%|██████▋   | 41082/61860 [28:01<13:27, 25.72it/s, eval_loss=0.173, eval_MAE=0.691, eval_RMSE=0.893, best_eval_loss=0.172, train_loss=0.163, train_MAE=0.653, train_RMSE=0.848, steps=78355, best_checkpoint=26806]"
          ]
        }
      ],
      "source": [
        "# Train\n",
        "total_pbar = tqdm(total=len(train_loader)*config.epoches,\n",
        "                  desc=\"Training\", position=0, leave=True)\n",
        "\n",
        "metrics_list = []\n",
        "best_model_path= None\n",
        "for epoch in range(config.epoches):\n",
        "    # print(\"*\"*50 + f\"epoch: {epoch + 1}\" + \"*\"*50)\n",
        "\n",
        "    train_loss_list = []\n",
        "    prob_list = []\n",
        "    rating_list = []\n",
        "\n",
        "    for inputs in train_loader:\n",
        "        model = model.train()\n",
        "        optimizer.zero_grad()\n",
        "        probs = model(inputs)\n",
        "\n",
        "        rating = inputs['target_rating'].view(-1, 1)\n",
        "\n",
        "        loss = loss_func(probs, rating)\n",
        "        loss.backward()\n",
        "        optimizer.step()\n",
        "        train_loss_list.append(loss.item())\n",
        "\n",
        "        probs = probs.detach().cpu().numpy().flatten().tolist()\n",
        "        prob_list.extend(probs)\n",
        "        rating = rating.detach().cpu().flatten().tolist()\n",
        "        rating_list.extend(rating)\n",
        "\n",
        "        if (total_batch+1) % config.eval_steps == 0:\n",
        "\n",
        "            improve = False\n",
        "            model_metrics = evaluate(model, test_loader,min_max_scaler,loss_func)\n",
        "            eval_loss = model_metrics['eval_loss']\n",
        "\n",
        "            if eval_loss <= best_eval_loss:\n",
        "                improve = True\n",
        "                best_checkpoint = total_batch+1\n",
        "                best_eval_loss = eval_loss\n",
        "\n",
        "            train_loss = np.mean(train_loss_list)\n",
        "            \n",
        "            real_ratings =min_max_scaler.inverse_transform(np.array(rating_list).reshape(-1,1))[:,0]\n",
        "            prediction_ratings=min_max_scaler.inverse_transform(np.array(prob_list).reshape(-1,1))[:,0]\n",
        "            MAE = metrics.mean_absolute_error(real_ratings,prediction_ratings)\n",
        "            RMSE = metrics.mean_squared_error(real_ratings,prediction_ratings)\n",
        "\n",
        "            model_metrics['best_eval_loss'] = best_eval_loss\n",
        "            model_metrics['train_loss'] = train_loss\n",
        "            model_metrics['train_MAE'] = MAE\n",
        "            model_metrics['train_RMSE'] = RMSE\n",
        "            \n",
        "            model_metrics[\"steps\"] = total_batch*(batch_size//32)+1\n",
        "            model_metrics[\"best_checkpoint\"] = best_checkpoint\n",
        "            metrics_list.append(model_metrics)\n",
        "            wandb.log(model_metrics)\n",
        "\n",
        "            if improve:\n",
        "                save_dir = os.path.join(\"models\", model_version)\n",
        "                os.makedirs(save_dir, exist_ok=True)\n",
        "                model_path = save_model(model, save_dir, total_batch+1, model_metrics)\n",
        "                best_model_path = model_path\n",
        "            post_fix_message = {k:round(v,3) for k,v in model_metrics.items()}\n",
        "            total_pbar.set_postfix(post_fix_message)\n",
        "\n",
        "\n",
        "            model = model.train()\n",
        "\n",
        "        total_batch += 1\n",
        "        total_pbar.update(1)\n",
        "\n",
        "    model = model.train()\n",
        "\n",
        "total_pbar.close()\n",
        "wandb.finish()"
      ]
    },
    {
      "cell_type": "code",
      "execution_count": null,
      "metadata": {
        "id": "AzfHrJl6aP0t"
      },
      "outputs": [
        {
          "data": {
            "text/html": [
              "<div>\n",
              "<style scoped>\n",
              "    .dataframe tbody tr th:only-of-type {\n",
              "        vertical-align: middle;\n",
              "    }\n",
              "\n",
              "    .dataframe tbody tr th {\n",
              "        vertical-align: top;\n",
              "    }\n",
              "\n",
              "    .dataframe thead th {\n",
              "        text-align: right;\n",
              "    }\n",
              "</style>\n",
              "<table border=\"1\" class=\"dataframe\">\n",
              "  <thead>\n",
              "    <tr style=\"text-align: right;\">\n",
              "      <th></th>\n",
              "      <th>eval_loss</th>\n",
              "      <th>eval_MAE</th>\n",
              "      <th>eval_RMSE</th>\n",
              "      <th>best_eval_loss</th>\n",
              "      <th>train_loss</th>\n",
              "      <th>train_MAE</th>\n",
              "      <th>train_RMSE</th>\n",
              "      <th>best_checkpoint</th>\n",
              "    </tr>\n",
              "    <tr>\n",
              "      <th>steps</th>\n",
              "      <th></th>\n",
              "      <th></th>\n",
              "      <th></th>\n",
              "      <th></th>\n",
              "      <th></th>\n",
              "      <th></th>\n",
              "      <th></th>\n",
              "      <th></th>\n",
              "    </tr>\n",
              "  </thead>\n",
              "  <tbody>\n",
              "    <tr>\n",
              "      <th>4253</th>\n",
              "      <td>0.181014</td>\n",
              "      <td>0.724008</td>\n",
              "      <td>0.928712</td>\n",
              "      <td>0.181014</td>\n",
              "      <td>0.191913</td>\n",
              "      <td>0.767653</td>\n",
              "      <td>0.978267</td>\n",
              "      <td>1064</td>\n",
              "    </tr>\n",
              "    <tr>\n",
              "      <th>8509</th>\n",
              "      <td>0.174675</td>\n",
              "      <td>0.698867</td>\n",
              "      <td>0.917245</td>\n",
              "      <td>0.174675</td>\n",
              "      <td>0.186679</td>\n",
              "      <td>0.746715</td>\n",
              "      <td>0.951660</td>\n",
              "      <td>2128</td>\n",
              "    </tr>\n",
              "    <tr>\n",
              "      <th>12765</th>\n",
              "      <td>0.176670</td>\n",
              "      <td>0.706685</td>\n",
              "      <td>0.906398</td>\n",
              "      <td>0.174675</td>\n",
              "      <td>0.183924</td>\n",
              "      <td>0.735697</td>\n",
              "      <td>0.939353</td>\n",
              "      <td>2128</td>\n",
              "    </tr>\n",
              "    <tr>\n",
              "      <th>17021</th>\n",
              "      <td>0.173125</td>\n",
              "      <td>0.692648</td>\n",
              "      <td>0.911574</td>\n",
              "      <td>0.173125</td>\n",
              "      <td>0.172702</td>\n",
              "      <td>0.690806</td>\n",
              "      <td>0.885236</td>\n",
              "      <td>4256</td>\n",
              "    </tr>\n",
              "    <tr>\n",
              "      <th>21277</th>\n",
              "      <td>0.173671</td>\n",
              "      <td>0.694774</td>\n",
              "      <td>0.888627</td>\n",
              "      <td>0.173125</td>\n",
              "      <td>0.172726</td>\n",
              "      <td>0.690905</td>\n",
              "      <td>0.889793</td>\n",
              "      <td>4256</td>\n",
              "    </tr>\n",
              "    <tr>\n",
              "      <th>25533</th>\n",
              "      <td>0.171363</td>\n",
              "      <td>0.685479</td>\n",
              "      <td>0.884866</td>\n",
              "      <td>0.171363</td>\n",
              "      <td>0.172552</td>\n",
              "      <td>0.690208</td>\n",
              "      <td>0.890607</td>\n",
              "      <td>6384</td>\n",
              "    </tr>\n",
              "    <tr>\n",
              "      <th>29789</th>\n",
              "      <td>0.169621</td>\n",
              "      <td>0.678529</td>\n",
              "      <td>0.895820</td>\n",
              "      <td>0.169621</td>\n",
              "      <td>0.168629</td>\n",
              "      <td>0.674515</td>\n",
              "      <td>0.876936</td>\n",
              "      <td>7448</td>\n",
              "    </tr>\n",
              "    <tr>\n",
              "      <th>34045</th>\n",
              "      <td>0.169666</td>\n",
              "      <td>0.678627</td>\n",
              "      <td>0.892939</td>\n",
              "      <td>0.169621</td>\n",
              "      <td>0.168492</td>\n",
              "      <td>0.673970</td>\n",
              "      <td>0.876586</td>\n",
              "      <td>7448</td>\n",
              "    </tr>\n",
              "    <tr>\n",
              "      <th>38301</th>\n",
              "      <td>0.168021</td>\n",
              "      <td>0.672164</td>\n",
              "      <td>0.883358</td>\n",
              "      <td>0.168021</td>\n",
              "      <td>0.168530</td>\n",
              "      <td>0.674118</td>\n",
              "      <td>0.878581</td>\n",
              "      <td>9576</td>\n",
              "    </tr>\n",
              "    <tr>\n",
              "      <th>42557</th>\n",
              "      <td>0.168994</td>\n",
              "      <td>0.675818</td>\n",
              "      <td>0.899458</td>\n",
              "      <td>0.168021</td>\n",
              "      <td>0.164929</td>\n",
              "      <td>0.659715</td>\n",
              "      <td>0.864729</td>\n",
              "      <td>9576</td>\n",
              "    </tr>\n",
              "    <tr>\n",
              "      <th>46813</th>\n",
              "      <td>0.171412</td>\n",
              "      <td>0.685564</td>\n",
              "      <td>0.932060</td>\n",
              "      <td>0.168021</td>\n",
              "      <td>0.165262</td>\n",
              "      <td>0.661049</td>\n",
              "      <td>0.866340</td>\n",
              "      <td>9576</td>\n",
              "    </tr>\n",
              "    <tr>\n",
              "      <th>51069</th>\n",
              "      <td>0.168329</td>\n",
              "      <td>0.673546</td>\n",
              "      <td>0.903791</td>\n",
              "      <td>0.168021</td>\n",
              "      <td>0.165756</td>\n",
              "      <td>0.663026</td>\n",
              "      <td>0.868423</td>\n",
              "      <td>9576</td>\n",
              "    </tr>\n",
              "    <tr>\n",
              "      <th>55325</th>\n",
              "      <td>0.167441</td>\n",
              "      <td>0.669810</td>\n",
              "      <td>0.889102</td>\n",
              "      <td>0.167441</td>\n",
              "      <td>0.162218</td>\n",
              "      <td>0.648871</td>\n",
              "      <td>0.851299</td>\n",
              "      <td>13832</td>\n",
              "    </tr>\n",
              "    <tr>\n",
              "      <th>59581</th>\n",
              "      <td>0.167851</td>\n",
              "      <td>0.671398</td>\n",
              "      <td>0.906238</td>\n",
              "      <td>0.167441</td>\n",
              "      <td>0.163251</td>\n",
              "      <td>0.653004</td>\n",
              "      <td>0.857489</td>\n",
              "      <td>13832</td>\n",
              "    </tr>\n",
              "    <tr>\n",
              "      <th>63837</th>\n",
              "      <td>0.168966</td>\n",
              "      <td>0.675761</td>\n",
              "      <td>0.906527</td>\n",
              "      <td>0.167441</td>\n",
              "      <td>0.163781</td>\n",
              "      <td>0.655125</td>\n",
              "      <td>0.858265</td>\n",
              "      <td>13832</td>\n",
              "    </tr>\n",
              "    <tr>\n",
              "      <th>68093</th>\n",
              "      <td>0.169499</td>\n",
              "      <td>0.677948</td>\n",
              "      <td>0.923805</td>\n",
              "      <td>0.167441</td>\n",
              "      <td>0.160313</td>\n",
              "      <td>0.641253</td>\n",
              "      <td>0.836429</td>\n",
              "      <td>13832</td>\n",
              "    </tr>\n",
              "    <tr>\n",
              "      <th>72349</th>\n",
              "      <td>0.168281</td>\n",
              "      <td>0.672974</td>\n",
              "      <td>0.911093</td>\n",
              "      <td>0.167441</td>\n",
              "      <td>0.161131</td>\n",
              "      <td>0.644523</td>\n",
              "      <td>0.840680</td>\n",
              "      <td>13832</td>\n",
              "    </tr>\n",
              "    <tr>\n",
              "      <th>76605</th>\n",
              "      <td>0.167549</td>\n",
              "      <td>0.670137</td>\n",
              "      <td>0.895890</td>\n",
              "      <td>0.167441</td>\n",
              "      <td>0.161851</td>\n",
              "      <td>0.647403</td>\n",
              "      <td>0.845667</td>\n",
              "      <td>13832</td>\n",
              "    </tr>\n",
              "    <tr>\n",
              "      <th>80861</th>\n",
              "      <td>0.167478</td>\n",
              "      <td>0.669851</td>\n",
              "      <td>0.891119</td>\n",
              "      <td>0.167441</td>\n",
              "      <td>0.158604</td>\n",
              "      <td>0.634415</td>\n",
              "      <td>0.829495</td>\n",
              "      <td>13832</td>\n",
              "    </tr>\n",
              "    <tr>\n",
              "      <th>85117</th>\n",
              "      <td>0.167789</td>\n",
              "      <td>0.671171</td>\n",
              "      <td>0.914392</td>\n",
              "      <td>0.167441</td>\n",
              "      <td>0.159124</td>\n",
              "      <td>0.636497</td>\n",
              "      <td>0.832677</td>\n",
              "      <td>13832</td>\n",
              "    </tr>\n",
              "    <tr>\n",
              "      <th>89373</th>\n",
              "      <td>0.168037</td>\n",
              "      <td>0.671992</td>\n",
              "      <td>0.903003</td>\n",
              "      <td>0.167441</td>\n",
              "      <td>0.159814</td>\n",
              "      <td>0.639256</td>\n",
              "      <td>0.834035</td>\n",
              "      <td>13832</td>\n",
              "    </tr>\n",
              "    <tr>\n",
              "      <th>93629</th>\n",
              "      <td>0.168518</td>\n",
              "      <td>0.674190</td>\n",
              "      <td>0.926615</td>\n",
              "      <td>0.167441</td>\n",
              "      <td>0.156110</td>\n",
              "      <td>0.624441</td>\n",
              "      <td>0.807812</td>\n",
              "      <td>13832</td>\n",
              "    </tr>\n",
              "    <tr>\n",
              "      <th>97885</th>\n",
              "      <td>0.167693</td>\n",
              "      <td>0.670996</td>\n",
              "      <td>0.905156</td>\n",
              "      <td>0.167441</td>\n",
              "      <td>0.157269</td>\n",
              "      <td>0.629076</td>\n",
              "      <td>0.817349</td>\n",
              "      <td>13832</td>\n",
              "    </tr>\n",
              "    <tr>\n",
              "      <th>102141</th>\n",
              "      <td>0.167733</td>\n",
              "      <td>0.671074</td>\n",
              "      <td>0.902516</td>\n",
              "      <td>0.167441</td>\n",
              "      <td>0.158058</td>\n",
              "      <td>0.632232</td>\n",
              "      <td>0.823240</td>\n",
              "      <td>13832</td>\n",
              "    </tr>\n",
              "    <tr>\n",
              "      <th>106397</th>\n",
              "      <td>0.166809</td>\n",
              "      <td>0.667179</td>\n",
              "      <td>0.904364</td>\n",
              "      <td>0.166809</td>\n",
              "      <td>0.154788</td>\n",
              "      <td>0.619153</td>\n",
              "      <td>0.803971</td>\n",
              "      <td>26600</td>\n",
              "    </tr>\n",
              "    <tr>\n",
              "      <th>110653</th>\n",
              "      <td>0.166344</td>\n",
              "      <td>0.665355</td>\n",
              "      <td>0.896965</td>\n",
              "      <td>0.166344</td>\n",
              "      <td>0.155710</td>\n",
              "      <td>0.622838</td>\n",
              "      <td>0.809741</td>\n",
              "      <td>27664</td>\n",
              "    </tr>\n",
              "    <tr>\n",
              "      <th>114909</th>\n",
              "      <td>0.168627</td>\n",
              "      <td>0.674437</td>\n",
              "      <td>0.920026</td>\n",
              "      <td>0.166344</td>\n",
              "      <td>0.156284</td>\n",
              "      <td>0.625134</td>\n",
              "      <td>0.813073</td>\n",
              "      <td>27664</td>\n",
              "    </tr>\n",
              "    <tr>\n",
              "      <th>119165</th>\n",
              "      <td>0.167738</td>\n",
              "      <td>0.670920</td>\n",
              "      <td>0.911736</td>\n",
              "      <td>0.166344</td>\n",
              "      <td>0.153005</td>\n",
              "      <td>0.612019</td>\n",
              "      <td>0.792431</td>\n",
              "      <td>27664</td>\n",
              "    </tr>\n",
              "    <tr>\n",
              "      <th>123421</th>\n",
              "      <td>0.166892</td>\n",
              "      <td>0.667567</td>\n",
              "      <td>0.892212</td>\n",
              "      <td>0.166344</td>\n",
              "      <td>0.153995</td>\n",
              "      <td>0.615979</td>\n",
              "      <td>0.798814</td>\n",
              "      <td>27664</td>\n",
              "    </tr>\n",
              "    <tr>\n",
              "      <th>127677</th>\n",
              "      <td>0.167589</td>\n",
              "      <td>0.670317</td>\n",
              "      <td>0.907614</td>\n",
              "      <td>0.166344</td>\n",
              "      <td>0.154610</td>\n",
              "      <td>0.618439</td>\n",
              "      <td>0.802624</td>\n",
              "      <td>27664</td>\n",
              "    </tr>\n",
              "  </tbody>\n",
              "</table>\n",
              "</div>"
            ],
            "text/plain": [
              "        eval_loss  eval_MAE  eval_RMSE  best_eval_loss  train_loss  train_MAE  \\\n",
              "steps                                                                           \n",
              "4253     0.181014  0.724008   0.928712        0.181014    0.191913   0.767653   \n",
              "8509     0.174675  0.698867   0.917245        0.174675    0.186679   0.746715   \n",
              "12765    0.176670  0.706685   0.906398        0.174675    0.183924   0.735697   \n",
              "17021    0.173125  0.692648   0.911574        0.173125    0.172702   0.690806   \n",
              "21277    0.173671  0.694774   0.888627        0.173125    0.172726   0.690905   \n",
              "25533    0.171363  0.685479   0.884866        0.171363    0.172552   0.690208   \n",
              "29789    0.169621  0.678529   0.895820        0.169621    0.168629   0.674515   \n",
              "34045    0.169666  0.678627   0.892939        0.169621    0.168492   0.673970   \n",
              "38301    0.168021  0.672164   0.883358        0.168021    0.168530   0.674118   \n",
              "42557    0.168994  0.675818   0.899458        0.168021    0.164929   0.659715   \n",
              "46813    0.171412  0.685564   0.932060        0.168021    0.165262   0.661049   \n",
              "51069    0.168329  0.673546   0.903791        0.168021    0.165756   0.663026   \n",
              "55325    0.167441  0.669810   0.889102        0.167441    0.162218   0.648871   \n",
              "59581    0.167851  0.671398   0.906238        0.167441    0.163251   0.653004   \n",
              "63837    0.168966  0.675761   0.906527        0.167441    0.163781   0.655125   \n",
              "68093    0.169499  0.677948   0.923805        0.167441    0.160313   0.641253   \n",
              "72349    0.168281  0.672974   0.911093        0.167441    0.161131   0.644523   \n",
              "76605    0.167549  0.670137   0.895890        0.167441    0.161851   0.647403   \n",
              "80861    0.167478  0.669851   0.891119        0.167441    0.158604   0.634415   \n",
              "85117    0.167789  0.671171   0.914392        0.167441    0.159124   0.636497   \n",
              "89373    0.168037  0.671992   0.903003        0.167441    0.159814   0.639256   \n",
              "93629    0.168518  0.674190   0.926615        0.167441    0.156110   0.624441   \n",
              "97885    0.167693  0.670996   0.905156        0.167441    0.157269   0.629076   \n",
              "102141   0.167733  0.671074   0.902516        0.167441    0.158058   0.632232   \n",
              "106397   0.166809  0.667179   0.904364        0.166809    0.154788   0.619153   \n",
              "110653   0.166344  0.665355   0.896965        0.166344    0.155710   0.622838   \n",
              "114909   0.168627  0.674437   0.920026        0.166344    0.156284   0.625134   \n",
              "119165   0.167738  0.670920   0.911736        0.166344    0.153005   0.612019   \n",
              "123421   0.166892  0.667567   0.892212        0.166344    0.153995   0.615979   \n",
              "127677   0.167589  0.670317   0.907614        0.166344    0.154610   0.618439   \n",
              "\n",
              "        train_RMSE  best_checkpoint  \n",
              "steps                                \n",
              "4253      0.978267             1064  \n",
              "8509      0.951660             2128  \n",
              "12765     0.939353             2128  \n",
              "17021     0.885236             4256  \n",
              "21277     0.889793             4256  \n",
              "25533     0.890607             6384  \n",
              "29789     0.876936             7448  \n",
              "34045     0.876586             7448  \n",
              "38301     0.878581             9576  \n",
              "42557     0.864729             9576  \n",
              "46813     0.866340             9576  \n",
              "51069     0.868423             9576  \n",
              "55325     0.851299            13832  \n",
              "59581     0.857489            13832  \n",
              "63837     0.858265            13832  \n",
              "68093     0.836429            13832  \n",
              "72349     0.840680            13832  \n",
              "76605     0.845667            13832  \n",
              "80861     0.829495            13832  \n",
              "85117     0.832677            13832  \n",
              "89373     0.834035            13832  \n",
              "93629     0.807812            13832  \n",
              "97885     0.817349            13832  \n",
              "102141    0.823240            13832  \n",
              "106397    0.803971            26600  \n",
              "110653    0.809741            27664  \n",
              "114909    0.813073            27664  \n",
              "119165    0.792431            27664  \n",
              "123421    0.798814            27664  \n",
              "127677    0.802624            27664  "
            ]
          },
          "execution_count": 55,
          "metadata": {},
          "output_type": "execute_result"
        }
      ],
      "source": [
        "df_metrics = pd.DataFrame(metrics_list)\n",
        "df_metrics = df_metrics.set_index(\"steps\")\n",
        "df_metrics"
      ]
    },
    {
      "cell_type": "code",
      "execution_count": null,
      "metadata": {},
      "outputs": [
        {
          "data": {
            "text/plain": [
              "<Axes: xlabel='steps'>"
            ]
          },
          "execution_count": 56,
          "metadata": {},
          "output_type": "execute_result"
        },
        {
          "data": {
            "image/png": "[encoded data removed]",
            "text/plain": [
              "<Figure size 640x480 with 1 Axes>"
            ]
          },
          "metadata": {},
          "output_type": "display_data"
        }
      ],
      "source": [
        "\n",
        "df_metrics[['eval_loss','train_loss']].plot() "
      ]
    },
    {
      "cell_type": "code",
      "execution_count": null,
      "metadata": {},
      "outputs": [
        {
          "data": {
            "text/plain": [
              "<Axes: xlabel='steps'>"
            ]
          },
          "execution_count": 57,
          "metadata": {},
          "output_type": "execute_result"
        },
        {
          "data": {
            "image/png": "[encoded data removed]",
            "text/plain": [
              "<Figure size 640x480 with 1 Axes>"
            ]
          },
          "metadata": {},
          "output_type": "display_data"
        }
      ],
      "source": [
        "df_metrics[['eval_MAE','train_MAE']].plot() "
      ]
    },
    {
      "attachments": {},
      "cell_type": "markdown",
      "metadata": {},
      "source": [
        "## (7) Validate The Best Model"
      ]
    },
    {
      "cell_type": "code",
      "execution_count": null,
      "metadata": {},
      "outputs": [],
      "source": [
        "best_model = BSTRecommender(config=config)"
      ]
    },
    {
      "cell_type": "code",
      "execution_count": null,
      "metadata": {},
      "outputs": [
        {
          "data": {
            "text/plain": [
              "BSTRecommender(\n",
              "  (embedding_layers): ModuleDict(\n",
              "    (user): Embedding(6041, 32)\n",
              "    (movie): Embedding(3884, 32)\n",
              "    (occupation): Embedding(22, 32)\n",
              "    (age_group): Embedding(8, 32)\n",
              "    (position): Embedding(10, 32)\n",
              "  )\n",
              "  (transformer_layer): TransformerLayer(\n",
              "    (transformer_blocks): ModuleList(\n",
              "      (0-2): 3 x TransformerBlock(\n",
              "        (multihead_attention): MultiheadAttention(\n",
              "          (out_proj): NonDynamicallyQuantizableLinear(in_features=64, out_features=64, bias=True)\n",
              "        )\n",
              "        (layer_norm1): LayerNorm((64,), eps=1e-05, elementwise_affine=True)\n",
              "        (feed_forward): Sequential(\n",
              "          (0): Linear(in_features=64, out_features=256, bias=True)\n",
              "          (1): ReLU()\n",
              "          (2): Linear(in_features=256, out_features=64, bias=True)\n",
              "          (3): Dropout(p=0.2, inplace=False)\n",
              "        )\n",
              "        (layer_norm2): LayerNorm((64,), eps=1e-05, elementwise_affine=True)\n",
              "        (dropout): Dropout(p=0.2, inplace=False)\n",
              "      )\n",
              "    )\n",
              "  )\n",
              "  (mlp): MLP(\n",
              "    (dropout): Dropout(p=0.2, inplace=False)\n",
              "    (layers): ModuleList(\n",
              "      (0): Linear(in_features=897, out_features=256, bias=True)\n",
              "      (1): LeakyReLU(negative_slope=0.01)\n",
              "      (2): Dropout(p=0.2, inplace=False)\n",
              "      (3): Linear(in_features=256, out_features=64, bias=True)\n",
              "      (4): LeakyReLU(negative_slope=0.01)\n",
              "      (5): Dropout(p=0.2, inplace=False)\n",
              "    )\n",
              "    (fc): Linear(in_features=64, out_features=1, bias=True)\n",
              "    (sigmoid): Sigmoid()\n",
              "  )\n",
              ")"
            ]
          },
          "execution_count": 59,
          "metadata": {},
          "output_type": "execute_result"
        }
      ],
      "source": [
        "best_model.load_state_dict(torch.load(best_model_path))\n",
        "best_model.eval()\n",
        "best_model.to(config.device)"
      ]
    },
    {
      "cell_type": "code",
      "execution_count": null,
      "metadata": {},
      "outputs": [
        {
          "name": "stderr",
          "output_type": "stream",
          "text": [
            "100%|█████████▉| 559/561 [00:19<00:00, 25.11it/s]"
          ]
        }
      ],
      "source": [
        "best_model.eval()\n",
        "prob_list= []\n",
        "rating_list = []\n",
        "eval_loss_list = []\n",
        "pbar = tqdm(total = len(test_loader),desc = \"\",position=0, leave=True)\n",
        "for inputs in test_loader:\n",
        "    with torch.no_grad():\n",
        "        probs = best_model(inputs)\n",
        "        ratings = inputs['target_rating'].view(-1,1)\n",
        "        \n",
        "        loss = loss_func(probs, ratings)\n",
        "        eval_loss_list.append(loss.item())\n",
        "\n",
        "        probs = probs.cpu().numpy().flatten().tolist()\n",
        "        prob_list.extend(probs)\n",
        "\n",
        "        ratings = ratings.cpu().numpy().flatten().tolist()\n",
        "        rating_list.extend(ratings)\n",
        "\n",
        "        pbar.update(1)"
      ]
    },
    {
      "cell_type": "code",
      "execution_count": null,
      "metadata": {},
      "outputs": [],
      "source": [
        "prediction = pd.DataFrame()\n",
        "prediction['real']=min_max_scaler.inverse_transform(np.array(rating_list).reshape(-1,1))[:,0]\n",
        "prediction['prediction']=min_max_scaler.inverse_transform(np.array(prob_list).reshape(-1,1))[:,0]"
      ]
    },
    {
      "cell_type": "code",
      "execution_count": null,
      "metadata": {},
      "outputs": [],
      "source": [
        "MAE = metrics.mean_absolute_error(prediction['real'],prediction['prediction'])\n",
        "RMSE = metrics.mean_squared_error(prediction['real'],prediction['prediction'])"
      ]
    },
    {
      "cell_type": "code",
      "execution_count": null,
      "metadata": {},
      "outputs": [
        {
          "name": "stdout",
          "output_type": "stream",
          "text": [
            "MAE:0.6653041080139279,RMSE:0.8971988769407567\n"
          ]
        }
      ],
      "source": [
        "print(f\"MAE:{MAE},RMSE:{RMSE}\")"
      ]
    },
    {
      "cell_type": "code",
      "execution_count": null,
      "metadata": {},
      "outputs": [
        {
          "data": {
            "text/html": [
              "<div>\n",
              "<style scoped>\n",
              "    .dataframe tbody tr th:only-of-type {\n",
              "        vertical-align: middle;\n",
              "    }\n",
              "\n",
              "    .dataframe tbody tr th {\n",
              "        vertical-align: top;\n",
              "    }\n",
              "\n",
              "    .dataframe thead th {\n",
              "        text-align: right;\n",
              "    }\n",
              "</style>\n",
              "<table border=\"1\" class=\"dataframe\">\n",
              "  <thead>\n",
              "    <tr style=\"text-align: right;\">\n",
              "      <th></th>\n",
              "      <th>real</th>\n",
              "      <th>prediction</th>\n",
              "    </tr>\n",
              "  </thead>\n",
              "  <tbody>\n",
              "    <tr>\n",
              "      <th>0</th>\n",
              "      <td>4.0</td>\n",
              "      <td>3.964429</td>\n",
              "    </tr>\n",
              "    <tr>\n",
              "      <th>1</th>\n",
              "      <td>4.0</td>\n",
              "      <td>3.973115</td>\n",
              "    </tr>\n",
              "    <tr>\n",
              "      <th>2</th>\n",
              "      <td>4.0</td>\n",
              "      <td>4.065523</td>\n",
              "    </tr>\n",
              "    <tr>\n",
              "      <th>3</th>\n",
              "      <td>2.0</td>\n",
              "      <td>2.760947</td>\n",
              "    </tr>\n",
              "    <tr>\n",
              "      <th>4</th>\n",
              "      <td>4.0</td>\n",
              "      <td>3.011642</td>\n",
              "    </tr>\n",
              "    <tr>\n",
              "      <th>5</th>\n",
              "      <td>1.0</td>\n",
              "      <td>2.979919</td>\n",
              "    </tr>\n",
              "    <tr>\n",
              "      <th>6</th>\n",
              "      <td>4.0</td>\n",
              "      <td>4.012991</td>\n",
              "    </tr>\n",
              "    <tr>\n",
              "      <th>7</th>\n",
              "      <td>4.0</td>\n",
              "      <td>3.009166</td>\n",
              "    </tr>\n",
              "    <tr>\n",
              "      <th>8</th>\n",
              "      <td>5.0</td>\n",
              "      <td>3.977629</td>\n",
              "    </tr>\n",
              "    <tr>\n",
              "      <th>9</th>\n",
              "      <td>4.0</td>\n",
              "      <td>2.997319</td>\n",
              "    </tr>\n",
              "    <tr>\n",
              "      <th>10</th>\n",
              "      <td>5.0</td>\n",
              "      <td>5.000000</td>\n",
              "    </tr>\n",
              "    <tr>\n",
              "      <th>11</th>\n",
              "      <td>3.0</td>\n",
              "      <td>2.998376</td>\n",
              "    </tr>\n",
              "    <tr>\n",
              "      <th>12</th>\n",
              "      <td>5.0</td>\n",
              "      <td>3.959532</td>\n",
              "    </tr>\n",
              "    <tr>\n",
              "      <th>13</th>\n",
              "      <td>5.0</td>\n",
              "      <td>3.001068</td>\n",
              "    </tr>\n",
              "    <tr>\n",
              "      <th>14</th>\n",
              "      <td>5.0</td>\n",
              "      <td>4.046206</td>\n",
              "    </tr>\n",
              "    <tr>\n",
              "      <th>15</th>\n",
              "      <td>4.0</td>\n",
              "      <td>3.989501</td>\n",
              "    </tr>\n",
              "    <tr>\n",
              "      <th>16</th>\n",
              "      <td>5.0</td>\n",
              "      <td>4.006765</td>\n",
              "    </tr>\n",
              "    <tr>\n",
              "      <th>17</th>\n",
              "      <td>5.0</td>\n",
              "      <td>3.998753</td>\n",
              "    </tr>\n",
              "    <tr>\n",
              "      <th>18</th>\n",
              "      <td>4.0</td>\n",
              "      <td>3.959595</td>\n",
              "    </tr>\n",
              "    <tr>\n",
              "      <th>19</th>\n",
              "      <td>5.0</td>\n",
              "      <td>3.964863</td>\n",
              "    </tr>\n",
              "    <tr>\n",
              "      <th>20</th>\n",
              "      <td>4.0</td>\n",
              "      <td>2.957057</td>\n",
              "    </tr>\n",
              "    <tr>\n",
              "      <th>21</th>\n",
              "      <td>5.0</td>\n",
              "      <td>3.956979</td>\n",
              "    </tr>\n",
              "    <tr>\n",
              "      <th>22</th>\n",
              "      <td>3.0</td>\n",
              "      <td>1.333705</td>\n",
              "    </tr>\n",
              "    <tr>\n",
              "      <th>23</th>\n",
              "      <td>5.0</td>\n",
              "      <td>4.002812</td>\n",
              "    </tr>\n",
              "    <tr>\n",
              "      <th>24</th>\n",
              "      <td>5.0</td>\n",
              "      <td>4.055457</td>\n",
              "    </tr>\n",
              "    <tr>\n",
              "      <th>25</th>\n",
              "      <td>2.0</td>\n",
              "      <td>2.979653</td>\n",
              "    </tr>\n",
              "    <tr>\n",
              "      <th>26</th>\n",
              "      <td>5.0</td>\n",
              "      <td>3.975999</td>\n",
              "    </tr>\n",
              "    <tr>\n",
              "      <th>27</th>\n",
              "      <td>4.0</td>\n",
              "      <td>3.995837</td>\n",
              "    </tr>\n",
              "    <tr>\n",
              "      <th>28</th>\n",
              "      <td>5.0</td>\n",
              "      <td>4.997219</td>\n",
              "    </tr>\n",
              "    <tr>\n",
              "      <th>29</th>\n",
              "      <td>3.0</td>\n",
              "      <td>2.999275</td>\n",
              "    </tr>\n",
              "    <tr>\n",
              "      <th>30</th>\n",
              "      <td>2.0</td>\n",
              "      <td>2.994514</td>\n",
              "    </tr>\n",
              "    <tr>\n",
              "      <th>31</th>\n",
              "      <td>2.0</td>\n",
              "      <td>1.842852</td>\n",
              "    </tr>\n",
              "    <tr>\n",
              "      <th>32</th>\n",
              "      <td>3.0</td>\n",
              "      <td>3.012327</td>\n",
              "    </tr>\n",
              "    <tr>\n",
              "      <th>33</th>\n",
              "      <td>5.0</td>\n",
              "      <td>5.000000</td>\n",
              "    </tr>\n",
              "    <tr>\n",
              "      <th>34</th>\n",
              "      <td>4.0</td>\n",
              "      <td>2.998880</td>\n",
              "    </tr>\n",
              "    <tr>\n",
              "      <th>35</th>\n",
              "      <td>3.0</td>\n",
              "      <td>3.748857</td>\n",
              "    </tr>\n",
              "    <tr>\n",
              "      <th>36</th>\n",
              "      <td>3.0</td>\n",
              "      <td>3.000515</td>\n",
              "    </tr>\n",
              "    <tr>\n",
              "      <th>37</th>\n",
              "      <td>2.0</td>\n",
              "      <td>3.007157</td>\n",
              "    </tr>\n",
              "    <tr>\n",
              "      <th>38</th>\n",
              "      <td>4.0</td>\n",
              "      <td>4.055154</td>\n",
              "    </tr>\n",
              "    <tr>\n",
              "      <th>39</th>\n",
              "      <td>3.0</td>\n",
              "      <td>4.006622</td>\n",
              "    </tr>\n",
              "    <tr>\n",
              "      <th>40</th>\n",
              "      <td>5.0</td>\n",
              "      <td>4.999997</td>\n",
              "    </tr>\n",
              "    <tr>\n",
              "      <th>41</th>\n",
              "      <td>5.0</td>\n",
              "      <td>3.991897</td>\n",
              "    </tr>\n",
              "    <tr>\n",
              "      <th>42</th>\n",
              "      <td>3.0</td>\n",
              "      <td>4.049056</td>\n",
              "    </tr>\n",
              "    <tr>\n",
              "      <th>43</th>\n",
              "      <td>3.0</td>\n",
              "      <td>3.055940</td>\n",
              "    </tr>\n",
              "    <tr>\n",
              "      <th>44</th>\n",
              "      <td>5.0</td>\n",
              "      <td>4.076931</td>\n",
              "    </tr>\n",
              "    <tr>\n",
              "      <th>45</th>\n",
              "      <td>5.0</td>\n",
              "      <td>5.000000</td>\n",
              "    </tr>\n",
              "    <tr>\n",
              "      <th>46</th>\n",
              "      <td>4.0</td>\n",
              "      <td>5.000000</td>\n",
              "    </tr>\n",
              "    <tr>\n",
              "      <th>47</th>\n",
              "      <td>4.0</td>\n",
              "      <td>3.999594</td>\n",
              "    </tr>\n",
              "    <tr>\n",
              "      <th>48</th>\n",
              "      <td>5.0</td>\n",
              "      <td>3.971314</td>\n",
              "    </tr>\n",
              "    <tr>\n",
              "      <th>49</th>\n",
              "      <td>5.0</td>\n",
              "      <td>3.936542</td>\n",
              "    </tr>\n",
              "  </tbody>\n",
              "</table>\n",
              "</div>"
            ],
            "text/plain": [
              "    real  prediction\n",
              "0    4.0    3.964429\n",
              "1    4.0    3.973115\n",
              "2    4.0    4.065523\n",
              "3    2.0    2.760947\n",
              "4    4.0    3.011642\n",
              "5    1.0    2.979919\n",
              "6    4.0    4.012991\n",
              "7    4.0    3.009166\n",
              "8    5.0    3.977629\n",
              "9    4.0    2.997319\n",
              "10   5.0    5.000000\n",
              "11   3.0    2.998376\n",
              "12   5.0    3.959532\n",
              "13   5.0    3.001068\n",
              "14   5.0    4.046206\n",
              "15   4.0    3.989501\n",
              "16   5.0    4.006765\n",
              "17   5.0    3.998753\n",
              "18   4.0    3.959595\n",
              "19   5.0    3.964863\n",
              "20   4.0    2.957057\n",
              "21   5.0    3.956979\n",
              "22   3.0    1.333705\n",
              "23   5.0    4.002812\n",
              "24   5.0    4.055457\n",
              "25   2.0    2.979653\n",
              "26   5.0    3.975999\n",
              "27   4.0    3.995837\n",
              "28   5.0    4.997219\n",
              "29   3.0    2.999275\n",
              "30   2.0    2.994514\n",
              "31   2.0    1.842852\n",
              "32   3.0    3.012327\n",
              "33   5.0    5.000000\n",
              "34   4.0    2.998880\n",
              "35   3.0    3.748857\n",
              "36   3.0    3.000515\n",
              "37   2.0    3.007157\n",
              "38   4.0    4.055154\n",
              "39   3.0    4.006622\n",
              "40   5.0    4.999997\n",
              "41   5.0    3.991897\n",
              "42   3.0    4.049056\n",
              "43   3.0    3.055940\n",
              "44   5.0    4.076931\n",
              "45   5.0    5.000000\n",
              "46   4.0    5.000000\n",
              "47   4.0    3.999594\n",
              "48   5.0    3.971314\n",
              "49   5.0    3.936542"
            ]
          },
          "execution_count": 64,
          "metadata": {},
          "output_type": "execute_result"
        },
        {
          "name": "stderr",
          "output_type": "stream",
          "text": [
            "100%|██████████| 561/561 [00:38<00:00, 25.11it/s]"
          ]
        }
      ],
      "source": [
        "\"\"\"show result: the model seems very good\"\"\"\n",
        "prediction.iloc[:50]"
      ]
    },
    {
      "cell_type": "code",
      "execution_count": null,
      "metadata": {},
      "outputs": [],
      "source": []
    }
  ],
  "metadata": {
    "accelerator": "GPU",
    "colab": {
      "gpuType": "T4",
      "provenance": [],
      "toc_visible": true
    },
    "kernelspec": {
      "display_name": "Python 3",
      "name": "python3"
    },
    "language_info": {
      "codemirror_mode": {
        "name": "ipython",
        "version": 3
      },
      "file_extension": ".py",
      "mimetype": "text/x-python",
      "name": "python",
      "nbconvert_exporter": "python",
      "pygments_lexer": "ipython3",
      "version": "3.11.3"
    }
  },
  "nbformat": 4,
  "nbformat_minor": 0
}
