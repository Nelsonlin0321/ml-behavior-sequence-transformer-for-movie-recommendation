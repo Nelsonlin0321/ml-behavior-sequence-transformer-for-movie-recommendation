{
  "cells": [
    {
      "attachments": {},
      "cell_type": "markdown",
      "metadata": {
        "id": "aUG4oG3JSGCn"
      },
      "source": [
        "# A Behavior Sequence Transformer For Movie Recommendation With Weight & Baises Tracking\n",
        "\n",
        "**Author:** [Nelson Lin](https://www.linkedin.com/in/nelson-lin-842564164/)<br>\n",
        "**Date created:** 2024/07/09<br>\n",
        "**Last modified:** 2024/07/09<br>\n",
        "**Description:** Rating rate prediction using the Behavior Sequence Transformer (BST) model on the Movielens 1M."
      ]
    },
    {
      "attachments": {},
      "cell_type": "markdown",
      "metadata": {
        "id": "10UcMwj-Sjqv"
      },
      "source": [
        "## (1) Notebook Settings"
      ]
    },
    {
      "cell_type": "code",
      "execution_count": 1,
      "metadata": {
        "id": "RxoBk0OkSvPn"
      },
      "outputs": [],
      "source": [
        "import pandas as pd\n",
        "import os\n",
        "import numpy as np\n",
        "import torch\n",
        "from torch import nn\n",
        "from zipfile import ZipFile\n",
        "from urllib.request import urlretrieve\n",
        "from torch.utils.data import Dataset\n",
        "from torch.utils.data import DataLoader\n",
        "from sklearn.preprocessing import MinMaxScaler\n",
        "from tqdm import tqdm\n",
        "import random\n",
        "import json\n",
        "import wandb\n",
        "from sklearn import metrics\n",
        "from uuid import uuid4"
      ]
    },
    {
      "cell_type": "code",
      "execution_count": 2,
      "metadata": {},
      "outputs": [],
      "source": [
        "# Set random seed for reproducibility\n",
        "torch.manual_seed(0)\n",
        "np.random.seed(0)\n",
        "random.seed(0)\n",
        "if torch.cuda.is_available():\n",
        "    torch.backends.cudnn.deterministic = True\n",
        "    torch.backends.cudnn.benchmark = False\n"
      ]
    },
    {
      "cell_type": "code",
      "execution_count": 3,
      "metadata": {},
      "outputs": [],
      "source": [
        "# os.environ[\"WANDB_NOTEBOOK_NAME\"] = \"A_Behavior_Sequence_Transformer_For_Movie_Recommendation(W&B).ipynb\""
      ]
    },
    {
      "cell_type": "code",
      "execution_count": 4,
      "metadata": {},
      "outputs": [
        {
          "name": "stderr",
          "output_type": "stream",
          "text": [
            "Failed to detect the name of this notebook, you can set it manually with the WANDB_NOTEBOOK_NAME environment variable to enable code saving.\n",
            "\u001b[34m\u001b[1mwandb\u001b[0m: Currently logged in as: \u001b[33mnelsonlin0321\u001b[0m. Use \u001b[1m`wandb login --relogin`\u001b[0m to force relogin\n"
          ]
        },
        {
          "data": {
            "text/plain": [
              "True"
            ]
          },
          "execution_count": 4,
          "metadata": {},
          "output_type": "execute_result"
        }
      ],
      "source": [
        "wandb.login()"
      ]
    },
    {
      "attachments": {},
      "cell_type": "markdown",
      "metadata": {
        "id": "Z_RHfTP4S3IZ"
      },
      "source": [
        "## (2) Data preparation"
      ]
    },
    {
      "attachments": {},
      "cell_type": "markdown",
      "metadata": {
        "id": "Tm747EdZU1bZ"
      },
      "source": [
        "### Load Data"
      ]
    },
    {
      "cell_type": "code",
      "execution_count": 5,
      "metadata": {
        "id": "KrasdLSrSG1x"
      },
      "outputs": [],
      "source": [
        "# urlretrieve(\"http://files.grouplens.org/datasets/movielens/ml-1m.zip\", \"movielens.zip\")\n",
        "# ZipFile(\"movielens.zip\", \"r\").extractall()"
      ]
    },
    {
      "cell_type": "code",
      "execution_count": 6,
      "metadata": {
        "id": "c8YFIdZeSxaH"
      },
      "outputs": [],
      "source": [
        "users = pd.read_csv(\n",
        "    \"ml-1m/users.dat\",\n",
        "    sep=\"::\",\n",
        "    names=[\"user_id\", \"sex\", \"age_group\", \"occupation\", \"zip_code\"],\n",
        "    engine='python'\n",
        ")\n",
        "\n",
        "ratings = pd.read_csv(\n",
        "    \"ml-1m/ratings.dat\",\n",
        "    sep=\"::\",\n",
        "    names=[\"user_id\", \"movie_id\", \"rating\", \"unix_timestamp\"],\n",
        "    engine='python'\n",
        ")\n",
        "\n",
        "movies = pd.read_csv(\n",
        "    \"ml-1m/movies.dat\", sep=\"::\", names=[\"movie_id\", \"title\", \"genres\"],\n",
        "    engine='python',encoding='ISO-8859-1'\n",
        ")"
      ]
    },
    {
      "attachments": {},
      "cell_type": "markdown",
      "metadata": {
        "id": "MMRanAvKU9t1"
      },
      "source": [
        "### Remap ID to index"
      ]
    },
    {
      "cell_type": "code",
      "execution_count": 7,
      "metadata": {
        "id": "AxDgQLlHS17f"
      },
      "outputs": [],
      "source": [
        "# remap the id to index\n",
        "def generate_remap_id_dict(df,col):\n",
        "    ids = df[df[col].notnull()][col].unique().tolist()\n",
        "    ids = sorted(ids)\n",
        "    id_map_dict = {x: i+1 for i, x in enumerate(ids)}\n",
        "    id_map_dict[\"UNK\"]=0\n",
        "\n",
        "    df[f\"{col}_index\"] = df[col].fillna(\"UNK\").map(id_map_dict)\n",
        "\n",
        "    return id_map_dict"
      ]
    },
    {
      "cell_type": "code",
      "execution_count": 8,
      "metadata": {
        "id": "9sCplGKlTHHt"
      },
      "outputs": [],
      "source": [
        "user_id_map_dict = generate_remap_id_dict(users,col='user_id')"
      ]
    },
    {
      "cell_type": "code",
      "execution_count": 9,
      "metadata": {
        "colab": {
          "base_uri": "https://localhost:8080/",
          "height": 206
        },
        "id": "jl_-Q_yYUA-6",
        "outputId": "a37170ca-c76f-4d1c-e1e8-1cdcd42e5c0a"
      },
      "outputs": [
        {
          "data": {
            "text/html": [
              "<div>\n",
              "<style scoped>\n",
              "    .dataframe tbody tr th:only-of-type {\n",
              "        vertical-align: middle;\n",
              "    }\n",
              "\n",
              "    .dataframe tbody tr th {\n",
              "        vertical-align: top;\n",
              "    }\n",
              "\n",
              "    .dataframe thead th {\n",
              "        text-align: right;\n",
              "    }\n",
              "</style>\n",
              "<table border=\"1\" class=\"dataframe\">\n",
              "  <thead>\n",
              "    <tr style=\"text-align: right;\">\n",
              "      <th></th>\n",
              "      <th>user_id</th>\n",
              "      <th>sex</th>\n",
              "      <th>age_group</th>\n",
              "      <th>occupation</th>\n",
              "      <th>zip_code</th>\n",
              "      <th>user_id_index</th>\n",
              "    </tr>\n",
              "  </thead>\n",
              "  <tbody>\n",
              "    <tr>\n",
              "      <th>0</th>\n",
              "      <td>1</td>\n",
              "      <td>F</td>\n",
              "      <td>1</td>\n",
              "      <td>10</td>\n",
              "      <td>48067</td>\n",
              "      <td>1</td>\n",
              "    </tr>\n",
              "    <tr>\n",
              "      <th>1</th>\n",
              "      <td>2</td>\n",
              "      <td>M</td>\n",
              "      <td>56</td>\n",
              "      <td>16</td>\n",
              "      <td>70072</td>\n",
              "      <td>2</td>\n",
              "    </tr>\n",
              "    <tr>\n",
              "      <th>2</th>\n",
              "      <td>3</td>\n",
              "      <td>M</td>\n",
              "      <td>25</td>\n",
              "      <td>15</td>\n",
              "      <td>55117</td>\n",
              "      <td>3</td>\n",
              "    </tr>\n",
              "    <tr>\n",
              "      <th>3</th>\n",
              "      <td>4</td>\n",
              "      <td>M</td>\n",
              "      <td>45</td>\n",
              "      <td>7</td>\n",
              "      <td>02460</td>\n",
              "      <td>4</td>\n",
              "    </tr>\n",
              "    <tr>\n",
              "      <th>4</th>\n",
              "      <td>5</td>\n",
              "      <td>M</td>\n",
              "      <td>25</td>\n",
              "      <td>20</td>\n",
              "      <td>55455</td>\n",
              "      <td>5</td>\n",
              "    </tr>\n",
              "  </tbody>\n",
              "</table>\n",
              "</div>"
            ],
            "text/plain": [
              "   user_id sex  age_group  occupation zip_code  user_id_index\n",
              "0        1   F          1          10    48067              1\n",
              "1        2   M         56          16    70072              2\n",
              "2        3   M         25          15    55117              3\n",
              "3        4   M         45           7    02460              4\n",
              "4        5   M         25          20    55455              5"
            ]
          },
          "execution_count": 9,
          "metadata": {},
          "output_type": "execute_result"
        }
      ],
      "source": [
        "users.head()"
      ]
    },
    {
      "cell_type": "code",
      "execution_count": 10,
      "metadata": {
        "id": "hsCN2BJ0UAQC"
      },
      "outputs": [],
      "source": [
        "# remap sex to score\n",
        "sex_id_map_dict = {'M':0.0,'F':1.0,'UNK':0.5}\n",
        "users['sex']=users['sex'].map(sex_id_map_dict)"
      ]
    },
    {
      "cell_type": "code",
      "execution_count": 11,
      "metadata": {
        "id": "ssHECS9iTZ3A"
      },
      "outputs": [],
      "source": [
        "occupation_id_map_dict = generate_remap_id_dict(users,col='occupation')"
      ]
    },
    {
      "cell_type": "code",
      "execution_count": 12,
      "metadata": {
        "id": "dGTwjedfTfN1"
      },
      "outputs": [],
      "source": [
        "age_group_id_map_dict = generate_remap_id_dict(users,col='age_group')"
      ]
    },
    {
      "cell_type": "code",
      "execution_count": 13,
      "metadata": {
        "id": "NRtH_iAeTgn0"
      },
      "outputs": [],
      "source": [
        "min_max_scaler = MinMaxScaler()\n",
        "ratings[\"norm_rating\"] = min_max_scaler.fit_transform(\n",
        "    ratings[\"rating\"].values.reshape(-1, 1))[:, 0]"
      ]
    },
    {
      "cell_type": "code",
      "execution_count": 14,
      "metadata": {
        "id": "gqur_n48Trck"
      },
      "outputs": [],
      "source": [
        "movie_id_map_dict = generate_remap_id_dict(movies,col='movie_id')"
      ]
    },
    {
      "cell_type": "code",
      "execution_count": 15,
      "metadata": {
        "id": "DSu3fNkyTv6D"
      },
      "outputs": [],
      "source": [
        "genres_set = set()\n",
        "def get_genres_set(genres):\n",
        "    global genres_set\n",
        "    genres_split = genres.split(\"|\")\n",
        "    genres_set.update(genres_split)\n",
        "    return genres_split\n",
        "movies['genres'] = movies['genres'].apply(lambda x:get_genres_set(x))\n",
        "genres_map_dict ={x: i+1 for i, x in enumerate(sorted(genres_set))}\n",
        "genres_map_dict['UNK']=0"
      ]
    },
    {
      "cell_type": "code",
      "execution_count": 16,
      "metadata": {
        "id": "hD5T2WuYUUuB"
      },
      "outputs": [],
      "source": [
        "movies['genres_ids']= movies['genres'].apply(lambda x: [genres_map_dict[g] for g in x])"
      ]
    },
    {
      "cell_type": "code",
      "execution_count": 17,
      "metadata": {
        "id": "qbMexz0nUPyz"
      },
      "outputs": [],
      "source": [
        "ratings['movie_id_index'] = ratings['movie_id'].map(movie_id_map_dict)\n",
        "ratings['user_id_index'] = ratings['user_id'].map(user_id_map_dict)"
      ]
    },
    {
      "cell_type": "code",
      "execution_count": 18,
      "metadata": {
        "id": "0NW-x8FdTy40"
      },
      "outputs": [],
      "source": [
        "df_user_views = ratings[[\"movie_id_index\", \"user_id_index\", \"unix_timestamp\", \"norm_rating\"]] \\\n",
        "    .merge(movies[['movie_id_index', 'genres_ids']],\n",
        "           on=['movie_id_index'])"
      ]
    },
    {
      "cell_type": "code",
      "execution_count": 19,
      "metadata": {
        "colab": {
          "base_uri": "https://localhost:8080/",
          "height": 206
        },
        "id": "QM1VX4lVUMMa",
        "outputId": "aca32242-4f66-4be8-bdab-669ab38d1a26"
      },
      "outputs": [
        {
          "data": {
            "text/html": [
              "<div>\n",
              "<style scoped>\n",
              "    .dataframe tbody tr th:only-of-type {\n",
              "        vertical-align: middle;\n",
              "    }\n",
              "\n",
              "    .dataframe tbody tr th {\n",
              "        vertical-align: top;\n",
              "    }\n",
              "\n",
              "    .dataframe thead th {\n",
              "        text-align: right;\n",
              "    }\n",
              "</style>\n",
              "<table border=\"1\" class=\"dataframe\">\n",
              "  <thead>\n",
              "    <tr style=\"text-align: right;\">\n",
              "      <th></th>\n",
              "      <th>movie_id_index</th>\n",
              "      <th>user_id_index</th>\n",
              "      <th>unix_timestamp</th>\n",
              "      <th>norm_rating</th>\n",
              "      <th>genres_ids</th>\n",
              "    </tr>\n",
              "  </thead>\n",
              "  <tbody>\n",
              "    <tr>\n",
              "      <th>0</th>\n",
              "      <td>1177</td>\n",
              "      <td>1</td>\n",
              "      <td>978300760</td>\n",
              "      <td>1.00</td>\n",
              "      <td>[8]</td>\n",
              "    </tr>\n",
              "    <tr>\n",
              "      <th>1</th>\n",
              "      <td>1177</td>\n",
              "      <td>2</td>\n",
              "      <td>978298413</td>\n",
              "      <td>1.00</td>\n",
              "      <td>[8]</td>\n",
              "    </tr>\n",
              "    <tr>\n",
              "      <th>2</th>\n",
              "      <td>1177</td>\n",
              "      <td>12</td>\n",
              "      <td>978220179</td>\n",
              "      <td>0.75</td>\n",
              "      <td>[8]</td>\n",
              "    </tr>\n",
              "    <tr>\n",
              "      <th>3</th>\n",
              "      <td>1177</td>\n",
              "      <td>15</td>\n",
              "      <td>978199279</td>\n",
              "      <td>0.75</td>\n",
              "      <td>[8]</td>\n",
              "    </tr>\n",
              "    <tr>\n",
              "      <th>4</th>\n",
              "      <td>1177</td>\n",
              "      <td>17</td>\n",
              "      <td>978158471</td>\n",
              "      <td>1.00</td>\n",
              "      <td>[8]</td>\n",
              "    </tr>\n",
              "  </tbody>\n",
              "</table>\n",
              "</div>"
            ],
            "text/plain": [
              "   movie_id_index  user_id_index  unix_timestamp  norm_rating genres_ids\n",
              "0            1177              1       978300760         1.00        [8]\n",
              "1            1177              2       978298413         1.00        [8]\n",
              "2            1177             12       978220179         0.75        [8]\n",
              "3            1177             15       978199279         0.75        [8]\n",
              "4            1177             17       978158471         1.00        [8]"
            ]
          },
          "execution_count": 19,
          "metadata": {},
          "output_type": "execute_result"
        }
      ],
      "source": [
        "df_user_views.head()"
      ]
    },
    {
      "attachments": {},
      "cell_type": "markdown",
      "metadata": {
        "id": "o2uoGM6uUsKF"
      },
      "source": [
        "### Prepare the Sequence"
      ]
    },
    {
      "cell_type": "code",
      "execution_count": 20,
      "metadata": {
        "id": "DvQBp4moVNEf"
      },
      "outputs": [],
      "source": [
        "df_agg_ratings = df_user_views.sort_values(by=[\"unix_timestamp\"]).groupby(\"user_id_index\")"
      ]
    },
    {
      "cell_type": "code",
      "execution_count": 21,
      "metadata": {
        "id": "44_d1f5pVSqX"
      },
      "outputs": [],
      "source": [
        "ratings_data = pd.DataFrame(\n",
        "    data={\n",
        "        \"user_id_index\": list(df_agg_ratings.groups.keys()),\n",
        "        \"movie_sequence\": list(df_agg_ratings.movie_id_index.apply(list)),\n",
        "        \"rating_sequence\": list(df_agg_ratings.norm_rating.apply(list)),\n",
        "        \"timestamps\": list(df_agg_ratings.unix_timestamp.apply(list)),\n",
        "    }\n",
        ")"
      ]
    },
    {
      "cell_type": "code",
      "execution_count": 22,
      "metadata": {
        "id": "LrruVMSyUxXW"
      },
      "outputs": [],
      "source": [
        "sequence_length = 10\n",
        "step_size = 1\n",
        "\n",
        "\n",
        "def create_sequences(values, window_size, step_size):\n",
        "    sequences = []\n",
        "    start_index = 0\n",
        "    while True:\n",
        "        end_index = start_index + window_size\n",
        "        seq = values[start_index:end_index]\n",
        "        if len(seq) < window_size:\n",
        "            seq = values[-window_size:]\n",
        "            if len(seq) == window_size:\n",
        "                sequences.append(seq)\n",
        "            break\n",
        "        sequences.append(seq)\n",
        "        start_index += step_size\n",
        "    return sequences\n",
        "\n",
        "\n",
        "ratings_data.movie_sequence\t = ratings_data.movie_sequence.apply(\n",
        "    lambda ids: create_sequences(ids, sequence_length, step_size)\n",
        ")\n",
        "\n",
        "ratings_data.rating_sequence = ratings_data.rating_sequence.apply(\n",
        "    lambda ids: create_sequences(ids, sequence_length, step_size)\n",
        ")\n",
        "\n",
        "del ratings_data[\"timestamps\"]"
      ]
    },
    {
      "cell_type": "code",
      "execution_count": 23,
      "metadata": {
        "id": "eREuVC30VU03"
      },
      "outputs": [],
      "source": [
        "ratings_data_movies = ratings_data[[\"user_id_index\", \"movie_sequence\"]].explode(\n",
        "    \"movie_sequence\", ignore_index=True\n",
        ")\n",
        "ratings_data_rating = ratings_data[[\"rating_sequence\"]].explode(\"rating_sequence\", ignore_index=True)\n",
        "ratings_data_transformed = pd.concat([ratings_data_movies, ratings_data_rating], axis=1)"
      ]
    },
    {
      "cell_type": "code",
      "execution_count": 24,
      "metadata": {
        "colab": {
          "base_uri": "https://localhost:8080/",
          "height": 206
        },
        "id": "K-yTVNctVWbn",
        "outputId": "d51b685b-cc56-4caf-f201-729232ee2c2f"
      },
      "outputs": [
        {
          "data": {
            "text/html": [
              "<div>\n",
              "<style scoped>\n",
              "    .dataframe tbody tr th:only-of-type {\n",
              "        vertical-align: middle;\n",
              "    }\n",
              "\n",
              "    .dataframe tbody tr th {\n",
              "        vertical-align: top;\n",
              "    }\n",
              "\n",
              "    .dataframe thead th {\n",
              "        text-align: right;\n",
              "    }\n",
              "</style>\n",
              "<table border=\"1\" class=\"dataframe\">\n",
              "  <thead>\n",
              "    <tr style=\"text-align: right;\">\n",
              "      <th></th>\n",
              "      <th>user_id_index</th>\n",
              "      <th>movie_sequence</th>\n",
              "      <th>rating_sequence</th>\n",
              "    </tr>\n",
              "  </thead>\n",
              "  <tbody>\n",
              "    <tr>\n",
              "      <th>0</th>\n",
              "      <td>1</td>\n",
              "      <td>[3118, 1010, 1673, 1251, 2272, 1769, 3340, 119...</td>\n",
              "      <td>[0.75, 1.0, 0.75, 1.0, 0.5, 1.0, 0.75, 0.75, 1...</td>\n",
              "    </tr>\n",
              "    <tr>\n",
              "      <th>1</th>\n",
              "      <td>1</td>\n",
              "      <td>[1010, 1673, 1251, 2272, 1769, 3340, 1190, 273...</td>\n",
              "      <td>[1.0, 0.75, 1.0, 0.5, 1.0, 0.75, 0.75, 1.0, 0....</td>\n",
              "    </tr>\n",
              "    <tr>\n",
              "      <th>2</th>\n",
              "      <td>1</td>\n",
              "      <td>[1673, 1251, 2272, 1769, 3340, 1190, 2736, 258...</td>\n",
              "      <td>[0.75, 1.0, 0.5, 1.0, 0.75, 0.75, 1.0, 0.75, 1...</td>\n",
              "    </tr>\n",
              "    <tr>\n",
              "      <th>3</th>\n",
              "      <td>1</td>\n",
              "      <td>[1251, 2272, 1769, 3340, 1190, 2736, 258, 1177...</td>\n",
              "      <td>[1.0, 0.5, 1.0, 0.75, 0.75, 1.0, 0.75, 1.0, 0....</td>\n",
              "    </tr>\n",
              "    <tr>\n",
              "      <th>4</th>\n",
              "      <td>1</td>\n",
              "      <td>[2272, 1769, 3340, 1190, 2736, 258, 1177, 712,...</td>\n",
              "      <td>[0.5, 1.0, 0.75, 0.75, 1.0, 0.75, 1.0, 0.5, 0....</td>\n",
              "    </tr>\n",
              "  </tbody>\n",
              "</table>\n",
              "</div>"
            ],
            "text/plain": [
              "   user_id_index                                     movie_sequence  \\\n",
              "0              1  [3118, 1010, 1673, 1251, 2272, 1769, 3340, 119...   \n",
              "1              1  [1010, 1673, 1251, 2272, 1769, 3340, 1190, 273...   \n",
              "2              1  [1673, 1251, 2272, 1769, 3340, 1190, 2736, 258...   \n",
              "3              1  [1251, 2272, 1769, 3340, 1190, 2736, 258, 1177...   \n",
              "4              1  [2272, 1769, 3340, 1190, 2736, 258, 1177, 712,...   \n",
              "\n",
              "                                     rating_sequence  \n",
              "0  [0.75, 1.0, 0.75, 1.0, 0.5, 1.0, 0.75, 0.75, 1...  \n",
              "1  [1.0, 0.75, 1.0, 0.5, 1.0, 0.75, 0.75, 1.0, 0....  \n",
              "2  [0.75, 1.0, 0.5, 1.0, 0.75, 0.75, 1.0, 0.75, 1...  \n",
              "3  [1.0, 0.5, 1.0, 0.75, 0.75, 1.0, 0.75, 1.0, 0....  \n",
              "4  [0.5, 1.0, 0.75, 0.75, 1.0, 0.75, 1.0, 0.5, 0....  "
            ]
          },
          "execution_count": 24,
          "metadata": {},
          "output_type": "execute_result"
        }
      ],
      "source": [
        "ratings_data_transformed.head()"
      ]
    },
    {
      "cell_type": "code",
      "execution_count": 25,
      "metadata": {
        "id": "roXPTpv8VY-9"
      },
      "outputs": [],
      "source": [
        "user_columns = ['user_id_index',\n",
        "                'sex',\n",
        "                'occupation_index',\n",
        "                'age_group_index']"
      ]
    },
    {
      "cell_type": "code",
      "execution_count": 26,
      "metadata": {
        "id": "kotYicQYVaGe"
      },
      "outputs": [],
      "source": [
        "ratings_data_transformed = ratings_data_transformed.merge(\n",
        "    users[user_columns], on=\"user_id_index\"\n",
        ")"
      ]
    },
    {
      "cell_type": "code",
      "execution_count": 27,
      "metadata": {
        "id": "GUE9Aj-JVbB_"
      },
      "outputs": [],
      "source": [
        "ratings_data_transformed['sex'] = ratings_data_transformed['sex'].astype(float)"
      ]
    },
    {
      "cell_type": "code",
      "execution_count": 28,
      "metadata": {
        "id": "-f6yhP5ZVcPk"
      },
      "outputs": [],
      "source": [
        "ratings_data_transformed['target_movie'] =  ratings_data_transformed['movie_sequence'].apply(lambda x:x[-1])\n",
        "ratings_data_transformed['target_rating'] =  ratings_data_transformed['rating_sequence'].apply(lambda x:x[-1])\n",
        "# mask the last rating\n",
        "mask_score = 1.0\n",
        "ratings_data_transformed['rating_sequence'] =  ratings_data_transformed['rating_sequence'].apply(lambda x:x[:-1]+[mask_score])"
      ]
    },
    {
      "cell_type": "code",
      "execution_count": 29,
      "metadata": {
        "colab": {
          "base_uri": "https://localhost:8080/",
          "height": 206
        },
        "id": "_D1bExqMVkRd",
        "outputId": "c23bbf8a-0b53-47bc-fc80-82cb54374ba1"
      },
      "outputs": [
        {
          "data": {
            "text/html": [
              "<div>\n",
              "<style scoped>\n",
              "    .dataframe tbody tr th:only-of-type {\n",
              "        vertical-align: middle;\n",
              "    }\n",
              "\n",
              "    .dataframe tbody tr th {\n",
              "        vertical-align: top;\n",
              "    }\n",
              "\n",
              "    .dataframe thead th {\n",
              "        text-align: right;\n",
              "    }\n",
              "</style>\n",
              "<table border=\"1\" class=\"dataframe\">\n",
              "  <thead>\n",
              "    <tr style=\"text-align: right;\">\n",
              "      <th></th>\n",
              "      <th>user_id_index</th>\n",
              "      <th>movie_sequence</th>\n",
              "      <th>rating_sequence</th>\n",
              "      <th>sex</th>\n",
              "      <th>occupation_index</th>\n",
              "      <th>age_group_index</th>\n",
              "      <th>target_movie</th>\n",
              "      <th>target_rating</th>\n",
              "    </tr>\n",
              "  </thead>\n",
              "  <tbody>\n",
              "    <tr>\n",
              "      <th>0</th>\n",
              "      <td>1</td>\n",
              "      <td>[3118, 1010, 1673, 1251, 2272, 1769, 3340, 119...</td>\n",
              "      <td>[0.75, 1.0, 0.75, 1.0, 0.5, 1.0, 0.75, 0.75, 1...</td>\n",
              "      <td>1.0</td>\n",
              "      <td>11</td>\n",
              "      <td>1</td>\n",
              "      <td>258</td>\n",
              "      <td>0.75</td>\n",
              "    </tr>\n",
              "    <tr>\n",
              "      <th>1</th>\n",
              "      <td>1</td>\n",
              "      <td>[1010, 1673, 1251, 2272, 1769, 3340, 1190, 273...</td>\n",
              "      <td>[1.0, 0.75, 1.0, 0.5, 1.0, 0.75, 0.75, 1.0, 0....</td>\n",
              "      <td>1.0</td>\n",
              "      <td>11</td>\n",
              "      <td>1</td>\n",
              "      <td>1177</td>\n",
              "      <td>1.00</td>\n",
              "    </tr>\n",
              "    <tr>\n",
              "      <th>2</th>\n",
              "      <td>1</td>\n",
              "      <td>[1673, 1251, 2272, 1769, 3340, 1190, 2736, 258...</td>\n",
              "      <td>[0.75, 1.0, 0.5, 1.0, 0.75, 0.75, 1.0, 0.75, 1...</td>\n",
              "      <td>1.0</td>\n",
              "      <td>11</td>\n",
              "      <td>1</td>\n",
              "      <td>712</td>\n",
              "      <td>0.50</td>\n",
              "    </tr>\n",
              "    <tr>\n",
              "      <th>3</th>\n",
              "      <td>1</td>\n",
              "      <td>[1251, 2272, 1769, 3340, 1190, 2736, 258, 1177...</td>\n",
              "      <td>[1.0, 0.5, 1.0, 0.75, 0.75, 1.0, 0.75, 1.0, 0....</td>\n",
              "      <td>1.0</td>\n",
              "      <td>11</td>\n",
              "      <td>1</td>\n",
              "      <td>908</td>\n",
              "      <td>0.75</td>\n",
              "    </tr>\n",
              "    <tr>\n",
              "      <th>4</th>\n",
              "      <td>1</td>\n",
              "      <td>[2272, 1769, 3340, 1190, 2736, 258, 1177, 712,...</td>\n",
              "      <td>[0.5, 1.0, 0.75, 0.75, 1.0, 0.75, 1.0, 0.5, 0....</td>\n",
              "      <td>1.0</td>\n",
              "      <td>11</td>\n",
              "      <td>1</td>\n",
              "      <td>605</td>\n",
              "      <td>0.75</td>\n",
              "    </tr>\n",
              "  </tbody>\n",
              "</table>\n",
              "</div>"
            ],
            "text/plain": [
              "   user_id_index                                     movie_sequence  \\\n",
              "0              1  [3118, 1010, 1673, 1251, 2272, 1769, 3340, 119...   \n",
              "1              1  [1010, 1673, 1251, 2272, 1769, 3340, 1190, 273...   \n",
              "2              1  [1673, 1251, 2272, 1769, 3340, 1190, 2736, 258...   \n",
              "3              1  [1251, 2272, 1769, 3340, 1190, 2736, 258, 1177...   \n",
              "4              1  [2272, 1769, 3340, 1190, 2736, 258, 1177, 712,...   \n",
              "\n",
              "                                     rating_sequence  sex  occupation_index  \\\n",
              "0  [0.75, 1.0, 0.75, 1.0, 0.5, 1.0, 0.75, 0.75, 1...  1.0                11   \n",
              "1  [1.0, 0.75, 1.0, 0.5, 1.0, 0.75, 0.75, 1.0, 0....  1.0                11   \n",
              "2  [0.75, 1.0, 0.5, 1.0, 0.75, 0.75, 1.0, 0.75, 1...  1.0                11   \n",
              "3  [1.0, 0.5, 1.0, 0.75, 0.75, 1.0, 0.75, 1.0, 0....  1.0                11   \n",
              "4  [0.5, 1.0, 0.75, 0.75, 1.0, 0.75, 1.0, 0.5, 0....  1.0                11   \n",
              "\n",
              "   age_group_index  target_movie  target_rating  \n",
              "0                1           258           0.75  \n",
              "1                1          1177           1.00  \n",
              "2                1           712           0.50  \n",
              "3                1           908           0.75  \n",
              "4                1           605           0.75  "
            ]
          },
          "execution_count": 29,
          "metadata": {},
          "output_type": "execute_result"
        }
      ],
      "source": [
        "ratings_data_transformed.head()"
      ]
    },
    {
      "cell_type": "code",
      "execution_count": 30,
      "metadata": {
        "id": "bQEmshcNVlks"
      },
      "outputs": [],
      "source": [
        "random_selection = np.random.rand(len(ratings_data_transformed.index)) <= 0.85\n",
        "train_data = ratings_data_transformed[random_selection]\n",
        "test_data = ratings_data_transformed[~random_selection]"
      ]
    },
    {
      "attachments": {},
      "cell_type": "markdown",
      "metadata": {
        "id": "bXqZBv7BVv4v"
      },
      "source": [
        "## (3) Model Config"
      ]
    },
    {
      "cell_type": "code",
      "execution_count": 31,
      "metadata": {
        "id": "74j7Qs7LVxkF"
      },
      "outputs": [],
      "source": [
        "num_user = len(user_id_map_dict)\n",
        "num_movie = len(movie_id_map_dict)\n",
        "num_occupation = len(occupation_id_map_dict)\n",
        "num_age_group = len(age_group_id_map_dict)\n",
        "# num_genre = len(genres_map_dict)"
      ]
    },
    {
      "cell_type": "code",
      "execution_count": 32,
      "metadata": {
        "id": "K4MOe95uV2qg"
      },
      "outputs": [],
      "source": [
        "embed_configs = {}\n",
        "EMED_DIM=32\n",
        "embed_configs['user']={\"embed_dim\":EMED_DIM,\"num_embed\":num_user}\n",
        "embed_configs['movie']={\"embed_dim\":EMED_DIM,\"num_embed\":num_movie}\n",
        "embed_configs['occupation']={\"embed_dim\":EMED_DIM,\"num_embed\":num_occupation}\n",
        "embed_configs['age_group']={\"embed_dim\":EMED_DIM,\"num_embed\":num_age_group}\n",
        "embed_configs['position'] = {\"embed_dim\":EMED_DIM,\"num_embed\":sequence_length}"
      ]
    },
    {
      "cell_type": "code",
      "execution_count": 33,
      "metadata": {
        "id": "6p7ikk9DV_od"
      },
      "outputs": [],
      "source": [
        "config_dict={}\n",
        "config_dict['embed_configs'] = embed_configs\n",
        "config_dict['transformer_num_layer']=3\n",
        "config_dict['dropout']=0.2\n",
        "config_dict['epoches']=10\n",
        "config_dict['learning_rate']=0.001\n",
        "config_dict['batch_size']=64\n",
        "config_dict['sequence_length']=sequence_length\n",
        "config_dict['step_size']=step_size"
      ]
    },
    {
      "cell_type": "code",
      "execution_count": 34,
      "metadata": {
        "id": "3C7jQUGhXMNz"
      },
      "outputs": [],
      "source": [
        "config_dict['device'] = \"cuda\" if torch.cuda.is_available() else \"cpu\""
      ]
    },
    {
      "cell_type": "code",
      "execution_count": 35,
      "metadata": {},
      "outputs": [],
      "source": [
        "wandb_project = \"BST For Movielens 1M Recommendation\""
      ]
    },
    {
      "cell_type": "code",
      "execution_count": 36,
      "metadata": {},
      "outputs": [],
      "source": [
        "batch_size = config_dict['batch_size']"
      ]
    },
    {
      "cell_type": "code",
      "execution_count": 37,
      "metadata": {},
      "outputs": [],
      "source": [
        "display_name = f\"sequence:{sequence_length} batch_size:{batch_size}\""
      ]
    },
    {
      "cell_type": "code",
      "execution_count": 38,
      "metadata": {},
      "outputs": [
        {
          "data": {
            "text/html": [
              "Tracking run with wandb version 0.15.5"
            ],
            "text/plain": [
              "<IPython.core.display.HTML object>"
            ]
          },
          "metadata": {},
          "output_type": "display_data"
        },
        {
          "data": {
            "text/html": [
              "Run data is saved locally in <code>/Users/nelsonlin/Desktop/WorkSpace/ml-behavior-sequence-transformer-for-movie-recommendation/wandb/run-20230709_205528-5wtkx5md</code>"
            ],
            "text/plain": [
              "<IPython.core.display.HTML object>"
            ]
          },
          "metadata": {},
          "output_type": "display_data"
        },
        {
          "data": {
            "text/html": [
              "Syncing run <strong><a href='https://wandb.ai/nelsonlin0321/BST%20For%20Movielens%201M%20Recommendation/runs/5wtkx5md' target=\"_blank\">sequence:10 batch_size:64</a></strong> to <a href='https://wandb.ai/nelsonlin0321/BST%20For%20Movielens%201M%20Recommendation' target=\"_blank\">Weights & Biases</a> (<a href='https://wandb.me/run' target=\"_blank\">docs</a>)<br/>"
            ],
            "text/plain": [
              "<IPython.core.display.HTML object>"
            ]
          },
          "metadata": {},
          "output_type": "display_data"
        },
        {
          "data": {
            "text/html": [
              " View project at <a href='https://wandb.ai/nelsonlin0321/BST%20For%20Movielens%201M%20Recommendation' target=\"_blank\">https://wandb.ai/nelsonlin0321/BST%20For%20Movielens%201M%20Recommendation</a>"
            ],
            "text/plain": [
              "<IPython.core.display.HTML object>"
            ]
          },
          "metadata": {},
          "output_type": "display_data"
        },
        {
          "data": {
            "text/html": [
              " View run at <a href='https://wandb.ai/nelsonlin0321/BST%20For%20Movielens%201M%20Recommendation/runs/5wtkx5md' target=\"_blank\">https://wandb.ai/nelsonlin0321/BST%20For%20Movielens%201M%20Recommendation/runs/5wtkx5md</a>"
            ],
            "text/plain": [
              "<IPython.core.display.HTML object>"
            ]
          },
          "metadata": {},
          "output_type": "display_data"
        },
        {
          "data": {
            "text/html": [
              "<button onClick=\"this.nextSibling.style.display='block';this.style.display='none';\">Display W&B run</button><iframe src='https://wandb.ai/nelsonlin0321/BST%20For%20Movielens%201M%20Recommendation/runs/5wtkx5md?jupyter=true' style='border:none;width:100%;height:420px;display:none;'></iframe>"
            ],
            "text/plain": [
              "<wandb.sdk.wandb_run.Run at 0x28bdd6090>"
            ]
          },
          "execution_count": 38,
          "metadata": {},
          "output_type": "execute_result"
        }
      ],
      "source": [
        "wandb.init(\n",
        "    project=wandb_project,\n",
        "    job_type=\"train\",\n",
        "    config=config_dict,\n",
        "    name=display_name   \n",
        ")"
      ]
    },
    {
      "cell_type": "code",
      "execution_count": 39,
      "metadata": {
        "id": "YcP1dftJWBDJ"
      },
      "outputs": [],
      "source": [
        "class Config:\n",
        "    def __init__(self, dictionary):\n",
        "        for key, value in dictionary.items():\n",
        "            setattr(self, key, value)\n",
        "config = Config(dictionary=config_dict)"
      ]
    },
    {
      "attachments": {},
      "cell_type": "markdown",
      "metadata": {
        "id": "SUxEiAYpWGye"
      },
      "source": [
        "## (4) Create Model"
      ]
    },
    {
      "cell_type": "code",
      "execution_count": 40,
      "metadata": {
        "id": "ufOTX0qPWTd7"
      },
      "outputs": [],
      "source": [
        "class TransformerBlock(nn.Module):\n",
        "    def __init__(self, input_size, output_size, num_heads, dropout_rate):\n",
        "        super(TransformerBlock, self).__init__()\n",
        "\n",
        "        self.multihead_attention = nn.MultiheadAttention(input_size, num_heads)\n",
        "        self.layer_norm1 = nn.LayerNorm(input_size)\n",
        "\n",
        "        self.feed_forward = nn.Sequential(\n",
        "            nn.Linear(input_size, 4*input_size),\n",
        "            nn.ReLU(),\n",
        "            nn.Linear(4*input_size, output_size),\n",
        "            nn.Dropout(dropout_rate)\n",
        "        )\n",
        "        self.layer_norm2 = nn.LayerNorm(output_size)\n",
        "        self.dropout = nn.Dropout(dropout_rate)\n",
        "\n",
        "    def forward(self, x):\n",
        "        # Multi-head Attention\n",
        "        attn_output, _ = self.multihead_attention(x, x, x)\n",
        "        x = self.layer_norm1(x + attn_output)\n",
        "\n",
        "        # Feed-Forward Network\n",
        "        ff_output = self.feed_forward(x)\n",
        "        x = self.layer_norm2(x + ff_output)\n",
        "        x = self.dropout(x)\n",
        "        return x\n",
        "\n",
        "class TransformerLayer(nn.Module):\n",
        "    def __init__(self, d_model, num_heads=8, dropout_rate=0.2, num_layers=3):\n",
        "        super(TransformerLayer, self).__init__()\n",
        "\n",
        "        self.transformer_blocks = nn.ModuleList([\n",
        "            TransformerBlock(d_model, d_model, num_heads, dropout_rate)\n",
        "            for _ in range(num_layers)\n",
        "        ])\n",
        "\n",
        "    def forward(self, x):\n",
        "        for transformer_block in self.transformer_blocks:\n",
        "            x = transformer_block(x)\n",
        "        return x"
      ]
    },
    {
      "cell_type": "code",
      "execution_count": 41,
      "metadata": {
        "id": "2-bs1PhSWDMz"
      },
      "outputs": [],
      "source": [
        "class MLP(nn.Module):\n",
        "    def __init__(self, dropout=0.2, hidden_units=[512, 256,128]):\n",
        "        super(MLP, self).__init__()\n",
        "        self.dropout = nn.Dropout(p=dropout)\n",
        "        self.layers = nn.ModuleList()\n",
        "        for i in range(len(hidden_units) - 1):\n",
        "            self.layers.append(nn.Linear(hidden_units[i], hidden_units[i + 1]))\n",
        "            self.layers.append(nn.LeakyReLU())\n",
        "            self.layers.append(nn.Dropout(p=dropout))\n",
        "        self.fc = nn.Linear(hidden_units[-1],1)\n",
        "        self.sigmoid = nn.Sigmoid()\n",
        "\n",
        "    def forward(self, x):\n",
        "        for layer in self.layers:\n",
        "            x = layer(x)\n",
        "        logits = self.fc(x)\n",
        "        output = self.sigmoid(logits)\n",
        "        return output"
      ]
    },
    {
      "cell_type": "code",
      "execution_count": 42,
      "metadata": {
        "id": "iV7-dBeeWa0k"
      },
      "outputs": [],
      "source": [
        "\n",
        "class BSTRecommender(nn.Module):\n",
        "    def __init__(self, config):\n",
        "        super(BSTRecommender, self).__init__()\n",
        "        self.config = config\n",
        "        self.embed_configs = config.embed_configs\n",
        "        self.drouput = config.dropout\n",
        "        self.transformer_num_layer = config.transformer_num_layer\n",
        "        self.device = config.device\n",
        "\n",
        "        \"\"\"embed_configs\n",
        "        {'user': {'embed_dim': 32, 'num_embed': 6041},\n",
        "        'movie': {'embed_dim': 32, 'num_embed': 3884},\n",
        "        'occupation': {'embed_dim': 32, 'num_embed': 22},\n",
        "        'age_group': {'embed_dim': 32, 'num_embed': 8},\n",
        "        'position': {'embed_dim': 32, 'num_embed': 4}}\n",
        "        \"\"\"\n",
        "\n",
        "        embed_configs = self.config.embed_configs\n",
        "\n",
        "        \"\"\"Create Embedding Layer\"\"\"\n",
        "        embedding_layers = []\n",
        "        for name, embed_config in embed_configs.items():\n",
        "            embed_dim = embed_config['embed_dim']\n",
        "            num_embed = embed_config['num_embed']\n",
        "            embeding_layer = nn.Embedding(\n",
        "                num_embeddings=num_embed, embedding_dim=embed_dim)\n",
        "            nn.init.xavier_uniform_(embeding_layer.weight)\n",
        "            embedding_layers.append([name, embeding_layer])\n",
        "\n",
        "        self.embedding_layers = nn.ModuleDict(embedding_layers)\n",
        "\n",
        "        transformer_dim = self.embed_configs['position']['embed_dim'] + \\\n",
        "            self.embed_configs['movie']['embed_dim']\n",
        "\n",
        "        self.transformer_layer = TransformerLayer(d_model=transformer_dim,\n",
        "                                                  num_heads=8,\n",
        "                                                  dropout_rate=self.drouput,\n",
        "                                                  num_layers=self.transformer_num_layer)\n",
        "\n",
        "        # movie_embed_dim*2 + sequence*movie_embedding*2 + user_embed_dim*2+occupation_embed_dim*2+age_embed_dim*2+1\n",
        "\n",
        "        sequence_length = self.embed_configs['position']['num_embed']\n",
        "        mlp_dim = self.embed_configs['user']['embed_dim']*2 + \\\n",
        "            self.embed_configs['occupation']['embed_dim']*2 +\\\n",
        "            self.embed_configs['age_group']['embed_dim']*2 +\\\n",
        "            self.embed_configs['movie']['embed_dim']*2 +\\\n",
        "            transformer_dim*sequence_length+1\n",
        "\n",
        "        self.mlp = MLP(dropout=self.drouput, hidden_units=[mlp_dim, 256, 64])\n",
        "\n",
        "    def forward(self, inputs):\n",
        "\n",
        "        target_movie_embedding = self.embedding_layers['movie'](\n",
        "            inputs['target_movie'])\n",
        "        batch_size = target_movie_embedding.shape[0]\n",
        "\n",
        "        \"\"\"Sequence Feature Engineering\"\"\"\n",
        "\n",
        "        # movie embedding\n",
        "        movie_sequence_embedding = self.embedding_layers['movie'](\n",
        "            inputs['movie_sequence'])\n",
        "\n",
        "        # position embedding\n",
        "        positions = torch.arange(\n",
        "            self.config.embed_configs['position']['num_embed']).to(self.device)\n",
        "        position_embedding = self.embedding_layers['position'](positions)\n",
        "        batch_position_embedding = torch.stack(\n",
        "            [position_embedding.clone() for _ in range(batch_size)])\n",
        "        # concat with position instead of adding\n",
        "        movie_pos_seq_embedding = torch.concat(\n",
        "            [movie_sequence_embedding, batch_position_embedding], dim=-1)\n",
        "        # point wise product with sequence rating\n",
        "        rating_sequence = inputs['rating_sequence']\n",
        "        movie_pos_rating_seq_embedding = torch.mul(\n",
        "            movie_pos_seq_embedding, rating_sequence.unsqueeze(-1))\n",
        "        # feed into transformer layer\n",
        "        seq_transformer_output = self.transformer_layer(\n",
        "            movie_pos_rating_seq_embedding)\n",
        "        seq_transformer_flatten_output = seq_transformer_output.view(\n",
        "            batch_size, -1)\n",
        "\n",
        "        \"\"\"concat other features\"\"\"\n",
        "        # orginal features\n",
        "        sex_feature = inputs['sex'].unsqueeze(-1)\n",
        "        user_embedding = self.embedding_layers['user'](inputs['user_id_index'])\n",
        "        occupation_embedding = self.embedding_layers['occupation'](\n",
        "            inputs['occupation_index'])\n",
        "        age_group_embedding = self.embedding_layers['age_group'](\n",
        "            inputs['age_group_index'])\n",
        "\n",
        "        # cross features with target movie embedding\n",
        "        sex_cross_feature = torch.mul(sex_feature, target_movie_embedding)\n",
        "        user_embedding_cross = torch.mul(\n",
        "            user_embedding, target_movie_embedding)\n",
        "        occupation_embedding_cross = torch.mul(\n",
        "            occupation_embedding, target_movie_embedding,)\n",
        "        age_group_embedding_cross = torch.mul(\n",
        "            age_group_embedding, target_movie_embedding)\n",
        "\n",
        "        # shape:1+user_embed_dim+occupation_embed_dim+age_embed_dim\n",
        "        user_features = torch.concat(\n",
        "            [sex_feature, user_embedding, occupation_embedding, age_group_embedding], dim=-1)\n",
        "\n",
        "        # shape:movie_embed_dim +user_embed_dim+occupation_embed_dim+age_embed_dim\n",
        "        user_cross_features = torch.concat(\n",
        "            [sex_cross_feature, user_embedding_cross, occupation_embedding_cross, age_group_embedding_cross], dim=-1)\n",
        "\n",
        "        # shape:movie_embed_dim +user_embed_dim+occupation_embed_dim+age_embed_dim + 1+user_embed_dim+occupation_embed_dim+age_embed_dim\n",
        "        user_inputs_features = torch.concat(\n",
        "            [user_features, user_cross_features, target_movie_embedding], axis=1)\n",
        "        # shape:movie_embed_dim +user_embed_dim+occupation_embed_dim+age_embed_dim + 1+user_embed_dim+occupation_embed_dim+age_embed_dim\n",
        "        # sequence*movie_embedding*2+movie_embeddding\n",
        "        mlp_input_features = torch.concat(\n",
        "            [user_inputs_features, seq_transformer_flatten_output], axis=1)\n",
        "\n",
        "        outputs = self.mlp(mlp_input_features)\n",
        "\n",
        "        return outputs"
      ]
    },
    {
      "cell_type": "code",
      "execution_count": 43,
      "metadata": {
        "id": "u2RO3K24Wdd2"
      },
      "outputs": [],
      "source": [
        "model = BSTRecommender(config=config)"
      ]
    },
    {
      "cell_type": "code",
      "execution_count": 44,
      "metadata": {
        "colab": {
          "base_uri": "https://localhost:8080/"
        },
        "id": "Dpc5cAMKXVkN",
        "outputId": "ee065bd7-1b08-492b-8e22-b4f169ebfc42"
      },
      "outputs": [
        {
          "data": {
            "text/plain": [
              "BSTRecommender(\n",
              "  (embedding_layers): ModuleDict(\n",
              "    (user): Embedding(6041, 32)\n",
              "    (movie): Embedding(3884, 32)\n",
              "    (occupation): Embedding(22, 32)\n",
              "    (age_group): Embedding(8, 32)\n",
              "    (position): Embedding(10, 32)\n",
              "  )\n",
              "  (transformer_layer): TransformerLayer(\n",
              "    (transformer_blocks): ModuleList(\n",
              "      (0-2): 3 x TransformerBlock(\n",
              "        (multihead_attention): MultiheadAttention(\n",
              "          (out_proj): NonDynamicallyQuantizableLinear(in_features=64, out_features=64, bias=True)\n",
              "        )\n",
              "        (layer_norm1): LayerNorm((64,), eps=1e-05, elementwise_affine=True)\n",
              "        (feed_forward): Sequential(\n",
              "          (0): Linear(in_features=64, out_features=256, bias=True)\n",
              "          (1): ReLU()\n",
              "          (2): Linear(in_features=256, out_features=64, bias=True)\n",
              "          (3): Dropout(p=0.2, inplace=False)\n",
              "        )\n",
              "        (layer_norm2): LayerNorm((64,), eps=1e-05, elementwise_affine=True)\n",
              "        (dropout): Dropout(p=0.2, inplace=False)\n",
              "      )\n",
              "    )\n",
              "  )\n",
              "  (mlp): MLP(\n",
              "    (dropout): Dropout(p=0.2, inplace=False)\n",
              "    (layers): ModuleList(\n",
              "      (0): Linear(in_features=897, out_features=256, bias=True)\n",
              "      (1): LeakyReLU(negative_slope=0.01)\n",
              "      (2): Dropout(p=0.2, inplace=False)\n",
              "      (3): Linear(in_features=256, out_features=64, bias=True)\n",
              "      (4): LeakyReLU(negative_slope=0.01)\n",
              "      (5): Dropout(p=0.2, inplace=False)\n",
              "    )\n",
              "    (fc): Linear(in_features=64, out_features=1, bias=True)\n",
              "    (sigmoid): Sigmoid()\n",
              "  )\n",
              ")"
            ]
          },
          "execution_count": 44,
          "metadata": {},
          "output_type": "execute_result"
        }
      ],
      "source": [
        "model = model.to(config.device)\n",
        "model.train()"
      ]
    },
    {
      "attachments": {},
      "cell_type": "markdown",
      "metadata": {
        "id": "iMu3zDCYWqwr"
      },
      "source": [
        "## (5) Load Rating Dataset"
      ]
    },
    {
      "cell_type": "code",
      "execution_count": 45,
      "metadata": {
        "id": "KyeeVf7tWty1"
      },
      "outputs": [],
      "source": [
        "class RatingDataset(Dataset):\n",
        "    def __init__(self, data):\n",
        "        self.data = data\n",
        "        self.device = \"cuda\" if torch.cuda.is_available() else \"cpu\"\n",
        "\n",
        "    def __len__(self):\n",
        "        return len(self.data)\n",
        "\n",
        "    def __getitem__(self, index):\n",
        "\n",
        "        item_dict = self.data.iloc[index].to_dict()\n",
        "\n",
        "        dtype_dict = {}\n",
        "        for k,v in item_dict.items():\n",
        "            dtype_dict[k]=torch.long\n",
        "        dtype_dict['rating_sequence']=torch.float32\n",
        "        dtype_dict['target_rating']=torch.float32\n",
        "        dtype_dict['sex']=torch.float32\n",
        "\n",
        "\n",
        "        sample = {}\n",
        "        for k,v in item_dict.items():\n",
        "            sample[k] = torch.tensor(v,dtype=dtype_dict[k]).to(self.device)\n",
        "\n",
        "        return sample\n"
      ]
    },
    {
      "cell_type": "code",
      "execution_count": 46,
      "metadata": {
        "id": "G6qbyM5pWmke"
      },
      "outputs": [],
      "source": [
        "train_dataset = RatingDataset(data=train_data)\n",
        "test_dataset = RatingDataset(data=test_data)"
      ]
    },
    {
      "cell_type": "code",
      "execution_count": 47,
      "metadata": {
        "id": "4ggs147hXj43"
      },
      "outputs": [],
      "source": [
        "train_loader = DataLoader(train_dataset,batch_size=config.batch_size,shuffle=False)\n",
        "test_loader = DataLoader(test_dataset,batch_size=config.batch_size,shuffle=False)"
      ]
    },
    {
      "attachments": {},
      "cell_type": "markdown",
      "metadata": {
        "id": "bddyOJ1OZuiM"
      },
      "source": [
        "## (6) Training"
      ]
    },
    {
      "cell_type": "code",
      "execution_count": 48,
      "metadata": {
        "id": "6AYv7XU1ZIfn"
      },
      "outputs": [],
      "source": [
        "loss_func = nn.L1Loss()"
      ]
    },
    {
      "cell_type": "code",
      "execution_count": 49,
      "metadata": {
        "id": "QjUtHjQQY9Zv"
      },
      "outputs": [],
      "source": [
        "def evaluate(model,dataset_loader,min_max_scaler,loss_func=nn.L1Loss()):\n",
        "\n",
        "    model.eval()\n",
        "\n",
        "    prob_list= []\n",
        "    rating_list = []\n",
        "    eval_loss_list = []\n",
        "\n",
        "\n",
        "    # loss_func = nn.MSELoss()\n",
        "\n",
        "    pbar = tqdm(total = len(dataset_loader),desc = \"\",position=0, leave=True)\n",
        "\n",
        "    for inputs in dataset_loader:\n",
        "        with torch.no_grad():\n",
        "            probs = model(inputs)\n",
        "            ratings = inputs['target_rating'].view(-1,1)\n",
        "\n",
        "            loss = loss_func(probs, ratings)\n",
        "            eval_loss_list.append(loss.item())\n",
        "\n",
        "            probs = probs.cpu().numpy().flatten().tolist()\n",
        "            prob_list.extend(probs)\n",
        "\n",
        "            ratings = ratings.cpu().numpy().flatten().tolist()\n",
        "            rating_list.extend(ratings)\n",
        "            \n",
        "\n",
        "\n",
        "            pbar.update(1)\n",
        "\n",
        "    pbar.close()\n",
        "\n",
        "    real_ratings =min_max_scaler.inverse_transform(np.array(rating_list).reshape(-1,1))[:,0]\n",
        "    prediction_ratings=min_max_scaler.inverse_transform(np.array(prob_list).reshape(-1,1))[:,0]\n",
        "\n",
        "    MAE = metrics.mean_absolute_error(real_ratings,prediction_ratings)\n",
        "    RMSE = metrics.mean_squared_error(real_ratings,prediction_ratings)\n",
        "    \n",
        "\n",
        "    eval_metrics = {}\n",
        "    eval_metrics['eval_loss']= sum(eval_loss_list)/len(eval_loss_list)\n",
        "    eval_metrics['eval_MAE']= MAE\n",
        "    eval_metrics['eval_RMSE']= RMSE\n",
        "\n",
        "\n",
        "    return eval_metrics"
      ]
    },
    {
      "cell_type": "code",
      "execution_count": 50,
      "metadata": {
        "colab": {
          "base_uri": "https://localhost:8080/"
        },
        "id": "quf-eGpiZWPQ",
        "outputId": "6d219858-1624-4511-8e84-f55c88c12861"
      },
      "outputs": [
        {
          "name": "stderr",
          "output_type": "stream",
          "text": [
            "  0%|          | 0/2233 [00:00<?, ?it/s]"
          ]
        },
        {
          "name": "stderr",
          "output_type": "stream",
          "text": [
            "100%|██████████| 2233/2233 [00:25<00:00, 87.36it/s] "
          ]
        },
        {
          "name": "stdout",
          "output_type": "stream",
          "text": [
            "{'eval_loss': 0.2657030912702574, 'eval_MAE': 1.0628063139131831, 'eval_RMSE': 1.660154526417295}\n"
          ]
        },
        {
          "name": "stderr",
          "output_type": "stream",
          "text": [
            "\n"
          ]
        }
      ],
      "source": [
        "# loss before training\n",
        "before_training_metrics = evaluate(model,test_loader,min_max_scaler,loss_func)\n",
        "print(before_training_metrics)"
      ]
    },
    {
      "cell_type": "code",
      "execution_count": 51,
      "metadata": {
        "id": "lFHm_mNFZZyq"
      },
      "outputs": [],
      "source": [
        "optimizer = torch.optim.AdamW(model.parameters(),lr=config.learning_rate)\n",
        "total_batch = 0\n",
        "best_eval_loss =  float(\"inf\")\n",
        "best_checkpoint = 0\n",
        "model_version=str(uuid4())\n",
        "config.eval_steps = len(train_loader)//3"
      ]
    },
    {
      "cell_type": "code",
      "execution_count": 52,
      "metadata": {},
      "outputs": [],
      "source": [
        "optimizer = torch.optim.AdamW(model.parameters(),lr=config.learning_rate)\n",
        "total_batch = 0\n",
        "best_eval_loss =  float(\"inf\")\n",
        "best_checkpoint = 0\n",
        "model_version=str(uuid4())\n",
        "config.eval_steps = len(train_loader)//3"
      ]
    },
    {
      "cell_type": "code",
      "execution_count": 53,
      "metadata": {
        "id": "JTP7eC6SaJG1"
      },
      "outputs": [],
      "source": [
        "def save_model(model, model_save_dir,step,model_metrics):\n",
        "    model_save_dir = os.path.join(model_save_dir,f\"checkpoint-{step}\")\n",
        "    model_name = \"pytorch_model.pt\"\n",
        "    train_state_name = \"training_state.json\"\n",
        "    os.makedirs(model_save_dir,exist_ok=True)\n",
        "\n",
        "    model_path = os.path.join(model_save_dir,model_name)\n",
        "    train_state_path = os.path.join(model_save_dir,train_state_name)\n",
        "\n",
        "    torch.save(model.state_dict(),model_path)\n",
        "\n",
        "    if model_metrics is not None:\n",
        "        with open(train_state_path,mode = 'w',encoding = 'utf-8') as f:\n",
        "            json.dump(model_metrics,f,indent=4)\n",
        "\n",
        "    return model_path"
      ]
    },
    {
      "cell_type": "code",
      "execution_count": 54,
      "metadata": {
        "colab": {
          "base_uri": "https://localhost:8080/"
        },
        "id": "hN2ILumCaAOh",
        "outputId": "ce510b50-2e69-4568-db0b-f94a0b4cdf9b"
      },
      "outputs": [
        {
          "name": "stderr",
          "output_type": "stream",
          "text": [
            "100%|██████████| 2233/2233 [00:26<00:00, 84.63it/s]  37.62it/s]  \n",
            "100%|██████████| 2233/2233 [00:25<00:00, 86.77it/s]  33.29it/s, eval_loss=0.192, eval_MAE=0.77, eval_RMSE=1.01, best_eval_loss=0.192, train_loss=0.206, train_MAE=0.824, train_RMSE=1.1, steps=8425, best_checkpoint=4213]   \n",
            "100%|██████████| 2233/2233 [00:24<00:00, 92.88it/s] , 32.36it/s, eval_loss=0.19, eval_MAE=0.759, eval_RMSE=0.953, best_eval_loss=0.19, train_loss=0.2, train_MAE=0.799, train_RMSE=1.05, steps=16851, best_checkpoint=8426]  \n",
            "100%|██████████| 2233/2233 [00:23<00:00, 96.29it/s] , 44.61it/s, eval_loss=0.192, eval_MAE=0.767, eval_RMSE=0.98, best_eval_loss=0.19, train_loss=0.197, train_MAE=0.787, train_RMSE=1.03, steps=25277, best_checkpoint=8426]   \n",
            "100%|██████████| 2233/2233 [00:23<00:00, 94.83it/s] , 43.07it/s, eval_loss=0.184, eval_MAE=0.737, eval_RMSE=0.902, best_eval_loss=0.184, train_loss=0.184, train_MAE=0.736, train_RMSE=0.921, steps=33703, best_checkpoint=16852]   \n",
            "100%|██████████| 2233/2233 [00:22<00:00, 98.60it/s] , 39.46it/s, eval_loss=0.181, eval_MAE=0.722, eval_RMSE=0.89, best_eval_loss=0.181, train_loss=0.183, train_MAE=0.731, train_RMSE=0.916, steps=42129, best_checkpoint=21065]   \n",
            "100%|██████████| 2233/2233 [00:22<00:00, 97.65it/s] , 41.30it/s, eval_loss=0.18, eval_MAE=0.721, eval_RMSE=0.943, best_eval_loss=0.18, train_loss=0.182, train_MAE=0.727, train_RMSE=0.914, steps=50555, best_checkpoint=25278]   \n",
            "100%|██████████| 2233/2233 [00:22<00:00, 99.92it/s] , 41.87it/s, eval_loss=0.18, eval_MAE=0.718, eval_RMSE=0.886, best_eval_loss=0.18, train_loss=0.176, train_MAE=0.704, train_RMSE=0.888, steps=58981, best_checkpoint=29491]   \n",
            "100%|██████████| 2233/2233 [00:21<00:00, 104.19it/s], 43.12it/s, eval_loss=0.177, eval_MAE=0.706, eval_RMSE=0.887, best_eval_loss=0.177, train_loss=0.176, train_MAE=0.703, train_RMSE=0.89, steps=67407, best_checkpoint=33704]   \n",
            "100%|██████████| 2233/2233 [00:21<00:00, 104.85it/s], 39.63it/s, eval_loss=0.178, eval_MAE=0.71, eval_RMSE=0.917, best_eval_loss=0.177, train_loss=0.175, train_MAE=0.702, train_RMSE=0.892, steps=75833, best_checkpoint=33704]   \n",
            "100%|██████████| 2233/2233 [00:21<00:00, 102.26it/s], 43.88it/s, eval_loss=0.175, eval_MAE=0.7, eval_RMSE=0.897, best_eval_loss=0.175, train_loss=0.173, train_MAE=0.691, train_RMSE=0.884, steps=84259, best_checkpoint=42130]   \n",
            "100%|██████████| 2233/2233 [00:25<00:00, 86.73it/s] , 39.60it/s, eval_loss=0.173, eval_MAE=0.694, eval_RMSE=0.889, best_eval_loss=0.173, train_loss=0.173, train_MAE=0.692, train_RMSE=0.887, steps=92685, best_checkpoint=46343]   \n",
            "100%|██████████| 2233/2233 [00:23<00:00, 96.75it/s] , 42.99it/s, eval_loss=0.174, eval_MAE=0.694, eval_RMSE=0.912, best_eval_loss=0.173, train_loss=0.173, train_MAE=0.691, train_RMSE=0.891, steps=101111, best_checkpoint=46343]   \n",
            "100%|██████████| 2233/2233 [00:24<00:00, 92.65it/s] , 33.83it/s, eval_loss=0.175, eval_MAE=0.699, eval_RMSE=0.9, best_eval_loss=0.173, train_loss=0.171, train_MAE=0.685, train_RMSE=0.886, steps=109537, best_checkpoint=46343]   \n",
            "100%|██████████| 2233/2233 [00:23<00:00, 93.92it/s] , 38.15it/s, eval_loss=0.172, eval_MAE=0.69, eval_RMSE=0.899, best_eval_loss=0.172, train_loss=0.171, train_MAE=0.685, train_RMSE=0.889, steps=117963, best_checkpoint=58982]   \n",
            "100%|██████████| 2233/2233 [00:23<00:00, 95.81it/s] , 42.86it/s, eval_loss=0.173, eval_MAE=0.691, eval_RMSE=0.917, best_eval_loss=0.172, train_loss=0.171, train_MAE=0.683, train_RMSE=0.889, steps=126389, best_checkpoint=58982]   \n",
            "100%|██████████| 2233/2233 [00:23<00:00, 96.18it/s] , 38.68it/s, eval_loss=0.171, eval_MAE=0.686, eval_RMSE=0.894, best_eval_loss=0.171, train_loss=0.169, train_MAE=0.674, train_RMSE=0.878, steps=134815, best_checkpoint=67408]   \n",
            "100%|██████████| 2233/2233 [00:21<00:00, 101.96it/s], 43.97it/s, eval_loss=0.171, eval_MAE=0.684, eval_RMSE=0.903, best_eval_loss=0.171, train_loss=0.169, train_MAE=0.674, train_RMSE=0.878, steps=143241, best_checkpoint=71621]   \n",
            "100%|██████████| 2233/2233 [00:22<00:00, 100.86it/s], 43.85it/s, eval_loss=0.171, eval_MAE=0.683, eval_RMSE=0.884, best_eval_loss=0.171, train_loss=0.168, train_MAE=0.672, train_RMSE=0.878, steps=151667, best_checkpoint=75834]   \n",
            "100%|██████████| 2233/2233 [00:21<00:00, 102.58it/s], 41.20it/s, eval_loss=0.169, eval_MAE=0.676, eval_RMSE=0.887, best_eval_loss=0.169, train_loss=0.166, train_MAE=0.664, train_RMSE=0.865, steps=160093, best_checkpoint=8e+4]   \n",
            "100%|██████████| 2233/2233 [00:21<00:00, 103.07it/s], 38.65it/s, eval_loss=0.17, eval_MAE=0.679, eval_RMSE=0.891, best_eval_loss=0.169, train_loss=0.166, train_MAE=0.664, train_RMSE=0.865, steps=168519, best_checkpoint=8e+4]   \n",
            "100%|██████████| 2233/2233 [00:21<00:00, 103.19it/s], 44.06it/s, eval_loss=0.17, eval_MAE=0.679, eval_RMSE=0.904, best_eval_loss=0.169, train_loss=0.166, train_MAE=0.662, train_RMSE=0.865, steps=176945, best_checkpoint=8e+4]   \n",
            "100%|██████████| 2233/2233 [00:21<00:00, 104.17it/s], 43.62it/s, eval_loss=0.169, eval_MAE=0.678, eval_RMSE=0.888, best_eval_loss=0.169, train_loss=0.164, train_MAE=0.655, train_RMSE=0.852, steps=185371, best_checkpoint=8e+4]   \n",
            "100%|██████████| 2233/2233 [00:21<00:00, 102.85it/s]7, 36.78it/s, eval_loss=0.17, eval_MAE=0.679, eval_RMSE=0.903, best_eval_loss=0.169, train_loss=0.164, train_MAE=0.657, train_RMSE=0.856, steps=193797, best_checkpoint=8e+4]  \n",
            "100%|██████████| 2233/2233 [00:21<00:00, 102.32it/s]5, 44.34it/s, eval_loss=0.169, eval_MAE=0.676, eval_RMSE=0.888, best_eval_loss=0.169, train_loss=0.164, train_MAE=0.655, train_RMSE=0.856, steps=202223, best_checkpoint=101112]   \n",
            "100%|██████████| 2233/2233 [00:21<00:00, 103.39it/s]0, 43.17it/s, eval_loss=0.17, eval_MAE=0.68, eval_RMSE=0.905, best_eval_loss=0.169, train_loss=0.163, train_MAE=0.65, train_RMSE=0.848, steps=210649, best_checkpoint=101112]   \n",
            "100%|██████████| 2233/2233 [00:21<00:00, 103.62it/s]3, 44.63it/s, eval_loss=0.169, eval_MAE=0.677, eval_RMSE=0.893, best_eval_loss=0.169, train_loss=0.163, train_MAE=0.651, train_RMSE=0.849, steps=219075, best_checkpoint=101112]  \n",
            "100%|██████████| 2233/2233 [00:21<00:00, 102.16it/s]8, 42.53it/s, eval_loss=0.17, eval_MAE=0.678, eval_RMSE=0.906, best_eval_loss=0.169, train_loss=0.163, train_MAE=0.65, train_RMSE=0.85, steps=227501, best_checkpoint=101112]   \n",
            "100%|██████████| 2233/2233 [00:21<00:00, 103.92it/s]:45, 40.18it/s, eval_loss=0.174, eval_MAE=0.698, eval_RMSE=0.924, best_eval_loss=0.169, train_loss=0.162, train_MAE=0.646, train_RMSE=0.843, steps=235927, best_checkpoint=101112]\n",
            "100%|██████████| 2233/2233 [00:21<00:00, 105.58it/s]:00, 44.36it/s, eval_loss=0.17, eval_MAE=0.68, eval_RMSE=0.914, best_eval_loss=0.169, train_loss=0.162, train_MAE=0.647, train_RMSE=0.843, steps=244353, best_checkpoint=101112]  \n",
            "Training: 100%|██████████| 126410/126410 [1:03:28<00:00, 33.19it/s, eval_loss=0.169, eval_MAE=0.674, eval_RMSE=0.901, best_eval_loss=0.169, train_loss=0.161, train_MAE=0.646, train_RMSE=0.843, steps=252779, best_checkpoint=126390]\n"
          ]
        },
        {
          "data": {
            "text/html": [
              "Waiting for W&B process to finish... <strong style=\"color:green\">(success).</strong>"
            ],
            "text/plain": [
              "<IPython.core.display.HTML object>"
            ]
          },
          "metadata": {},
          "output_type": "display_data"
        },
        {
          "data": {
            "text/html": [
              "<style>\n",
              "    table.wandb td:nth-child(1) { padding: 0 10px; text-align: left ; width: auto;} td:nth-child(2) {text-align: left ; width: 100%}\n",
              "    .wandb-row { display: flex; flex-direction: row; flex-wrap: wrap; justify-content: flex-start; width: 100% }\n",
              "    .wandb-col { display: flex; flex-direction: column; flex-basis: 100%; flex: 1; padding: 10px; }\n",
              "    </style>\n",
              "<div class=\"wandb-row\"><div class=\"wandb-col\"><h3>Run history:</h3><br/><table class=\"wandb\"><tr><td>best_checkpoint</td><td>▁▁▁▂▂▂▂▃▃▃▃▃▃▄▄▅▅▅▅▅▅▅▅▇▇▇▇▇▇█</td></tr><tr><td>best_eval_loss</td><td>█▇▇▆▅▄▄▃▃▃▂▂▂▂▂▂▂▂▁▁▁▁▁▁▁▁▁▁▁▁</td></tr><tr><td>eval_MAE</td><td>█▇█▆▅▄▄▃▄▃▂▂▃▂▂▂▂▂▁▁▁▁▁▁▁▁▁▃▁▁</td></tr><tr><td>eval_RMSE</td><td>█▅▇▂▁▄▁▁▃▂▁▃▂▂▃▂▂▁▁▁▂▁▂▁▂▂▂▃▃▂</td></tr><tr><td>eval_loss</td><td>█▇█▆▅▄▄▃▄▃▂▂▃▂▂▂▂▂▁▁▁▁▁▁▁▁▁▃▁▁</td></tr><tr><td>steps</td><td>▁▁▁▂▂▂▂▃▃▃▃▄▄▄▄▅▅▅▅▆▆▆▆▇▇▇▇███</td></tr><tr><td>train_MAE</td><td>█▇▇▅▄▄▃▃▃▃▃▃▃▃▂▂▂▂▂▂▂▁▁▁▁▁▁▁▁▁</td></tr><tr><td>train_RMSE</td><td>█▇▆▃▃▃▂▂▂▂▂▂▂▂▂▂▂▂▂▂▂▁▁▁▁▁▁▁▁▁</td></tr><tr><td>train_loss</td><td>█▇▇▅▄▄▃▃▃▃▃▃▃▃▂▂▂▂▂▂▂▁▁▁▁▁▁▁▁▁</td></tr></table><br/></div><div class=\"wandb-col\"><h3>Run summary:</h3><br/><table class=\"wandb\"><tr><td>best_checkpoint</td><td>126390</td></tr><tr><td>best_eval_loss</td><td>0.16855</td></tr><tr><td>eval_MAE</td><td>0.67421</td></tr><tr><td>eval_RMSE</td><td>0.90098</td></tr><tr><td>eval_loss</td><td>0.16855</td></tr><tr><td>steps</td><td>252779</td></tr><tr><td>train_MAE</td><td>0.64595</td></tr><tr><td>train_RMSE</td><td>0.84311</td></tr><tr><td>train_loss</td><td>0.16149</td></tr></table><br/></div></div>"
            ],
            "text/plain": [
              "<IPython.core.display.HTML object>"
            ]
          },
          "metadata": {},
          "output_type": "display_data"
        },
        {
          "data": {
            "text/html": [
              " View run <strong style=\"color:#cdcd00\">sequence:10 batch_size:64</strong> at: <a href='https://wandb.ai/nelsonlin0321/BST%20For%20Movielens%201M%20Recommendation/runs/5wtkx5md' target=\"_blank\">https://wandb.ai/nelsonlin0321/BST%20For%20Movielens%201M%20Recommendation/runs/5wtkx5md</a><br/>Synced 6 W&B file(s), 0 media file(s), 0 artifact file(s) and 0 other file(s)"
            ],
            "text/plain": [
              "<IPython.core.display.HTML object>"
            ]
          },
          "metadata": {},
          "output_type": "display_data"
        },
        {
          "data": {
            "text/html": [
              "Find logs at: <code>./wandb/run-20230709_205528-5wtkx5md/logs</code>"
            ],
            "text/plain": [
              "<IPython.core.display.HTML object>"
            ]
          },
          "metadata": {},
          "output_type": "display_data"
        }
      ],
      "source": [
        "# Train\n",
        "total_pbar = tqdm(total=len(train_loader)*config.epoches,\n",
        "                  desc=\"Training\", position=0, leave=True)\n",
        "\n",
        "metrics_list = []\n",
        "best_model_path= None\n",
        "for epoch in range(config.epoches):\n",
        "    # print(\"*\"*50 + f\"epoch: {epoch + 1}\" + \"*\"*50)\n",
        "\n",
        "    train_loss_list = []\n",
        "    prob_list = []\n",
        "    rating_list = []\n",
        "\n",
        "    for inputs in train_loader:\n",
        "        model = model.train()\n",
        "        optimizer.zero_grad()\n",
        "        probs = model(inputs)\n",
        "\n",
        "        rating = inputs['target_rating'].view(-1, 1)\n",
        "\n",
        "        loss = loss_func(probs, rating)\n",
        "        loss.backward()\n",
        "        optimizer.step()\n",
        "        train_loss_list.append(loss.item())\n",
        "\n",
        "        probs = probs.detach().cpu().numpy().flatten().tolist()\n",
        "        prob_list.extend(probs)\n",
        "        rating = rating.detach().cpu().flatten().tolist()\n",
        "        rating_list.extend(rating)\n",
        "\n",
        "        if (total_batch+1) % config.eval_steps == 0:\n",
        "\n",
        "            improve = False\n",
        "            model_metrics = evaluate(model, test_loader,min_max_scaler,loss_func)\n",
        "            eval_loss = model_metrics['eval_loss']\n",
        "\n",
        "            if eval_loss <= best_eval_loss:\n",
        "                improve = True\n",
        "                best_checkpoint = total_batch+1\n",
        "                best_eval_loss = eval_loss\n",
        "\n",
        "            train_loss = np.mean(train_loss_list)\n",
        "            \n",
        "            real_ratings =min_max_scaler.inverse_transform(np.array(rating_list).reshape(-1,1))[:,0]\n",
        "            prediction_ratings=min_max_scaler.inverse_transform(np.array(prob_list).reshape(-1,1))[:,0]\n",
        "            MAE = metrics.mean_absolute_error(real_ratings,prediction_ratings)\n",
        "            RMSE = metrics.mean_squared_error(real_ratings,prediction_ratings)\n",
        "\n",
        "            model_metrics['best_eval_loss'] = best_eval_loss\n",
        "            model_metrics['train_loss'] = train_loss\n",
        "            model_metrics['train_MAE'] = MAE\n",
        "            model_metrics['train_RMSE'] = RMSE\n",
        "            \n",
        "            model_metrics[\"steps\"] = total_batch*(batch_size//32)+1\n",
        "            model_metrics[\"best_checkpoint\"] = best_checkpoint\n",
        "            metrics_list.append(model_metrics)\n",
        "            wandb.log(model_metrics)\n",
        "\n",
        "            if improve:\n",
        "                save_dir = os.path.join(\"models\", model_version)\n",
        "                os.makedirs(save_dir, exist_ok=True)\n",
        "                model_path = save_model(model, save_dir, total_batch+1, model_metrics)\n",
        "                best_model_path = model_path\n",
        "            post_fix_message = {k:round(v,3) for k,v in model_metrics.items()}\n",
        "            total_pbar.set_postfix(post_fix_message)\n",
        "\n",
        "\n",
        "            model = model.train()\n",
        "\n",
        "        total_batch += 1\n",
        "        total_pbar.update(1)\n",
        "\n",
        "    model = model.train()\n",
        "\n",
        "total_pbar.close()\n",
        "wandb.finish()"
      ]
    },
    {
      "cell_type": "code",
      "execution_count": 55,
      "metadata": {
        "id": "AzfHrJl6aP0t"
      },
      "outputs": [
        {
          "data": {
            "text/html": [
              "<div>\n",
              "<style scoped>\n",
              "    .dataframe tbody tr th:only-of-type {\n",
              "        vertical-align: middle;\n",
              "    }\n",
              "\n",
              "    .dataframe tbody tr th {\n",
              "        vertical-align: top;\n",
              "    }\n",
              "\n",
              "    .dataframe thead th {\n",
              "        text-align: right;\n",
              "    }\n",
              "</style>\n",
              "<table border=\"1\" class=\"dataframe\">\n",
              "  <thead>\n",
              "    <tr style=\"text-align: right;\">\n",
              "      <th></th>\n",
              "      <th>eval_loss</th>\n",
              "      <th>eval_MAE</th>\n",
              "      <th>eval_RMSE</th>\n",
              "      <th>best_eval_loss</th>\n",
              "      <th>train_loss</th>\n",
              "      <th>train_MAE</th>\n",
              "      <th>train_RMSE</th>\n",
              "      <th>best_checkpoint</th>\n",
              "    </tr>\n",
              "    <tr>\n",
              "      <th>steps</th>\n",
              "      <th></th>\n",
              "      <th></th>\n",
              "      <th></th>\n",
              "      <th></th>\n",
              "      <th></th>\n",
              "      <th></th>\n",
              "      <th></th>\n",
              "      <th></th>\n",
              "    </tr>\n",
              "  </thead>\n",
              "  <tbody>\n",
              "    <tr>\n",
              "      <th>8425</th>\n",
              "      <td>0.192390</td>\n",
              "      <td>0.769559</td>\n",
              "      <td>1.005866</td>\n",
              "      <td>0.192390</td>\n",
              "      <td>0.206039</td>\n",
              "      <td>0.824156</td>\n",
              "      <td>1.105329</td>\n",
              "      <td>4213</td>\n",
              "    </tr>\n",
              "    <tr>\n",
              "      <th>16851</th>\n",
              "      <td>0.189715</td>\n",
              "      <td>0.758857</td>\n",
              "      <td>0.952683</td>\n",
              "      <td>0.189715</td>\n",
              "      <td>0.199672</td>\n",
              "      <td>0.798689</td>\n",
              "      <td>1.055097</td>\n",
              "      <td>8426</td>\n",
              "    </tr>\n",
              "    <tr>\n",
              "      <th>25277</th>\n",
              "      <td>0.191871</td>\n",
              "      <td>0.767480</td>\n",
              "      <td>0.979988</td>\n",
              "      <td>0.189715</td>\n",
              "      <td>0.196752</td>\n",
              "      <td>0.787009</td>\n",
              "      <td>1.034561</td>\n",
              "      <td>8426</td>\n",
              "    </tr>\n",
              "    <tr>\n",
              "      <th>33703</th>\n",
              "      <td>0.184270</td>\n",
              "      <td>0.737078</td>\n",
              "      <td>0.901862</td>\n",
              "      <td>0.184270</td>\n",
              "      <td>0.184112</td>\n",
              "      <td>0.736449</td>\n",
              "      <td>0.920640</td>\n",
              "      <td>16852</td>\n",
              "    </tr>\n",
              "    <tr>\n",
              "      <th>42129</th>\n",
              "      <td>0.180578</td>\n",
              "      <td>0.722307</td>\n",
              "      <td>0.889643</td>\n",
              "      <td>0.180578</td>\n",
              "      <td>0.182715</td>\n",
              "      <td>0.730862</td>\n",
              "      <td>0.915752</td>\n",
              "      <td>21065</td>\n",
              "    </tr>\n",
              "    <tr>\n",
              "      <th>50555</th>\n",
              "      <td>0.180316</td>\n",
              "      <td>0.721256</td>\n",
              "      <td>0.943366</td>\n",
              "      <td>0.180316</td>\n",
              "      <td>0.181691</td>\n",
              "      <td>0.726765</td>\n",
              "      <td>0.913841</td>\n",
              "      <td>25278</td>\n",
              "    </tr>\n",
              "    <tr>\n",
              "      <th>58981</th>\n",
              "      <td>0.179556</td>\n",
              "      <td>0.718221</td>\n",
              "      <td>0.885572</td>\n",
              "      <td>0.179556</td>\n",
              "      <td>0.175998</td>\n",
              "      <td>0.703992</td>\n",
              "      <td>0.888473</td>\n",
              "      <td>29491</td>\n",
              "    </tr>\n",
              "    <tr>\n",
              "      <th>67407</th>\n",
              "      <td>0.176552</td>\n",
              "      <td>0.706203</td>\n",
              "      <td>0.887213</td>\n",
              "      <td>0.176552</td>\n",
              "      <td>0.175759</td>\n",
              "      <td>0.703037</td>\n",
              "      <td>0.889900</td>\n",
              "      <td>33704</td>\n",
              "    </tr>\n",
              "    <tr>\n",
              "      <th>75833</th>\n",
              "      <td>0.177522</td>\n",
              "      <td>0.710087</td>\n",
              "      <td>0.916755</td>\n",
              "      <td>0.176552</td>\n",
              "      <td>0.175460</td>\n",
              "      <td>0.701839</td>\n",
              "      <td>0.892451</td>\n",
              "      <td>33704</td>\n",
              "    </tr>\n",
              "    <tr>\n",
              "      <th>84259</th>\n",
              "      <td>0.174878</td>\n",
              "      <td>0.699514</td>\n",
              "      <td>0.897259</td>\n",
              "      <td>0.174878</td>\n",
              "      <td>0.172843</td>\n",
              "      <td>0.691371</td>\n",
              "      <td>0.884492</td>\n",
              "      <td>42130</td>\n",
              "    </tr>\n",
              "    <tr>\n",
              "      <th>92685</th>\n",
              "      <td>0.173494</td>\n",
              "      <td>0.693970</td>\n",
              "      <td>0.889074</td>\n",
              "      <td>0.173494</td>\n",
              "      <td>0.172880</td>\n",
              "      <td>0.691520</td>\n",
              "      <td>0.887326</td>\n",
              "      <td>46343</td>\n",
              "    </tr>\n",
              "    <tr>\n",
              "      <th>101111</th>\n",
              "      <td>0.173574</td>\n",
              "      <td>0.694294</td>\n",
              "      <td>0.912126</td>\n",
              "      <td>0.173494</td>\n",
              "      <td>0.172642</td>\n",
              "      <td>0.690568</td>\n",
              "      <td>0.890606</td>\n",
              "      <td>46343</td>\n",
              "    </tr>\n",
              "    <tr>\n",
              "      <th>109537</th>\n",
              "      <td>0.174779</td>\n",
              "      <td>0.699117</td>\n",
              "      <td>0.899792</td>\n",
              "      <td>0.173494</td>\n",
              "      <td>0.171198</td>\n",
              "      <td>0.684794</td>\n",
              "      <td>0.886128</td>\n",
              "      <td>46343</td>\n",
              "    </tr>\n",
              "    <tr>\n",
              "      <th>117963</th>\n",
              "      <td>0.172474</td>\n",
              "      <td>0.689895</td>\n",
              "      <td>0.898580</td>\n",
              "      <td>0.172474</td>\n",
              "      <td>0.171179</td>\n",
              "      <td>0.684714</td>\n",
              "      <td>0.888597</td>\n",
              "      <td>58982</td>\n",
              "    </tr>\n",
              "    <tr>\n",
              "      <th>126389</th>\n",
              "      <td>0.172675</td>\n",
              "      <td>0.690701</td>\n",
              "      <td>0.916992</td>\n",
              "      <td>0.172474</td>\n",
              "      <td>0.170733</td>\n",
              "      <td>0.682934</td>\n",
              "      <td>0.888745</td>\n",
              "      <td>58982</td>\n",
              "    </tr>\n",
              "    <tr>\n",
              "      <th>134815</th>\n",
              "      <td>0.171485</td>\n",
              "      <td>0.685942</td>\n",
              "      <td>0.893656</td>\n",
              "      <td>0.171485</td>\n",
              "      <td>0.168516</td>\n",
              "      <td>0.674062</td>\n",
              "      <td>0.878480</td>\n",
              "      <td>67408</td>\n",
              "    </tr>\n",
              "    <tr>\n",
              "      <th>143241</th>\n",
              "      <td>0.170935</td>\n",
              "      <td>0.683739</td>\n",
              "      <td>0.902918</td>\n",
              "      <td>0.170935</td>\n",
              "      <td>0.168594</td>\n",
              "      <td>0.674375</td>\n",
              "      <td>0.878494</td>\n",
              "      <td>71621</td>\n",
              "    </tr>\n",
              "    <tr>\n",
              "      <th>151667</th>\n",
              "      <td>0.170741</td>\n",
              "      <td>0.682965</td>\n",
              "      <td>0.884258</td>\n",
              "      <td>0.170741</td>\n",
              "      <td>0.168023</td>\n",
              "      <td>0.672091</td>\n",
              "      <td>0.877902</td>\n",
              "      <td>75834</td>\n",
              "    </tr>\n",
              "    <tr>\n",
              "      <th>160093</th>\n",
              "      <td>0.169024</td>\n",
              "      <td>0.676099</td>\n",
              "      <td>0.886663</td>\n",
              "      <td>0.169024</td>\n",
              "      <td>0.165942</td>\n",
              "      <td>0.663770</td>\n",
              "      <td>0.864862</td>\n",
              "      <td>80047</td>\n",
              "    </tr>\n",
              "    <tr>\n",
              "      <th>168519</th>\n",
              "      <td>0.169728</td>\n",
              "      <td>0.678910</td>\n",
              "      <td>0.890750</td>\n",
              "      <td>0.169024</td>\n",
              "      <td>0.165963</td>\n",
              "      <td>0.663851</td>\n",
              "      <td>0.864606</td>\n",
              "      <td>80047</td>\n",
              "    </tr>\n",
              "    <tr>\n",
              "      <th>176945</th>\n",
              "      <td>0.169832</td>\n",
              "      <td>0.679327</td>\n",
              "      <td>0.903550</td>\n",
              "      <td>0.169024</td>\n",
              "      <td>0.165596</td>\n",
              "      <td>0.662386</td>\n",
              "      <td>0.865059</td>\n",
              "      <td>80047</td>\n",
              "    </tr>\n",
              "    <tr>\n",
              "      <th>185371</th>\n",
              "      <td>0.169443</td>\n",
              "      <td>0.677773</td>\n",
              "      <td>0.888364</td>\n",
              "      <td>0.169024</td>\n",
              "      <td>0.163810</td>\n",
              "      <td>0.655241</td>\n",
              "      <td>0.852421</td>\n",
              "      <td>80047</td>\n",
              "    </tr>\n",
              "    <tr>\n",
              "      <th>193797</th>\n",
              "      <td>0.169690</td>\n",
              "      <td>0.678760</td>\n",
              "      <td>0.903229</td>\n",
              "      <td>0.169024</td>\n",
              "      <td>0.164195</td>\n",
              "      <td>0.656781</td>\n",
              "      <td>0.855602</td>\n",
              "      <td>80047</td>\n",
              "    </tr>\n",
              "    <tr>\n",
              "      <th>202223</th>\n",
              "      <td>0.168991</td>\n",
              "      <td>0.675965</td>\n",
              "      <td>0.888078</td>\n",
              "      <td>0.168991</td>\n",
              "      <td>0.163859</td>\n",
              "      <td>0.655435</td>\n",
              "      <td>0.856008</td>\n",
              "      <td>101112</td>\n",
              "    </tr>\n",
              "    <tr>\n",
              "      <th>210649</th>\n",
              "      <td>0.170084</td>\n",
              "      <td>0.680342</td>\n",
              "      <td>0.905039</td>\n",
              "      <td>0.168991</td>\n",
              "      <td>0.162593</td>\n",
              "      <td>0.650370</td>\n",
              "      <td>0.847637</td>\n",
              "      <td>101112</td>\n",
              "    </tr>\n",
              "    <tr>\n",
              "      <th>219075</th>\n",
              "      <td>0.169371</td>\n",
              "      <td>0.677485</td>\n",
              "      <td>0.893060</td>\n",
              "      <td>0.168991</td>\n",
              "      <td>0.162855</td>\n",
              "      <td>0.651421</td>\n",
              "      <td>0.849031</td>\n",
              "      <td>101112</td>\n",
              "    </tr>\n",
              "    <tr>\n",
              "      <th>227501</th>\n",
              "      <td>0.169554</td>\n",
              "      <td>0.678219</td>\n",
              "      <td>0.906490</td>\n",
              "      <td>0.168991</td>\n",
              "      <td>0.162620</td>\n",
              "      <td>0.650482</td>\n",
              "      <td>0.849833</td>\n",
              "      <td>101112</td>\n",
              "    </tr>\n",
              "    <tr>\n",
              "      <th>235927</th>\n",
              "      <td>0.174458</td>\n",
              "      <td>0.697836</td>\n",
              "      <td>0.924366</td>\n",
              "      <td>0.168991</td>\n",
              "      <td>0.161620</td>\n",
              "      <td>0.646482</td>\n",
              "      <td>0.842796</td>\n",
              "      <td>101112</td>\n",
              "    </tr>\n",
              "    <tr>\n",
              "      <th>244353</th>\n",
              "      <td>0.170032</td>\n",
              "      <td>0.680128</td>\n",
              "      <td>0.913683</td>\n",
              "      <td>0.168991</td>\n",
              "      <td>0.161792</td>\n",
              "      <td>0.647170</td>\n",
              "      <td>0.842956</td>\n",
              "      <td>101112</td>\n",
              "    </tr>\n",
              "    <tr>\n",
              "      <th>252779</th>\n",
              "      <td>0.168552</td>\n",
              "      <td>0.674208</td>\n",
              "      <td>0.900981</td>\n",
              "      <td>0.168552</td>\n",
              "      <td>0.161487</td>\n",
              "      <td>0.645946</td>\n",
              "      <td>0.843113</td>\n",
              "      <td>126390</td>\n",
              "    </tr>\n",
              "  </tbody>\n",
              "</table>\n",
              "</div>"
            ],
            "text/plain": [
              "        eval_loss  eval_MAE  eval_RMSE  best_eval_loss  train_loss  train_MAE  \\\n",
              "steps                                                                           \n",
              "8425     0.192390  0.769559   1.005866        0.192390    0.206039   0.824156   \n",
              "16851    0.189715  0.758857   0.952683        0.189715    0.199672   0.798689   \n",
              "25277    0.191871  0.767480   0.979988        0.189715    0.196752   0.787009   \n",
              "33703    0.184270  0.737078   0.901862        0.184270    0.184112   0.736449   \n",
              "42129    0.180578  0.722307   0.889643        0.180578    0.182715   0.730862   \n",
              "50555    0.180316  0.721256   0.943366        0.180316    0.181691   0.726765   \n",
              "58981    0.179556  0.718221   0.885572        0.179556    0.175998   0.703992   \n",
              "67407    0.176552  0.706203   0.887213        0.176552    0.175759   0.703037   \n",
              "75833    0.177522  0.710087   0.916755        0.176552    0.175460   0.701839   \n",
              "84259    0.174878  0.699514   0.897259        0.174878    0.172843   0.691371   \n",
              "92685    0.173494  0.693970   0.889074        0.173494    0.172880   0.691520   \n",
              "101111   0.173574  0.694294   0.912126        0.173494    0.172642   0.690568   \n",
              "109537   0.174779  0.699117   0.899792        0.173494    0.171198   0.684794   \n",
              "117963   0.172474  0.689895   0.898580        0.172474    0.171179   0.684714   \n",
              "126389   0.172675  0.690701   0.916992        0.172474    0.170733   0.682934   \n",
              "134815   0.171485  0.685942   0.893656        0.171485    0.168516   0.674062   \n",
              "143241   0.170935  0.683739   0.902918        0.170935    0.168594   0.674375   \n",
              "151667   0.170741  0.682965   0.884258        0.170741    0.168023   0.672091   \n",
              "160093   0.169024  0.676099   0.886663        0.169024    0.165942   0.663770   \n",
              "168519   0.169728  0.678910   0.890750        0.169024    0.165963   0.663851   \n",
              "176945   0.169832  0.679327   0.903550        0.169024    0.165596   0.662386   \n",
              "185371   0.169443  0.677773   0.888364        0.169024    0.163810   0.655241   \n",
              "193797   0.169690  0.678760   0.903229        0.169024    0.164195   0.656781   \n",
              "202223   0.168991  0.675965   0.888078        0.168991    0.163859   0.655435   \n",
              "210649   0.170084  0.680342   0.905039        0.168991    0.162593   0.650370   \n",
              "219075   0.169371  0.677485   0.893060        0.168991    0.162855   0.651421   \n",
              "227501   0.169554  0.678219   0.906490        0.168991    0.162620   0.650482   \n",
              "235927   0.174458  0.697836   0.924366        0.168991    0.161620   0.646482   \n",
              "244353   0.170032  0.680128   0.913683        0.168991    0.161792   0.647170   \n",
              "252779   0.168552  0.674208   0.900981        0.168552    0.161487   0.645946   \n",
              "\n",
              "        train_RMSE  best_checkpoint  \n",
              "steps                                \n",
              "8425      1.105329             4213  \n",
              "16851     1.055097             8426  \n",
              "25277     1.034561             8426  \n",
              "33703     0.920640            16852  \n",
              "42129     0.915752            21065  \n",
              "50555     0.913841            25278  \n",
              "58981     0.888473            29491  \n",
              "67407     0.889900            33704  \n",
              "75833     0.892451            33704  \n",
              "84259     0.884492            42130  \n",
              "92685     0.887326            46343  \n",
              "101111    0.890606            46343  \n",
              "109537    0.886128            46343  \n",
              "117963    0.888597            58982  \n",
              "126389    0.888745            58982  \n",
              "134815    0.878480            67408  \n",
              "143241    0.878494            71621  \n",
              "151667    0.877902            75834  \n",
              "160093    0.864862            80047  \n",
              "168519    0.864606            80047  \n",
              "176945    0.865059            80047  \n",
              "185371    0.852421            80047  \n",
              "193797    0.855602            80047  \n",
              "202223    0.856008           101112  \n",
              "210649    0.847637           101112  \n",
              "219075    0.849031           101112  \n",
              "227501    0.849833           101112  \n",
              "235927    0.842796           101112  \n",
              "244353    0.842956           101112  \n",
              "252779    0.843113           126390  "
            ]
          },
          "execution_count": 55,
          "metadata": {},
          "output_type": "execute_result"
        }
      ],
      "source": [
        "df_metrics = pd.DataFrame(metrics_list)\n",
        "df_metrics = df_metrics.set_index(\"steps\")\n",
        "df_metrics"
      ]
    },
    {
      "cell_type": "code",
      "execution_count": 56,
      "metadata": {},
      "outputs": [
        {
          "data": {
            "text/plain": [
              "<Axes: xlabel='steps'>"
            ]
          },
          "execution_count": 56,
          "metadata": {},
          "output_type": "execute_result"
        },
        {
          "data": {
            "image/png": "[encoded data removed]",
            "text/plain": [
              "<Figure size 640x480 with 1 Axes>"
            ]
          },
          "metadata": {},
          "output_type": "display_data"
        }
      ],
      "source": [
        "\n",
        "df_metrics[['eval_loss','train_loss']].plot() "
      ]
    },
    {
      "cell_type": "code",
      "execution_count": 57,
      "metadata": {},
      "outputs": [
        {
          "data": {
            "text/plain": [
              "<Axes: xlabel='steps'>"
            ]
          },
          "execution_count": 57,
          "metadata": {},
          "output_type": "execute_result"
        },
        {
          "data": {
            "image/png": "[encoded data removed]",
            "text/plain": [
              "<Figure size 640x480 with 1 Axes>"
            ]
          },
          "metadata": {},
          "output_type": "display_data"
        }
      ],
      "source": [
        "df_metrics[['eval_MAE','train_MAE']].plot() "
      ]
    },
    {
      "attachments": {},
      "cell_type": "markdown",
      "metadata": {},
      "source": [
        "## (7) Validate The Best Model"
      ]
    },
    {
      "cell_type": "code",
      "execution_count": 58,
      "metadata": {},
      "outputs": [],
      "source": [
        "best_model = BSTRecommender(config=config)"
      ]
    },
    {
      "cell_type": "code",
      "execution_count": 59,
      "metadata": {},
      "outputs": [
        {
          "data": {
            "text/plain": [
              "BSTRecommender(\n",
              "  (embedding_layers): ModuleDict(\n",
              "    (user): Embedding(6041, 32)\n",
              "    (movie): Embedding(3884, 32)\n",
              "    (occupation): Embedding(22, 32)\n",
              "    (age_group): Embedding(8, 32)\n",
              "    (position): Embedding(10, 32)\n",
              "  )\n",
              "  (transformer_layer): TransformerLayer(\n",
              "    (transformer_blocks): ModuleList(\n",
              "      (0-2): 3 x TransformerBlock(\n",
              "        (multihead_attention): MultiheadAttention(\n",
              "          (out_proj): NonDynamicallyQuantizableLinear(in_features=64, out_features=64, bias=True)\n",
              "        )\n",
              "        (layer_norm1): LayerNorm((64,), eps=1e-05, elementwise_affine=True)\n",
              "        (feed_forward): Sequential(\n",
              "          (0): Linear(in_features=64, out_features=256, bias=True)\n",
              "          (1): ReLU()\n",
              "          (2): Linear(in_features=256, out_features=64, bias=True)\n",
              "          (3): Dropout(p=0.2, inplace=False)\n",
              "        )\n",
              "        (layer_norm2): LayerNorm((64,), eps=1e-05, elementwise_affine=True)\n",
              "        (dropout): Dropout(p=0.2, inplace=False)\n",
              "      )\n",
              "    )\n",
              "  )\n",
              "  (mlp): MLP(\n",
              "    (dropout): Dropout(p=0.2, inplace=False)\n",
              "    (layers): ModuleList(\n",
              "      (0): Linear(in_features=897, out_features=256, bias=True)\n",
              "      (1): LeakyReLU(negative_slope=0.01)\n",
              "      (2): Dropout(p=0.2, inplace=False)\n",
              "      (3): Linear(in_features=256, out_features=64, bias=True)\n",
              "      (4): LeakyReLU(negative_slope=0.01)\n",
              "      (5): Dropout(p=0.2, inplace=False)\n",
              "    )\n",
              "    (fc): Linear(in_features=64, out_features=1, bias=True)\n",
              "    (sigmoid): Sigmoid()\n",
              "  )\n",
              ")"
            ]
          },
          "execution_count": 59,
          "metadata": {},
          "output_type": "execute_result"
        }
      ],
      "source": [
        "best_model.load_state_dict(torch.load(best_model_path))\n",
        "best_model.eval()\n",
        "best_model.to(config.device)"
      ]
    },
    {
      "cell_type": "code",
      "execution_count": 60,
      "metadata": {},
      "outputs": [
        {
          "name": "stderr",
          "output_type": "stream",
          "text": [
            "100%|█████████▉| 2231/2233 [00:22<00:00, 106.37it/s]"
          ]
        }
      ],
      "source": [
        "best_model.eval()\n",
        "prob_list= []\n",
        "rating_list = []\n",
        "eval_loss_list = []\n",
        "pbar = tqdm(total = len(test_loader),desc = \"\",position=0, leave=True)\n",
        "for inputs in test_loader:\n",
        "    with torch.no_grad():\n",
        "        probs = best_model(inputs)\n",
        "        ratings = inputs['target_rating'].view(-1,1)\n",
        "        \n",
        "        loss = loss_func(probs, ratings)\n",
        "        eval_loss_list.append(loss.item())\n",
        "\n",
        "        probs = probs.cpu().numpy().flatten().tolist()\n",
        "        prob_list.extend(probs)\n",
        "\n",
        "        ratings = ratings.cpu().numpy().flatten().tolist()\n",
        "        rating_list.extend(ratings)\n",
        "\n",
        "        pbar.update(1)"
      ]
    },
    {
      "cell_type": "code",
      "execution_count": 61,
      "metadata": {},
      "outputs": [],
      "source": [
        "prediction = pd.DataFrame()\n",
        "prediction['real']=min_max_scaler.inverse_transform(np.array(rating_list).reshape(-1,1))[:,0]\n",
        "prediction['prediction']=min_max_scaler.inverse_transform(np.array(prob_list).reshape(-1,1))[:,0]"
      ]
    },
    {
      "cell_type": "code",
      "execution_count": 62,
      "metadata": {},
      "outputs": [],
      "source": [
        "MAE = metrics.mean_absolute_error(prediction['real'],prediction['prediction'])\n",
        "RMSE = metrics.mean_squared_error(prediction['real'],prediction['prediction'])"
      ]
    },
    {
      "cell_type": "code",
      "execution_count": 63,
      "metadata": {},
      "outputs": [
        {
          "name": "stdout",
          "output_type": "stream",
          "text": [
            "MAE:0.674207642783516,RMSE:0.9009814510076437\n"
          ]
        }
      ],
      "source": [
        "print(f\"MAE:{MAE},RMSE:{RMSE}\")"
      ]
    },
    {
      "cell_type": "code",
      "execution_count": 65,
      "metadata": {},
      "outputs": [
        {
          "data": {
            "text/html": [
              "<div>\n",
              "<style scoped>\n",
              "    .dataframe tbody tr th:only-of-type {\n",
              "        vertical-align: middle;\n",
              "    }\n",
              "\n",
              "    .dataframe tbody tr th {\n",
              "        vertical-align: top;\n",
              "    }\n",
              "\n",
              "    .dataframe thead th {\n",
              "        text-align: right;\n",
              "    }\n",
              "</style>\n",
              "<table border=\"1\" class=\"dataframe\">\n",
              "  <thead>\n",
              "    <tr style=\"text-align: right;\">\n",
              "      <th></th>\n",
              "      <th>real</th>\n",
              "      <th>prediction</th>\n",
              "    </tr>\n",
              "  </thead>\n",
              "  <tbody>\n",
              "    <tr>\n",
              "      <th>92533</th>\n",
              "      <td>5.0</td>\n",
              "      <td>3.996318</td>\n",
              "    </tr>\n",
              "    <tr>\n",
              "      <th>103481</th>\n",
              "      <td>3.0</td>\n",
              "      <td>3.988158</td>\n",
              "    </tr>\n",
              "    <tr>\n",
              "      <th>79345</th>\n",
              "      <td>4.0</td>\n",
              "      <td>4.004817</td>\n",
              "    </tr>\n",
              "    <tr>\n",
              "      <th>72767</th>\n",
              "      <td>5.0</td>\n",
              "      <td>5.000000</td>\n",
              "    </tr>\n",
              "    <tr>\n",
              "      <th>141256</th>\n",
              "      <td>2.0</td>\n",
              "      <td>2.976883</td>\n",
              "    </tr>\n",
              "    <tr>\n",
              "      <th>96728</th>\n",
              "      <td>3.0</td>\n",
              "      <td>2.547957</td>\n",
              "    </tr>\n",
              "    <tr>\n",
              "      <th>133654</th>\n",
              "      <td>5.0</td>\n",
              "      <td>5.000000</td>\n",
              "    </tr>\n",
              "    <tr>\n",
              "      <th>123509</th>\n",
              "      <td>3.0</td>\n",
              "      <td>3.008055</td>\n",
              "    </tr>\n",
              "    <tr>\n",
              "      <th>6807</th>\n",
              "      <td>3.0</td>\n",
              "      <td>4.994059</td>\n",
              "    </tr>\n",
              "    <tr>\n",
              "      <th>20057</th>\n",
              "      <td>3.0</td>\n",
              "      <td>4.016149</td>\n",
              "    </tr>\n",
              "    <tr>\n",
              "      <th>21193</th>\n",
              "      <td>4.0</td>\n",
              "      <td>3.911916</td>\n",
              "    </tr>\n",
              "    <tr>\n",
              "      <th>48535</th>\n",
              "      <td>2.0</td>\n",
              "      <td>3.995037</td>\n",
              "    </tr>\n",
              "    <tr>\n",
              "      <th>123387</th>\n",
              "      <td>5.0</td>\n",
              "      <td>4.048593</td>\n",
              "    </tr>\n",
              "    <tr>\n",
              "      <th>35049</th>\n",
              "      <td>2.0</td>\n",
              "      <td>4.014609</td>\n",
              "    </tr>\n",
              "    <tr>\n",
              "      <th>99891</th>\n",
              "      <td>4.0</td>\n",
              "      <td>4.971859</td>\n",
              "    </tr>\n",
              "    <tr>\n",
              "      <th>75957</th>\n",
              "      <td>3.0</td>\n",
              "      <td>5.000000</td>\n",
              "    </tr>\n",
              "    <tr>\n",
              "      <th>690</th>\n",
              "      <td>3.0</td>\n",
              "      <td>3.996122</td>\n",
              "    </tr>\n",
              "    <tr>\n",
              "      <th>129078</th>\n",
              "      <td>4.0</td>\n",
              "      <td>3.986889</td>\n",
              "    </tr>\n",
              "    <tr>\n",
              "      <th>59188</th>\n",
              "      <td>3.0</td>\n",
              "      <td>3.035072</td>\n",
              "    </tr>\n",
              "    <tr>\n",
              "      <th>88934</th>\n",
              "      <td>4.0</td>\n",
              "      <td>2.998972</td>\n",
              "    </tr>\n",
              "    <tr>\n",
              "      <th>5313</th>\n",
              "      <td>4.0</td>\n",
              "      <td>3.995989</td>\n",
              "    </tr>\n",
              "    <tr>\n",
              "      <th>73358</th>\n",
              "      <td>3.0</td>\n",
              "      <td>2.548731</td>\n",
              "    </tr>\n",
              "    <tr>\n",
              "      <th>35584</th>\n",
              "      <td>4.0</td>\n",
              "      <td>3.995493</td>\n",
              "    </tr>\n",
              "    <tr>\n",
              "      <th>50373</th>\n",
              "      <td>5.0</td>\n",
              "      <td>4.999606</td>\n",
              "    </tr>\n",
              "    <tr>\n",
              "      <th>72899</th>\n",
              "      <td>2.0</td>\n",
              "      <td>2.746585</td>\n",
              "    </tr>\n",
              "    <tr>\n",
              "      <th>18635</th>\n",
              "      <td>4.0</td>\n",
              "      <td>3.980919</td>\n",
              "    </tr>\n",
              "    <tr>\n",
              "      <th>25759</th>\n",
              "      <td>3.0</td>\n",
              "      <td>4.010896</td>\n",
              "    </tr>\n",
              "    <tr>\n",
              "      <th>116011</th>\n",
              "      <td>5.0</td>\n",
              "      <td>4.005780</td>\n",
              "    </tr>\n",
              "    <tr>\n",
              "      <th>45686</th>\n",
              "      <td>4.0</td>\n",
              "      <td>5.000000</td>\n",
              "    </tr>\n",
              "    <tr>\n",
              "      <th>48601</th>\n",
              "      <td>2.0</td>\n",
              "      <td>2.146847</td>\n",
              "    </tr>\n",
              "    <tr>\n",
              "      <th>76291</th>\n",
              "      <td>3.0</td>\n",
              "      <td>1.013521</td>\n",
              "    </tr>\n",
              "    <tr>\n",
              "      <th>59351</th>\n",
              "      <td>4.0</td>\n",
              "      <td>3.922285</td>\n",
              "    </tr>\n",
              "    <tr>\n",
              "      <th>140601</th>\n",
              "      <td>4.0</td>\n",
              "      <td>5.000000</td>\n",
              "    </tr>\n",
              "    <tr>\n",
              "      <th>29015</th>\n",
              "      <td>4.0</td>\n",
              "      <td>3.997267</td>\n",
              "    </tr>\n",
              "    <tr>\n",
              "      <th>55272</th>\n",
              "      <td>3.0</td>\n",
              "      <td>3.969710</td>\n",
              "    </tr>\n",
              "    <tr>\n",
              "      <th>121291</th>\n",
              "      <td>3.0</td>\n",
              "      <td>2.086985</td>\n",
              "    </tr>\n",
              "    <tr>\n",
              "      <th>111566</th>\n",
              "      <td>3.0</td>\n",
              "      <td>2.978497</td>\n",
              "    </tr>\n",
              "    <tr>\n",
              "      <th>122147</th>\n",
              "      <td>4.0</td>\n",
              "      <td>4.000363</td>\n",
              "    </tr>\n",
              "    <tr>\n",
              "      <th>37147</th>\n",
              "      <td>1.0</td>\n",
              "      <td>3.072089</td>\n",
              "    </tr>\n",
              "    <tr>\n",
              "      <th>123047</th>\n",
              "      <td>3.0</td>\n",
              "      <td>3.787988</td>\n",
              "    </tr>\n",
              "    <tr>\n",
              "      <th>139140</th>\n",
              "      <td>1.0</td>\n",
              "      <td>3.033894</td>\n",
              "    </tr>\n",
              "    <tr>\n",
              "      <th>25895</th>\n",
              "      <td>2.0</td>\n",
              "      <td>3.997077</td>\n",
              "    </tr>\n",
              "    <tr>\n",
              "      <th>63203</th>\n",
              "      <td>5.0</td>\n",
              "      <td>3.993176</td>\n",
              "    </tr>\n",
              "    <tr>\n",
              "      <th>73635</th>\n",
              "      <td>5.0</td>\n",
              "      <td>4.999990</td>\n",
              "    </tr>\n",
              "    <tr>\n",
              "      <th>98414</th>\n",
              "      <td>5.0</td>\n",
              "      <td>4.005040</td>\n",
              "    </tr>\n",
              "    <tr>\n",
              "      <th>16091</th>\n",
              "      <td>4.0</td>\n",
              "      <td>3.069945</td>\n",
              "    </tr>\n",
              "    <tr>\n",
              "      <th>8032</th>\n",
              "      <td>4.0</td>\n",
              "      <td>3.938270</td>\n",
              "    </tr>\n",
              "    <tr>\n",
              "      <th>50141</th>\n",
              "      <td>4.0</td>\n",
              "      <td>3.002679</td>\n",
              "    </tr>\n",
              "    <tr>\n",
              "      <th>86114</th>\n",
              "      <td>5.0</td>\n",
              "      <td>3.997524</td>\n",
              "    </tr>\n",
              "    <tr>\n",
              "      <th>88123</th>\n",
              "      <td>1.0</td>\n",
              "      <td>1.213303</td>\n",
              "    </tr>\n",
              "  </tbody>\n",
              "</table>\n",
              "</div>"
            ],
            "text/plain": [
              "        real  prediction\n",
              "92533    5.0    3.996318\n",
              "103481   3.0    3.988158\n",
              "79345    4.0    4.004817\n",
              "72767    5.0    5.000000\n",
              "141256   2.0    2.976883\n",
              "96728    3.0    2.547957\n",
              "133654   5.0    5.000000\n",
              "123509   3.0    3.008055\n",
              "6807     3.0    4.994059\n",
              "20057    3.0    4.016149\n",
              "21193    4.0    3.911916\n",
              "48535    2.0    3.995037\n",
              "123387   5.0    4.048593\n",
              "35049    2.0    4.014609\n",
              "99891    4.0    4.971859\n",
              "75957    3.0    5.000000\n",
              "690      3.0    3.996122\n",
              "129078   4.0    3.986889\n",
              "59188    3.0    3.035072\n",
              "88934    4.0    2.998972\n",
              "5313     4.0    3.995989\n",
              "73358    3.0    2.548731\n",
              "35584    4.0    3.995493\n",
              "50373    5.0    4.999606\n",
              "72899    2.0    2.746585\n",
              "18635    4.0    3.980919\n",
              "25759    3.0    4.010896\n",
              "116011   5.0    4.005780\n",
              "45686    4.0    5.000000\n",
              "48601    2.0    2.146847\n",
              "76291    3.0    1.013521\n",
              "59351    4.0    3.922285\n",
              "140601   4.0    5.000000\n",
              "29015    4.0    3.997267\n",
              "55272    3.0    3.969710\n",
              "121291   3.0    2.086985\n",
              "111566   3.0    2.978497\n",
              "122147   4.0    4.000363\n",
              "37147    1.0    3.072089\n",
              "123047   3.0    3.787988\n",
              "139140   1.0    3.033894\n",
              "25895    2.0    3.997077\n",
              "63203    5.0    3.993176\n",
              "73635    5.0    4.999990\n",
              "98414    5.0    4.005040\n",
              "16091    4.0    3.069945\n",
              "8032     4.0    3.938270\n",
              "50141    4.0    3.002679\n",
              "86114    5.0    3.997524\n",
              "88123    1.0    1.213303"
            ]
          },
          "execution_count": 65,
          "metadata": {},
          "output_type": "execute_result"
        }
      ],
      "source": [
        "from sklearn.utils import shuffle\n",
        "shuffle(prediction).iloc[:50]"
      ]
    },
    {
      "cell_type": "code",
      "execution_count": null,
      "metadata": {},
      "outputs": [],
      "source": []
    }
  ],
  "metadata": {
    "accelerator": "GPU",
    "colab": {
      "gpuType": "T4",
      "provenance": [],
      "toc_visible": true
    },
    "kernelspec": {
      "display_name": "Python 3",
      "name": "python3"
    },
    "language_info": {
      "codemirror_mode": {
        "name": "ipython",
        "version": 3
      },
      "file_extension": ".py",
      "mimetype": "text/x-python",
      "name": "python",
      "nbconvert_exporter": "python",
      "pygments_lexer": "ipython3",
      "version": "3.11.3"
    }
  },
  "nbformat": 4,
  "nbformat_minor": 0
}
